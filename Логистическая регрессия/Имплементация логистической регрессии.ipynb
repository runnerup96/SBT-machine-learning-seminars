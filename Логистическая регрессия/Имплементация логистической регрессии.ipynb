{
 "cells": [
  {
   "cell_type": "code",
   "execution_count": 2,
   "id": "4564cae4-ea5b-45a0-8a0b-6e4b4f838949",
   "metadata": {},
   "outputs": [],
   "source": [
    "from sklearn import datasets\n",
    "import matplotlib.pyplot as plt\n",
    "import numpy as np"
   ]
  },
  {
   "cell_type": "markdown",
   "id": "22d68290-c5c4-4499-b728-36742bd869b5",
   "metadata": {},
   "source": [
    "### Предсказание типов цветков Ириса"
   ]
  },
  {
   "cell_type": "markdown",
   "id": "43c56818-9e57-489d-a0c9-ce8b70355163",
   "metadata": {},
   "source": [
    "Подготовим данные для обучения модели. В качестве демонстрационного датасета возьмем 2 класса из известного датасета описания цветов ириса - по характеристикам цветка требуется определить его тип. Это простой линейной разделимый датасет - как раз для нашей задачи. "
   ]
  },
  {
   "cell_type": "code",
   "execution_count": 3,
   "id": "4d4ce197-ef09-4aa1-8f3a-c75a51d8020a",
   "metadata": {},
   "outputs": [
    {
     "data": {
      "text/plain": [
       "<matplotlib.collections.PathCollection at 0x7ff3e2c186d0>"
      ]
     },
     "execution_count": 3,
     "metadata": {},
     "output_type": "execute_result"
    },
    {
     "data": {
      "image/png": "[encoded data removed]",
      "text/plain": [
       "<Figure size 432x288 with 1 Axes>"
      ]
     },
     "metadata": {
      "needs_background": "light"
     },
     "output_type": "display_data"
    }
   ],
   "source": [
    "#загружаем датасет из библиотеки sklearn - стандартные датасеты для обучения\n",
    "iris = datasets.load_iris()\n",
    "iris_X = iris.data[:, :2]\n",
    "iris_y = iris.target\n",
    "\n",
    "#для обучения возьмем всего 2 признака из обучающей выборки для визуализации \n",
    "iris_X = iris_X[iris_y < 2]\n",
    "#и возьмем только 2 класса из выборки - мы обучаем логистическую регрессию\n",
    "iris_y = iris_y[iris_y < 2]\n",
    "\n",
    "# для визуализации сделаем 2 класса - +1 и -1 \n",
    "iris_y[iris_y == 0] = -1\n",
    "\n",
    "# красным отобразим класс +1\n",
    "plt.scatter(iris_X[iris_y > 0, 0], iris_X[iris_y > 0, 1], color='r')\n",
    "# синим отобразим класс -1\n",
    "plt.scatter(iris_X[iris_y < 0, 0], iris_X[iris_y < 0, 1], color='b')"
   ]
  },
  {
   "cell_type": "markdown",
   "id": "6556498a-249d-4d56-b698-df9e5aa90558",
   "metadata": {},
   "source": [
    "### Минимизация с помощью кросс-энтропии"
   ]
  },
  {
   "cell_type": "markdown",
   "id": "76ac7dfb-3dce-4a46-a595-8d369d2b44ee",
   "metadata": {},
   "source": [
    "Аналогично реализуем метод обучения с помощью бинарной кросс-энтропии.  "
   ]
  },
  {
   "cell_type": "code",
   "execution_count": 4,
   "id": "7693c3be-eeeb-4688-acef-7f7a5b9f216c",
   "metadata": {},
   "outputs": [
    {
     "name": "stdout",
     "output_type": "stream",
     "text": [
      "(100, 3) (100, 1)\n"
     ]
    }
   ],
   "source": [
    "# добавим bias член к нашему датасету\n",
    "X = np.concatenate((np.ones((iris_X.shape[0], 1)), iris_X), axis=1)\n",
    "\n",
    "y = iris_y.reshape(-1,1)\n",
    "#класс -1 у нас превращается в 0 для использования в функции ошибки\n",
    "y[y == -1] = 0\n",
    "\n",
    "print(X.shape, y.shape)"
   ]
  },
  {
   "cell_type": "code",
   "execution_count": 14,
   "id": "f4e258fe-f965-4836-af43-02f295470ed6",
   "metadata": {},
   "outputs": [
    {
     "name": "stdout",
     "output_type": "stream",
     "text": [
      "Train acc score:  99.0\n",
      "Weights:  [-0.69338939  3.04271251 -5.09949597]\n"
     ]
    },
    {
     "data": {
      "image/png": "[encoded data removed]",
      "text/plain": [
       "<Figure size 432x288 with 1 Axes>"
      ]
     },
     "metadata": {
      "needs_background": "light"
     },
     "output_type": "display_data"
    }
   ],
   "source": [
    "class LogisticRegressionCE:\n",
    "    \"\"\"\n",
    "        Инициализирует объект класса LogisticRegressionCE.\n",
    "\n",
    "        Параметры:\n",
    "        - num_epochs (int): Количество эпох обучения.\n",
    "        - step_size (float): Размер шага градиентного спуска.\n",
    "    \"\"\"\n",
    "    def __init__(self, num_epochs, step_size):\n",
    "        self.num_epochs = num_epochs\n",
    "        self.step_size = step_size\n",
    "        \n",
    "    def objective_value(self, x, w, y):\n",
    "        \"\"\"Вычисляет значение бинарной кросс-энтропии.\n",
    "\n",
    "        Параметры:\n",
    "        - x (numpy.ndarray): Входные данные.\n",
    "        - w (numpy.ndarray): Весовые коэффициенты модели.\n",
    "        - y (numpy.ndarray): Истинные метки классов.\n",
    "\n",
    "        Возвращает:\n",
    "        - loss (numpy.ndarray): Значение функции потерь.\n",
    "        \"\"\"\n",
    "        loss = -(np.dot(y.T, np.log(self.sigmoid(x, w))) + np.dot((1-y).T, np.log(1 - self.sigmoid(x, w))))\n",
    "        return loss.flatten()\n",
    "    \n",
    "    def objective_grad(self, x, w, y):\n",
    "        \"\"\"Вычисляет градиент бинарной кросс-энтропии.\n",
    "\n",
    "        Параметры:\n",
    "        - x (numpy.ndarray): Входные данные.\n",
    "        - w (numpy.ndarray): Весовые коэффициенты модели.\n",
    "        - y (numpy.ndarray): Истинные метки классов.\n",
    "\n",
    "        Возвращает:\n",
    "        - grad (numpy.ndarray): Градиент функции потерь по весам.\n",
    "        \"\"\"\n",
    "        return np.dot(X.T, (self.sigmoid(x, w) - y))\n",
    "\n",
    "    def sigmoid(self, x, w):\n",
    "        \"\"\"Вычисляет значение функции сигмоида.\n",
    "\n",
    "        Параметры:\n",
    "        - x (numpy.ndarray): Входные данные.\n",
    "        - w (numpy.ndarray): Весовые коэффициенты модели.\n",
    "\n",
    "        Возвращает:\n",
    "        - result (numpy.ndarray): Значение сигмоидной функции.\n",
    "        \"\"\"\n",
    "        return 1/(1+np.exp(-np.dot(x, w))) \n",
    "    \n",
    "    def fit(self, x, y):\n",
    "        \"\"\"Обучает модель с использованием метода градиентного спуска.\n",
    "\n",
    "        Параметры:\n",
    "        - x (numpy.ndarray): Входные данные.\n",
    "        - y (numpy.ndarray): Истинные метки классов.\n",
    "\n",
    "        Возвращает:\n",
    "        - results (dict): Словарь с результатами обучения, включая список значений функции потерь и обученные веса модели.\n",
    "        \"\"\"\n",
    "        loss_list = []\n",
    "        current_weight = np.zeros(x.shape[1]).reshape(-1,1)\n",
    "        for epoch in range(self.num_epochs):\n",
    "            loss = self.objective_value(x, current_weight, y)\n",
    "            grad = self.objective_grad(x, current_weight, y)\n",
    "            current_weight = current_weight - self.step_size*grad\n",
    "            loss_list.append(loss)\n",
    "        return {'loss_list': loss_list, 'weights': current_weight}\n",
    "    \n",
    "    def predict(self, x, w, treshhold):\n",
    "        \"\"\"Прогнозирует классы на основе вероятностей с учетом порога.\n",
    "\n",
    "        Параметры:\n",
    "        - x (numpy.ndarray): Входные данные.\n",
    "        - w (numpy.ndarray): Весовые коэффициенты модели.\n",
    "        - threshold (float): Порог для отнесения объекта к классу 1.\n",
    "\n",
    "        Возвращает:\n",
    "        - prediction (dict): Словарь с вероятностями и предсказанными метками классов.\n",
    "        \"\"\"\n",
    "        proba = self.sigmoid(x, w)\n",
    "        #если вероятность выше порога - присваиваем класс 1\n",
    "        labels = (proba >= treshhold).astype(int).flatten().reshape(-1,1)\n",
    "        return {\"proba\": proba, \"labels\": labels}\n",
    "    \n",
    "    def score(self, y_pred, y_true):\n",
    "        \"\"\"рассчет точности нашей модели - процент верно предсказанных объектов\"\"\"\n",
    "        accuracy = np.mean(y_pred == y_true)\n",
    "        return accuracy * 100\n",
    "    \n",
    "    \n",
    "#инициализируем модели\n",
    "log_reg = LogisticRegressionCE(num_epochs=1000, step_size=0.001)\n",
    "#обучаем модель\n",
    "result = log_reg.fit(X, y)\n",
    "#делаем предсказание\n",
    "prediction = log_reg.predict(X, result['weights'], 0.5)\n",
    "#рассчитываем метрику\n",
    "accuracy_score = log_reg.score(prediction['labels'], y)\n",
    "print('Train acc score: ', accuracy_score)\n",
    "print('Weights: ', result['weights'].flatten())\n",
    "plt.plot(range(len(result['loss_list'])), result['loss_list'], 'b')\n",
    "plt.xlabel('Epochs')\n",
    "plt.ylabel('Loss')\n",
    "plt.show()"
   ]
  },
  {
   "cell_type": "code",
   "execution_count": 20,
   "id": "aed6a085-286b-42e6-b4d0-c88f3102d03c",
   "metadata": {},
   "outputs": [
    {
     "data": {
      "image/png": "[encoded data removed]",
      "text/plain": [
       "<Figure size 432x288 with 1 Axes>"
      ]
     },
     "metadata": {
      "needs_background": "light"
     },
     "output_type": "display_data"
    }
   ],
   "source": [
    "def get_line(x,y):\n",
    "    \"\"\"рассчет параметров раздяляющей прямой\"\"\"\n",
    "    m = (y[1] - y[0])/(x[1] - x[0])\n",
    "    b = y[0]-m*x[0]\n",
    "    return m,b\n",
    "\n",
    "def plot_decision_boundary(X, y, w):\n",
    "    \"\"\"\n",
    "    Отображает графически разделяющую прямую на графике.\n",
    "    w[2] * y = -(w[1] * x + w[0])\n",
    "\n",
    "    Параметры:\n",
    "    - X (numpy.ndarray): Матрица признаков объектов.\n",
    "    - y (numpy.ndarray): Массив меток классов.\n",
    "    - w (numpy.ndarray): Веса модели, определяющие разделяющую прямую.\n",
    "\n",
    "    Визуализирует разделяющую прямую, созданную на основе весов w,\n",
    "    а также объекты из класса '1' (положительные) и '0' (отрицательные).\n",
    "    \"\"\"\n",
    "    \n",
    "    x_values = np.array([np.min(X[:, 0]), np.max(X[:, 1])]).reshape(-1,1)\n",
    "    y_values = (-(w[0] + np.dot(w[1].reshape(1,1), x_values.T)) / w[2])\n",
    "    m, b = get_line(x_values.flatten(), y_values.flatten())\n",
    "\n",
    "    x_line = np.linspace(np.min(X[:, 0]),np.max(X[:, 0]),10)\n",
    "    y_line = m*x_line + b\n",
    "\n",
    "    y[y == np.min(y)] = -1\n",
    "    \n",
    "    plt.scatter(X[y > 0, 0], X[y > 0, 1], color='r')\n",
    "    plt.scatter(X[y < 0, 0], X[y < 0, 1], color='b')\n",
    "\n",
    "    plt.plot(x_line, y_line , label='Decision Boundary')\n",
    "    plt.xlabel('Feature #1')\n",
    "    plt.ylabel('Feature #2')\n",
    "\n",
    "\n",
    "    plt.legend()\n",
    "    plt.show()\n",
    "    \n",
    "X_plot = X[:,1:]\n",
    "y_plot = y.flatten()\n",
    "plot_decision_boundary(X_plot, y_plot, result['weights'])"
   ]
  },
  {
   "cell_type": "markdown",
   "id": "fa34bcd1-001c-4ccb-b1ca-246cb68b73bd",
   "metadata": {},
   "source": [
    "### Максимизация расстояния до разделяющей прямой"
   ]
  },
  {
   "cell_type": "code",
   "execution_count": 17,
   "id": "b269f8d4-b3c3-4b90-810d-327560daa8f6",
   "metadata": {},
   "outputs": [
    {
     "name": "stdout",
     "output_type": "stream",
     "text": [
      "(100, 3) (100, 1)\n"
     ]
    }
   ],
   "source": [
    "X = np.concatenate((np.ones((iris_X.shape[0], 1)), iris_X), axis=1)\n",
    "\n",
    "y = iris_y.reshape(-1,1)\n",
    "y[y == np.min(y)] = -1\n",
    "print(X.shape, y.shape)"
   ]
  },
  {
   "cell_type": "code",
   "execution_count": 18,
   "id": "31d92ace-e641-46ed-ab44-6c54fcc7f6a0",
   "metadata": {},
   "outputs": [
    {
     "name": "stdout",
     "output_type": "stream",
     "text": [
      "Train acc score:  99.0\n",
      "Weights:  [-0.69338939  3.04271251 -5.09949597]\n"
     ]
    },
    {
     "data": {
      "image/png": "[encoded data removed]",
      "text/plain": [
       "<Figure size 432x288 with 1 Axes>"
      ]
     },
     "metadata": {
      "needs_background": "light"
     },
     "output_type": "display_data"
    }
   ],
   "source": [
    "class LogisticRegressionMarginMaximization:\n",
    "    def __init__(self, num_epochs, step_size):\n",
    "        \"\"\"\n",
    "        Инициализирует объект класса LogisticRegressionMarginMaximization.\n",
    "\n",
    "        Параметры:\n",
    "        - num_epochs (int): Количество эпох обучения.\n",
    "        - step_size (float): Размер шага градиентного спуска.\n",
    "        \"\"\"\n",
    "        self.num_epochs = num_epochs\n",
    "        self.step_size = step_size\n",
    "        \n",
    "    def objective_value(self, x, w, y):\n",
    "        \"\"\"\n",
    "        Вычисляет значение логистической функции ошибки.\n",
    "\n",
    "        Параметры:\n",
    "        - x (numpy.ndarray): Матрица признаков объектов.\n",
    "        - w (numpy.ndarray): Веса модели.\n",
    "        - y (numpy.ndarray): Истинные метки классов.\n",
    "\n",
    "        Возвращает:\n",
    "        - pobj (float): Значение функции ошибки.\n",
    "        \"\"\"        \n",
    "        pobj = np.sum(np.log(1. + np.exp(- y * np.dot(X, w))))\n",
    "        return pobj\n",
    "    \n",
    "    def objective_grad(self, x, w, y):\n",
    "        \"\"\"\n",
    "        Вычисляет градиент логистической функции ошибки.\n",
    "\n",
    "        Параметры:\n",
    "        - x (numpy.ndarray): Матрица признаков объектов.\n",
    "        - w (numpy.ndarray): Веса модели.\n",
    "        - y (numpy.ndarray): Истинные метки классов.\n",
    "\n",
    "        Возвращает:\n",
    "        - grad (numpy.ndarray): Градиент функции ошибки по весам.\n",
    "        \"\"\"\n",
    "        ywTx = y * np.dot(X, w)\n",
    "        temp = 1. / (1. + np.exp(ywTx))\n",
    "        grad = -np.dot(X.T, (y * temp))\n",
    "        return grad\n",
    "    \n",
    "    def fit(self, x, y):\n",
    "        \"\"\"\n",
    "        Обучает модель с использованием метода градиентного спуска.\n",
    "\n",
    "        Параметры:\n",
    "        - x (numpy.ndarray): Матрица признаков объектов.\n",
    "        - y (numpy.ndarray): Истинные метки классов.\n",
    "\n",
    "        Возвращает:\n",
    "        - results (dict): Словарь с результатами обучения, включая список значений функции ошибки и обученные веса модели.\n",
    "        \"\"\"\n",
    "        loss_list = []\n",
    "        current_weight = np.zeros(x.shape[1]).reshape(-1,1)\n",
    "        for epoch in range(self.num_epochs):\n",
    "            loss = self.objective_value(x, current_weight, y)\n",
    "            grad = self.objective_grad(x, current_weight, y)\n",
    "            current_weight = current_weight - self.step_size*grad\n",
    "            loss_list.append(loss)\n",
    "        return {'loss_list': loss_list, 'weights': current_weight}\n",
    "    \n",
    "    def predict(self, x, w):\n",
    "        \"\"\"\n",
    "        Прогнозирует метки классов на основе весов модели.\n",
    "\n",
    "        Параметры:\n",
    "        - x (numpy.ndarray): Матрица признаков объектов.\n",
    "        - w (numpy.ndarray): Веса модели.\n",
    "\n",
    "        Возвращает:\n",
    "        - prediction (dict): Словарь с предсказанными метками классов и значениями \"margin\" (отступ).\n",
    "        \"\"\"\n",
    "        wTx = np.dot(x, w)\n",
    "        margin = (wTx > 0).astype(int).flatten().reshape(-1,1)\n",
    "        labels = np.array(list(map(lambda x: 1 if x > 0 else -1, margin))).reshape(-1,1)\n",
    "        return {\"margin\": margin, \"labels\": labels}\n",
    "    \n",
    "    def score(self, y_pred, y_true):\n",
    "        \"\"\"\n",
    "        Вычисляет точность модели в процентах.\n",
    "\n",
    "        Параметры:\n",
    "        - y_pred (numpy.ndarray): Предсказанные метки классов.\n",
    "        - y_true (numpy.ndarray): Истинные метки классов.\n",
    "\n",
    "        Возвращает:\n",
    "        - accuracy (float): Точность модели в процентах.\n",
    "        \"\"\"\n",
    "        accuracy = np.mean(y_pred == y_true)\n",
    "        return accuracy * 100\n",
    "    \n",
    "    \n",
    "log_reg = LogisticRegressionMarginMaximization(num_epochs=1000, step_size=0.001)\n",
    "result = log_reg.fit(X, y)\n",
    "prediction = log_reg.predict(X, result['weights'])\n",
    "accuracy_score = log_reg.score(prediction['labels'], y)\n",
    "print('Train acc score: ', accuracy_score)\n",
    "print('Weights: ', result['weights'].flatten())\n",
    "plt.plot(range(len(result['loss_list'])), result['loss_list'], 'b')\n",
    "plt.xlabel('Epochs')\n",
    "plt.ylabel('Loss')\n",
    "plt.show()"
   ]
  },
  {
   "cell_type": "code",
   "execution_count": 21,
   "id": "098ff202-7dfd-42c2-9800-a2e2271c149e",
   "metadata": {},
   "outputs": [
    {
     "data": {
      "image/png": "[encoded data removed]",
      "text/plain": [
       "<Figure size 432x288 with 1 Axes>"
      ]
     },
     "metadata": {
      "needs_background": "light"
     },
     "output_type": "display_data"
    }
   ],
   "source": [
    "X_plot = X[:,1:]\n",
    "y_plot = y.flatten()\n",
    "plot_decision_boundary(X_plot, y_plot, result['weights'])"
   ]
  },
  {
   "cell_type": "code",
   "execution_count": null,
   "id": "88e56122-c948-4926-a319-2f6c42414912",
   "metadata": {},
   "outputs": [],
   "source": []
  },
  {
   "cell_type": "code",
   "execution_count": null,
   "id": "9e68d10d-abcb-4322-9cd7-33db110e76af",
   "metadata": {},
   "outputs": [],
   "source": []
  },
  {
   "cell_type": "markdown",
   "id": "ff6be7ba-9a08-49e3-b2f9-04b928c5d829",
   "metadata": {
    "tags": []
   },
   "source": []
  },
  {
   "cell_type": "code",
   "execution_count": 10,
   "id": "6da0d8c6-c757-4e1c-8ced-81f77ccf3f16",
   "metadata": {},
   "outputs": [],
   "source": [
    "### CODE HERE"
   ]
  }
 ],
 "metadata": {
  "kernelspec": {
   "display_name": "base",
   "language": "python",
   "name": "python3"
  },
  "language_info": {
   "codemirror_mode": {
    "name": "ipython",
    "version": 3
   },
   "file_extension": ".py",
   "mimetype": "text/x-python",
   "name": "python",
   "nbconvert_exporter": "python",
   "pygments_lexer": "ipython3",
   "version": "3.9.7"
  }
 },
 "nbformat": 4,
 "nbformat_minor": 5
}
