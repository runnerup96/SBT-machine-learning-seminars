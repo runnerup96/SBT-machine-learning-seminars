{
 "cells": [
  {
   "cell_type": "markdown",
   "metadata": {
    "id": "u3iUTB0oHYMe"
   },
   "source": [
    "## Часть 1: Введение в python"
   ]
  },
  {
   "cell_type": "markdown",
   "metadata": {},
   "source": [
    "Автор: Потанин Марк, mark.potanin@phystech.edu"
   ]
  },
  {
   "cell_type": "markdown",
   "metadata": {
    "id": "0G9gg75xHYMe"
   },
   "source": [
    "#### Тетрадка Jupyter Notebook\n",
    "- Сейчас мы работаем в тетрадке `Jupyter Notebook`. \n",
    "- В тетрадках код и текст пишутся в клеточках. Чтобы создать новую клеточку с кодом, нажмите на значок `\"+ Код\"` вверху страницы. Чтобы изменить созданную клетку, просто наведите курсор на место ввода текста в выбранной ячейке, и нажмите на нее.\n",
    "- Чтобы запустить ячейку, нажмите на кнопку `\"Run\"` слева от выбранной ячейки (значок треугольника). Так же работает комбинация `Shift-Enter` на клавиатуре. Если в ячейке написан код, то начнётся его выполнение. Если в ячейке написан текст, то начнётся его обработка. Чтобы остановить выполнение ячейки (например, если запущено выполнение сложного кода), нажмите на значок `\"Stop\"` рядом с выбранной ячейкой.\n",
    "- Числа в квадратных скобках слева от ячеек показывают номер запуска ячейки по порядку. Например, `[1]` означает, что данная ячейка – это первая запущенная по порядку ячейка. Запуск одной и той же ячейки два раза тоже увеличивает номер (воспринимаются как разные ячейки)."
   ]
  },
  {
   "cell_type": "markdown",
   "metadata": {
    "id": "zqtI2fbnHYMf"
   },
   "source": [
    "#### Markdown"
   ]
  },
  {
   "cell_type": "markdown",
   "metadata": {
    "id": "gxPa90anHYMf"
   },
   "source": [
    "__Markdown__ – язык разметки, который удобно использовать для оформления текста. Поддерживаются базовые операции форматирования (выделение жирным, курсивом и проч.), а также LaTex."
   ]
  },
  {
   "cell_type": "markdown",
   "metadata": {
    "id": "om5dRC-PHYMg"
   },
   "source": [
    "[Markdown Cheatsheet](https://github.com/adam-p/markdown-here/wiki/Markdown-Cheatsheet)"
   ]
  },
  {
   "cell_type": "markdown",
   "metadata": {
    "id": "5x6cIyOBHYMg"
   },
   "source": [
    "Обычный текст."
   ]
  },
  {
   "cell_type": "markdown",
   "metadata": {
    "id": "VSCjkK-GHYMg"
   },
   "source": [
    "**Жирный текст**"
   ]
  },
  {
   "cell_type": "markdown",
   "metadata": {
    "id": "pEydd0YWt8bf"
   },
   "source": [
    "**привет**"
   ]
  },
  {
   "cell_type": "markdown",
   "metadata": {
    "id": "efe2pGOYHYMg"
   },
   "source": [
    "*Курсив*"
   ]
  },
  {
   "cell_type": "markdown",
   "metadata": {
    "id": "rn8zJmA-HYMh"
   },
   "source": [
    "Для ввода жирного текста обычный текст обрамляется в две звездочки по обеим сторонам `**обычный текст**`. Для ввода курсива обычный текст обрамляется в одинарные звездочки по обеим сторонам `*обычный текст*`. Так же формат текста вы можете изменить во всплывающем окне при выборе ячейки текста (сделать курсив, жирный, или обычный)."
   ]
  },
  {
   "cell_type": "markdown",
   "metadata": {
    "id": "yCIZY2OqHYMh"
   },
   "source": [
    "Cписок:\n",
    "* пункт 1\n",
    "* пункт 2\n",
    "* пункт 3\n"
   ]
  },
  {
   "cell_type": "markdown",
   "metadata": {
    "id": "WpRj8OkBHYMh"
   },
   "source": [
    "Для создания списка каждый пункт нужно писать с новой строки, и ставить в начале звездочку, а после нее пробел:\n",
    "\n",
    "`* пункт1`\n",
    "\n",
    "`* пункт2`"
   ]
  },
  {
   "cell_type": "markdown",
   "metadata": {
    "id": "2IKDyRIrHYMh"
   },
   "source": [
    "Ссылки оформляются по шаблону `[текст ссылки](ссылка на сайт)`.\n",
    "\n",
    "Пример : [Яндекс](https://www.yandex.ru)."
   ]
  },
  {
   "cell_type": "markdown",
   "metadata": {
    "id": "lgzbZ3q6HYMi"
   },
   "source": [
    "LaTex ([статья в Википедии](https://ru.wikipedia.org/wiki/LaTeX)):\n",
    "\n",
    "__LaTex__ – язык разметки, позволяющий набирать сложные типографские документы, в которых, в частности, присутствует математика. Для набора формул в Latex нужная формула обрамляется в знак ` $ ` с обеих сторон. Вот несколько примеров.\n",
    "\n",
    "$x + y = 1$\n",
    "\n",
    "$x^2 + y^2 = 4$"
   ]
  },
  {
   "cell_type": "markdown",
   "metadata": {
    "id": "3XR9leVCHYMi"
   },
   "source": [
    "Чтобы визуально разделить отдельные блоки кода или текста, можно использовать горизонтальные линии. Для этого просто в ячейке текста введите подряд три знака тире - `---`. Пример ниже:"
   ]
  },
  {
   "cell_type": "markdown",
   "metadata": {
    "id": "poxyScUQpo4j"
   },
   "source": [
    "---"
   ]
  },
  {
   "cell_type": "markdown",
   "metadata": {
    "id": "tuu0Gay9HYMi"
   },
   "source": [
    "А еще здесь можно делать заголовки. Чтобы создать заголовок, в строке текста сначала напишите `#`, а затем текст. Можно написать несколько `###`, тогда заголовок будет меньшего размера"
   ]
  },
  {
   "cell_type": "markdown",
   "metadata": {
    "id": "eglDIRSiHYMi"
   },
   "source": [
    "# Заголовок уровня 1"
   ]
  },
  {
   "cell_type": "markdown",
   "metadata": {
    "id": "4PSgUdBpHYMi"
   },
   "source": [
    "## Заголовок уровня 2"
   ]
  },
  {
   "cell_type": "markdown",
   "metadata": {
    "id": "OQTDnkYaHYMj"
   },
   "source": [
    "### Заголовок уровня 3"
   ]
  },
  {
   "cell_type": "markdown",
   "metadata": {
    "id": "TfcIbkxfHYMj"
   },
   "source": [
    "#### Заголовок уровня 4"
   ]
  },
  {
   "cell_type": "markdown",
   "metadata": {
    "id": "WvJ_m8AkHYMj"
   },
   "source": [
    "---"
   ]
  },
  {
   "cell_type": "markdown",
   "metadata": {
    "id": "Qknv4bFGHYMj"
   },
   "source": [
    "#### Переменные"
   ]
  },
  {
   "cell_type": "markdown",
   "metadata": {
    "id": "yI75aHm2HYMj"
   },
   "source": [
    "Переменная – это имя, которым программист называет какое-либо число, либо текст, либо другую переменную и т.д. В дальнейшем программа будет знать, что такой-то переменной присвоено такое-то значение. Но если вы ниже в программе измените значение переменной, то далее эта переменная будет иметь новое значение.\n",
    "\n",
    "В питоне переменные это просто ссылки на объекты классов.\n"
   ]
  },
  {
   "cell_type": "markdown",
   "metadata": {
    "id": "B5fiE5NwHYMj"
   },
   "source": [
    "Комментарии в коде нужны для того, чтобы написать какую-нибудь подсказку, или оставить сообщение программисту, который работает с вашим кодом. Строки кода с комментариями не исполняются. Для того, чтобы оставить комментайрий, в ячейке кода начните строку со значка `#`."
   ]
  },
  {
   "cell_type": "code",
   "execution_count": 126,
   "metadata": {
    "id": "ub-PucAVHYMk"
   },
   "outputs": [],
   "source": [
    "# Комментарий.\n",
    "a = 3\n",
    "b = 7\n",
    "c = a + b"
   ]
  },
  {
   "cell_type": "markdown",
   "metadata": {
    "id": "Vbww6eOsHYMk"
   },
   "source": [
    "Для того, чтобы напечатать какое-то значение на экран, используется функция `print()`. Внутри скобок ставится то, что вы хотите напечатать. Примеры:\n",
    "\n",
    "`print(1)` - напечатать число\n",
    "\n",
    "`print(a)` - вывести значение переменной `a`\n",
    "\n",
    "`print('строка')` - напечатать строку"
   ]
  },
  {
   "cell_type": "code",
   "execution_count": 127,
   "metadata": {
    "colab": {
     "base_uri": "https://localhost:8080/"
    },
    "executionInfo": {
     "elapsed": 747,
     "status": "ok",
     "timestamp": 1621525772506,
     "user": {
      "displayName": "Марк Станиславович Потанин",
      "photoUrl": "https://lh3.googleusercontent.com/a-/AOh14GiGIbSWvn36SnuS11JITt7whCW2414zYLPAFnl9=s64",
      "userId": "12338896257196299013"
     },
     "user_tz": -180
    },
    "id": "BSOFbl9JHYMk",
    "outputId": "af6a9df0-4545-4863-9cb3-49a348581a51"
   },
   "outputs": [
    {
     "name": "stdout",
     "output_type": "stream",
     "text": [
      "3\n",
      "7\n",
      "10\n"
     ]
    }
   ],
   "source": [
    "print(a)# Вывести значение переменной\n",
    "print(b)\n",
    "print(c) "
   ]
  },
  {
   "cell_type": "markdown",
   "metadata": {
    "id": "VDJ4hNf_HYMl"
   },
   "source": [
    "#### Типы данных"
   ]
  },
  {
   "cell_type": "markdown",
   "metadata": {
    "id": "Xe9NZK59HYMl"
   },
   "source": [
    "В Python, как и в других языках программирования, все данные для удобства делятся на типы. Тип данных определяет значения, которые можно присваивать, и действия, которые можно выполнять."
   ]
  },
  {
   "cell_type": "markdown",
   "metadata": {
    "id": "af9CDGuqHYMm"
   },
   "source": [
    "Вот список данных в питон:\n",
    "- None\n",
    "- Boolean\n",
    "- Numeric (`int`, `float`)\n",
    "- Sequence (`list`, `tuple`, `range`)\n",
    "- String(`str`)\n",
    "- Set (`set`, `frozenset`)\n",
    "- Dictionary (`dict`)\n",
    "- и др."
   ]
  },
  {
   "cell_type": "markdown",
   "metadata": {
    "id": "eIy5tEXeHYMm"
   },
   "source": [
    "#### Числа (Numeric)"
   ]
  },
  {
   "cell_type": "markdown",
   "metadata": {
    "id": "yhoh27j-HYMm"
   },
   "source": [
    "Любая цифра воспринимается в python как число. При этом не обязательно объявлять, какой тип данных вы вводите. Python воспринимает любое число, записанное без десятичных знаков, как целое число (например, 133), а любое число, записанное с десятичными знаками, в качестве числа с плавающей точкой (например, 138.0)."
   ]
  },
  {
   "cell_type": "markdown",
   "metadata": {
    "id": "u9WDu0GxHYMm"
   },
   "source": [
    "#### Целые числа\n",
    "Как и в математике, в компьютерном программировании целые числа – это натуральные числа, которые могут быть положительными, отрицательными, или равняться 0 (…,-1, 0, 1, …). Тип данных целого числа это `int`."
   ]
  },
  {
   "cell_type": "code",
   "execution_count": 128,
   "metadata": {
    "colab": {
     "base_uri": "https://localhost:8080/"
    },
    "executionInfo": {
     "elapsed": 738,
     "status": "ok",
     "timestamp": 1621525772506,
     "user": {
      "displayName": "Марк Станиславович Потанин",
      "photoUrl": "https://lh3.googleusercontent.com/a-/AOh14GiGIbSWvn36SnuS11JITt7whCW2414zYLPAFnl9=s64",
      "userId": "12338896257196299013"
     },
     "user_tz": -180
    },
    "id": "YVWEfr6zHYMm",
    "outputId": "15b36057-0d41-45b4-855f-31a7b16b136b"
   },
   "outputs": [
    {
     "name": "stdout",
     "output_type": "stream",
     "text": [
      "-25\n"
     ]
    }
   ],
   "source": [
    "print(-25)"
   ]
  },
  {
   "cell_type": "markdown",
   "metadata": {
    "id": "odkPBa9fHYMm"
   },
   "source": [
    "#### Числа с плавающей точкой\n",
    "Число с плавающей точкой (или `float`) – это действительное число (это означает, что оно может быть как рациональным, так и иррациональным числом). Числа с плавающей точкой могут содержать дробную часть (например, 9.0 или -116.42). Проще говоря, python воспринимает любое число с десятичной точкой как число с плавающей точкой."
   ]
  },
  {
   "cell_type": "code",
   "execution_count": 129,
   "metadata": {
    "colab": {
     "base_uri": "https://localhost:8080/"
    },
    "executionInfo": {
     "elapsed": 838,
     "status": "ok",
     "timestamp": 1621525775167,
     "user": {
      "displayName": "Марк Станиславович Потанин",
      "photoUrl": "https://lh3.googleusercontent.com/a-/AOh14GiGIbSWvn36SnuS11JITt7whCW2414zYLPAFnl9=s64",
      "userId": "12338896257196299013"
     },
     "user_tz": -180
    },
    "id": "HmYWWOoZHYMn",
    "outputId": "80e34f46-be20-48c1-c7b4-cb3a0f7516b4",
    "scrolled": true
   },
   "outputs": [
    {
     "name": "stdout",
     "output_type": "stream",
     "text": [
      "17.3\n"
     ]
    }
   ],
   "source": [
    "print(17.3)"
   ]
  },
  {
   "cell_type": "markdown",
   "metadata": {
    "id": "bSjezWVFHYMn"
   },
   "source": [
    "Также вы можете объявить переменную:"
   ]
  },
  {
   "cell_type": "code",
   "execution_count": 130,
   "metadata": {
    "colab": {
     "base_uri": "https://localhost:8080/"
    },
    "executionInfo": {
     "elapsed": 771,
     "status": "ok",
     "timestamp": 1621525775440,
     "user": {
      "displayName": "Марк Станиславович Потанин",
      "photoUrl": "https://lh3.googleusercontent.com/a-/AOh14GiGIbSWvn36SnuS11JITt7whCW2414zYLPAFnl9=s64",
      "userId": "12338896257196299013"
     },
     "user_tz": -180
    },
    "id": "km48kD9SHYMn",
    "outputId": "ca76ac9d-fc52-4074-c09a-e1c147340f88",
    "scrolled": true
   },
   "outputs": [
    {
     "name": "stdout",
     "output_type": "stream",
     "text": [
      "3.14\n"
     ]
    }
   ],
   "source": [
    "my_number = 3.14\n",
    "print(my_number)"
   ]
  },
  {
   "cell_type": "markdown",
   "metadata": {
    "id": "eNSpQhimHYMo"
   },
   "source": [
    "#### Вычислительные операции"
   ]
  },
  {
   "cell_type": "markdown",
   "metadata": {
    "id": "YMrPcGAqHYMo"
   },
   "source": [
    "Числа в Python ничем не отличаются от обычных чисел. Поэтому с ними можно производить разнообразные математические операции."
   ]
  },
  {
   "cell_type": "markdown",
   "metadata": {
    "id": "-yAI7nE_HYMo"
   },
   "source": [
    "Пусть `a` и `b` некоторые числа. Тогда доступен список следующих математических операций: \n",
    "\n",
    "* `a + b`\tСложение\n",
    "* `a - b`\tВычитание\n",
    "* `a * b`\tУмножение\n",
    "* `a / b`\tДеление\n",
    "* `a // b`\tПолучение целой части от деления\n",
    "* `a % b`\tОстаток от деления\n",
    "* `-a`\tСмена знака числа\n",
    "* `abs(a)`\tМодуль числа\n",
    "* `a ** b`\tВозведение в степень"
   ]
  },
  {
   "cell_type": "markdown",
   "metadata": {
    "id": "IxL9yQmlHYMp"
   },
   "source": [
    "Примеры ниже. После выполнения ячейки выведется результат выполненной операции."
   ]
  },
  {
   "cell_type": "code",
   "execution_count": 131,
   "metadata": {
    "executionInfo": {
     "elapsed": 232,
     "status": "ok",
     "timestamp": 1623094637989,
     "user": {
      "displayName": "Марк Станиславович Потанин",
      "photoUrl": "https://lh3.googleusercontent.com/a-/AOh14GiGIbSWvn36SnuS11JITt7whCW2414zYLPAFnl9=s64",
      "userId": "12338896257196299013"
     },
     "user_tz": -180
    },
    "id": "doDsXe7I-c0S"
   },
   "outputs": [],
   "source": [
    "a = 7\n",
    "b = 3"
   ]
  },
  {
   "cell_type": "code",
   "execution_count": 132,
   "metadata": {
    "colab": {
     "base_uri": "https://localhost:8080/"
    },
    "executionInfo": {
     "elapsed": 356,
     "status": "ok",
     "timestamp": 1623094643917,
     "user": {
      "displayName": "Марк Станиславович Потанин",
      "photoUrl": "https://lh3.googleusercontent.com/a-/AOh14GiGIbSWvn36SnuS11JITt7whCW2414zYLPAFnl9=s64",
      "userId": "12338896257196299013"
     },
     "user_tz": -180
    },
    "id": "TattMo3B-IUc",
    "outputId": "eecc1aa3-d253-4398-e252-26c82e9c6f4f"
   },
   "outputs": [
    {
     "name": "stdout",
     "output_type": "stream",
     "text": [
      "10\n",
      "4\n",
      "21\n",
      "2.3333333333333335\n",
      "2\n",
      "1\n",
      "7\n",
      "7\n",
      "5\n",
      "343\n"
     ]
    }
   ],
   "source": [
    "print(a+b)\n",
    "print(a-b)\n",
    "print(a*b)\n",
    "print(a/b)\n",
    "print(a//b)\n",
    "print(a%b)\n",
    "print(a)\n",
    "print(abs(a))\n",
    "print(abs(-5))\n",
    "print(a**b)"
   ]
  },
  {
   "cell_type": "code",
   "execution_count": 133,
   "metadata": {
    "colab": {
     "base_uri": "https://localhost:8080/"
    },
    "executionInfo": {
     "elapsed": 942,
     "status": "ok",
     "timestamp": 1623094452973,
     "user": {
      "displayName": "Марк Станиславович Потанин",
      "photoUrl": "https://lh3.googleusercontent.com/a-/AOh14GiGIbSWvn36SnuS11JITt7whCW2414zYLPAFnl9=s64",
      "userId": "12338896257196299013"
     },
     "user_tz": -180
    },
    "id": "HkBDX0qpHYMp",
    "outputId": "bcce6460-eae1-4ea4-ab58-bc2ad60c7bd9"
   },
   "outputs": [
    {
     "name": "stdout",
     "output_type": "stream",
     "text": [
      "4\n",
      "2\n",
      "21.693\n",
      "20\n",
      "1024\n"
     ]
    }
   ],
   "source": [
    "print(2+2)\n",
    "print(5-3)\n",
    "print(3.5+18.193)\n",
    "print((2+3)*4) #Сначала выполняется выражение в скобочках, как и в математике\n",
    "print(2**10)"
   ]
  },
  {
   "cell_type": "code",
   "execution_count": 134,
   "metadata": {
    "colab": {
     "base_uri": "https://localhost:8080/"
    },
    "executionInfo": {
     "elapsed": 12,
     "status": "ok",
     "timestamp": 1623094452974,
     "user": {
      "displayName": "Марк Станиславович Потанин",
      "photoUrl": "https://lh3.googleusercontent.com/a-/AOh14GiGIbSWvn36SnuS11JITt7whCW2414zYLPAFnl9=s64",
      "userId": "12338896257196299013"
     },
     "user_tz": -180
    },
    "id": "wDl05BVTHYMp",
    "outputId": "04f37bb6-d92d-48cb-ae54-858b6fc3282c"
   },
   "outputs": [
    {
     "name": "stdout",
     "output_type": "stream",
     "text": [
      "1.5\n",
      "2.3333333333333335\n",
      "2\n",
      "1\n",
      "0.5\n",
      "0\n",
      "3\n"
     ]
    }
   ],
   "source": [
    "print(6/4)\n",
    "print(7/3)\n",
    "print(7//3)\n",
    "print(7%3)\n",
    "print(3/6)\n",
    "print(3//6)\n",
    "print(3%6)\n"
   ]
  },
  {
   "cell_type": "markdown",
   "metadata": {
    "id": "G2E0qqYsHYMp"
   },
   "source": [
    "**Упражнение:** присвойте переменной `apples` значение 5, а переменной `bananas` значение 2. Найдите их:\n",
    "- сумму, разность, произведение, частное, \n",
    "- целую часть от деления, остаток от деления.\n",
    "\n",
    "Выведите результаты."
   ]
  },
  {
   "cell_type": "code",
   "execution_count": 135,
   "metadata": {
    "colab": {
     "base_uri": "https://localhost:8080/"
    },
    "executionInfo": {
     "elapsed": 770,
     "status": "ok",
     "timestamp": 1621525777195,
     "user": {
      "displayName": "Марк Станиславович Потанин",
      "photoUrl": "https://lh3.googleusercontent.com/a-/AOh14GiGIbSWvn36SnuS11JITt7whCW2414zYLPAFnl9=s64",
      "userId": "12338896257196299013"
     },
     "user_tz": -180
    },
    "id": "wC048axEHYMp",
    "outputId": "c5f7cf6e-8209-44a5-883d-fe70d2f94016"
   },
   "outputs": [
    {
     "name": "stdout",
     "output_type": "stream",
     "text": [
      "Сумма: 7\n",
      "Разность: 3\n",
      "Произведение: 10\n",
      "Частное: 2.5\n"
     ]
    }
   ],
   "source": [
    "apples = 5\n",
    "bananas = 2\n",
    "print(\"Сумма:\", apples + bananas)\n",
    "print('Разность:', apples - bananas)\n",
    "print(\"Произведение:\", apples * bananas)\n",
    "print(\"Частное:\", apples / bananas)"
   ]
  },
  {
   "cell_type": "code",
   "execution_count": 136,
   "metadata": {
    "colab": {
     "base_uri": "https://localhost:8080/"
    },
    "executionInfo": {
     "elapsed": 790,
     "status": "ok",
     "timestamp": 1621525777462,
     "user": {
      "displayName": "Марк Станиславович Потанин",
      "photoUrl": "https://lh3.googleusercontent.com/a-/AOh14GiGIbSWvn36SnuS11JITt7whCW2414zYLPAFnl9=s64",
      "userId": "12338896257196299013"
     },
     "user_tz": -180
    },
    "id": "_KS24hujHYMq",
    "outputId": "96d90fa2-1205-4d71-b2db-d7dd6a9f99a1",
    "scrolled": true
   },
   "outputs": [
    {
     "name": "stdout",
     "output_type": "stream",
     "text": [
      "Целая часть от деления: 2\n",
      "Остаток от деления: 1\n"
     ]
    }
   ],
   "source": [
    "print(\"Целая часть от деления:\", apples // bananas)\n",
    "print(\"Остаток от деления:\", apples % bananas)"
   ]
  },
  {
   "cell_type": "markdown",
   "metadata": {
    "id": "v0A4sl-lHYMq"
   },
   "source": [
    "#### Логический тип (boolean)\n",
    "Логический тип данных (или boolean) – это примитивный тип данных, который принимает одно из двух возможных значений: истину (`True`) или ложь (`False`). Этот тип присутствует во многих языках программирования и используется для построения алгоритмов. Название этого типа данных (Boolean) всегда пишется с заглавной буквы, поскольку этот тип назван в честь математика Джорджа Буля, который занимался вопросами математической логики. Значения `True` и `False` тоже пишутся с большой буквы, так как в Python они являются специальными значениями."
   ]
  },
  {
   "cell_type": "markdown",
   "metadata": {
    "id": "SSbl8QqTHYMq"
   },
   "source": [
    "Многие математические операции можно расценивать как истинные или ложные:"
   ]
  },
  {
   "cell_type": "code",
   "execution_count": 137,
   "metadata": {
    "colab": {
     "base_uri": "https://localhost:8080/"
    },
    "executionInfo": {
     "elapsed": 776,
     "status": "ok",
     "timestamp": 1621525778828,
     "user": {
      "displayName": "Марк Станиславович Потанин",
      "photoUrl": "https://lh3.googleusercontent.com/a-/AOh14GiGIbSWvn36SnuS11JITt7whCW2414zYLPAFnl9=s64",
      "userId": "12338896257196299013"
     },
     "user_tz": -180
    },
    "id": "fFzC03buHYMr",
    "outputId": "25f8e460-a56a-4ded-83a5-164d0dd03f75"
   },
   "outputs": [
    {
     "name": "stdout",
     "output_type": "stream",
     "text": [
      "True\n",
      "False\n",
      "True\n",
      "False\n",
      "True\n",
      "False\n"
     ]
    }
   ],
   "source": [
    "print(500 > 100) \n",
    "print(1 > 5) \n",
    "print(200 < 400) \n",
    "print(4 < 2) \n",
    "print(5 == 5) \n",
    "print(500 == 400) "
   ]
  },
  {
   "cell_type": "markdown",
   "metadata": {
    "id": "7SLkrO5rHYMr"
   },
   "source": [
    "В примерах выше используются операторы сравнения, вот полный список операторов:\n",
    "* `<` Меньше — условие верно, если первый операнд меньше второго.\n",
    "* `>` Больше — условие верно, если первый операнд больше второго.\n",
    "* `<=` Меньше или равно.\n",
    "* `>=` Больше или равно.\n",
    "* `==` Равенство. Условие верно, если два операнда равны.\n",
    "* `!=` Неравенство. Условие верно, если два операнда неравны.\n"
   ]
  },
  {
   "cell_type": "markdown",
   "metadata": {
    "id": "iKL2Rl26HYMr"
   },
   "source": [
    "Еще примеры."
   ]
  },
  {
   "cell_type": "code",
   "execution_count": 138,
   "metadata": {
    "colab": {
     "base_uri": "https://localhost:8080/"
    },
    "executionInfo": {
     "elapsed": 481,
     "status": "ok",
     "timestamp": 1621525779084,
     "user": {
      "displayName": "Марк Станиславович Потанин",
      "photoUrl": "https://lh3.googleusercontent.com/a-/AOh14GiGIbSWvn36SnuS11JITt7whCW2414zYLPAFnl9=s64",
      "userId": "12338896257196299013"
     },
     "user_tz": -180
    },
    "id": "NHbcq4whHYMr",
    "outputId": "d5b3eaab-2780-4a64-cf8a-4578a342fe8c"
   },
   "outputs": [
    {
     "name": "stdout",
     "output_type": "stream",
     "text": [
      "False\n",
      "True\n",
      "True\n"
     ]
    }
   ],
   "source": [
    "print(5 > 5)\n",
    "print(5 >= 5)\n",
    "print(5 <= 5)"
   ]
  },
  {
   "cell_type": "code",
   "execution_count": 139,
   "metadata": {
    "colab": {
     "base_uri": "https://localhost:8080/"
    },
    "executionInfo": {
     "elapsed": 552,
     "status": "ok",
     "timestamp": 1621525779333,
     "user": {
      "displayName": "Марк Станиславович Потанин",
      "photoUrl": "https://lh3.googleusercontent.com/a-/AOh14GiGIbSWvn36SnuS11JITt7whCW2414zYLPAFnl9=s64",
      "userId": "12338896257196299013"
     },
     "user_tz": -180
    },
    "id": "TGaWD9QLHYMr",
    "outputId": "8659ba38-cf87-4a46-fabe-9887233c2a2d"
   },
   "outputs": [
    {
     "name": "stdout",
     "output_type": "stream",
     "text": [
      "True\n",
      "False\n",
      "False\n",
      "True\n"
     ]
    }
   ],
   "source": [
    "print(2==2) \n",
    "print(4==2)\n",
    "print(1!=1) \n",
    "print(1!=3) "
   ]
  },
  {
   "cell_type": "markdown",
   "metadata": {},
   "source": [
    "Тут стоит сказать, что для определения идентичности переменных мы можем использовать `==`, а `is` используется для определения того, указывают ли переменные на один и тот же объект."
   ]
  },
  {
   "cell_type": "markdown",
   "metadata": {
    "id": "OtTgRBiOHYMs"
   },
   "source": [
    "#### None\n",
    "None это просто значение, которое обычно используется для обозначения «пусто» или «здесь нет значения»."
   ]
  },
  {
   "cell_type": "markdown",
   "metadata": {
    "id": "egKKMJg4HYMs"
   },
   "source": [
    "#### Строки\n",
    "Строка представляет собой последовательность из одного или нескольких символов (букв, цифр и других символов). В Python троки обозначаются одинарными (‘) или двойными кавычками (“). Чтобы создать строку, заключите последовательность символов в кавычки:"
   ]
  },
  {
   "cell_type": "code",
   "execution_count": 140,
   "metadata": {
    "colab": {
     "base_uri": "https://localhost:8080/"
    },
    "executionInfo": {
     "elapsed": 729,
     "status": "ok",
     "timestamp": 1621525781623,
     "user": {
      "displayName": "Марк Станиславович Потанин",
      "photoUrl": "https://lh3.googleusercontent.com/a-/AOh14GiGIbSWvn36SnuS11JITt7whCW2414zYLPAFnl9=s64",
      "userId": "12338896257196299013"
     },
     "user_tz": -180
    },
    "id": "G7STCWrlHYMs",
    "outputId": "64f2e69f-31e4-43c1-b6bd-9e6db30a14c9",
    "scrolled": true
   },
   "outputs": [
    {
     "name": "stdout",
     "output_type": "stream",
     "text": [
      "This is a string in single quotes.\n",
      "This is a string in double quotes.\n"
     ]
    }
   ],
   "source": [
    "print('This is a string in single quotes.')\n",
    "print(\"This is a string in double quotes.\")"
   ]
  },
  {
   "cell_type": "code",
   "execution_count": 143,
   "metadata": {},
   "outputs": [
    {
     "data": {
      "text/plain": [
       "' Hello\\n'"
      ]
     },
     "execution_count": 143,
     "metadata": {},
     "output_type": "execute_result"
    }
   ],
   "source": [
    "''' Hello\n",
    "'''"
   ]
  },
  {
   "cell_type": "markdown",
   "metadata": {
    "id": "Dbd8x8GlHYMs"
   },
   "source": [
    "Строки можно хранить в переменных:"
   ]
  },
  {
   "cell_type": "code",
   "execution_count": 144,
   "metadata": {
    "id": "NRClfg_nHYMs"
   },
   "outputs": [],
   "source": [
    "my_name = \"Mark\""
   ]
  },
  {
   "cell_type": "code",
   "execution_count": 145,
   "metadata": {
    "id": "NRClfg_nHYMs"
   },
   "outputs": [],
   "source": [
    "my_name1 = \"Ivan\""
   ]
  },
  {
   "cell_type": "code",
   "execution_count": 146,
   "metadata": {},
   "outputs": [
    {
     "data": {
      "text/plain": [
       "'IvanMark'"
      ]
     },
     "execution_count": 146,
     "metadata": {},
     "output_type": "execute_result"
    }
   ],
   "source": [
    "my_name1 + my_name"
   ]
  },
  {
   "cell_type": "code",
   "execution_count": 147,
   "metadata": {
    "colab": {
     "base_uri": "https://localhost:8080/",
     "height": 37
    },
    "executionInfo": {
     "elapsed": 1032,
     "status": "ok",
     "timestamp": 1621525782581,
     "user": {
      "displayName": "Марк Станиславович Потанин",
      "photoUrl": "https://lh3.googleusercontent.com/a-/AOh14GiGIbSWvn36SnuS11JITt7whCW2414zYLPAFnl9=s64",
      "userId": "12338896257196299013"
     },
     "user_tz": -180
    },
    "id": "5WbG7eccycsi",
    "outputId": "352bc9ec-f3bf-484f-ca34-3d0d2fe8ac58"
   },
   "outputs": [
    {
     "data": {
      "text/plain": [
       "'Mark'"
      ]
     },
     "execution_count": 147,
     "metadata": {},
     "output_type": "execute_result"
    }
   ],
   "source": [
    "my_name"
   ]
  },
  {
   "cell_type": "markdown",
   "metadata": {
    "id": "QhloyK_9HYMs"
   },
   "source": [
    "А можно складывть!"
   ]
  },
  {
   "cell_type": "code",
   "execution_count": 148,
   "metadata": {
    "colab": {
     "base_uri": "https://localhost:8080/",
     "height": 37
    },
    "executionInfo": {
     "elapsed": 687,
     "status": "ok",
     "timestamp": 1621525782581,
     "user": {
      "displayName": "Марк Станиславович Потанин",
      "photoUrl": "https://lh3.googleusercontent.com/a-/AOh14GiGIbSWvn36SnuS11JITt7whCW2414zYLPAFnl9=s64",
      "userId": "12338896257196299013"
     },
     "user_tz": -180
    },
    "id": "t71U-KA0HYMw",
    "outputId": "08302441-61f5-4908-aba5-65233fb94732"
   },
   "outputs": [
    {
     "data": {
      "text/plain": [
       "'My name is Mark'"
      ]
     },
     "execution_count": 148,
     "metadata": {},
     "output_type": "execute_result"
    }
   ],
   "source": [
    "\"My name is \"+\"Mark\""
   ]
  },
  {
   "cell_type": "markdown",
   "metadata": {
    "id": "zwKQcvJXHYMw"
   },
   "source": [
    "Но вот сложить строку с числами не получиться :-("
   ]
  },
  {
   "cell_type": "code",
   "execution_count": 150,
   "metadata": {
    "colab": {
     "base_uri": "https://localhost:8080/",
     "height": 164
    },
    "executionInfo": {
     "elapsed": 612,
     "status": "error",
     "timestamp": 1621525782816,
     "user": {
      "displayName": "Марк Станиславович Потанин",
      "photoUrl": "https://lh3.googleusercontent.com/a-/AOh14GiGIbSWvn36SnuS11JITt7whCW2414zYLPAFnl9=s64",
      "userId": "12338896257196299013"
     },
     "user_tz": -180
    },
    "id": "DBgjncuGHYMw",
    "outputId": "5629e213-2fae-4ec9-a08c-b72ab8fec40e"
   },
   "outputs": [
    {
     "data": {
      "text/plain": [
       "'My name is 1'"
      ]
     },
     "execution_count": 150,
     "metadata": {},
     "output_type": "execute_result"
    }
   ],
   "source": [
    "\"My name is \"+str(1)"
   ]
  },
  {
   "cell_type": "markdown",
   "metadata": {
    "id": "110lkApUHYMx"
   },
   "source": [
    "__Упражение__: создайте переменные следующих типов данных:"
   ]
  },
  {
   "cell_type": "code",
   "execution_count": 151,
   "metadata": {
    "colab": {
     "base_uri": "https://localhost:8080/"
    },
    "executionInfo": {
     "elapsed": 645,
     "status": "ok",
     "timestamp": 1621525783142,
     "user": {
      "displayName": "Марк Станиславович Потанин",
      "photoUrl": "https://lh3.googleusercontent.com/a-/AOh14GiGIbSWvn36SnuS11JITt7whCW2414zYLPAFnl9=s64",
      "userId": "12338896257196299013"
     },
     "user_tz": -180
    },
    "id": "rlQ-zg3LHYMx",
    "outputId": "0648a1f8-ac77-4498-d092-0192cc8c7fd8"
   },
   "outputs": [
    {
     "name": "stdout",
     "output_type": "stream",
     "text": [
      "None\n"
     ]
    }
   ],
   "source": [
    "# None\n",
    "a = None\n",
    "print(a)"
   ]
  },
  {
   "cell_type": "code",
   "execution_count": 152,
   "metadata": {
    "colab": {
     "base_uri": "https://localhost:8080/"
    },
    "executionInfo": {
     "elapsed": 756,
     "status": "ok",
     "timestamp": 1621525783462,
     "user": {
      "displayName": "Марк Станиславович Потанин",
      "photoUrl": "https://lh3.googleusercontent.com/a-/AOh14GiGIbSWvn36SnuS11JITt7whCW2414zYLPAFnl9=s64",
      "userId": "12338896257196299013"
     },
     "user_tz": -180
    },
    "id": "YPexCsEnHYMx",
    "outputId": "368b3615-866e-4cb2-9a3a-1d241c362e63"
   },
   "outputs": [
    {
     "name": "stdout",
     "output_type": "stream",
     "text": [
      "True\n",
      "False\n"
     ]
    }
   ],
   "source": [
    "# Boolean (логические переменные: True и False)\n",
    "c = True\n",
    "d = False\n",
    "print(c)\n",
    "print(d)"
   ]
  },
  {
   "cell_type": "code",
   "execution_count": 153,
   "metadata": {
    "colab": {
     "base_uri": "https://localhost:8080/"
    },
    "executionInfo": {
     "elapsed": 543,
     "status": "ok",
     "timestamp": 1621525783463,
     "user": {
      "displayName": "Марк Станиславович Потанин",
      "photoUrl": "https://lh3.googleusercontent.com/a-/AOh14GiGIbSWvn36SnuS11JITt7whCW2414zYLPAFnl9=s64",
      "userId": "12338896257196299013"
     },
     "user_tz": -180
    },
    "id": "dYnQKpJCHYMx",
    "outputId": "d2bbf279-4ab4-40a9-b0af-1988256a91b9"
   },
   "outputs": [
    {
     "name": "stdout",
     "output_type": "stream",
     "text": [
      "5\n",
      "False\n",
      "True\n"
     ]
    }
   ],
   "source": [
    "a = 5\n",
    "c = 3 == 4 # Положи в переменную c результат сравнения 3 и 4\n",
    "q = 3 == 3 # Положи в переменную q результат сравнения 3 и 3\n",
    "print(a)\n",
    "print(c)\n",
    "print(q)"
   ]
  },
  {
   "cell_type": "code",
   "execution_count": 154,
   "metadata": {
    "colab": {
     "base_uri": "https://localhost:8080/"
    },
    "executionInfo": {
     "elapsed": 711,
     "status": "ok",
     "timestamp": 1621525783798,
     "user": {
      "displayName": "Марк Станиславович Потанин",
      "photoUrl": "https://lh3.googleusercontent.com/a-/AOh14GiGIbSWvn36SnuS11JITt7whCW2414zYLPAFnl9=s64",
      "userId": "12338896257196299013"
     },
     "user_tz": -180
    },
    "id": "_S4GgcqNHYMy",
    "outputId": "467ce1d0-325c-4119-f14e-909aabfccff0"
   },
   "outputs": [
    {
     "name": "stdout",
     "output_type": "stream",
     "text": [
      "5\n",
      "True\n",
      "6\n"
     ]
    }
   ],
   "source": [
    "a = 5\n",
    "print(a)\n",
    "a = True # True = 1, False = 0 (воспринимаются как числа 1 и 0)\n",
    "print(a)\n",
    "print(a + 5)"
   ]
  },
  {
   "cell_type": "code",
   "execution_count": 155,
   "metadata": {
    "id": "3TZOQ387HYMy"
   },
   "outputs": [],
   "source": [
    "# Numeric (int и float)\n",
    "a = 5 # Numeric (int)\n",
    "b = 6.7 # Numeric (float)"
   ]
  },
  {
   "cell_type": "code",
   "execution_count": 156,
   "metadata": {
    "colab": {
     "base_uri": "https://localhost:8080/"
    },
    "executionInfo": {
     "elapsed": 777,
     "status": "ok",
     "timestamp": 1621525784376,
     "user": {
      "displayName": "Марк Станиславович Потанин",
      "photoUrl": "https://lh3.googleusercontent.com/a-/AOh14GiGIbSWvn36SnuS11JITt7whCW2414zYLPAFnl9=s64",
      "userId": "12338896257196299013"
     },
     "user_tz": -180
    },
    "id": "Qk7sA-C6HYMy",
    "outputId": "bac487c7-9c52-4796-8bbf-dd312519c3bf"
   },
   "outputs": [
    {
     "name": "stdout",
     "output_type": "stream",
     "text": [
      "Hello!\n"
     ]
    }
   ],
   "source": [
    "# Str\n",
    "c = \"Hello!\"\n",
    "print(c)"
   ]
  },
  {
   "cell_type": "markdown",
   "metadata": {
    "id": "l7wDmZcKHYMy"
   },
   "source": [
    "Заметьте, что переменная `c` ранее была типа `Boolean`, а теперь стала типа `str`. `Python` позволяет перезаписывать в переменные значения разных типов, так как является языком с *динамической типизацией*."
   ]
  },
  {
   "cell_type": "markdown",
   "metadata": {
    "id": "BakNkRDSHYMy"
   },
   "source": [
    "Чтобы узнать тип переменной, используйте команду `type()`:"
   ]
  },
  {
   "cell_type": "code",
   "execution_count": 157,
   "metadata": {
    "colab": {
     "base_uri": "https://localhost:8080/"
    },
    "executionInfo": {
     "elapsed": 939,
     "status": "ok",
     "timestamp": 1621525785014,
     "user": {
      "displayName": "Марк Станиславович Потанин",
      "photoUrl": "https://lh3.googleusercontent.com/a-/AOh14GiGIbSWvn36SnuS11JITt7whCW2414zYLPAFnl9=s64",
      "userId": "12338896257196299013"
     },
     "user_tz": -180
    },
    "id": "L6FuChoKHYMz",
    "outputId": "c5bd5bdd-3893-4782-ed81-6d3af99b364f"
   },
   "outputs": [
    {
     "data": {
      "text/plain": [
       "int"
      ]
     },
     "execution_count": 157,
     "metadata": {},
     "output_type": "execute_result"
    }
   ],
   "source": [
    "type(1)"
   ]
  },
  {
   "cell_type": "code",
   "execution_count": 158,
   "metadata": {
    "colab": {
     "base_uri": "https://localhost:8080/"
    },
    "executionInfo": {
     "elapsed": 771,
     "status": "ok",
     "timestamp": 1621525785015,
     "user": {
      "displayName": "Марк Станиславович Потанин",
      "photoUrl": "https://lh3.googleusercontent.com/a-/AOh14GiGIbSWvn36SnuS11JITt7whCW2414zYLPAFnl9=s64",
      "userId": "12338896257196299013"
     },
     "user_tz": -180
    },
    "id": "inlNonF7HYMz",
    "outputId": "989b3270-ac30-4a58-a5f5-1066b27a4b0a"
   },
   "outputs": [
    {
     "data": {
      "text/plain": [
       "int"
      ]
     },
     "execution_count": 158,
     "metadata": {},
     "output_type": "execute_result"
    }
   ],
   "source": [
    "type(a)"
   ]
  },
  {
   "cell_type": "code",
   "execution_count": 159,
   "metadata": {
    "colab": {
     "base_uri": "https://localhost:8080/"
    },
    "executionInfo": {
     "elapsed": 439,
     "status": "ok",
     "timestamp": 1621525785366,
     "user": {
      "displayName": "Марк Станиславович Потанин",
      "photoUrl": "https://lh3.googleusercontent.com/a-/AOh14GiGIbSWvn36SnuS11JITt7whCW2414zYLPAFnl9=s64",
      "userId": "12338896257196299013"
     },
     "user_tz": -180
    },
    "id": "9nPbRToxHYMz",
    "outputId": "47c8b406-41be-4a3d-9fea-82b53e151990"
   },
   "outputs": [
    {
     "data": {
      "text/plain": [
       "float"
      ]
     },
     "execution_count": 159,
     "metadata": {},
     "output_type": "execute_result"
    }
   ],
   "source": [
    "type(2.9)"
   ]
  },
  {
   "cell_type": "code",
   "execution_count": 160,
   "metadata": {
    "colab": {
     "base_uri": "https://localhost:8080/"
    },
    "executionInfo": {
     "elapsed": 455,
     "status": "ok",
     "timestamp": 1621525785604,
     "user": {
      "displayName": "Марк Станиславович Потанин",
      "photoUrl": "https://lh3.googleusercontent.com/a-/AOh14GiGIbSWvn36SnuS11JITt7whCW2414zYLPAFnl9=s64",
      "userId": "12338896257196299013"
     },
     "user_tz": -180
    },
    "id": "SIQm0cCSHYMz",
    "outputId": "46b91086-67e5-40e1-8dde-0aaf7544020a"
   },
   "outputs": [
    {
     "data": {
      "text/plain": [
       "float"
      ]
     },
     "execution_count": 160,
     "metadata": {},
     "output_type": "execute_result"
    }
   ],
   "source": [
    "type(b)"
   ]
  },
  {
   "cell_type": "code",
   "execution_count": 161,
   "metadata": {
    "colab": {
     "base_uri": "https://localhost:8080/"
    },
    "executionInfo": {
     "elapsed": 754,
     "status": "ok",
     "timestamp": 1621525786059,
     "user": {
      "displayName": "Марк Станиславович Потанин",
      "photoUrl": "https://lh3.googleusercontent.com/a-/AOh14GiGIbSWvn36SnuS11JITt7whCW2414zYLPAFnl9=s64",
      "userId": "12338896257196299013"
     },
     "user_tz": -180
    },
    "id": "TIJ4g_OeHYMz",
    "outputId": "31e2a067-648f-4e9b-9f2b-e100dbc1c010"
   },
   "outputs": [
    {
     "data": {
      "text/plain": [
       "bool"
      ]
     },
     "execution_count": 161,
     "metadata": {},
     "output_type": "execute_result"
    }
   ],
   "source": [
    "type(True)"
   ]
  },
  {
   "cell_type": "code",
   "execution_count": 162,
   "metadata": {
    "colab": {
     "base_uri": "https://localhost:8080/"
    },
    "executionInfo": {
     "elapsed": 511,
     "status": "ok",
     "timestamp": 1621525786060,
     "user": {
      "displayName": "Марк Станиславович Потанин",
      "photoUrl": "https://lh3.googleusercontent.com/a-/AOh14GiGIbSWvn36SnuS11JITt7whCW2414zYLPAFnl9=s64",
      "userId": "12338896257196299013"
     },
     "user_tz": -180
    },
    "id": "t1cnlEfGHYM0",
    "outputId": "f8f17b6e-346b-40c5-cfe2-fd654dd771a4"
   },
   "outputs": [
    {
     "data": {
      "text/plain": [
       "bool"
      ]
     },
     "execution_count": 162,
     "metadata": {},
     "output_type": "execute_result"
    }
   ],
   "source": [
    "type(d)"
   ]
  },
  {
   "cell_type": "code",
   "execution_count": 163,
   "metadata": {
    "colab": {
     "base_uri": "https://localhost:8080/"
    },
    "executionInfo": {
     "elapsed": 965,
     "status": "ok",
     "timestamp": 1621525786708,
     "user": {
      "displayName": "Марк Станиславович Потанин",
      "photoUrl": "https://lh3.googleusercontent.com/a-/AOh14GiGIbSWvn36SnuS11JITt7whCW2414zYLPAFnl9=s64",
      "userId": "12338896257196299013"
     },
     "user_tz": -180
    },
    "id": "h8aKTUr8HYM0",
    "outputId": "9d956577-89f6-407d-ee69-96bf214adf36"
   },
   "outputs": [
    {
     "data": {
      "text/plain": [
       "NoneType"
      ]
     },
     "execution_count": 163,
     "metadata": {},
     "output_type": "execute_result"
    }
   ],
   "source": [
    "type(None)"
   ]
  },
  {
   "cell_type": "code",
   "execution_count": 164,
   "metadata": {
    "colab": {
     "base_uri": "https://localhost:8080/"
    },
    "executionInfo": {
     "elapsed": 982,
     "status": "ok",
     "timestamp": 1621525786968,
     "user": {
      "displayName": "Марк Станиславович Потанин",
      "photoUrl": "https://lh3.googleusercontent.com/a-/AOh14GiGIbSWvn36SnuS11JITt7whCW2414zYLPAFnl9=s64",
      "userId": "12338896257196299013"
     },
     "user_tz": -180
    },
    "id": "AQb8ibZqHYM0",
    "outputId": "fc20ab60-5d33-4fa6-8da6-dc0859683afc"
   },
   "outputs": [
    {
     "data": {
      "text/plain": [
       "str"
      ]
     },
     "execution_count": 164,
     "metadata": {},
     "output_type": "execute_result"
    }
   ],
   "source": [
    "type('mark')"
   ]
  },
  {
   "cell_type": "code",
   "execution_count": 165,
   "metadata": {
    "colab": {
     "base_uri": "https://localhost:8080/"
    },
    "executionInfo": {
     "elapsed": 756,
     "status": "ok",
     "timestamp": 1621525786969,
     "user": {
      "displayName": "Марк Станиславович Потанин",
      "photoUrl": "https://lh3.googleusercontent.com/a-/AOh14GiGIbSWvn36SnuS11JITt7whCW2414zYLPAFnl9=s64",
      "userId": "12338896257196299013"
     },
     "user_tz": -180
    },
    "id": "bvN76au2HYM0",
    "outputId": "bfcf51e8-f396-4925-eba2-dbea39db2e09"
   },
   "outputs": [
    {
     "data": {
      "text/plain": [
       "type"
      ]
     },
     "execution_count": 165,
     "metadata": {},
     "output_type": "execute_result"
    }
   ],
   "source": [
    "type(type(d)) # Тип типа – тип"
   ]
  },
  {
   "cell_type": "markdown",
   "metadata": {
    "id": "v5jqCU10HYM0"
   },
   "source": [
    "---"
   ]
  },
  {
   "cell_type": "markdown",
   "metadata": {
    "id": "5r3gc1NaHYM1"
   },
   "source": [
    "## Коллекции"
   ]
  },
  {
   "cell_type": "markdown",
   "metadata": {
    "id": "Nj_QgqU-HYM1"
   },
   "source": [
    "Большинство программ работает не с отдельными переменными, а с набором переменных. Такой набор называется коллекцией. Коллекция в Python — это объект, хранящий набор значений одного или различных типов, позволяющий обращаться к этим значениям, а также применять специальные функции и методы, зависящие от типа коллекции."
   ]
  },
  {
   "cell_type": "markdown",
   "metadata": {
    "id": "9Jguj5lcHYM1"
   },
   "source": [
    "Коллекции:\n",
    "1. Последовательности (`sequences`):\n",
    "    - Изменяемые (`list`)\n",
    "    - Неизменяемые (`str`, `tuple`)\n",
    "2. Множества:\n",
    "    - Изменяемые (`set`)\n",
    "3. Словари (`dict`)\n",
    "\n",
    "Коллекция – модель, абстрактное понятие.\n",
    "\n",
    "`list`, `str`, `tuple` и т.д. – типы данных.\n",
    "\n",
    "Например, коллекция \"Изменяемая последовательность\" в `Python` реализуется типом данных `list`. А коллекция \"Изменяемое множество\" в `Python` реализуется типом данных `set`.\n",
    "\n",
    "У каждого типа данных есть свои __методы__."
   ]
  },
  {
   "cell_type": "markdown",
   "metadata": {
    "id": "-jM9mErMHYM1"
   },
   "source": [
    "#### Списки (`lists`)"
   ]
  },
  {
   "cell_type": "markdown",
   "metadata": {
    "id": "Mt9FxjHMHYM1"
   },
   "source": [
    "Список – это изменяемая, упорядоченная последовательность элементов. Значения, которые находятся в списке, называются элементами. Подобно тому, как строки определяются кавычками, списки определяются квадратными скобками (`[]`). В большинстве других языков программирования используется термин “массив”. Итак, список представляет собой последовательность элементов, пронумерованных от 0 и задается перечислением элементов списка в квадратных скобках."
   ]
  },
  {
   "cell_type": "markdown",
   "metadata": {
    "id": "icOYLmpuHYM1"
   },
   "source": [
    "Список целых чисел выглядит так:"
   ]
  },
  {
   "cell_type": "code",
   "execution_count": 167,
   "metadata": {
    "colab": {
     "base_uri": "https://localhost:8080/"
    },
    "executionInfo": {
     "elapsed": 590,
     "status": "ok",
     "timestamp": 1621530405437,
     "user": {
      "displayName": "Марк Станиславович Потанин",
      "photoUrl": "https://lh3.googleusercontent.com/a-/AOh14GiGIbSWvn36SnuS11JITt7whCW2414zYLPAFnl9=s64",
      "userId": "12338896257196299013"
     },
     "user_tz": -180
    },
    "id": "hGHo7EseHYM1",
    "outputId": "76e2d675-f621-43c7-8e27-3152e8a76215"
   },
   "outputs": [
    {
     "name": "stdout",
     "output_type": "stream",
     "text": [
      "[-3, -2, -1, 0, 1, 2, 3]\n"
     ]
    }
   ],
   "source": [
    "print([-3, -2, -1, 0, 1, 2, 3])"
   ]
  },
  {
   "cell_type": "markdown",
   "metadata": {
    "id": "4pZqOXaCHYM2"
   },
   "source": [
    "Список чисел с плавающей точкой имеет такой вид:"
   ]
  },
  {
   "cell_type": "code",
   "execution_count": 168,
   "metadata": {
    "colab": {
     "base_uri": "https://localhost:8080/"
    },
    "executionInfo": {
     "elapsed": 913,
     "status": "ok",
     "timestamp": 1621530448971,
     "user": {
      "displayName": "Марк Станиславович Потанин",
      "photoUrl": "https://lh3.googleusercontent.com/a-/AOh14GiGIbSWvn36SnuS11JITt7whCW2414zYLPAFnl9=s64",
      "userId": "12338896257196299013"
     },
     "user_tz": -180
    },
    "id": "isQBa2hhHYM2",
    "outputId": "f87c67d9-2fba-4d9e-f0b0-3505e790cf27"
   },
   "outputs": [
    {
     "name": "stdout",
     "output_type": "stream",
     "text": [
      "[3.14, 9.23, 111.11, 312.12, 1.05]\n"
     ]
    }
   ],
   "source": [
    "print([3.14, 9.23, 111.11, 312.12, 1.05])"
   ]
  },
  {
   "cell_type": "markdown",
   "metadata": {
    "id": "oD_8P2jnHYM2"
   },
   "source": [
    "Список строк:"
   ]
  },
  {
   "cell_type": "code",
   "execution_count": 169,
   "metadata": {
    "colab": {
     "base_uri": "https://localhost:8080/"
    },
    "executionInfo": {
     "elapsed": 385,
     "status": "ok",
     "timestamp": 1621530453242,
     "user": {
      "displayName": "Марк Станиславович Потанин",
      "photoUrl": "https://lh3.googleusercontent.com/a-/AOh14GiGIbSWvn36SnuS11JITt7whCW2414zYLPAFnl9=s64",
      "userId": "12338896257196299013"
     },
     "user_tz": -180
    },
    "id": "MwVVYAp7HYM2",
    "outputId": "6522d7fd-b925-471f-eae9-97fac31ad673"
   },
   "outputs": [
    {
     "name": "stdout",
     "output_type": "stream",
     "text": [
      "['shark', 'cuttlefish', 'squid', 'mantis shrimp']\n"
     ]
    }
   ],
   "source": [
    "print(['shark', 'cuttlefish', 'squid', 'mantis shrimp'])"
   ]
  },
  {
   "cell_type": "markdown",
   "metadata": {
    "id": "YtaPVUquHYM2"
   },
   "source": [
    "Запишем список в переменную:"
   ]
  },
  {
   "cell_type": "code",
   "execution_count": 170,
   "metadata": {
    "colab": {
     "base_uri": "https://localhost:8080/"
    },
    "executionInfo": {
     "elapsed": 448,
     "status": "ok",
     "timestamp": 1621530502216,
     "user": {
      "displayName": "Марк Станиславович Потанин",
      "photoUrl": "https://lh3.googleusercontent.com/a-/AOh14GiGIbSWvn36SnuS11JITt7whCW2414zYLPAFnl9=s64",
      "userId": "12338896257196299013"
     },
     "user_tz": -180
    },
    "id": "ZQnai_wAHYM2",
    "outputId": "d5fb6246-e742-4757-a3a2-cf9ccac228a0"
   },
   "outputs": [
    {
     "name": "stdout",
     "output_type": "stream",
     "text": [
      "[1, 2, 3]\n"
     ]
    }
   ],
   "source": [
    "list_of_numbers = [1, 2, 3]\n",
    "print(list_of_numbers)"
   ]
  },
  {
   "cell_type": "code",
   "execution_count": 172,
   "metadata": {
    "id": "28YXuC1kHYM3"
   },
   "outputs": [],
   "source": [
    "# 2 способа создания пустых списков\n",
    "another_list = list() \n",
    "third_list = []"
   ]
  },
  {
   "cell_type": "markdown",
   "metadata": {
    "id": "XqfwWjj1HYM3"
   },
   "source": [
    "В списках могут храниться переменные разных типов, и даже другие списки."
   ]
  },
  {
   "cell_type": "code",
   "execution_count": 173,
   "metadata": {
    "colab": {
     "base_uri": "https://localhost:8080/"
    },
    "executionInfo": {
     "elapsed": 635,
     "status": "ok",
     "timestamp": 1621530566202,
     "user": {
      "displayName": "Марк Станиславович Потанин",
      "photoUrl": "https://lh3.googleusercontent.com/a-/AOh14GiGIbSWvn36SnuS11JITt7whCW2414zYLPAFnl9=s64",
      "userId": "12338896257196299013"
     },
     "user_tz": -180
    },
    "id": "_PtILbALHYM3",
    "outputId": "2432c7bd-d5c4-42f0-9f74-70780d2102c0"
   },
   "outputs": [
    {
     "name": "stdout",
     "output_type": "stream",
     "text": [
      "[1, 2, 'Hello', 5, [7, 5]]\n"
     ]
    }
   ],
   "source": [
    "list_of_different_types = [1, 2, 'Hello', 5, [7, 5]]\n",
    "print(list_of_different_types)"
   ]
  },
  {
   "cell_type": "markdown",
   "metadata": {
    "id": "ZErPU3xiHYM3"
   },
   "source": [
    "__Упражение__: создайте следующие списки:\n",
    "- Список из натуральных чисел от 1 до 3.\n",
    "- Список из первых пяти букв алфавита.\n",
    "- Список, содержащий два других списка.\n",
    "\n",
    "Найдите длину (число элементов) одного из созданных списков. "
   ]
  },
  {
   "cell_type": "code",
   "execution_count": 174,
   "metadata": {
    "id": "4lCyIYp6HYM4"
   },
   "outputs": [],
   "source": [
    "natural_numbers = [1, 2, 3]\n",
    "first_five_letters = ['a', 'b', 'c', 'd', 'e']\n",
    "list_with_other_two_lists = [[1, 2], ['a', 'b']]"
   ]
  },
  {
   "cell_type": "markdown",
   "metadata": {
    "id": "SC5Iw-38HYM4"
   },
   "source": [
    "Функция `len()` позволяет узнать длину списка."
   ]
  },
  {
   "cell_type": "code",
   "execution_count": 175,
   "metadata": {
    "colab": {
     "base_uri": "https://localhost:8080/"
    },
    "executionInfo": {
     "elapsed": 415,
     "status": "ok",
     "timestamp": 1621530588081,
     "user": {
      "displayName": "Марк Станиславович Потанин",
      "photoUrl": "https://lh3.googleusercontent.com/a-/AOh14GiGIbSWvn36SnuS11JITt7whCW2414zYLPAFnl9=s64",
      "userId": "12338896257196299013"
     },
     "user_tz": -180
    },
    "id": "L-EKZHMLHYM4",
    "outputId": "89d59db4-13b5-4928-ef48-d81e50e46a05"
   },
   "outputs": [
    {
     "data": {
      "text/plain": [
       "3"
      ]
     },
     "execution_count": 175,
     "metadata": {},
     "output_type": "execute_result"
    }
   ],
   "source": [
    "len(natural_numbers)"
   ]
  },
  {
   "cell_type": "code",
   "execution_count": 176,
   "metadata": {
    "colab": {
     "base_uri": "https://localhost:8080/"
    },
    "executionInfo": {
     "elapsed": 385,
     "status": "ok",
     "timestamp": 1621530622968,
     "user": {
      "displayName": "Марк Станиславович Потанин",
      "photoUrl": "https://lh3.googleusercontent.com/a-/AOh14GiGIbSWvn36SnuS11JITt7whCW2414zYLPAFnl9=s64",
      "userId": "12338896257196299013"
     },
     "user_tz": -180
    },
    "id": "-e1N49grwT01",
    "outputId": "3243f19e-e0bd-4735-922b-c051dfbeffab"
   },
   "outputs": [
    {
     "data": {
      "text/plain": [
       "5"
      ]
     },
     "execution_count": 176,
     "metadata": {},
     "output_type": "execute_result"
    }
   ],
   "source": [
    "len(list_of_different_types)"
   ]
  },
  {
   "cell_type": "markdown",
   "metadata": {
    "id": "s9_mbLZkHYM4"
   },
   "source": [
    "Нужные нам методы списков:\n",
    "- `.append(element)` – добавляет элемент в конец списка.\n",
    "- `.copy()` – создаёт копию списка.\n",
    "- `.count(value)` – выдаёт число раз, которое `value` входит в список.\n",
    "- `.sort()` – сортировка списка. \n",
    "- `.remove(element)` - удаление элемента из списка\n",
    "- `.pop(index)` - удаляет и возвращает элемента из списка по его индексу\n"
   ]
  },
  {
   "cell_type": "markdown",
   "metadata": {
    "id": "VNYGYxnjHYM4"
   },
   "source": [
    "- `x in A` - проверить, содержится ли элемент в списке. Возвращает True или False.\n",
    "- `x not in A` - то же самое, только в обратную сторону. Возвращает True или False.\n",
    "- `min(A)` - наименьший элемент списка.\n",
    "- `max(A)` - наибольший элемент списка."
   ]
  },
  {
   "cell_type": "code",
   "execution_count": 177,
   "metadata": {
    "id": "hP7iNjalHYM4"
   },
   "outputs": [],
   "source": [
    "natural_numbers = [1, 2, 3]"
   ]
  },
  {
   "cell_type": "code",
   "execution_count": 178,
   "metadata": {
    "colab": {
     "base_uri": "https://localhost:8080/"
    },
    "executionInfo": {
     "elapsed": 631,
     "status": "ok",
     "timestamp": 1621530818026,
     "user": {
      "displayName": "Марк Станиславович Потанин",
      "photoUrl": "https://lh3.googleusercontent.com/a-/AOh14GiGIbSWvn36SnuS11JITt7whCW2414zYLPAFnl9=s64",
      "userId": "12338896257196299013"
     },
     "user_tz": -180
    },
    "id": "KI5wp0H_HYM5",
    "outputId": "bb5de405-ddbf-48d5-8675-9c43dd37f594"
   },
   "outputs": [
    {
     "name": "stdout",
     "output_type": "stream",
     "text": [
      "[1, 2, 3]\n"
     ]
    }
   ],
   "source": [
    "print(natural_numbers)"
   ]
  },
  {
   "cell_type": "code",
   "execution_count": 179,
   "metadata": {
    "id": "R8RIdtiewumv"
   },
   "outputs": [],
   "source": [
    "list_of_names = ['mark','irina','ivan']"
   ]
  },
  {
   "cell_type": "code",
   "execution_count": 180,
   "metadata": {},
   "outputs": [
    {
     "data": {
      "text/plain": [
       "['mark', 'irina', 'ivan']"
      ]
     },
     "execution_count": 180,
     "metadata": {},
     "output_type": "execute_result"
    }
   ],
   "source": [
    "list_of_names"
   ]
  },
  {
   "cell_type": "code",
   "execution_count": 181,
   "metadata": {
    "id": "-8MV431Yw2Qa"
   },
   "outputs": [],
   "source": [
    "list_of_names.append('stepa')"
   ]
  },
  {
   "cell_type": "code",
   "execution_count": 182,
   "metadata": {
    "colab": {
     "base_uri": "https://localhost:8080/"
    },
    "executionInfo": {
     "elapsed": 1007,
     "status": "ok",
     "timestamp": 1621530793417,
     "user": {
      "displayName": "Марк Станиславович Потанин",
      "photoUrl": "https://lh3.googleusercontent.com/a-/AOh14GiGIbSWvn36SnuS11JITt7whCW2414zYLPAFnl9=s64",
      "userId": "12338896257196299013"
     },
     "user_tz": -180
    },
    "id": "DVoHWxH1w90u",
    "outputId": "cdf7ca80-19ec-4105-afc6-70acdd577f00"
   },
   "outputs": [
    {
     "data": {
      "text/plain": [
       "['mark', 'irina', 'ivan', 'stepa']"
      ]
     },
     "execution_count": 182,
     "metadata": {},
     "output_type": "execute_result"
    }
   ],
   "source": [
    "list_of_names"
   ]
  },
  {
   "cell_type": "code",
   "execution_count": 183,
   "metadata": {
    "colab": {
     "base_uri": "https://localhost:8080/"
    },
    "executionInfo": {
     "elapsed": 867,
     "status": "ok",
     "timestamp": 1621530825022,
     "user": {
      "displayName": "Марк Станиславович Потанин",
      "photoUrl": "https://lh3.googleusercontent.com/a-/AOh14GiGIbSWvn36SnuS11JITt7whCW2414zYLPAFnl9=s64",
      "userId": "12338896257196299013"
     },
     "user_tz": -180
    },
    "id": "s6afRjWaHYM5",
    "outputId": "a2bc494b-496a-4f87-b426-ecb359b8aa2d"
   },
   "outputs": [
    {
     "name": "stdout",
     "output_type": "stream",
     "text": [
      "[1, 2, 3, 4]\n"
     ]
    }
   ],
   "source": [
    "natural_numbers.append(4)\n",
    "print(natural_numbers)"
   ]
  },
  {
   "cell_type": "code",
   "execution_count": 184,
   "metadata": {
    "id": "pezQcQ5aHYM5"
   },
   "outputs": [],
   "source": [
    "a = [1, 2, 3]\n",
    "b = a # Переменная b ссылается на ту же ячейку в памяти, что и переменная a\n",
    "b.append(4) "
   ]
  },
  {
   "cell_type": "code",
   "execution_count": 185,
   "metadata": {
    "colab": {
     "base_uri": "https://localhost:8080/"
    },
    "executionInfo": {
     "elapsed": 551,
     "status": "ok",
     "timestamp": 1621530929886,
     "user": {
      "displayName": "Марк Станиславович Потанин",
      "photoUrl": "https://lh3.googleusercontent.com/a-/AOh14GiGIbSWvn36SnuS11JITt7whCW2414zYLPAFnl9=s64",
      "userId": "12338896257196299013"
     },
     "user_tz": -180
    },
    "id": "jDB8HMdJHYM5",
    "outputId": "d16e4bc4-2fa0-41e6-dfe8-298ed0cbb6cd"
   },
   "outputs": [
    {
     "data": {
      "text/plain": [
       "[1, 2, 3, 4]"
      ]
     },
     "execution_count": 185,
     "metadata": {},
     "output_type": "execute_result"
    }
   ],
   "source": [
    "b"
   ]
  },
  {
   "cell_type": "code",
   "execution_count": 186,
   "metadata": {},
   "outputs": [
    {
     "data": {
      "text/plain": [
       "4531802240"
      ]
     },
     "execution_count": 186,
     "metadata": {},
     "output_type": "execute_result"
    }
   ],
   "source": [
    "id(a)"
   ]
  },
  {
   "cell_type": "code",
   "execution_count": 187,
   "metadata": {},
   "outputs": [
    {
     "data": {
      "text/plain": [
       "4531802240"
      ]
     },
     "execution_count": 187,
     "metadata": {},
     "output_type": "execute_result"
    }
   ],
   "source": [
    "id(b)"
   ]
  },
  {
   "cell_type": "code",
   "execution_count": 188,
   "metadata": {
    "colab": {
     "base_uri": "https://localhost:8080/"
    },
    "executionInfo": {
     "elapsed": 385,
     "status": "ok",
     "timestamp": 1621530992051,
     "user": {
      "displayName": "Марк Станиславович Потанин",
      "photoUrl": "https://lh3.googleusercontent.com/a-/AOh14GiGIbSWvn36SnuS11JITt7whCW2414zYLPAFnl9=s64",
      "userId": "12338896257196299013"
     },
     "user_tz": -180
    },
    "id": "-FjYh1ifHYM5",
    "outputId": "6455e7ff-6916-4600-8a83-9169dba15088"
   },
   "outputs": [
    {
     "data": {
      "text/plain": [
       "[1, 2, 3, 4]"
      ]
     },
     "execution_count": 188,
     "metadata": {},
     "output_type": "execute_result"
    }
   ],
   "source": [
    "a # Поэтому при изменении переменной b, изменяется и переменная a"
   ]
  },
  {
   "cell_type": "code",
   "execution_count": 190,
   "metadata": {
    "id": "kQz0ZC-NHYM6"
   },
   "outputs": [],
   "source": [
    "c = a.copy() # .copy() копирует данные, лежащие в ячейке, на которую\n",
    "# ссылается переменная a, в другую ячейку, и заставляет переменную c ссылаться на неё\n",
    "c.append(5)"
   ]
  },
  {
   "cell_type": "code",
   "execution_count": 191,
   "metadata": {
    "colab": {
     "base_uri": "https://localhost:8080/"
    },
    "executionInfo": {
     "elapsed": 339,
     "status": "ok",
     "timestamp": 1621531029324,
     "user": {
      "displayName": "Марк Станиславович Потанин",
      "photoUrl": "https://lh3.googleusercontent.com/a-/AOh14GiGIbSWvn36SnuS11JITt7whCW2414zYLPAFnl9=s64",
      "userId": "12338896257196299013"
     },
     "user_tz": -180
    },
    "id": "eV84PuS5HYM6",
    "outputId": "1ebf9819-14a4-455c-eb9b-e0ea58af54c7"
   },
   "outputs": [
    {
     "data": {
      "text/plain": [
       "[1, 2, 3, 4, 5]"
      ]
     },
     "execution_count": 191,
     "metadata": {},
     "output_type": "execute_result"
    }
   ],
   "source": [
    "c"
   ]
  },
  {
   "cell_type": "code",
   "execution_count": 192,
   "metadata": {
    "colab": {
     "base_uri": "https://localhost:8080/"
    },
    "executionInfo": {
     "elapsed": 377,
     "status": "ok",
     "timestamp": 1621531032366,
     "user": {
      "displayName": "Марк Станиславович Потанин",
      "photoUrl": "https://lh3.googleusercontent.com/a-/AOh14GiGIbSWvn36SnuS11JITt7whCW2414zYLPAFnl9=s64",
      "userId": "12338896257196299013"
     },
     "user_tz": -180
    },
    "id": "aN31YcWzHYM6",
    "outputId": "859a31e2-6842-47bc-e10b-6472647d8b1f"
   },
   "outputs": [
    {
     "data": {
      "text/plain": [
       "[1, 2, 3, 4]"
      ]
     },
     "execution_count": 192,
     "metadata": {},
     "output_type": "execute_result"
    }
   ],
   "source": [
    "a # Поэтому теперь при изменении переменной c переменная a не меняется"
   ]
  },
  {
   "cell_type": "code",
   "execution_count": 193,
   "metadata": {},
   "outputs": [
    {
     "data": {
      "text/plain": [
       "4531802240"
      ]
     },
     "execution_count": 193,
     "metadata": {},
     "output_type": "execute_result"
    }
   ],
   "source": [
    "id(a)"
   ]
  },
  {
   "cell_type": "code",
   "execution_count": 194,
   "metadata": {},
   "outputs": [
    {
     "data": {
      "text/plain": [
       "4532149120"
      ]
     },
     "execution_count": 194,
     "metadata": {},
     "output_type": "execute_result"
    }
   ],
   "source": [
    "id(c)"
   ]
  },
  {
   "cell_type": "code",
   "execution_count": 196,
   "metadata": {
    "colab": {
     "base_uri": "https://localhost:8080/"
    },
    "executionInfo": {
     "elapsed": 390,
     "status": "ok",
     "timestamp": 1621531110872,
     "user": {
      "displayName": "Марк Станиславович Потанин",
      "photoUrl": "https://lh3.googleusercontent.com/a-/AOh14GiGIbSWvn36SnuS11JITt7whCW2414zYLPAFnl9=s64",
      "userId": "12338896257196299013"
     },
     "user_tz": -180
    },
    "id": "qAG6bHV_HYM6",
    "outputId": "ff097ec8-121e-40e8-91ad-fb811d9ded79"
   },
   "outputs": [
    {
     "data": {
      "text/plain": [
       "1"
      ]
     },
     "execution_count": 196,
     "metadata": {},
     "output_type": "execute_result"
    }
   ],
   "source": [
    "a.count(3)"
   ]
  },
  {
   "cell_type": "code",
   "execution_count": 198,
   "metadata": {
    "colab": {
     "base_uri": "https://localhost:8080/"
    },
    "executionInfo": {
     "elapsed": 409,
     "status": "ok",
     "timestamp": 1621531145799,
     "user": {
      "displayName": "Марк Станиславович Потанин",
      "photoUrl": "https://lh3.googleusercontent.com/a-/AOh14GiGIbSWvn36SnuS11JITt7whCW2414zYLPAFnl9=s64",
      "userId": "12338896257196299013"
     },
     "user_tz": -180
    },
    "id": "PEFy7MvPHYM6",
    "outputId": "4c79813f-a2f3-4524-a002-99bb70003e5e"
   },
   "outputs": [
    {
     "name": "stdout",
     "output_type": "stream",
     "text": [
      "[1, 2, 3, 4, 5]\n"
     ]
    }
   ],
   "source": [
    "unordered_list = [4, 5, 3, 2, 1]\n",
    "unordered_list.sort()\n",
    "print(unordered_list)"
   ]
  },
  {
   "cell_type": "code",
   "execution_count": 199,
   "metadata": {
    "id": "C_y-Kwo3HYM6"
   },
   "outputs": [],
   "source": [
    "a.remove(1)"
   ]
  },
  {
   "cell_type": "code",
   "execution_count": 200,
   "metadata": {
    "colab": {
     "base_uri": "https://localhost:8080/"
    },
    "executionInfo": {
     "elapsed": 686,
     "status": "ok",
     "timestamp": 1621531169925,
     "user": {
      "displayName": "Марк Станиславович Потанин",
      "photoUrl": "https://lh3.googleusercontent.com/a-/AOh14GiGIbSWvn36SnuS11JITt7whCW2414zYLPAFnl9=s64",
      "userId": "12338896257196299013"
     },
     "user_tz": -180
    },
    "id": "oV5zUH6pHYM7",
    "outputId": "79c22ce2-34d1-4517-fa5e-5622fab468d8"
   },
   "outputs": [
    {
     "data": {
      "text/plain": [
       "[2, 3, 4]"
      ]
     },
     "execution_count": 200,
     "metadata": {},
     "output_type": "execute_result"
    }
   ],
   "source": [
    "a"
   ]
  },
  {
   "cell_type": "code",
   "execution_count": 201,
   "metadata": {
    "colab": {
     "base_uri": "https://localhost:8080/"
    },
    "executionInfo": {
     "elapsed": 750,
     "status": "ok",
     "timestamp": 1621525911666,
     "user": {
      "displayName": "Марк Станиславович Потанин",
      "photoUrl": "https://lh3.googleusercontent.com/a-/AOh14GiGIbSWvn36SnuS11JITt7whCW2414zYLPAFnl9=s64",
      "userId": "12338896257196299013"
     },
     "user_tz": -180
    },
    "id": "Jy23IahEHYM7",
    "outputId": "d41a8b82-df9b-4b39-a5d6-fe5b1ea22c12"
   },
   "outputs": [
    {
     "data": {
      "text/plain": [
       "2"
      ]
     },
     "execution_count": 201,
     "metadata": {},
     "output_type": "execute_result"
    }
   ],
   "source": [
    "a.pop(0)"
   ]
  },
  {
   "cell_type": "code",
   "execution_count": 203,
   "metadata": {
    "id": "s4rvdhsAyoJN"
   },
   "outputs": [],
   "source": [
    "surnames = ['volkov','potanin','astapov']"
   ]
  },
  {
   "cell_type": "code",
   "execution_count": 204,
   "metadata": {
    "id": "DBUIOjdZyx0d"
   },
   "outputs": [],
   "source": [
    "surnames.sort()"
   ]
  },
  {
   "cell_type": "code",
   "execution_count": 205,
   "metadata": {
    "colab": {
     "base_uri": "https://localhost:8080/"
    },
    "executionInfo": {
     "elapsed": 530,
     "status": "ok",
     "timestamp": 1621531252044,
     "user": {
      "displayName": "Марк Станиславович Потанин",
      "photoUrl": "https://lh3.googleusercontent.com/a-/AOh14GiGIbSWvn36SnuS11JITt7whCW2414zYLPAFnl9=s64",
      "userId": "12338896257196299013"
     },
     "user_tz": -180
    },
    "id": "TfvffNd5yz_t",
    "outputId": "86f8717a-3f87-4768-d46c-050b62498b9e"
   },
   "outputs": [
    {
     "data": {
      "text/plain": [
       "['astapov', 'potanin', 'volkov']"
      ]
     },
     "execution_count": 205,
     "metadata": {},
     "output_type": "execute_result"
    }
   ],
   "source": [
    "surnames"
   ]
  },
  {
   "cell_type": "code",
   "execution_count": 206,
   "metadata": {
    "id": "W8z0Y-NJHYM7"
   },
   "outputs": [],
   "source": [
    "a = [1, 2, 3, 4, 5]"
   ]
  },
  {
   "cell_type": "code",
   "execution_count": 207,
   "metadata": {
    "colab": {
     "base_uri": "https://localhost:8080/"
    },
    "executionInfo": {
     "elapsed": 528,
     "status": "ok",
     "timestamp": 1621531331886,
     "user": {
      "displayName": "Марк Станиславович Потанин",
      "photoUrl": "https://lh3.googleusercontent.com/a-/AOh14GiGIbSWvn36SnuS11JITt7whCW2414zYLPAFnl9=s64",
      "userId": "12338896257196299013"
     },
     "user_tz": -180
    },
    "id": "LSjVpNrCHYM7",
    "outputId": "5fe5dcc1-d52b-4184-bf2d-6cd0da92831a"
   },
   "outputs": [
    {
     "data": {
      "text/plain": [
       "True"
      ]
     },
     "execution_count": 207,
     "metadata": {},
     "output_type": "execute_result"
    }
   ],
   "source": [
    "1 in a"
   ]
  },
  {
   "cell_type": "code",
   "execution_count": 208,
   "metadata": {
    "colab": {
     "base_uri": "https://localhost:8080/"
    },
    "executionInfo": {
     "elapsed": 657,
     "status": "ok",
     "timestamp": 1621531335204,
     "user": {
      "displayName": "Марк Станиславович Потанин",
      "photoUrl": "https://lh3.googleusercontent.com/a-/AOh14GiGIbSWvn36SnuS11JITt7whCW2414zYLPAFnl9=s64",
      "userId": "12338896257196299013"
     },
     "user_tz": -180
    },
    "id": "QdCYTjIDHYM8",
    "outputId": "b83c6412-7e5f-4866-cce8-8ad1dbc1ce3c"
   },
   "outputs": [
    {
     "data": {
      "text/plain": [
       "False"
      ]
     },
     "execution_count": 208,
     "metadata": {},
     "output_type": "execute_result"
    }
   ],
   "source": [
    "0 in a"
   ]
  },
  {
   "cell_type": "code",
   "execution_count": 209,
   "metadata": {
    "colab": {
     "base_uri": "https://localhost:8080/"
    },
    "executionInfo": {
     "elapsed": 405,
     "status": "ok",
     "timestamp": 1621531414947,
     "user": {
      "displayName": "Марк Станиславович Потанин",
      "photoUrl": "https://lh3.googleusercontent.com/a-/AOh14GiGIbSWvn36SnuS11JITt7whCW2414zYLPAFnl9=s64",
      "userId": "12338896257196299013"
     },
     "user_tz": -180
    },
    "id": "PL8Kyx8tHYM8",
    "outputId": "7c425751-0ca9-40c3-8c8e-8f53090cfd7d"
   },
   "outputs": [
    {
     "data": {
      "text/plain": [
       "False"
      ]
     },
     "execution_count": 209,
     "metadata": {},
     "output_type": "execute_result"
    }
   ],
   "source": [
    "2 not in a"
   ]
  },
  {
   "cell_type": "code",
   "execution_count": 210,
   "metadata": {
    "colab": {
     "base_uri": "https://localhost:8080/"
    },
    "executionInfo": {
     "elapsed": 451,
     "status": "ok",
     "timestamp": 1621531436816,
     "user": {
      "displayName": "Марк Станиславович Потанин",
      "photoUrl": "https://lh3.googleusercontent.com/a-/AOh14GiGIbSWvn36SnuS11JITt7whCW2414zYLPAFnl9=s64",
      "userId": "12338896257196299013"
     },
     "user_tz": -180
    },
    "id": "38_9s8XvHYM8",
    "outputId": "21cc0218-aed3-4512-8fb8-6f3f4dfbc173"
   },
   "outputs": [
    {
     "data": {
      "text/plain": [
       "1"
      ]
     },
     "execution_count": 210,
     "metadata": {},
     "output_type": "execute_result"
    }
   ],
   "source": [
    "min(a)"
   ]
  },
  {
   "cell_type": "code",
   "execution_count": 211,
   "metadata": {
    "colab": {
     "base_uri": "https://localhost:8080/"
    },
    "executionInfo": {
     "elapsed": 327,
     "status": "ok",
     "timestamp": 1621531437852,
     "user": {
      "displayName": "Марк Станиславович Потанин",
      "photoUrl": "https://lh3.googleusercontent.com/a-/AOh14GiGIbSWvn36SnuS11JITt7whCW2414zYLPAFnl9=s64",
      "userId": "12338896257196299013"
     },
     "user_tz": -180
    },
    "id": "Ic8y2qpLHYM9",
    "outputId": "adae027b-7b70-40a2-c9ec-bb4823d21d02"
   },
   "outputs": [
    {
     "data": {
      "text/plain": [
       "5"
      ]
     },
     "execution_count": 211,
     "metadata": {},
     "output_type": "execute_result"
    }
   ],
   "source": [
    "max(a)"
   ]
  },
  {
   "cell_type": "markdown",
   "metadata": {
    "id": "xIt-utgtHYM9"
   },
   "source": [
    "Каждый элемент списка имеет присвоенный ему индекс. Важно отметить, в python индекс первого элемента в списке — 0. Индексирование:\n",
    "`a[1]`, `a[2:3]`, `a[-1]`. Также поддерживается отрицательная индексация. Отрицательная индексация начинается с конца. Иногда её удобнее использовать для получения последнего элемента в списке, потому что не нужно знать длину списка, чтобы получить доступ к последнему элементу."
   ]
  },
  {
   "cell_type": "code",
   "execution_count": 213,
   "metadata": {
    "id": "dEIveyBUHYM9"
   },
   "outputs": [],
   "source": [
    "a = [1, 2, 3,4]"
   ]
  },
  {
   "cell_type": "code",
   "execution_count": 214,
   "metadata": {
    "colab": {
     "base_uri": "https://localhost:8080/"
    },
    "executionInfo": {
     "elapsed": 459,
     "status": "ok",
     "timestamp": 1621531523152,
     "user": {
      "displayName": "Марк Станиславович Потанин",
      "photoUrl": "https://lh3.googleusercontent.com/a-/AOh14GiGIbSWvn36SnuS11JITt7whCW2414zYLPAFnl9=s64",
      "userId": "12338896257196299013"
     },
     "user_tz": -180
    },
    "id": "xFq2PQIVz03O",
    "outputId": "18ee3c17-f90b-49fe-862d-1bb0ebad38f8"
   },
   "outputs": [
    {
     "data": {
      "text/plain": [
       "3"
      ]
     },
     "execution_count": 214,
     "metadata": {},
     "output_type": "execute_result"
    }
   ],
   "source": [
    "a[2]"
   ]
  },
  {
   "cell_type": "code",
   "execution_count": 215,
   "metadata": {
    "colab": {
     "base_uri": "https://localhost:8080/"
    },
    "executionInfo": {
     "elapsed": 381,
     "status": "ok",
     "timestamp": 1621531530055,
     "user": {
      "displayName": "Марк Станиславович Потанин",
      "photoUrl": "https://lh3.googleusercontent.com/a-/AOh14GiGIbSWvn36SnuS11JITt7whCW2414zYLPAFnl9=s64",
      "userId": "12338896257196299013"
     },
     "user_tz": -180
    },
    "id": "YblRCa1jHYM9",
    "outputId": "deac0457-c266-460a-b855-59f233b42b20"
   },
   "outputs": [
    {
     "data": {
      "text/plain": [
       "1"
      ]
     },
     "execution_count": 215,
     "metadata": {},
     "output_type": "execute_result"
    }
   ],
   "source": [
    "a[0] # Индексирование начинается с 0: первый элемент списка имеет индекс 0"
   ]
  },
  {
   "cell_type": "code",
   "execution_count": 216,
   "metadata": {
    "colab": {
     "base_uri": "https://localhost:8080/"
    },
    "executionInfo": {
     "elapsed": 428,
     "status": "ok",
     "timestamp": 1621531532181,
     "user": {
      "displayName": "Марк Станиславович Потанин",
      "photoUrl": "https://lh3.googleusercontent.com/a-/AOh14GiGIbSWvn36SnuS11JITt7whCW2414zYLPAFnl9=s64",
      "userId": "12338896257196299013"
     },
     "user_tz": -180
    },
    "id": "kFNjXSxAHYM9",
    "outputId": "2be0454c-17ad-4202-c5d5-ea8e2bda7f30"
   },
   "outputs": [
    {
     "data": {
      "text/plain": [
       "4"
      ]
     },
     "execution_count": 216,
     "metadata": {},
     "output_type": "execute_result"
    }
   ],
   "source": [
    "a[3]"
   ]
  },
  {
   "cell_type": "code",
   "execution_count": 217,
   "metadata": {
    "colab": {
     "base_uri": "https://localhost:8080/"
    },
    "executionInfo": {
     "elapsed": 397,
     "status": "ok",
     "timestamp": 1621531555404,
     "user": {
      "displayName": "Марк Станиславович Потанин",
      "photoUrl": "https://lh3.googleusercontent.com/a-/AOh14GiGIbSWvn36SnuS11JITt7whCW2414zYLPAFnl9=s64",
      "userId": "12338896257196299013"
     },
     "user_tz": -180
    },
    "id": "DpELfiabHYM-",
    "outputId": "5f49e4d5-740e-4280-b0c5-724126b6eb96"
   },
   "outputs": [
    {
     "data": {
      "text/plain": [
       "4"
      ]
     },
     "execution_count": 217,
     "metadata": {},
     "output_type": "execute_result"
    }
   ],
   "source": [
    "a[-1] # Последний элемент списка"
   ]
  },
  {
   "cell_type": "code",
   "execution_count": 218,
   "metadata": {
    "colab": {
     "base_uri": "https://localhost:8080/"
    },
    "executionInfo": {
     "elapsed": 384,
     "status": "ok",
     "timestamp": 1621531559918,
     "user": {
      "displayName": "Марк Станиславович Потанин",
      "photoUrl": "https://lh3.googleusercontent.com/a-/AOh14GiGIbSWvn36SnuS11JITt7whCW2414zYLPAFnl9=s64",
      "userId": "12338896257196299013"
     },
     "user_tz": -180
    },
    "id": "fP68fO1QHYM-",
    "outputId": "85ae6816-0b20-4417-ac63-14c936a21c91"
   },
   "outputs": [
    {
     "data": {
      "text/plain": [
       "3"
      ]
     },
     "execution_count": 218,
     "metadata": {},
     "output_type": "execute_result"
    }
   ],
   "source": [
    "a[-2] # Предпоследний элемент списка"
   ]
  },
  {
   "cell_type": "markdown",
   "metadata": {
    "id": "opr0ZUBOHYM-"
   },
   "source": [
    "**Срезы(slice)** списка. Срезы хороши для получения подмножества значений с вашего списка. На примере кода, приведенного ниже, он вернет список с элементами из индекса 0 и не включая индекс 2.\n",
    "\n"
   ]
  },
  {
   "cell_type": "code",
   "execution_count": 219,
   "metadata": {
    "id": "Ct7s-pIz0NQ_"
   },
   "outputs": [],
   "source": [
    "a = [1,2,3,4,5,6,7,8,9,10]"
   ]
  },
  {
   "cell_type": "code",
   "execution_count": 220,
   "metadata": {
    "colab": {
     "base_uri": "https://localhost:8080/"
    },
    "executionInfo": {
     "elapsed": 424,
     "status": "ok",
     "timestamp": 1621531653749,
     "user": {
      "displayName": "Марк Станиславович Потанин",
      "photoUrl": "https://lh3.googleusercontent.com/a-/AOh14GiGIbSWvn36SnuS11JITt7whCW2414zYLPAFnl9=s64",
      "userId": "12338896257196299013"
     },
     "user_tz": -180
    },
    "id": "lZfoCf-6HYM-",
    "outputId": "7ab5096b-16b0-4fb3-96e5-42448739b533"
   },
   "outputs": [
    {
     "data": {
      "text/plain": [
       "[1, 2]"
      ]
     },
     "execution_count": 220,
     "metadata": {},
     "output_type": "execute_result"
    }
   ],
   "source": [
    "a[0:2] # Все элементы с индексами от 0 до (2-1). \n",
    "# В общем случае, [a:b] – все элементы списка с индексами от a до (b-1)"
   ]
  },
  {
   "cell_type": "code",
   "execution_count": 221,
   "metadata": {
    "colab": {
     "base_uri": "https://localhost:8080/"
    },
    "executionInfo": {
     "elapsed": 409,
     "status": "ok",
     "timestamp": 1621531773461,
     "user": {
      "displayName": "Марк Станиславович Потанин",
      "photoUrl": "https://lh3.googleusercontent.com/a-/AOh14GiGIbSWvn36SnuS11JITt7whCW2414zYLPAFnl9=s64",
      "userId": "12338896257196299013"
     },
     "user_tz": -180
    },
    "id": "kCvkxv4O0awe",
    "outputId": "2ce4e085-6947-4329-cb8a-9eb60c119e82"
   },
   "outputs": [
    {
     "data": {
      "text/plain": [
       "[2, 3, 4, 5, 6]"
      ]
     },
     "execution_count": 221,
     "metadata": {},
     "output_type": "execute_result"
    }
   ],
   "source": [
    "a[1:6]"
   ]
  },
  {
   "cell_type": "code",
   "execution_count": 222,
   "metadata": {
    "colab": {
     "base_uri": "https://localhost:8080/"
    },
    "executionInfo": {
     "elapsed": 486,
     "status": "ok",
     "timestamp": 1621531795759,
     "user": {
      "displayName": "Марк Станиславович Потанин",
      "photoUrl": "https://lh3.googleusercontent.com/a-/AOh14GiGIbSWvn36SnuS11JITt7whCW2414zYLPAFnl9=s64",
      "userId": "12338896257196299013"
     },
     "user_tz": -180
    },
    "id": "NpnJ0_t5HYM-",
    "outputId": "fb01e2e0-ca70-4e23-b42f-0f4459feb363"
   },
   "outputs": [
    {
     "data": {
      "text/plain": [
       "[3, 4, 5, 6, 7, 8, 9, 10]"
      ]
     },
     "execution_count": 222,
     "metadata": {},
     "output_type": "execute_result"
    }
   ],
   "source": [
    "a[2:] # Все элементы, начиная с элемента с индексом 2, до конца списка"
   ]
  },
  {
   "cell_type": "code",
   "execution_count": 223,
   "metadata": {
    "colab": {
     "base_uri": "https://localhost:8080/"
    },
    "executionInfo": {
     "elapsed": 535,
     "status": "ok",
     "timestamp": 1621531836153,
     "user": {
      "displayName": "Марк Станиславович Потанин",
      "photoUrl": "https://lh3.googleusercontent.com/a-/AOh14GiGIbSWvn36SnuS11JITt7whCW2414zYLPAFnl9=s64",
      "userId": "12338896257196299013"
     },
     "user_tz": -180
    },
    "id": "EIATrlqs06mF",
    "outputId": "6c10e8ad-1915-48bb-8dd4-d73e3ea68976"
   },
   "outputs": [
    {
     "data": {
      "text/plain": [
       "[1, 2, 3]"
      ]
     },
     "execution_count": 223,
     "metadata": {},
     "output_type": "execute_result"
    }
   ],
   "source": [
    "a[:3]"
   ]
  },
  {
   "cell_type": "code",
   "execution_count": 226,
   "metadata": {
    "id": "rkLV8HplHYM-"
   },
   "outputs": [],
   "source": [
    "a = [1, [1, 2]]"
   ]
  },
  {
   "cell_type": "code",
   "execution_count": 227,
   "metadata": {
    "colab": {
     "base_uri": "https://localhost:8080/"
    },
    "executionInfo": {
     "elapsed": 386,
     "status": "ok",
     "timestamp": 1621532072150,
     "user": {
      "displayName": "Марк Станиславович Потанин",
      "photoUrl": "https://lh3.googleusercontent.com/a-/AOh14GiGIbSWvn36SnuS11JITt7whCW2414zYLPAFnl9=s64",
      "userId": "12338896257196299013"
     },
     "user_tz": -180
    },
    "id": "MhMtQRztHYM_",
    "outputId": "aa7e1a69-3c11-4963-d38d-6edbd390af30"
   },
   "outputs": [
    {
     "data": {
      "text/plain": [
       "2"
      ]
     },
     "execution_count": 227,
     "metadata": {},
     "output_type": "execute_result"
    }
   ],
   "source": [
    "a[1][1] # Можно индексировать объекты внутри других списков"
   ]
  },
  {
   "cell_type": "markdown",
   "metadata": {
    "id": "2XtGin2pHYM_"
   },
   "source": [
    "#### Еще немного про строки (`str`)"
   ]
  },
  {
   "cell_type": "code",
   "execution_count": 228,
   "metadata": {
    "id": "2YYUFgkBHYM_"
   },
   "outputs": [],
   "source": [
    "text_oneline = 'Это текст на одну строку!'\n",
    "text_multiline = '''А это текст\n",
    "на несколько строк!\n",
    "'''"
   ]
  },
  {
   "cell_type": "code",
   "execution_count": 229,
   "metadata": {
    "colab": {
     "base_uri": "https://localhost:8080/",
     "height": 37
    },
    "executionInfo": {
     "elapsed": 592,
     "status": "ok",
     "timestamp": 1621532222976,
     "user": {
      "displayName": "Марк Станиславович Потанин",
      "photoUrl": "https://lh3.googleusercontent.com/a-/AOh14GiGIbSWvn36SnuS11JITt7whCW2414zYLPAFnl9=s64",
      "userId": "12338896257196299013"
     },
     "user_tz": -180
    },
    "id": "DvWPze1_2NRw",
    "outputId": "4254acab-a1ac-415d-e12d-557c4845303a"
   },
   "outputs": [
    {
     "data": {
      "text/plain": [
       "'Привет \\nколлега '"
      ]
     },
     "execution_count": 229,
     "metadata": {},
     "output_type": "execute_result"
    }
   ],
   "source": [
    "'''Привет \n",
    "коллега '''"
   ]
  },
  {
   "cell_type": "code",
   "execution_count": 230,
   "metadata": {
    "colab": {
     "base_uri": "https://localhost:8080/",
     "height": 37
    },
    "executionInfo": {
     "elapsed": 694,
     "status": "ok",
     "timestamp": 1621532243070,
     "user": {
      "displayName": "Марк Станиславович Потанин",
      "photoUrl": "https://lh3.googleusercontent.com/a-/AOh14GiGIbSWvn36SnuS11JITt7whCW2414zYLPAFnl9=s64",
      "userId": "12338896257196299013"
     },
     "user_tz": -180
    },
    "id": "HBrbZEt_HYM_",
    "outputId": "aa5c6da7-389f-4b35-864e-a299c8e68128",
    "scrolled": true
   },
   "outputs": [
    {
     "data": {
      "text/plain": [
       "'А это текст\\nна несколько строк!\\n'"
      ]
     },
     "execution_count": 230,
     "metadata": {},
     "output_type": "execute_result"
    }
   ],
   "source": [
    "text_multiline # \\n – переход на новую строку"
   ]
  },
  {
   "cell_type": "code",
   "execution_count": 231,
   "metadata": {
    "colab": {
     "base_uri": "https://localhost:8080/",
     "height": 37
    },
    "executionInfo": {
     "elapsed": 570,
     "status": "ok",
     "timestamp": 1621532244205,
     "user": {
      "displayName": "Марк Станиславович Потанин",
      "photoUrl": "https://lh3.googleusercontent.com/a-/AOh14GiGIbSWvn36SnuS11JITt7whCW2414zYLPAFnl9=s64",
      "userId": "12338896257196299013"
     },
     "user_tz": -180
    },
    "id": "0ro_OmkcHYM_",
    "outputId": "fd1a6c93-a42c-4633-c450-3fef8fc56327"
   },
   "outputs": [
    {
     "data": {
      "text/plain": [
       "'Это текст на одну строку!'"
      ]
     },
     "execution_count": 231,
     "metadata": {},
     "output_type": "execute_result"
    }
   ],
   "source": [
    "text_oneline"
   ]
  },
  {
   "cell_type": "markdown",
   "metadata": {
    "id": "kzKk367tHYM_"
   },
   "source": [
    "Сложение и умножение строк: "
   ]
  },
  {
   "cell_type": "code",
   "execution_count": 232,
   "metadata": {
    "colab": {
     "base_uri": "https://localhost:8080/",
     "height": 37
    },
    "executionInfo": {
     "elapsed": 481,
     "status": "ok",
     "timestamp": 1621532276643,
     "user": {
      "displayName": "Марк Станиславович Потанин",
      "photoUrl": "https://lh3.googleusercontent.com/a-/AOh14GiGIbSWvn36SnuS11JITt7whCW2414zYLPAFnl9=s64",
      "userId": "12338896257196299013"
     },
     "user_tz": -180
    },
    "id": "sjS4PkpyHYNA",
    "outputId": "b428f648-1c45-4a13-9383-a1a711db9960"
   },
   "outputs": [
    {
     "data": {
      "text/plain": [
       "'Это текст на одну строку!This is another string.'"
      ]
     },
     "execution_count": 232,
     "metadata": {},
     "output_type": "execute_result"
    }
   ],
   "source": [
    "another_string = \"This is another string.\"\n",
    "text_oneline + another_string"
   ]
  },
  {
   "cell_type": "code",
   "execution_count": 233,
   "metadata": {
    "colab": {
     "base_uri": "https://localhost:8080/",
     "height": 37
    },
    "executionInfo": {
     "elapsed": 397,
     "status": "ok",
     "timestamp": 1621532307626,
     "user": {
      "displayName": "Марк Станиславович Потанин",
      "photoUrl": "https://lh3.googleusercontent.com/a-/AOh14GiGIbSWvn36SnuS11JITt7whCW2414zYLPAFnl9=s64",
      "userId": "12338896257196299013"
     },
     "user_tz": -180
    },
    "id": "3mGAYB7FHYNA",
    "outputId": "4a1449df-075b-4e5e-91c1-bfb88a2e3c56"
   },
   "outputs": [
    {
     "data": {
      "text/plain": [
       "'Это текст на одну строку! This is another string.'"
      ]
     },
     "execution_count": 233,
     "metadata": {},
     "output_type": "execute_result"
    }
   ],
   "source": [
    "text_oneline + \" \" + another_string"
   ]
  },
  {
   "cell_type": "code",
   "execution_count": 234,
   "metadata": {
    "colab": {
     "base_uri": "https://localhost:8080/",
     "height": 37
    },
    "executionInfo": {
     "elapsed": 458,
     "status": "ok",
     "timestamp": 1621532316880,
     "user": {
      "displayName": "Марк Станиславович Потанин",
      "photoUrl": "https://lh3.googleusercontent.com/a-/AOh14GiGIbSWvn36SnuS11JITt7whCW2414zYLPAFnl9=s64",
      "userId": "12338896257196299013"
     },
     "user_tz": -180
    },
    "id": "1dKk8pZdHYNA",
    "outputId": "c7f7e3f3-15f2-4bc2-e142-7ea17ac60ac6"
   },
   "outputs": [
    {
     "data": {
      "text/plain": [
       "'Это текст на одну строку!А это текст\\nна несколько строк!\\n'"
      ]
     },
     "execution_count": 234,
     "metadata": {},
     "output_type": "execute_result"
    }
   ],
   "source": [
    "text_oneline + text_multiline"
   ]
  },
  {
   "cell_type": "code",
   "execution_count": 235,
   "metadata": {
    "colab": {
     "base_uri": "https://localhost:8080/",
     "height": 37
    },
    "executionInfo": {
     "elapsed": 465,
     "status": "ok",
     "timestamp": 1621532326465,
     "user": {
      "displayName": "Марк Станиславович Потанин",
      "photoUrl": "https://lh3.googleusercontent.com/a-/AOh14GiGIbSWvn36SnuS11JITt7whCW2414zYLPAFnl9=s64",
      "userId": "12338896257196299013"
     },
     "user_tz": -180
    },
    "id": "dDZHGZi3HYNA",
    "outputId": "8ddb9aa3-7436-47be-bd77-758ac4f48139"
   },
   "outputs": [
    {
     "data": {
      "text/plain": [
       "'Это текст на одну строку!Это текст на одну строку!Это текст на одну строку!Это текст на одну строку!Это текст на одну строку!Это текст на одну строку!Это текст на одну строку!Это текст на одну строку!Это текст на одну строку!Это текст на одну строку!Это текст на одну строку!Это текст на одну строку!Это текст на одну строку!Это текст на одну строку!Это текст на одну строку!Это текст на одну строку!Это текст на одну строку!Это текст на одну строку!Это текст на одну строку!Это текст на одну строку!Это текст на одну строку!Это текст на одну строку!Это текст на одну строку!Это текст на одну строку!Это текст на одну строку!Это текст на одну строку!Это текст на одну строку!Это текст на одну строку!Это текст на одну строку!Это текст на одну строку!Это текст на одну строку!Это текст на одну строку!Это текст на одну строку!Это текст на одну строку!Это текст на одну строку!Это текст на одну строку!Это текст на одну строку!Это текст на одну строку!Это текст на одну строку!Это текст на одну строку!Это текст на одну строку!Это текст на одну строку!Это текст на одну строку!Это текст на одну строку!Это текст на одну строку!Это текст на одну строку!Это текст на одну строку!Это текст на одну строку!Это текст на одну строку!Это текст на одну строку!Это текст на одну строку!Это текст на одну строку!Это текст на одну строку!Это текст на одну строку!Это текст на одну строку!Это текст на одну строку!Это текст на одну строку!Это текст на одну строку!Это текст на одну строку!Это текст на одну строку!Это текст на одну строку!Это текст на одну строку!Это текст на одну строку!Это текст на одну строку!Это текст на одну строку!Это текст на одну строку!Это текст на одну строку!Это текст на одну строку!Это текст на одну строку!Это текст на одну строку!Это текст на одну строку!Это текст на одну строку!Это текст на одну строку!Это текст на одну строку!Это текст на одну строку!Это текст на одну строку!Это текст на одну строку!Это текст на одну строку!Это текст на одну строку!Это текст на одну строку!Это текст на одну строку!Это текст на одну строку!Это текст на одну строку!Это текст на одну строку!Это текст на одну строку!Это текст на одну строку!Это текст на одну строку!Это текст на одну строку!Это текст на одну строку!Это текст на одну строку!Это текст на одну строку!Это текст на одну строку!Это текст на одну строку!Это текст на одну строку!Это текст на одну строку!Это текст на одну строку!Это текст на одну строку!Это текст на одну строку!Это текст на одну строку!Это текст на одну строку!'"
      ]
     },
     "execution_count": 235,
     "metadata": {},
     "output_type": "execute_result"
    }
   ],
   "source": [
    "text_oneline * 100"
   ]
  },
  {
   "cell_type": "code",
   "execution_count": 236,
   "metadata": {
    "colab": {
     "base_uri": "https://localhost:8080/",
     "height": 37
    },
    "executionInfo": {
     "elapsed": 492,
     "status": "ok",
     "timestamp": 1621532344988,
     "user": {
      "displayName": "Марк Станиславович Потанин",
      "photoUrl": "https://lh3.googleusercontent.com/a-/AOh14GiGIbSWvn36SnuS11JITt7whCW2414zYLPAFnl9=s64",
      "userId": "12338896257196299013"
     },
     "user_tz": -180
    },
    "id": "lqZ-lt7m28K1",
    "outputId": "58a8055f-5b00-4bbd-b470-529dd7e4b468"
   },
   "outputs": [
    {
     "data": {
      "text/plain": [
       "'IvanIvanIvanIvanIvanIvanIvanIvanIvanIvan'"
      ]
     },
     "execution_count": 236,
     "metadata": {},
     "output_type": "execute_result"
    }
   ],
   "source": [
    "'Ivan'*10"
   ]
  },
  {
   "cell_type": "markdown",
   "metadata": {
    "id": "m0TILNFCHYNB"
   },
   "source": [
    "Строки – неизменяемый тип данных. Для сравнения: у `list` (изменяемый тип данных) есть метод `.append()`, который позволяет добавлять в список новые элементы, изменяя исходный список. У строки такого метода нет, поэтому, например, если вы хотите добавить в строку дополнительный символ, вы должны создать новую строковую переменную:"
   ]
  },
  {
   "cell_type": "code",
   "execution_count": 237,
   "metadata": {
    "colab": {
     "base_uri": "https://localhost:8080/"
    },
    "executionInfo": {
     "elapsed": 385,
     "status": "ok",
     "timestamp": 1621532370951,
     "user": {
      "displayName": "Марк Станиславович Потанин",
      "photoUrl": "https://lh3.googleusercontent.com/a-/AOh14GiGIbSWvn36SnuS11JITt7whCW2414zYLPAFnl9=s64",
      "userId": "12338896257196299013"
     },
     "user_tz": -180
    },
    "id": "8SMB56P1HYNB",
    "outputId": "7ea3a7e6-f1fd-4fb5-e888-ca25977d1dfc"
   },
   "outputs": [
    {
     "name": "stdout",
     "output_type": "stream",
     "text": [
      "This is first sentence.\n",
      "This is first sentence. This is second sentence.\n"
     ]
    }
   ],
   "source": [
    "first_str = \"This is first sentence.\"\n",
    "first_str_changed = first_str + \" This is second sentence.\"\n",
    "print(first_str)\n",
    "print(first_str_changed)"
   ]
  },
  {
   "cell_type": "markdown",
   "metadata": {
    "id": "8JmxRIa3HYNB"
   },
   "source": [
    "Индексирование строк:"
   ]
  },
  {
   "cell_type": "code",
   "execution_count": 239,
   "metadata": {
    "colab": {
     "base_uri": "https://localhost:8080/",
     "height": 37
    },
    "executionInfo": {
     "elapsed": 465,
     "status": "ok",
     "timestamp": 1621532413124,
     "user": {
      "displayName": "Марк Станиславович Потанин",
      "photoUrl": "https://lh3.googleusercontent.com/a-/AOh14GiGIbSWvn36SnuS11JITt7whCW2414zYLPAFnl9=s64",
      "userId": "12338896257196299013"
     },
     "user_tz": -180
    },
    "id": "5njxAMnLHYNB",
    "outputId": "d323697e-c5c2-4a5b-9133-cd2c8e2135b9"
   },
   "outputs": [
    {
     "data": {
      "text/plain": [
       "'This is next string.'"
      ]
     },
     "execution_count": 239,
     "metadata": {},
     "output_type": "execute_result"
    }
   ],
   "source": [
    "next_string = \"This is next string.\"\n",
    "next_string"
   ]
  },
  {
   "cell_type": "code",
   "execution_count": 240,
   "metadata": {
    "colab": {
     "base_uri": "https://localhost:8080/",
     "height": 37
    },
    "executionInfo": {
     "elapsed": 398,
     "status": "ok",
     "timestamp": 1621532429721,
     "user": {
      "displayName": "Марк Станиславович Потанин",
      "photoUrl": "https://lh3.googleusercontent.com/a-/AOh14GiGIbSWvn36SnuS11JITt7whCW2414zYLPAFnl9=s64",
      "userId": "12338896257196299013"
     },
     "user_tz": -180
    },
    "id": "45PyS_1gHYNB",
    "outputId": "ec1db2a7-f056-4da8-da9d-c6c471384855"
   },
   "outputs": [
    {
     "data": {
      "text/plain": [
       "'T'"
      ]
     },
     "execution_count": 240,
     "metadata": {},
     "output_type": "execute_result"
    }
   ],
   "source": [
    "next_string[0]"
   ]
  },
  {
   "cell_type": "code",
   "execution_count": 241,
   "metadata": {
    "colab": {
     "base_uri": "https://localhost:8080/",
     "height": 37
    },
    "executionInfo": {
     "elapsed": 558,
     "status": "ok",
     "timestamp": 1621532432204,
     "user": {
      "displayName": "Марк Станиславович Потанин",
      "photoUrl": "https://lh3.googleusercontent.com/a-/AOh14GiGIbSWvn36SnuS11JITt7whCW2414zYLPAFnl9=s64",
      "userId": "12338896257196299013"
     },
     "user_tz": -180
    },
    "id": "tQWSWcNSHYNB",
    "outputId": "2c54bd33-fb23-4a82-bf7d-3a0251a296fa"
   },
   "outputs": [
    {
     "data": {
      "text/plain": [
       "'.'"
      ]
     },
     "execution_count": 241,
     "metadata": {},
     "output_type": "execute_result"
    }
   ],
   "source": [
    "next_string[-1]"
   ]
  },
  {
   "cell_type": "code",
   "execution_count": 242,
   "metadata": {
    "colab": {
     "base_uri": "https://localhost:8080/",
     "height": 37
    },
    "executionInfo": {
     "elapsed": 426,
     "status": "ok",
     "timestamp": 1621532435222,
     "user": {
      "displayName": "Марк Станиславович Потанин",
      "photoUrl": "https://lh3.googleusercontent.com/a-/AOh14GiGIbSWvn36SnuS11JITt7whCW2414zYLPAFnl9=s64",
      "userId": "12338896257196299013"
     },
     "user_tz": -180
    },
    "id": "VXjgwCrGHYNC",
    "outputId": "b72bf37d-27bf-4083-ef94-c3b9654ed24f"
   },
   "outputs": [
    {
     "data": {
      "text/plain": [
       "'s'"
      ]
     },
     "execution_count": 242,
     "metadata": {},
     "output_type": "execute_result"
    }
   ],
   "source": [
    "next_string[13]"
   ]
  },
  {
   "cell_type": "code",
   "execution_count": 243,
   "metadata": {
    "colab": {
     "base_uri": "https://localhost:8080/",
     "height": 37
    },
    "executionInfo": {
     "elapsed": 551,
     "status": "ok",
     "timestamp": 1621532437013,
     "user": {
      "displayName": "Марк Станиславович Потанин",
      "photoUrl": "https://lh3.googleusercontent.com/a-/AOh14GiGIbSWvn36SnuS11JITt7whCW2414zYLPAFnl9=s64",
      "userId": "12338896257196299013"
     },
     "user_tz": -180
    },
    "id": "QrdRgi4SHYNC",
    "outputId": "070eefe2-e08f-4c0a-8db0-4a029cb6dd18"
   },
   "outputs": [
    {
     "data": {
      "text/plain": [
       "'This is next'"
      ]
     },
     "execution_count": 243,
     "metadata": {},
     "output_type": "execute_result"
    }
   ],
   "source": [
    "next_string[:12]"
   ]
  },
  {
   "cell_type": "code",
   "execution_count": 244,
   "metadata": {
    "colab": {
     "base_uri": "https://localhost:8080/",
     "height": 37
    },
    "executionInfo": {
     "elapsed": 637,
     "status": "ok",
     "timestamp": 1621532441347,
     "user": {
      "displayName": "Марк Станиславович Потанин",
      "photoUrl": "https://lh3.googleusercontent.com/a-/AOh14GiGIbSWvn36SnuS11JITt7whCW2414zYLPAFnl9=s64",
      "userId": "12338896257196299013"
     },
     "user_tz": -180
    },
    "id": "UrUfk_KtHYNC",
    "outputId": "2e564a46-5679-4def-e9c5-d52ec5a1b2ed"
   },
   "outputs": [
    {
     "data": {
      "text/plain": [
       "'is next string.'"
      ]
     },
     "execution_count": 244,
     "metadata": {},
     "output_type": "execute_result"
    }
   ],
   "source": [
    "next_string[5:]"
   ]
  },
  {
   "cell_type": "markdown",
   "metadata": {
    "id": "Y5ljvEiAHYNC"
   },
   "source": [
    "Длина строки:"
   ]
  },
  {
   "cell_type": "code",
   "execution_count": 245,
   "metadata": {
    "colab": {
     "base_uri": "https://localhost:8080/"
    },
    "executionInfo": {
     "elapsed": 400,
     "status": "ok",
     "timestamp": 1621532475837,
     "user": {
      "displayName": "Марк Станиславович Потанин",
      "photoUrl": "https://lh3.googleusercontent.com/a-/AOh14GiGIbSWvn36SnuS11JITt7whCW2414zYLPAFnl9=s64",
      "userId": "12338896257196299013"
     },
     "user_tz": -180
    },
    "id": "pIO6jSLUHYNC",
    "outputId": "19e2a4e3-741a-4047-9add-0891f243d51f"
   },
   "outputs": [
    {
     "data": {
      "text/plain": [
       "20"
      ]
     },
     "execution_count": 245,
     "metadata": {},
     "output_type": "execute_result"
    }
   ],
   "source": [
    "len(next_string)"
   ]
  },
  {
   "cell_type": "markdown",
   "metadata": {
    "id": "HmgopI8VHYND"
   },
   "source": [
    "Некоторые полезные методы строк:\n",
    "- `.find(element)` – возвращает индекс первого вхождения `element` (или -1).\n",
    "- `.rfind(element)` – возвращает индекс последнего вхождения `element` (или -1).\n",
    "- `.split(element)` – разделение строки по `element`.\n",
    "- `.lower(element)` – переводит всю строку в нижний регистр.\n",
    "- `.upper(element)` – переводит всю строку в верхний регистр."
   ]
  },
  {
   "cell_type": "code",
   "execution_count": 246,
   "metadata": {
    "id": "sXACUUHpHYND"
   },
   "outputs": [],
   "source": [
    "my_string = 'Язык программирования Python 3 - это мощный инструмент для создания программ самого разнообразного назначения'"
   ]
  },
  {
   "cell_type": "code",
   "execution_count": 247,
   "metadata": {
    "colab": {
     "base_uri": "https://localhost:8080/"
    },
    "executionInfo": {
     "elapsed": 456,
     "status": "ok",
     "timestamp": 1621532503702,
     "user": {
      "displayName": "Марк Станиславович Потанин",
      "photoUrl": "https://lh3.googleusercontent.com/a-/AOh14GiGIbSWvn36SnuS11JITt7whCW2414zYLPAFnl9=s64",
      "userId": "12338896257196299013"
     },
     "user_tz": -180
    },
    "id": "XRc1WR2HHYND",
    "outputId": "a4d46821-f553-45de-dd6f-34b245334519"
   },
   "outputs": [
    {
     "data": {
      "text/plain": [
       "3"
      ]
     },
     "execution_count": 247,
     "metadata": {},
     "output_type": "execute_result"
    }
   ],
   "source": [
    "my_string.find(\"к\")"
   ]
  },
  {
   "cell_type": "code",
   "execution_count": 248,
   "metadata": {
    "colab": {
     "base_uri": "https://localhost:8080/"
    },
    "executionInfo": {
     "elapsed": 758,
     "status": "ok",
     "timestamp": 1621532532829,
     "user": {
      "displayName": "Марк Станиславович Потанин",
      "photoUrl": "https://lh3.googleusercontent.com/a-/AOh14GiGIbSWvn36SnuS11JITt7whCW2414zYLPAFnl9=s64",
      "userId": "12338896257196299013"
     },
     "user_tz": -180
    },
    "id": "4bnlKYDVHYND",
    "outputId": "993ce9fe-2d0f-4843-eac8-e013141b98c8"
   },
   "outputs": [
    {
     "data": {
      "text/plain": [
       "106"
      ]
     },
     "execution_count": 248,
     "metadata": {},
     "output_type": "execute_result"
    }
   ],
   "source": [
    "my_string.rfind(\"н\")"
   ]
  },
  {
   "cell_type": "code",
   "execution_count": 249,
   "metadata": {
    "colab": {
     "base_uri": "https://localhost:8080/"
    },
    "executionInfo": {
     "elapsed": 408,
     "status": "ok",
     "timestamp": 1621532537114,
     "user": {
      "displayName": "Марк Станиславович Потанин",
      "photoUrl": "https://lh3.googleusercontent.com/a-/AOh14GiGIbSWvn36SnuS11JITt7whCW2414zYLPAFnl9=s64",
      "userId": "12338896257196299013"
     },
     "user_tz": -180
    },
    "id": "mxcrEBJJHYND",
    "outputId": "20c28a75-647d-46e1-fad3-13ce9b27e8f1"
   },
   "outputs": [
    {
     "data": {
      "text/plain": [
       "0"
      ]
     },
     "execution_count": 249,
     "metadata": {},
     "output_type": "execute_result"
    }
   ],
   "source": [
    "my_string.find(\"Я\")"
   ]
  },
  {
   "cell_type": "markdown",
   "metadata": {
    "id": "zuu0nNygHYND"
   },
   "source": [
    "Метод `.split()` выдаёт список, элементами которого являются части строки, стоящие между разделителями (не включая сами разделители)."
   ]
  },
  {
   "cell_type": "code",
   "execution_count": 250,
   "metadata": {
    "colab": {
     "base_uri": "https://localhost:8080/",
     "height": 37
    },
    "executionInfo": {
     "elapsed": 494,
     "status": "ok",
     "timestamp": 1621532570031,
     "user": {
      "displayName": "Марк Станиславович Потанин",
      "photoUrl": "https://lh3.googleusercontent.com/a-/AOh14GiGIbSWvn36SnuS11JITt7whCW2414zYLPAFnl9=s64",
      "userId": "12338896257196299013"
     },
     "user_tz": -180
    },
    "id": "V2frfINu31fF",
    "outputId": "9207e7b8-59b5-448d-a1c0-27c503b9042c"
   },
   "outputs": [
    {
     "data": {
      "text/plain": [
       "'Язык программирования Python 3 - это мощный инструмент для создания программ самого разнообразного назначения'"
      ]
     },
     "execution_count": 250,
     "metadata": {},
     "output_type": "execute_result"
    }
   ],
   "source": [
    "my_string"
   ]
  },
  {
   "cell_type": "code",
   "execution_count": 251,
   "metadata": {
    "colab": {
     "base_uri": "https://localhost:8080/"
    },
    "executionInfo": {
     "elapsed": 424,
     "status": "ok",
     "timestamp": 1621532659000,
     "user": {
      "displayName": "Марк Станиславович Потанин",
      "photoUrl": "https://lh3.googleusercontent.com/a-/AOh14GiGIbSWvn36SnuS11JITt7whCW2414zYLPAFnl9=s64",
      "userId": "12338896257196299013"
     },
     "user_tz": -180
    },
    "id": "xj0dnZjlHYNE",
    "outputId": "ce3a4e81-21aa-4b7c-f477-ce92532400b1"
   },
   "outputs": [
    {
     "data": {
      "text/plain": [
       "['Язык',\n",
       " 'программирования',\n",
       " 'Python',\n",
       " '3',\n",
       " '-',\n",
       " 'это',\n",
       " 'мощный',\n",
       " 'инструмент',\n",
       " 'для',\n",
       " 'создания',\n",
       " 'программ',\n",
       " 'самого',\n",
       " 'разнообразного',\n",
       " 'назначения']"
      ]
     },
     "execution_count": 251,
     "metadata": {},
     "output_type": "execute_result"
    }
   ],
   "source": [
    "my_string.split(\" \") # По пробелу"
   ]
  },
  {
   "cell_type": "code",
   "execution_count": 253,
   "metadata": {
    "colab": {
     "base_uri": "https://localhost:8080/"
    },
    "executionInfo": {
     "elapsed": 677,
     "status": "ok",
     "timestamp": 1621532719315,
     "user": {
      "displayName": "Марк Станиславович Потанин",
      "photoUrl": "https://lh3.googleusercontent.com/a-/AOh14GiGIbSWvn36SnuS11JITt7whCW2414zYLPAFnl9=s64",
      "userId": "12338896257196299013"
     },
     "user_tz": -180
    },
    "id": "fzgygBcfHYNE",
    "outputId": "66afc85f-f61b-40e4-b252-33fb2c035691"
   },
   "outputs": [
    {
     "data": {
      "text/plain": [
       "['Язык программирования Python 3 ',\n",
       " ' это мощный инструмент для создания программ самого разнообразного назначения']"
      ]
     },
     "execution_count": 253,
     "metadata": {},
     "output_type": "execute_result"
    }
   ],
   "source": [
    "my_string.split(\"-\") # По знаку \"-\""
   ]
  },
  {
   "cell_type": "code",
   "execution_count": 254,
   "metadata": {
    "colab": {
     "base_uri": "https://localhost:8080/"
    },
    "executionInfo": {
     "elapsed": 496,
     "status": "ok",
     "timestamp": 1621532732104,
     "user": {
      "displayName": "Марк Станиславович Потанин",
      "photoUrl": "https://lh3.googleusercontent.com/a-/AOh14GiGIbSWvn36SnuS11JITt7whCW2414zYLPAFnl9=s64",
      "userId": "12338896257196299013"
     },
     "user_tz": -180
    },
    "id": "2VUSoVlW4ceA",
    "outputId": "939dbef5-904b-43fa-865c-a93140b4a226"
   },
   "outputs": [
    {
     "data": {
      "text/plain": [
       "['Язык программирования Python ',\n",
       " ' - это мощный инструмент для создания программ самого разнообразного назначения']"
      ]
     },
     "execution_count": 254,
     "metadata": {},
     "output_type": "execute_result"
    }
   ],
   "source": [
    "my_string.split(\"3\")"
   ]
  },
  {
   "cell_type": "code",
   "execution_count": 255,
   "metadata": {
    "id": "I0mNroRtHYNE"
   },
   "outputs": [],
   "source": [
    "a = '192.168.0.1'.split('.')"
   ]
  },
  {
   "cell_type": "code",
   "execution_count": 256,
   "metadata": {
    "colab": {
     "base_uri": "https://localhost:8080/"
    },
    "executionInfo": {
     "elapsed": 496,
     "status": "ok",
     "timestamp": 1621532782793,
     "user": {
      "displayName": "Марк Станиславович Потанин",
      "photoUrl": "https://lh3.googleusercontent.com/a-/AOh14GiGIbSWvn36SnuS11JITt7whCW2414zYLPAFnl9=s64",
      "userId": "12338896257196299013"
     },
     "user_tz": -180
    },
    "id": "r7xPu6C_4p4c",
    "outputId": "87b9436c-4a01-4ae7-e448-11b1b73e223e"
   },
   "outputs": [
    {
     "data": {
      "text/plain": [
       "['192', '168', '0', '1']"
      ]
     },
     "execution_count": 256,
     "metadata": {},
     "output_type": "execute_result"
    }
   ],
   "source": [
    "a"
   ]
  },
  {
   "cell_type": "markdown",
   "metadata": {
    "id": "6PkMFRgkHYNE"
   },
   "source": [
    "И наоборот, список, состоящий из строк, можно склеить в одну строку. Для этого используется метод строки join. У этого метода один параметр: список строк. В результате возвращается строка, полученная соединением элементов переданного списка в одну строку, при этом между элементами списка вставляется разделитель, равный той строке, к которой применяется метод. Легче увидеть на примере."
   ]
  },
  {
   "cell_type": "code",
   "execution_count": 258,
   "metadata": {
    "colab": {
     "base_uri": "https://localhost:8080/"
    },
    "executionInfo": {
     "elapsed": 390,
     "status": "ok",
     "timestamp": 1621532876140,
     "user": {
      "displayName": "Марк Станиславович Потанин",
      "photoUrl": "https://lh3.googleusercontent.com/a-/AOh14GiGIbSWvn36SnuS11JITt7whCW2414zYLPAFnl9=s64",
      "userId": "12338896257196299013"
     },
     "user_tz": -180
    },
    "id": "AukDwrCAHYNE",
    "outputId": "c1196f52-37e9-4920-c114-4ac041d0693c"
   },
   "outputs": [
    {
     "name": "stdout",
     "output_type": "stream",
     "text": [
      "red green blue\n",
      "redgreenblue\n",
      "red***green***blue\n"
     ]
    }
   ],
   "source": [
    "a = ['red', 'green', 'blue']\n",
    "print(' '.join(a))\n",
    "print(''.join(a))#соединение с помощью пустой строки\n",
    "print('***'.join(a))"
   ]
  },
  {
   "cell_type": "markdown",
   "metadata": {
    "id": "0IojZEXPHYNE"
   },
   "source": [
    "Строки можно сравнивать между собой."
   ]
  },
  {
   "cell_type": "code",
   "execution_count": 259,
   "metadata": {
    "colab": {
     "base_uri": "https://localhost:8080/"
    },
    "executionInfo": {
     "elapsed": 527,
     "status": "ok",
     "timestamp": 1621532989157,
     "user": {
      "displayName": "Марк Станиславович Потанин",
      "photoUrl": "https://lh3.googleusercontent.com/a-/AOh14GiGIbSWvn36SnuS11JITt7whCW2414zYLPAFnl9=s64",
      "userId": "12338896257196299013"
     },
     "user_tz": -180
    },
    "id": "5q6gBhf6HYNF",
    "outputId": "6da2a233-bd39-46b2-b2e3-92bab21f548d"
   },
   "outputs": [
    {
     "name": "stdout",
     "output_type": "stream",
     "text": [
      "True\n",
      "False\n"
     ]
    }
   ],
   "source": [
    "one_str = \"привет\"\n",
    "second_str = \"привет\"\n",
    "third_str = \"привет!!!\"\n",
    "\n",
    "print(one_str == second_str)\n",
    "print(one_str == third_str)"
   ]
  },
  {
   "cell_type": "markdown",
   "metadata": {
    "id": "47e_xpXEHYNF"
   },
   "source": [
    "Изменение регистра строк."
   ]
  },
  {
   "cell_type": "code",
   "execution_count": 260,
   "metadata": {
    "id": "t3VFlzU2HYNF"
   },
   "outputs": [],
   "source": [
    "my_str = 'ПрИвЕт'"
   ]
  },
  {
   "cell_type": "code",
   "execution_count": 261,
   "metadata": {
    "colab": {
     "base_uri": "https://localhost:8080/",
     "height": 37
    },
    "executionInfo": {
     "elapsed": 789,
     "status": "ok",
     "timestamp": 1621533010856,
     "user": {
      "displayName": "Марк Станиславович Потанин",
      "photoUrl": "https://lh3.googleusercontent.com/a-/AOh14GiGIbSWvn36SnuS11JITt7whCW2414zYLPAFnl9=s64",
      "userId": "12338896257196299013"
     },
     "user_tz": -180
    },
    "id": "6TUTOaM-HYNF",
    "outputId": "bfe00516-523a-4c12-9057-a2233908c902"
   },
   "outputs": [
    {
     "data": {
      "text/plain": [
       "'ПрИвЕт'"
      ]
     },
     "execution_count": 261,
     "metadata": {},
     "output_type": "execute_result"
    }
   ],
   "source": [
    "my_str"
   ]
  },
  {
   "cell_type": "code",
   "execution_count": 262,
   "metadata": {
    "colab": {
     "base_uri": "https://localhost:8080/",
     "height": 37
    },
    "executionInfo": {
     "elapsed": 439,
     "status": "ok",
     "timestamp": 1621533023588,
     "user": {
      "displayName": "Марк Станиславович Потанин",
      "photoUrl": "https://lh3.googleusercontent.com/a-/AOh14GiGIbSWvn36SnuS11JITt7whCW2414zYLPAFnl9=s64",
      "userId": "12338896257196299013"
     },
     "user_tz": -180
    },
    "id": "pEcykFQhHYNF",
    "outputId": "4f6dd0d4-8063-4fc1-99ea-f0aad6f8174d"
   },
   "outputs": [
    {
     "data": {
      "text/plain": [
       "'привет'"
      ]
     },
     "execution_count": 262,
     "metadata": {},
     "output_type": "execute_result"
    }
   ],
   "source": [
    "my_str.lower()"
   ]
  },
  {
   "cell_type": "code",
   "execution_count": 263,
   "metadata": {
    "colab": {
     "base_uri": "https://localhost:8080/",
     "height": 37
    },
    "executionInfo": {
     "elapsed": 546,
     "status": "ok",
     "timestamp": 1621533031046,
     "user": {
      "displayName": "Марк Станиславович Потанин",
      "photoUrl": "https://lh3.googleusercontent.com/a-/AOh14GiGIbSWvn36SnuS11JITt7whCW2414zYLPAFnl9=s64",
      "userId": "12338896257196299013"
     },
     "user_tz": -180
    },
    "id": "5wQS4U4WHYNG",
    "outputId": "8bd0a2f4-0f2c-4894-f36f-397b21b2d2eb"
   },
   "outputs": [
    {
     "data": {
      "text/plain": [
       "'ПРИВЕТ'"
      ]
     },
     "execution_count": 263,
     "metadata": {},
     "output_type": "execute_result"
    }
   ],
   "source": [
    "my_str.upper()"
   ]
  },
  {
   "cell_type": "markdown",
   "metadata": {
    "id": "rh8YVfgrHYNG"
   },
   "source": [
    "#### Кортежи (`tuples`) "
   ]
  },
  {
   "cell_type": "markdown",
   "metadata": {
    "id": "l-t18NcFHYNG"
   },
   "source": [
    "Списки – очень гибкий тип данных, который позволяет быстро добавить, удалить или изменить данные. В Python существует тип данных, очень похожий на списки, но который нельзя изменять. Такой тип называется кортежем.\n",
    "\n",
    "Кортеж (tuple) позволяет группировать данные. Кортеж – это неизменяемая упорядоченная последовательность элементов. Кортежи очень похожи на списки, но вместо квадратных скобок они используют круглые скобки. Кроме того, как уже говорилось, данные этого типа нельзя изменять. То есть не работают методы `append`, `remove` и `pop`."
   ]
  },
  {
   "cell_type": "code",
   "execution_count": 264,
   "metadata": {
    "id": "VGBu3MfpHYNG"
   },
   "outputs": [],
   "source": [
    "empty_tuple = () # Пустой tuple\n",
    "simple_tuple = (3, 2, 34)"
   ]
  },
  {
   "cell_type": "markdown",
   "metadata": {
    "id": "nRL_AWbjHYNH"
   },
   "source": [
    "Индексирование:"
   ]
  },
  {
   "cell_type": "code",
   "execution_count": 267,
   "metadata": {
    "colab": {
     "base_uri": "https://localhost:8080/"
    },
    "executionInfo": {
     "elapsed": 1669,
     "status": "ok",
     "timestamp": 1621533170310,
     "user": {
      "displayName": "Марк Станиславович Потанин",
      "photoUrl": "https://lh3.googleusercontent.com/a-/AOh14GiGIbSWvn36SnuS11JITt7whCW2414zYLPAFnl9=s64",
      "userId": "12338896257196299013"
     },
     "user_tz": -180
    },
    "id": "srZS2fdQHYNH",
    "outputId": "69c50e8d-e0f5-4a96-d63f-60a6da7ad054"
   },
   "outputs": [
    {
     "data": {
      "text/plain": [
       "3"
      ]
     },
     "execution_count": 267,
     "metadata": {},
     "output_type": "execute_result"
    }
   ],
   "source": [
    "simple_tuple[0]"
   ]
  },
  {
   "cell_type": "code",
   "execution_count": 268,
   "metadata": {
    "colab": {
     "base_uri": "https://localhost:8080/"
    },
    "executionInfo": {
     "elapsed": 1003,
     "status": "ok",
     "timestamp": 1621533170311,
     "user": {
      "displayName": "Марк Станиславович Потанин",
      "photoUrl": "https://lh3.googleusercontent.com/a-/AOh14GiGIbSWvn36SnuS11JITt7whCW2414zYLPAFnl9=s64",
      "userId": "12338896257196299013"
     },
     "user_tz": -180
    },
    "id": "QHL1XaOHHYNH",
    "outputId": "61c33eb3-faf6-431c-c048-daf68e80af94"
   },
   "outputs": [
    {
     "data": {
      "text/plain": [
       "34"
      ]
     },
     "execution_count": 268,
     "metadata": {},
     "output_type": "execute_result"
    }
   ],
   "source": [
    "simple_tuple[-1]"
   ]
  },
  {
   "cell_type": "markdown",
   "metadata": {
    "id": "6BVWqx2KHYNH"
   },
   "source": [
    "Нет метода `append`, поэтому выдаст ошибку."
   ]
  },
  {
   "cell_type": "code",
   "execution_count": 269,
   "metadata": {
    "colab": {
     "base_uri": "https://localhost:8080/",
     "height": 164
    },
    "executionInfo": {
     "elapsed": 482,
     "status": "error",
     "timestamp": 1621533196950,
     "user": {
      "displayName": "Марк Станиславович Потанин",
      "photoUrl": "https://lh3.googleusercontent.com/a-/AOh14GiGIbSWvn36SnuS11JITt7whCW2414zYLPAFnl9=s64",
      "userId": "12338896257196299013"
     },
     "user_tz": -180
    },
    "id": "Y7ahwmZAHYNH",
    "outputId": "86711dfc-8da5-474e-a143-0dde4c51ab93"
   },
   "outputs": [
    {
     "ename": "AttributeError",
     "evalue": "'tuple' object has no attribute 'append'",
     "output_type": "error",
     "traceback": [
      "\u001b[0;31m---------------------------------------------------------------------------\u001b[0m",
      "\u001b[0;31mAttributeError\u001b[0m                            Traceback (most recent call last)",
      "Cell \u001b[0;32mIn[269], line 1\u001b[0m\n\u001b[0;32m----> 1\u001b[0m \u001b[43msimple_tuple\u001b[49m\u001b[38;5;241;43m.\u001b[39;49m\u001b[43mappend\u001b[49m(\u001b[38;5;241m0\u001b[39m)\n",
      "\u001b[0;31mAttributeError\u001b[0m: 'tuple' object has no attribute 'append'"
     ]
    }
   ],
   "source": [
    "simple_tuple.append(0)"
   ]
  },
  {
   "cell_type": "code",
   "execution_count": null,
   "metadata": {},
   "outputs": [],
   "source": []
  }
 ],
 "metadata": {
  "colab": {
   "name": "Intro_to_Python_part1.ipynb",
   "provenance": []
  },
  "kernelspec": {
   "display_name": "Python 3 (ipykernel)",
   "language": "python",
   "name": "python3"
  },
  "language_info": {
   "codemirror_mode": {
    "name": "ipython",
    "version": 3
   },
   "file_extension": ".py",
   "mimetype": "text/x-python",
   "name": "python",
   "nbconvert_exporter": "python",
   "pygments_lexer": "ipython3",
   "version": "3.11.6"
  }
 },
 "nbformat": 4,
 "nbformat_minor": 4
}
