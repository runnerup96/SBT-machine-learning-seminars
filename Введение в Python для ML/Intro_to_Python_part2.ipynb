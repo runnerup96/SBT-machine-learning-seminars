{
 "cells": [
  {
   "cell_type": "markdown",
   "metadata": {
    "id": "4wFtoPPXdc8i"
   },
   "source": [
    "## Часть 2: Введение в python - продолжение"
   ]
  },
  {
   "cell_type": "markdown",
   "metadata": {},
   "source": [
    "Автор: Потанин Марк, mark.potanin@phystech.edu"
   ]
  },
  {
   "cell_type": "markdown",
   "metadata": {
    "id": "cOpm2zGrdc8i"
   },
   "source": [
    "#### Множества (`set`)"
   ]
  },
  {
   "cell_type": "markdown",
   "metadata": {
    "id": "PPQFKjgKdc8j"
   },
   "source": [
    "Множество в языке Питон — это структура данных, эквивалентная множествам в математике. Множество может состоять из различных элементов, порядок элементов в множестве неопределен. Множества содержат не повторяющиеся элементы в случайном порядке. \n",
    "\n",
    "В множество можно добавлять и удалять элементы, можно перебирать элементы множества, можно выполнять операции над множествами (объединение, пересечение, разность). Можно проверять принадлежность элемента множеству."
   ]
  },
  {
   "cell_type": "markdown",
   "metadata": {
    "id": "t4radxYEdc8j"
   },
   "source": [
    "Элементами множества может быть любой неизменяемый тип данных: числа, строки, кортежи. Изменяемые типы данных не могут быть элементами множества, в частности, нельзя сделать элементом множества список (но можно сделать кортеж) или другое множество.\n",
    "\n"
   ]
  },
  {
   "cell_type": "markdown",
   "metadata": {
    "id": "UYDg0D1ydc8k"
   },
   "source": [
    "Множество задается перечислением всех его элементов в фигурных скобках `{}`. Исключением явлеется пустое множество, которое можно создать при помощи функции `set()`. Если функции `set` передать в качестве параметра список, строку или кортеж, то она вернёт множество, составленное из элементов списка, строки, кортежа. Например:"
   ]
  },
  {
   "cell_type": "code",
   "execution_count": 40,
   "metadata": {
    "colab": {
     "base_uri": "https://localhost:8080/"
    },
    "executionInfo": {
     "elapsed": 466,
     "status": "ok",
     "timestamp": 1621533397882,
     "user": {
      "displayName": "Марк Станиславович Потанин",
      "photoUrl": "https://lh3.googleusercontent.com/a-/AOh14GiGIbSWvn36SnuS11JITt7whCW2414zYLPAFnl9=s64",
      "userId": "12338896257196299013"
     },
     "user_tz": -180
    },
    "id": "U4xU1Zzr6pi3",
    "outputId": "335aac0c-186c-4bd4-a65f-4744082d8ce4"
   },
   "outputs": [
    {
     "data": {
      "text/plain": [
       "{20, 25, 29, 33, 49}"
      ]
     },
     "execution_count": 40,
     "metadata": {},
     "output_type": "execute_result"
    }
   ],
   "source": [
    "set([20,25,49,33,29,20,20])"
   ]
  },
  {
   "cell_type": "code",
   "execution_count": 41,
   "metadata": {
    "colab": {
     "base_uri": "https://localhost:8080/"
    },
    "executionInfo": {
     "elapsed": 872,
     "status": "ok",
     "timestamp": 1621533430254,
     "user": {
      "displayName": "Марк Станиславович Потанин",
      "photoUrl": "https://lh3.googleusercontent.com/a-/AOh14GiGIbSWvn36SnuS11JITt7whCW2414zYLPAFnl9=s64",
      "userId": "12338896257196299013"
     },
     "user_tz": -180
    },
    "id": "P3OfC5W1dc8k",
    "outputId": "377a4aea-1b8d-4d88-aac4-731b522db3ed"
   },
   "outputs": [
    {
     "name": "stdout",
     "output_type": "stream",
     "text": [
      "{1, 2, 3}\n",
      "{'hello', 'my'}\n"
     ]
    }
   ],
   "source": [
    "some_set = {1, 2, 3}\n",
    "string_set = {'hello','my'}\n",
    "print(some_set)\n",
    "print(string_set)\n"
   ]
  },
  {
   "cell_type": "code",
   "execution_count": 43,
   "metadata": {
    "executionInfo": {
     "elapsed": 466,
     "status": "ok",
     "timestamp": 1621533515221,
     "user": {
      "displayName": "Марк Станиславович Потанин",
      "photoUrl": "https://lh3.googleusercontent.com/a-/AOh14GiGIbSWvn36SnuS11JITt7whCW2414zYLPAFnl9=s64",
      "userId": "12338896257196299013"
     },
     "user_tz": -180
    },
    "id": "y0GiAnZwdc8l"
   },
   "outputs": [],
   "source": [
    "some_set = set('marrrk')\n",
    "empty_set = set()"
   ]
  },
  {
   "cell_type": "code",
   "execution_count": 44,
   "metadata": {
    "colab": {
     "base_uri": "https://localhost:8080/"
    },
    "executionInfo": {
     "elapsed": 448,
     "status": "ok",
     "timestamp": 1621533516065,
     "user": {
      "displayName": "Марк Станиславович Потанин",
      "photoUrl": "https://lh3.googleusercontent.com/a-/AOh14GiGIbSWvn36SnuS11JITt7whCW2414zYLPAFnl9=s64",
      "userId": "12338896257196299013"
     },
     "user_tz": -180
    },
    "id": "iOJv_I9Wdc8l",
    "outputId": "4c297a1c-3be2-4377-c47b-ec5e2e7833a9"
   },
   "outputs": [
    {
     "data": {
      "text/plain": [
       "{'a', 'k', 'm', 'r'}"
      ]
     },
     "execution_count": 44,
     "metadata": {},
     "output_type": "execute_result"
    }
   ],
   "source": [
    "some_set"
   ]
  },
  {
   "cell_type": "markdown",
   "metadata": {
    "id": "G4Xh7X1udc8m"
   },
   "source": [
    "Множество содержит **только уникальные** элементы. То есть если передать в множество набор случайных чисел с повторениями, оно выведет только уникальные элементы."
   ]
  },
  {
   "cell_type": "code",
   "execution_count": 45,
   "metadata": {
    "colab": {
     "base_uri": "https://localhost:8080/"
    },
    "executionInfo": {
     "elapsed": 439,
     "status": "ok",
     "timestamp": 1621533521509,
     "user": {
      "displayName": "Марк Станиславович Потанин",
      "photoUrl": "https://lh3.googleusercontent.com/a-/AOh14GiGIbSWvn36SnuS11JITt7whCW2414zYLPAFnl9=s64",
      "userId": "12338896257196299013"
     },
     "user_tz": -180
    },
    "id": "2ZhU4D2ldc8m",
    "outputId": "f0e9a835-b71b-495b-fb3a-bdc3c2774fcf"
   },
   "outputs": [
    {
     "data": {
      "text/plain": [
       "{1, 2, 3}"
      ]
     },
     "execution_count": 45,
     "metadata": {},
     "output_type": "execute_result"
    }
   ],
   "source": [
    "b = {3, 1, 2, 3, 3}\n",
    "b"
   ]
  },
  {
   "cell_type": "markdown",
   "metadata": {
    "id": "7kfiGi3Kdc8n"
   },
   "source": [
    "Один из способов применения множеств – получение уникальных объектов списка."
   ]
  },
  {
   "cell_type": "code",
   "execution_count": 46,
   "metadata": {
    "executionInfo": {
     "elapsed": 786,
     "status": "ok",
     "timestamp": 1621533525129,
     "user": {
      "displayName": "Марк Станиславович Потанин",
      "photoUrl": "https://lh3.googleusercontent.com/a-/AOh14GiGIbSWvn36SnuS11JITt7whCW2414zYLPAFnl9=s64",
      "userId": "12338896257196299013"
     },
     "user_tz": -180
    },
    "id": "u2B51j10dc8n"
   },
   "outputs": [],
   "source": [
    "example_list = [1, 2, 3, 4, 5, 5, 2, 1]"
   ]
  },
  {
   "cell_type": "code",
   "execution_count": 47,
   "metadata": {
    "colab": {
     "base_uri": "https://localhost:8080/"
    },
    "executionInfo": {
     "elapsed": 447,
     "status": "ok",
     "timestamp": 1621533529883,
     "user": {
      "displayName": "Марк Станиславович Потанин",
      "photoUrl": "https://lh3.googleusercontent.com/a-/AOh14GiGIbSWvn36SnuS11JITt7whCW2414zYLPAFnl9=s64",
      "userId": "12338896257196299013"
     },
     "user_tz": -180
    },
    "id": "mLI_l8-Zdc8n",
    "outputId": "af466923-a9d1-4ca1-b81e-ee50850b05b9"
   },
   "outputs": [
    {
     "data": {
      "text/plain": [
       "{1, 2, 3, 4, 5}"
      ]
     },
     "execution_count": 47,
     "metadata": {},
     "output_type": "execute_result"
    }
   ],
   "source": [
    "set(example_list)"
   ]
  },
  {
   "cell_type": "markdown",
   "metadata": {
    "id": "TrEjmr7Ldc8o"
   },
   "source": [
    "В множества могут входить только неизменяемые типы данных: `int`, `float`, `str`, `tuple`, `None`."
   ]
  },
  {
   "cell_type": "code",
   "execution_count": 48,
   "metadata": {
    "executionInfo": {
     "elapsed": 603,
     "status": "ok",
     "timestamp": 1621533537898,
     "user": {
      "displayName": "Марк Станиславович Потанин",
      "photoUrl": "https://lh3.googleusercontent.com/a-/AOh14GiGIbSWvn36SnuS11JITt7whCW2414zYLPAFnl9=s64",
      "userId": "12338896257196299013"
     },
     "user_tz": -180
    },
    "id": "482_Iyvwdc8o"
   },
   "outputs": [],
   "source": [
    "a_set = {1, 2, 3} # int"
   ]
  },
  {
   "cell_type": "code",
   "execution_count": 49,
   "metadata": {
    "executionInfo": {
     "elapsed": 495,
     "status": "ok",
     "timestamp": 1621533538315,
     "user": {
      "displayName": "Марк Станиславович Потанин",
      "photoUrl": "https://lh3.googleusercontent.com/a-/AOh14GiGIbSWvn36SnuS11JITt7whCW2414zYLPAFnl9=s64",
      "userId": "12338896257196299013"
     },
     "user_tz": -180
    },
    "id": "DOqtamWvdc8o"
   },
   "outputs": [],
   "source": [
    "ab_set = {1, 2, 2.5} # float"
   ]
  },
  {
   "cell_type": "code",
   "execution_count": 50,
   "metadata": {
    "executionInfo": {
     "elapsed": 557,
     "status": "ok",
     "timestamp": 1621533539463,
     "user": {
      "displayName": "Марк Станиславович Потанин",
      "photoUrl": "https://lh3.googleusercontent.com/a-/AOh14GiGIbSWvn36SnuS11JITt7whCW2414zYLPAFnl9=s64",
      "userId": "12338896257196299013"
     },
     "user_tz": -180
    },
    "id": "HVru58J1dc8p"
   },
   "outputs": [],
   "source": [
    "abc_set = {1, 2, 2.5, 'a'} # str"
   ]
  },
  {
   "cell_type": "code",
   "execution_count": 51,
   "metadata": {
    "executionInfo": {
     "elapsed": 477,
     "status": "ok",
     "timestamp": 1621533539827,
     "user": {
      "displayName": "Марк Станиславович Потанин",
      "photoUrl": "https://lh3.googleusercontent.com/a-/AOh14GiGIbSWvn36SnuS11JITt7whCW2414zYLPAFnl9=s64",
      "userId": "12338896257196299013"
     },
     "user_tz": -180
    },
    "id": "pEZIMXx_dc8q"
   },
   "outputs": [],
   "source": [
    "abcd_set = {1, 2, 2.5, (1, 2)} # tuple"
   ]
  },
  {
   "cell_type": "code",
   "execution_count": 54,
   "metadata": {
    "executionInfo": {
     "elapsed": 592,
     "status": "ok",
     "timestamp": 1621533540251,
     "user": {
      "displayName": "Марк Станиславович Потанин",
      "photoUrl": "https://lh3.googleusercontent.com/a-/AOh14GiGIbSWvn36SnuS11JITt7whCW2414zYLPAFnl9=s64",
      "userId": "12338896257196299013"
     },
     "user_tz": -180
    },
    "id": "AF-ue-zJdc8q"
   },
   "outputs": [],
   "source": [
    "abcde_set = {1, 2, 2.5, (1, 2), None} # tuple"
   ]
  },
  {
   "cell_type": "code",
   "execution_count": 55,
   "metadata": {
    "colab": {
     "base_uri": "https://localhost:8080/"
    },
    "executionInfo": {
     "elapsed": 510,
     "status": "ok",
     "timestamp": 1621533541609,
     "user": {
      "displayName": "Марк Станиславович Потанин",
      "photoUrl": "https://lh3.googleusercontent.com/a-/AOh14GiGIbSWvn36SnuS11JITt7whCW2414zYLPAFnl9=s64",
      "userId": "12338896257196299013"
     },
     "user_tz": -180
    },
    "id": "4v3mdjLJdc8q",
    "outputId": "f7f1e805-0d4e-4850-9caf-283e0dcc0b79"
   },
   "outputs": [
    {
     "data": {
      "text/plain": [
       "{(1, 2), 1, 2, 2.5, None}"
      ]
     },
     "execution_count": 55,
     "metadata": {},
     "output_type": "execute_result"
    }
   ],
   "source": [
    "abcde_set"
   ]
  },
  {
   "cell_type": "markdown",
   "metadata": {
    "id": "Nr4W6KlOdc8r"
   },
   "source": [
    "Если же попытаться добавить в множество изменяемый тип, возникнет ошибка. "
   ]
  },
  {
   "cell_type": "code",
   "execution_count": 56,
   "metadata": {
    "colab": {
     "base_uri": "https://localhost:8080/",
     "height": 164
    },
    "executionInfo": {
     "elapsed": 484,
     "status": "error",
     "timestamp": 1621533560469,
     "user": {
      "displayName": "Марк Станиславович Потанин",
      "photoUrl": "https://lh3.googleusercontent.com/a-/AOh14GiGIbSWvn36SnuS11JITt7whCW2414zYLPAFnl9=s64",
      "userId": "12338896257196299013"
     },
     "user_tz": -180
    },
    "id": "D42qrsCpdc8r",
    "outputId": "762be62a-6102-4fed-b0ec-3b567c5503d3"
   },
   "outputs": [
    {
     "ename": "TypeError",
     "evalue": "unhashable type: 'list'",
     "output_type": "error",
     "traceback": [
      "\u001b[0;31m---------------------------------------------------------------------------\u001b[0m",
      "\u001b[0;31mTypeError\u001b[0m                                 Traceback (most recent call last)",
      "Cell \u001b[0;32mIn[56], line 1\u001b[0m\n\u001b[0;32m----> 1\u001b[0m abcdef_set \u001b[38;5;241m=\u001b[39m {\u001b[38;5;241m1\u001b[39m, \u001b[38;5;241m2\u001b[39m, \u001b[38;5;241m2.5\u001b[39m, (\u001b[38;5;241m1\u001b[39m, \u001b[38;5;241m2\u001b[39m), \u001b[38;5;28;01mNone\u001b[39;00m, [\u001b[38;5;241m1\u001b[39m, \u001b[38;5;241m2\u001b[39m]} \u001b[38;5;66;03m# list добавить нельзя, так как он является изменяемым.\u001b[39;00m\n",
      "\u001b[0;31mTypeError\u001b[0m: unhashable type: 'list'"
     ]
    }
   ],
   "source": [
    "abcdef_set = {1, 2, 2.5, (1, 2), None, [1, 2]} # list добавить нельзя, так как он является изменяемым."
   ]
  },
  {
   "cell_type": "code",
   "execution_count": 57,
   "metadata": {
    "colab": {
     "base_uri": "https://localhost:8080/",
     "height": 164
    },
    "executionInfo": {
     "elapsed": 513,
     "status": "error",
     "timestamp": 1621533565277,
     "user": {
      "displayName": "Марк Станиславович Потанин",
      "photoUrl": "https://lh3.googleusercontent.com/a-/AOh14GiGIbSWvn36SnuS11JITt7whCW2414zYLPAFnl9=s64",
      "userId": "12338896257196299013"
     },
     "user_tz": -180
    },
    "id": "lQw_ufwCdc8s",
    "outputId": "d5d222da-191e-4780-e9bf-ac39db1ed60c"
   },
   "outputs": [
    {
     "ename": "TypeError",
     "evalue": "unhashable type: 'set'",
     "output_type": "error",
     "traceback": [
      "\u001b[0;31m---------------------------------------------------------------------------\u001b[0m",
      "\u001b[0;31mTypeError\u001b[0m                                 Traceback (most recent call last)",
      "Cell \u001b[0;32mIn[57], line 1\u001b[0m\n\u001b[0;32m----> 1\u001b[0m abcdef_set \u001b[38;5;241m=\u001b[39m {\u001b[38;5;241m1\u001b[39m, \u001b[38;5;241m2\u001b[39m, \u001b[38;5;241m2.5\u001b[39m, (\u001b[38;5;241m1\u001b[39m, \u001b[38;5;241m2\u001b[39m), \u001b[38;5;28;01mNone\u001b[39;00m, {\u001b[38;5;241m1\u001b[39m, \u001b[38;5;241m2\u001b[39m, \u001b[38;5;241m3\u001b[39m}} \u001b[38;5;66;03m# set добавить нельзя, так как измен.\u001b[39;00m\n",
      "\u001b[0;31mTypeError\u001b[0m: unhashable type: 'set'"
     ]
    }
   ],
   "source": [
    "abcdef_set = {1, 2, 2.5, (1, 2), None, {1, 2, 3}} # set добавить нельзя, так как измен."
   ]
  },
  {
   "cell_type": "markdown",
   "metadata": {
    "id": "gEMnOtbRdc8s"
   },
   "source": [
    "Методы множеств:\n",
    "- `.add(element)` – добавляет элемент в множество. \n",
    "- `.update([a, b, c])` – добавляет несколько элементов в множество.\n",
    "- `.remove(element)` и `.discard(element)`– удаляет элемент из множества (`.discard()` не выдаёт ошибку, если элемента нет в множестве).\n",
    "- `.union(set2)` – возвращает объединение с `set2`.\n",
    "- `intersection(set2)` – возвращает пересечение с `set2`.\n",
    "- `set1.issubset(set2)` - возвращает `True`, если set1 является подмножеством set2."
   ]
  },
  {
   "cell_type": "code",
   "execution_count": 58,
   "metadata": {
    "colab": {
     "base_uri": "https://localhost:8080/"
    },
    "executionInfo": {
     "elapsed": 540,
     "status": "ok",
     "timestamp": 1621533590608,
     "user": {
      "displayName": "Марк Станиславович Потанин",
      "photoUrl": "https://lh3.googleusercontent.com/a-/AOh14GiGIbSWvn36SnuS11JITt7whCW2414zYLPAFnl9=s64",
      "userId": "12338896257196299013"
     },
     "user_tz": -180
    },
    "id": "Q0jRGOrEdc8s",
    "outputId": "dbf00d29-d546-4981-9869-79d5d44ff0f6"
   },
   "outputs": [
    {
     "data": {
      "text/plain": [
       "{1, 2, 3}"
      ]
     },
     "execution_count": 58,
     "metadata": {},
     "output_type": "execute_result"
    }
   ],
   "source": [
    "a_set"
   ]
  },
  {
   "cell_type": "code",
   "execution_count": 60,
   "metadata": {
    "colab": {
     "base_uri": "https://localhost:8080/"
    },
    "executionInfo": {
     "elapsed": 576,
     "status": "ok",
     "timestamp": 1621533595705,
     "user": {
      "displayName": "Марк Станиславович Потанин",
      "photoUrl": "https://lh3.googleusercontent.com/a-/AOh14GiGIbSWvn36SnuS11JITt7whCW2414zYLPAFnl9=s64",
      "userId": "12338896257196299013"
     },
     "user_tz": -180
    },
    "id": "J-edyeMDdc8t",
    "outputId": "479a7644-4e10-47b7-bd76-760e37be4917"
   },
   "outputs": [
    {
     "data": {
      "text/plain": [
       "{1, 2, 3, 5}"
      ]
     },
     "execution_count": 60,
     "metadata": {},
     "output_type": "execute_result"
    }
   ],
   "source": [
    "a_set.add(5)\n",
    "a_set"
   ]
  },
  {
   "cell_type": "code",
   "execution_count": 62,
   "metadata": {
    "colab": {
     "base_uri": "https://localhost:8080/"
    },
    "executionInfo": {
     "elapsed": 588,
     "status": "ok",
     "timestamp": 1621533608479,
     "user": {
      "displayName": "Марк Станиславович Потанин",
      "photoUrl": "https://lh3.googleusercontent.com/a-/AOh14GiGIbSWvn36SnuS11JITt7whCW2414zYLPAFnl9=s64",
      "userId": "12338896257196299013"
     },
     "user_tz": -180
    },
    "id": "-Ssk82npdc8t",
    "outputId": "76b20978-18b7-4593-e41f-24761be0aa75"
   },
   "outputs": [
    {
     "data": {
      "text/plain": [
       "{1, 2, 3, 5, 6, 7, 8}"
      ]
     },
     "execution_count": 62,
     "metadata": {},
     "output_type": "execute_result"
    }
   ],
   "source": [
    "a_set.update([6, 7, 8])\n",
    "a_set"
   ]
  },
  {
   "cell_type": "markdown",
   "metadata": {
    "id": "TOoPvf0Kdc8t"
   },
   "source": [
    "Нельзя добавить список, а вот кортеж добавить можно."
   ]
  },
  {
   "cell_type": "code",
   "execution_count": 63,
   "metadata": {
    "colab": {
     "base_uri": "https://localhost:8080/",
     "height": 164
    },
    "executionInfo": {
     "elapsed": 503,
     "status": "error",
     "timestamp": 1621533611356,
     "user": {
      "displayName": "Марк Станиславович Потанин",
      "photoUrl": "https://lh3.googleusercontent.com/a-/AOh14GiGIbSWvn36SnuS11JITt7whCW2414zYLPAFnl9=s64",
      "userId": "12338896257196299013"
     },
     "user_tz": -180
    },
    "id": "yJgdXogodc8u",
    "outputId": "e3263bc3-ea74-4fa5-8db9-716ef991fcd9"
   },
   "outputs": [
    {
     "ename": "TypeError",
     "evalue": "unhashable type: 'list'",
     "output_type": "error",
     "traceback": [
      "\u001b[0;31m---------------------------------------------------------------------------\u001b[0m",
      "\u001b[0;31mTypeError\u001b[0m                                 Traceback (most recent call last)",
      "Cell \u001b[0;32mIn[63], line 1\u001b[0m\n\u001b[0;32m----> 1\u001b[0m \u001b[43ma_set\u001b[49m\u001b[38;5;241;43m.\u001b[39;49m\u001b[43mupdate\u001b[49m\u001b[43m(\u001b[49m\u001b[43m[\u001b[49m\u001b[38;5;241;43m9\u001b[39;49m\u001b[43m,\u001b[49m\u001b[43m \u001b[49m\u001b[43m[\u001b[49m\u001b[38;5;241;43m10\u001b[39;49m\u001b[43m,\u001b[49m\u001b[43m \u001b[49m\u001b[38;5;241;43m11\u001b[39;49m\u001b[43m]\u001b[49m\u001b[43m]\u001b[49m\u001b[43m)\u001b[49m\n",
      "\u001b[0;31mTypeError\u001b[0m: unhashable type: 'list'"
     ]
    }
   ],
   "source": [
    "a_set.update([9, [10, 11]])"
   ]
  },
  {
   "cell_type": "code",
   "execution_count": 64,
   "metadata": {
    "colab": {
     "base_uri": "https://localhost:8080/"
    },
    "executionInfo": {
     "elapsed": 638,
     "status": "ok",
     "timestamp": 1621533611717,
     "user": {
      "displayName": "Марк Станиславович Потанин",
      "photoUrl": "https://lh3.googleusercontent.com/a-/AOh14GiGIbSWvn36SnuS11JITt7whCW2414zYLPAFnl9=s64",
      "userId": "12338896257196299013"
     },
     "user_tz": -180
    },
    "id": "CJjKT50cdc8u",
    "outputId": "8526e25f-619e-4a34-c87c-6bacf94e92a1"
   },
   "outputs": [
    {
     "data": {
      "text/plain": [
       "{(10, 11), 1, 2, 3, 5, 6, 7, 8, 9}"
      ]
     },
     "execution_count": 64,
     "metadata": {},
     "output_type": "execute_result"
    }
   ],
   "source": [
    "a_set.update([9, (10, 11)])\n",
    "a_set"
   ]
  },
  {
   "cell_type": "markdown",
   "metadata": {
    "id": "ptj6e85fdc8u"
   },
   "source": [
    "При вызове метода `update` на другое множество, метод как бы \"распаковывает\" элементы нового множества, поэтому добавление возможно."
   ]
  },
  {
   "cell_type": "code",
   "execution_count": 65,
   "metadata": {
    "colab": {
     "base_uri": "https://localhost:8080/"
    },
    "executionInfo": {
     "elapsed": 506,
     "status": "ok",
     "timestamp": 1621533615174,
     "user": {
      "displayName": "Марк Станиславович Потанин",
      "photoUrl": "https://lh3.googleusercontent.com/a-/AOh14GiGIbSWvn36SnuS11JITt7whCW2414zYLPAFnl9=s64",
      "userId": "12338896257196299013"
     },
     "user_tz": -180
    },
    "id": "Zqh1KHugdc8v",
    "outputId": "b9498add-7dac-4366-81a0-aac72751fae4"
   },
   "outputs": [
    {
     "data": {
      "text/plain": [
       "{(10, 11), 1, 110, 120, 130, 2, 3, 5, 6, 7, 8, 9}"
      ]
     },
     "execution_count": 65,
     "metadata": {},
     "output_type": "execute_result"
    }
   ],
   "source": [
    "a_set.update({110, 120, 130})\n",
    "a_set"
   ]
  },
  {
   "cell_type": "code",
   "execution_count": 66,
   "metadata": {
    "colab": {
     "base_uri": "https://localhost:8080/"
    },
    "executionInfo": {
     "elapsed": 739,
     "status": "ok",
     "timestamp": 1621533622934,
     "user": {
      "displayName": "Марк Станиславович Потанин",
      "photoUrl": "https://lh3.googleusercontent.com/a-/AOh14GiGIbSWvn36SnuS11JITt7whCW2414zYLPAFnl9=s64",
      "userId": "12338896257196299013"
     },
     "user_tz": -180
    },
    "id": "11omis8Zdc8v",
    "outputId": "ebe9571c-3211-4596-d3e5-37d170a5e054"
   },
   "outputs": [
    {
     "data": {
      "text/plain": [
       "{(10, 11), 1, 110, 120, 2, 3, 5, 6, 7, 8, 9}"
      ]
     },
     "execution_count": 66,
     "metadata": {},
     "output_type": "execute_result"
    }
   ],
   "source": [
    "a_set.remove(130)\n",
    "a_set"
   ]
  },
  {
   "cell_type": "markdown",
   "metadata": {
    "id": "NazCJEFedc8w"
   },
   "source": [
    "Ошибка, так как элемента нет в множестве."
   ]
  },
  {
   "cell_type": "code",
   "execution_count": 67,
   "metadata": {
    "colab": {
     "base_uri": "https://localhost:8080/",
     "height": 164
    },
    "executionInfo": {
     "elapsed": 461,
     "status": "error",
     "timestamp": 1621533639397,
     "user": {
      "displayName": "Марк Станиславович Потанин",
      "photoUrl": "https://lh3.googleusercontent.com/a-/AOh14GiGIbSWvn36SnuS11JITt7whCW2414zYLPAFnl9=s64",
      "userId": "12338896257196299013"
     },
     "user_tz": -180
    },
    "id": "0wctgOXHdc8y",
    "outputId": "0abe3a86-7877-42e1-e1dc-34e6827e0b06"
   },
   "outputs": [
    {
     "ename": "KeyError",
     "evalue": "1000",
     "output_type": "error",
     "traceback": [
      "\u001b[0;31m---------------------------------------------------------------------------\u001b[0m",
      "\u001b[0;31mKeyError\u001b[0m                                  Traceback (most recent call last)",
      "Cell \u001b[0;32mIn[67], line 1\u001b[0m\n\u001b[0;32m----> 1\u001b[0m \u001b[43ma_set\u001b[49m\u001b[38;5;241;43m.\u001b[39;49m\u001b[43mremove\u001b[49m\u001b[43m(\u001b[49m\u001b[38;5;241;43m1000\u001b[39;49m\u001b[43m)\u001b[49m\n",
      "\u001b[0;31mKeyError\u001b[0m: 1000"
     ]
    }
   ],
   "source": [
    "a_set.remove(1000)"
   ]
  },
  {
   "cell_type": "markdown",
   "metadata": {
    "id": "CjlWsO5fdc8y"
   },
   "source": [
    "А вот метод `discard` отработает, просто ничего не сделав. Но и не выдаст ошибку."
   ]
  },
  {
   "cell_type": "code",
   "execution_count": 68,
   "metadata": {
    "colab": {
     "base_uri": "https://localhost:8080/"
    },
    "executionInfo": {
     "elapsed": 478,
     "status": "ok",
     "timestamp": 1621533671377,
     "user": {
      "displayName": "Марк Станиславович Потанин",
      "photoUrl": "https://lh3.googleusercontent.com/a-/AOh14GiGIbSWvn36SnuS11JITt7whCW2414zYLPAFnl9=s64",
      "userId": "12338896257196299013"
     },
     "user_tz": -180
    },
    "id": "ayWT0D6Ddc8z",
    "outputId": "3a639895-ec71-4e0e-9512-d273ccd2d7fe"
   },
   "outputs": [
    {
     "data": {
      "text/plain": [
       "{(10, 11), 1, 110, 120, 2, 3, 5, 6, 7, 8, 9}"
      ]
     },
     "execution_count": 68,
     "metadata": {},
     "output_type": "execute_result"
    }
   ],
   "source": [
    "a_set.discard(1000)\n",
    "a_set"
   ]
  },
  {
   "cell_type": "code",
   "execution_count": 70,
   "metadata": {
    "executionInfo": {
     "elapsed": 730,
     "status": "ok",
     "timestamp": 1621533685146,
     "user": {
      "displayName": "Марк Станиславович Потанин",
      "photoUrl": "https://lh3.googleusercontent.com/a-/AOh14GiGIbSWvn36SnuS11JITt7whCW2414zYLPAFnl9=s64",
      "userId": "12338896257196299013"
     },
     "user_tz": -180
    },
    "id": "23EG_HRNdc8z"
   },
   "outputs": [],
   "source": [
    "one_set = {1, 2, 3}\n",
    "another_set = {1, 4, 5, 6}"
   ]
  },
  {
   "cell_type": "code",
   "execution_count": 71,
   "metadata": {
    "colab": {
     "base_uri": "https://localhost:8080/"
    },
    "executionInfo": {
     "elapsed": 452,
     "status": "ok",
     "timestamp": 1621533689996,
     "user": {
      "displayName": "Марк Станиславович Потанин",
      "photoUrl": "https://lh3.googleusercontent.com/a-/AOh14GiGIbSWvn36SnuS11JITt7whCW2414zYLPAFnl9=s64",
      "userId": "12338896257196299013"
     },
     "user_tz": -180
    },
    "id": "Ac2_f_F5dc80",
    "outputId": "5ba93f89-eea2-4799-eed7-49f85a7c78e5"
   },
   "outputs": [
    {
     "data": {
      "text/plain": [
       "{1, 2, 3, 4, 5, 6}"
      ]
     },
     "execution_count": 71,
     "metadata": {},
     "output_type": "execute_result"
    }
   ],
   "source": [
    "one_set.union(another_set)"
   ]
  },
  {
   "cell_type": "markdown",
   "metadata": {
    "id": "ZSr9JogTdc80"
   },
   "source": [
    "Порядок следования множеств не важен."
   ]
  },
  {
   "cell_type": "code",
   "execution_count": 72,
   "metadata": {
    "colab": {
     "base_uri": "https://localhost:8080/"
    },
    "executionInfo": {
     "elapsed": 587,
     "status": "ok",
     "timestamp": 1621533695043,
     "user": {
      "displayName": "Марк Станиславович Потанин",
      "photoUrl": "https://lh3.googleusercontent.com/a-/AOh14GiGIbSWvn36SnuS11JITt7whCW2414zYLPAFnl9=s64",
      "userId": "12338896257196299013"
     },
     "user_tz": -180
    },
    "id": "n39drpBYdc80",
    "outputId": "fcb566cd-84db-40f8-81e4-527af162d674"
   },
   "outputs": [
    {
     "data": {
      "text/plain": [
       "{1, 2, 3, 4, 5, 6}"
      ]
     },
     "execution_count": 72,
     "metadata": {},
     "output_type": "execute_result"
    }
   ],
   "source": [
    "another_set.union(one_set)"
   ]
  },
  {
   "cell_type": "code",
   "execution_count": 73,
   "metadata": {
    "executionInfo": {
     "elapsed": 482,
     "status": "ok",
     "timestamp": 1621533711249,
     "user": {
      "displayName": "Марк Станиславович Потанин",
      "photoUrl": "https://lh3.googleusercontent.com/a-/AOh14GiGIbSWvn36SnuS11JITt7whCW2414zYLPAFnl9=s64",
      "userId": "12338896257196299013"
     },
     "user_tz": -180
    },
    "id": "mS4pOOhEdc81"
   },
   "outputs": [],
   "source": [
    "a = {1,2,3,4,5}\n",
    "b = {4,5,6,7}"
   ]
  },
  {
   "cell_type": "code",
   "execution_count": 74,
   "metadata": {
    "colab": {
     "base_uri": "https://localhost:8080/"
    },
    "executionInfo": {
     "elapsed": 465,
     "status": "ok",
     "timestamp": 1621533712729,
     "user": {
      "displayName": "Марк Станиславович Потанин",
      "photoUrl": "https://lh3.googleusercontent.com/a-/AOh14GiGIbSWvn36SnuS11JITt7whCW2414zYLPAFnl9=s64",
      "userId": "12338896257196299013"
     },
     "user_tz": -180
    },
    "id": "nvH60yWJdc81",
    "outputId": "6c09299c-ece9-4a52-8836-39217d70043e"
   },
   "outputs": [
    {
     "data": {
      "text/plain": [
       "{4, 5}"
      ]
     },
     "execution_count": 74,
     "metadata": {},
     "output_type": "execute_result"
    }
   ],
   "source": [
    "a.intersection(b)"
   ]
  },
  {
   "cell_type": "markdown",
   "metadata": {
    "id": "mSw5sx_Kdc81"
   },
   "source": [
    "Если множества не пересекаются, то пересечение - пустое множество."
   ]
  },
  {
   "cell_type": "code",
   "execution_count": 75,
   "metadata": {
    "executionInfo": {
     "elapsed": 474,
     "status": "ok",
     "timestamp": 1621533723741,
     "user": {
      "displayName": "Марк Станиславович Потанин",
      "photoUrl": "https://lh3.googleusercontent.com/a-/AOh14GiGIbSWvn36SnuS11JITt7whCW2414zYLPAFnl9=s64",
      "userId": "12338896257196299013"
     },
     "user_tz": -180
    },
    "id": "7UVJAUnidc82"
   },
   "outputs": [],
   "source": [
    "a = {1,2,3,}\n",
    "b = {4,5,6}"
   ]
  },
  {
   "cell_type": "code",
   "execution_count": 76,
   "metadata": {
    "colab": {
     "base_uri": "https://localhost:8080/"
    },
    "executionInfo": {
     "elapsed": 449,
     "status": "ok",
     "timestamp": 1621533725737,
     "user": {
      "displayName": "Марк Станиславович Потанин",
      "photoUrl": "https://lh3.googleusercontent.com/a-/AOh14GiGIbSWvn36SnuS11JITt7whCW2414zYLPAFnl9=s64",
      "userId": "12338896257196299013"
     },
     "user_tz": -180
    },
    "id": "DOeLfBUpdc83",
    "outputId": "df15e7ab-9071-44ec-eac4-84022a2dd47d"
   },
   "outputs": [
    {
     "data": {
      "text/plain": [
       "set()"
      ]
     },
     "execution_count": 76,
     "metadata": {},
     "output_type": "execute_result"
    }
   ],
   "source": [
    "a.intersection(b)"
   ]
  },
  {
   "cell_type": "markdown",
   "metadata": {
    "id": "6k_aSfaZdc83"
   },
   "source": [
    "`issubset` проверяет вхождение множества `set1` в множество `set2`. Одно множество входит в другое, если все элементы первого множества являются так же элементами второго."
   ]
  },
  {
   "cell_type": "code",
   "execution_count": 78,
   "metadata": {
    "executionInfo": {
     "elapsed": 466,
     "status": "ok",
     "timestamp": 1621533761244,
     "user": {
      "displayName": "Марк Станиславович Потанин",
      "photoUrl": "https://lh3.googleusercontent.com/a-/AOh14GiGIbSWvn36SnuS11JITt7whCW2414zYLPAFnl9=s64",
      "userId": "12338896257196299013"
     },
     "user_tz": -180
    },
    "id": "KgUO6MMldc83"
   },
   "outputs": [],
   "source": [
    "a = {1,2,3}\n",
    "b = {1,2,3,4,5}"
   ]
  },
  {
   "cell_type": "code",
   "execution_count": 79,
   "metadata": {
    "colab": {
     "base_uri": "https://localhost:8080/"
    },
    "executionInfo": {
     "elapsed": 463,
     "status": "ok",
     "timestamp": 1621533762520,
     "user": {
      "displayName": "Марк Станиславович Потанин",
      "photoUrl": "https://lh3.googleusercontent.com/a-/AOh14GiGIbSWvn36SnuS11JITt7whCW2414zYLPAFnl9=s64",
      "userId": "12338896257196299013"
     },
     "user_tz": -180
    },
    "id": "Y1wsYmr-dc84",
    "outputId": "eb8678d2-f33f-4d21-daaa-019a61459921"
   },
   "outputs": [
    {
     "data": {
      "text/plain": [
       "True"
      ]
     },
     "execution_count": 79,
     "metadata": {},
     "output_type": "execute_result"
    }
   ],
   "source": [
    "a.issubset(b)"
   ]
  },
  {
   "cell_type": "markdown",
   "metadata": {
    "id": "jTKmJbdMdc84"
   },
   "source": [
    "#### `frozenset`"
   ]
  },
  {
   "cell_type": "markdown",
   "metadata": {},
   "source": [
    "`frozenset` — это встроенный неизменяемый аналог обычного множества (`set`) в Python. Поскольку frozenset является неизменяемым, его можно использовать как ключ в словаре или элемент в другом `set`, что невозможно с обычным множеством."
   ]
  },
  {
   "cell_type": "markdown",
   "metadata": {},
   "source": [
    "* Неизменяемость: после создания `frozenset` нельзя модифицировать.\n",
    "* Поддерживает все методы множества, которые не изменяют множество (например, `union`, `intersection`, но не `add` или `remove`).\n"
   ]
  },
  {
   "cell_type": "markdown",
   "metadata": {},
   "source": [
    "Так как обычные множества изменяемы, их нельзя использовать в качестве ключей словаря. Однако frozenset можно:"
   ]
  },
  {
   "cell_type": "code",
   "execution_count": 81,
   "metadata": {},
   "outputs": [],
   "source": [
    "data = {\n",
    "    frozenset([1, 2, 3]): \"a\",\n",
    "    frozenset([4, 5, 6]): \"b\"\n",
    "}\n"
   ]
  },
  {
   "cell_type": "markdown",
   "metadata": {},
   "source": [
    "Использование в другом множестве:"
   ]
  },
  {
   "cell_type": "code",
   "execution_count": 82,
   "metadata": {},
   "outputs": [],
   "source": [
    "set_of_frozensets = {frozenset([1, 2]), frozenset([3, 4])}"
   ]
  },
  {
   "cell_type": "markdown",
   "metadata": {},
   "source": [
    "Операции над множествами без изменения исходного множества:"
   ]
  },
  {
   "cell_type": "code",
   "execution_count": 83,
   "metadata": {},
   "outputs": [],
   "source": [
    "fs1 = frozenset([1, 2, 3])\n",
    "fs2 = frozenset([3, 4, 5])\n",
    "\n",
    "union_fs = fs1.union(fs2)  # Объединение двух frozenset\n",
    "intersection_fs = fs1.intersection(fs2)  # Пересечение двух frozenset"
   ]
  },
  {
   "cell_type": "markdown",
   "metadata": {
    "id": "jTKmJbdMdc84"
   },
   "source": [
    "#### Словари (`dict`) "
   ]
  },
  {
   "cell_type": "markdown",
   "metadata": {
    "id": "6tFrspaBdc84"
   },
   "source": [
    "Обычные списки представляют собой набор пронумерованных элементов. Для обращения к какому-либо элементу списка необходимо указать его индекс (порядковый номер). Номер элемента в списке однозначно идентифицирует сам элемент. \n",
    "\n",
    "Но идентифицировать данные по порядковым номерам не всегда оказывается удобно. Например, нам хочется идентифицировать сотрудника по его табельному номеру (который грубо говоря не всегда является порядковым номером в списке), или наоборот.\n",
    "\n",
    "Структура данных, позволяющая идентифицировать ее элементы не по числовому индексу, а по произвольному, называется словарем. Соответствующая структура данных в языке Питон называется `dict`."
   ]
  },
  {
   "cell_type": "markdown",
   "metadata": {
    "id": "V2TuX9r8dc84"
   },
   "source": [
    "Каждый элемент словаря состоит из двух объектов: ключа и значения. Ключ идентифицирует элемент словаря, значение является данными, которые соответствуют данному ключу. Значения ключей — уникальны, двух одинаковых ключей в словаре быть не может. В жизни широко распространены словари, например, привычные бумажные словари (толковые, орфографические, лингвистические). В них ключом является слово-заголовок статьи, а значением — сама статья. Для того, чтобы получить доступ к статье, необходимо указать слово-ключ."
   ]
  },
  {
   "cell_type": "markdown",
   "metadata": {
    "id": "a8VLT4HPdc84"
   },
   "source": [
    "Другой пример словаря, как структуры данных — телефонный справочник. В нем ключом является имя, а значением — номер телефона."
   ]
  },
  {
   "cell_type": "markdown",
   "metadata": {
    "id": "1u_SkQ2Adc85"
   },
   "source": [
    "Пустой словарь можно создать при помощи функции `dict(key1=value1,key2=value2,...)` или пустой пары фигурных скобок `{key1:value1,key2:value2}`. А так же с помощью функции `dict()` и вложенных списков - `dict([[key1,value1],[key2,value2]])`. Тогда первый элемент каждого списка будет ключом, а второй - значением."
   ]
  },
  {
   "cell_type": "code",
   "execution_count": 85,
   "metadata": {
    "colab": {
     "base_uri": "https://localhost:8080/"
    },
    "executionInfo": {
     "elapsed": 475,
     "status": "ok",
     "timestamp": 1621534057234,
     "user": {
      "displayName": "Марк Станиславович Потанин",
      "photoUrl": "https://lh3.googleusercontent.com/a-/AOh14GiGIbSWvn36SnuS11JITt7whCW2414zYLPAFnl9=s64",
      "userId": "12338896257196299013"
     },
     "user_tz": -180
    },
    "id": "ZdAZzTOWdc85",
    "outputId": "8d4c15cf-cc80-4648-d9b7-f3490f743cb5"
   },
   "outputs": [
    {
     "name": "stdout",
     "output_type": "stream",
     "text": [
      "{'Ivan': 'manager', 'Mark': 'worker'}\n",
      "{'A1': '123', 'A2': '456', 'A3': '12345'}\n",
      "{'Ivan': 'manager', 'Mark': 'worker'}\n"
     ]
    }
   ],
   "source": [
    "d1 = dict(Ivan=\"manager\", Mark=\"worker\")\n",
    "print(d1)\n",
    "d2 = {\"A1\":\"123\", \"A2\":\"456\",\"A3\":\"12345\"}\n",
    "print(d2)\n",
    "d3 = dict([['Ivan','manager'],['Mark','worker']])\n",
    "print(d3)"
   ]
  },
  {
   "cell_type": "code",
   "execution_count": 86,
   "metadata": {
    "colab": {
     "base_uri": "https://localhost:8080/",
     "height": 37
    },
    "executionInfo": {
     "elapsed": 1018,
     "status": "ok",
     "timestamp": 1621534096848,
     "user": {
      "displayName": "Марк Станиславович Потанин",
      "photoUrl": "https://lh3.googleusercontent.com/a-/AOh14GiGIbSWvn36SnuS11JITt7whCW2414zYLPAFnl9=s64",
      "userId": "12338896257196299013"
     },
     "user_tz": -180
    },
    "id": "3uUYKX6h9nXz",
    "outputId": "cc2a616b-2823-4894-b766-29368efe4c15"
   },
   "outputs": [
    {
     "data": {
      "text/plain": [
       "'manager'"
      ]
     },
     "execution_count": 86,
     "metadata": {},
     "output_type": "execute_result"
    }
   ],
   "source": [
    "d3['Ivan']"
   ]
  },
  {
   "cell_type": "markdown",
   "metadata": {
    "id": "wVUPp5Nddc85"
   },
   "source": [
    "Основная операция: получение значения элемента по ключу, записывается так же, как и для списков: `some_dict[key]`. Если элемента с заданным ключом нет в словаре, то возникает ошибка. Другой способ определения значения по ключу — метод `get`: `some_dict.get(key)`. Если элемента с ключом `key` нет в словаре, то возвращается значение None."
   ]
  },
  {
   "cell_type": "markdown",
   "metadata": {
    "id": "nn20DFscdc86"
   },
   "source": [
    "Рассмотрим еще пример использования словаря. Создадим словарь `capitals`, где индексом является название страны, а значением — название столицы этой страны. Это позволит легко определять по строке с названием страны ее столицу."
   ]
  },
  {
   "cell_type": "markdown",
   "metadata": {
    "id": "SmLsriGydc86"
   },
   "source": [
    "`dict()` – пустой словарь."
   ]
  },
  {
   "cell_type": "code",
   "execution_count": 87,
   "metadata": {
    "colab": {
     "base_uri": "https://localhost:8080/"
    },
    "executionInfo": {
     "elapsed": 432,
     "status": "ok",
     "timestamp": 1621534153522,
     "user": {
      "displayName": "Марк Станиславович Потанин",
      "photoUrl": "https://lh3.googleusercontent.com/a-/AOh14GiGIbSWvn36SnuS11JITt7whCW2414zYLPAFnl9=s64",
      "userId": "12338896257196299013"
     },
     "user_tz": -180
    },
    "id": "bMzlmelHdc86",
    "outputId": "30cf4cd4-fe05-403e-8b7d-05411b9cadc2"
   },
   "outputs": [
    {
     "name": "stdout",
     "output_type": "stream",
     "text": [
      "{'Russia': 'Moscow', 'Ukraine': 'Kiev', 'USA': 'Washington'}\n"
     ]
    }
   ],
   "source": [
    "capitals = dict()\n",
    "\n",
    "capitals['Russia'] = 'Moscow'\n",
    "capitals['Ukraine'] = 'Kiev'\n",
    "capitals['USA'] = 'Washington'\n",
    "\n",
    "print(capitals)"
   ]
  },
  {
   "cell_type": "markdown",
   "metadata": {
    "id": "rdexhQfZdc87"
   },
   "source": [
    "Вывести значение по данному ключу:"
   ]
  },
  {
   "cell_type": "code",
   "execution_count": 88,
   "metadata": {
    "colab": {
     "base_uri": "https://localhost:8080/",
     "height": 37
    },
    "executionInfo": {
     "elapsed": 443,
     "status": "ok",
     "timestamp": 1621534170473,
     "user": {
      "displayName": "Марк Станиславович Потанин",
      "photoUrl": "https://lh3.googleusercontent.com/a-/AOh14GiGIbSWvn36SnuS11JITt7whCW2414zYLPAFnl9=s64",
      "userId": "12338896257196299013"
     },
     "user_tz": -180
    },
    "id": "DTn4_tSfdc87",
    "outputId": "bafdce24-c82c-4f87-d431-02529bd771a3"
   },
   "outputs": [
    {
     "data": {
      "text/plain": [
       "'Moscow'"
      ]
     },
     "execution_count": 88,
     "metadata": {},
     "output_type": "execute_result"
    }
   ],
   "source": [
    "capitals['Russia']"
   ]
  },
  {
   "cell_type": "markdown",
   "metadata": {
    "id": "dJZinTfmdc88"
   },
   "source": [
    "Для добавления нового элемента в словарь нужно просто присвоить ему какое-то значение: `some_dict[key] = value`."
   ]
  },
  {
   "cell_type": "code",
   "execution_count": 90,
   "metadata": {
    "colab": {
     "base_uri": "https://localhost:8080/"
    },
    "executionInfo": {
     "elapsed": 440,
     "status": "ok",
     "timestamp": 1621534186502,
     "user": {
      "displayName": "Марк Станиславович Потанин",
      "photoUrl": "https://lh3.googleusercontent.com/a-/AOh14GiGIbSWvn36SnuS11JITt7whCW2414zYLPAFnl9=s64",
      "userId": "12338896257196299013"
     },
     "user_tz": -180
    },
    "id": "OFGiRByydc88",
    "outputId": "d9668ba3-f716-4b30-c327-ae4cada04d88"
   },
   "outputs": [
    {
     "name": "stdout",
     "output_type": "stream",
     "text": [
      "{'Russia': 'Moscow', 'Ukraine': 'Kiev', 'USA': 'Washington', 'England': 'London'}\n"
     ]
    }
   ],
   "source": [
    "capitals[\"England\"] = 'London' # Добавление нового ключа\n",
    "print(capitals)"
   ]
  },
  {
   "cell_type": "markdown",
   "metadata": {
    "id": "6iEMHWEZdc88"
   },
   "source": [
    "В словарях можно менять значения по ключу."
   ]
  },
  {
   "cell_type": "code",
   "execution_count": 91,
   "metadata": {
    "executionInfo": {
     "elapsed": 480,
     "status": "ok",
     "timestamp": 1621534197879,
     "user": {
      "displayName": "Марк Станиславович Потанин",
      "photoUrl": "https://lh3.googleusercontent.com/a-/AOh14GiGIbSWvn36SnuS11JITt7whCW2414zYLPAFnl9=s64",
      "userId": "12338896257196299013"
     },
     "user_tz": -180
    },
    "id": "kYQ2h4qUdc88"
   },
   "outputs": [],
   "source": [
    "positions = {'Ivan':\"manager\", 'Mark':\"worker\"}"
   ]
  },
  {
   "cell_type": "markdown",
   "metadata": {
    "id": "MLIG4yFhdc88"
   },
   "source": [
    "Например, у нас Марка повысили, тогда по ключу его имени нужно изменить значение."
   ]
  },
  {
   "cell_type": "code",
   "execution_count": 92,
   "metadata": {
    "executionInfo": {
     "elapsed": 360,
     "status": "ok",
     "timestamp": 1621534221630,
     "user": {
      "displayName": "Марк Станиславович Потанин",
      "photoUrl": "https://lh3.googleusercontent.com/a-/AOh14GiGIbSWvn36SnuS11JITt7whCW2414zYLPAFnl9=s64",
      "userId": "12338896257196299013"
     },
     "user_tz": -180
    },
    "id": "KNDW1aW2dc88"
   },
   "outputs": [],
   "source": [
    "positions['Mark'] = 'manager'"
   ]
  },
  {
   "cell_type": "code",
   "execution_count": 93,
   "metadata": {
    "colab": {
     "base_uri": "https://localhost:8080/"
    },
    "executionInfo": {
     "elapsed": 421,
     "status": "ok",
     "timestamp": 1621534222503,
     "user": {
      "displayName": "Марк Станиславович Потанин",
      "photoUrl": "https://lh3.googleusercontent.com/a-/AOh14GiGIbSWvn36SnuS11JITt7whCW2414zYLPAFnl9=s64",
      "userId": "12338896257196299013"
     },
     "user_tz": -180
    },
    "id": "Xv-eKl3ndc89",
    "outputId": "66eccc2f-8841-4531-9ccb-e5a23a89b515"
   },
   "outputs": [
    {
     "name": "stdout",
     "output_type": "stream",
     "text": [
      "{'Ivan': 'manager', 'Mark': 'manager'}\n"
     ]
    }
   ],
   "source": [
    "print(positions)"
   ]
  },
  {
   "cell_type": "markdown",
   "metadata": {
    "id": "_dUflMVKdc89"
   },
   "source": [
    "Для удаления элемента из словаря можно использовать операцию `del some_dict[key]`. Пусть в нашем примере Марк уволился, тогда он пропадет из списка работников."
   ]
  },
  {
   "cell_type": "code",
   "execution_count": 94,
   "metadata": {
    "executionInfo": {
     "elapsed": 476,
     "status": "ok",
     "timestamp": 1621534252554,
     "user": {
      "displayName": "Марк Станиславович Потанин",
      "photoUrl": "https://lh3.googleusercontent.com/a-/AOh14GiGIbSWvn36SnuS11JITt7whCW2414zYLPAFnl9=s64",
      "userId": "12338896257196299013"
     },
     "user_tz": -180
    },
    "id": "TD6GIdP-dc89"
   },
   "outputs": [],
   "source": [
    "del positions['Mark']"
   ]
  },
  {
   "cell_type": "code",
   "execution_count": 95,
   "metadata": {
    "colab": {
     "base_uri": "https://localhost:8080/"
    },
    "executionInfo": {
     "elapsed": 785,
     "status": "ok",
     "timestamp": 1621534255573,
     "user": {
      "displayName": "Марк Станиславович Потанин",
      "photoUrl": "https://lh3.googleusercontent.com/a-/AOh14GiGIbSWvn36SnuS11JITt7whCW2414zYLPAFnl9=s64",
      "userId": "12338896257196299013"
     },
     "user_tz": -180
    },
    "id": "vN2YubNQdc89",
    "outputId": "f01fa6bb-cfad-411c-e414-b60ccda19947"
   },
   "outputs": [
    {
     "name": "stdout",
     "output_type": "stream",
     "text": [
      "{'Ivan': 'manager'}\n"
     ]
    }
   ],
   "source": [
    "print(positions)"
   ]
  },
  {
   "cell_type": "markdown",
   "metadata": {
    "id": "NV94i3DZdc89"
   },
   "source": [
    "Альтернатива - метод `some_dict.pop(key)`. Этот метод возвращает значение удаляемого элемента, если элемент с данным ключом отсутствует в словаре, то вылетает ошибка. "
   ]
  },
  {
   "cell_type": "code",
   "execution_count": 96,
   "metadata": {
    "executionInfo": {
     "elapsed": 472,
     "status": "ok",
     "timestamp": 1621534262960,
     "user": {
      "displayName": "Марк Станиславович Потанин",
      "photoUrl": "https://lh3.googleusercontent.com/a-/AOh14GiGIbSWvn36SnuS11JITt7whCW2414zYLPAFnl9=s64",
      "userId": "12338896257196299013"
     },
     "user_tz": -180
    },
    "id": "six3mPdydc89"
   },
   "outputs": [],
   "source": [
    "positions = {'Ivan':\"manager\", 'Mark':\"worker\"}"
   ]
  },
  {
   "cell_type": "code",
   "execution_count": 97,
   "metadata": {
    "colab": {
     "base_uri": "https://localhost:8080/",
     "height": 37
    },
    "executionInfo": {
     "elapsed": 512,
     "status": "ok",
     "timestamp": 1621534264424,
     "user": {
      "displayName": "Марк Станиславович Потанин",
      "photoUrl": "https://lh3.googleusercontent.com/a-/AOh14GiGIbSWvn36SnuS11JITt7whCW2414zYLPAFnl9=s64",
      "userId": "12338896257196299013"
     },
     "user_tz": -180
    },
    "id": "pVtUX61Sdc8-",
    "outputId": "9e82b993-fcb9-4243-9a98-74f146b2e4c5"
   },
   "outputs": [
    {
     "data": {
      "text/plain": [
       "'manager'"
      ]
     },
     "execution_count": 97,
     "metadata": {},
     "output_type": "execute_result"
    }
   ],
   "source": [
    "positions.pop('Ivan')"
   ]
  },
  {
   "cell_type": "code",
   "execution_count": 98,
   "metadata": {
    "colab": {
     "base_uri": "https://localhost:8080/"
    },
    "executionInfo": {
     "elapsed": 518,
     "status": "ok",
     "timestamp": 1621534265769,
     "user": {
      "displayName": "Марк Станиславович Потанин",
      "photoUrl": "https://lh3.googleusercontent.com/a-/AOh14GiGIbSWvn36SnuS11JITt7whCW2414zYLPAFnl9=s64",
      "userId": "12338896257196299013"
     },
     "user_tz": -180
    },
    "id": "Z1it6xdMdc8-",
    "outputId": "de17a343-c323-4df3-8518-a045c8cd4ee4"
   },
   "outputs": [
    {
     "data": {
      "text/plain": [
       "{'Mark': 'worker'}"
      ]
     },
     "execution_count": 98,
     "metadata": {},
     "output_type": "execute_result"
    }
   ],
   "source": [
    "positions"
   ]
  },
  {
   "cell_type": "markdown",
   "metadata": {
    "id": "DM2_rSp3dc8-"
   },
   "source": [
    "В качестве ключей словаря могут выступать только неизменяемые типы данных."
   ]
  },
  {
   "cell_type": "code",
   "execution_count": 100,
   "metadata": {
    "colab": {
     "base_uri": "https://localhost:8080/",
     "height": 164
    },
    "executionInfo": {
     "elapsed": 475,
     "status": "error",
     "timestamp": 1621534284130,
     "user": {
      "displayName": "Марк Станиславович Потанин",
      "photoUrl": "https://lh3.googleusercontent.com/a-/AOh14GiGIbSWvn36SnuS11JITt7whCW2414zYLPAFnl9=s64",
      "userId": "12338896257196299013"
     },
     "user_tz": -180
    },
    "id": "IbArcAD-dc8-",
    "outputId": "26e4cf63-3555-4615-f75c-bdd47871fc97"
   },
   "outputs": [
    {
     "ename": "TypeError",
     "evalue": "unhashable type: 'list'",
     "output_type": "error",
     "traceback": [
      "\u001b[0;31m---------------------------------------------------------------------------\u001b[0m",
      "\u001b[0;31mTypeError\u001b[0m                                 Traceback (most recent call last)",
      "Cell \u001b[0;32mIn[100], line 1\u001b[0m\n\u001b[0;32m----> 1\u001b[0m wrong_dict \u001b[38;5;241m=\u001b[39m {[\u001b[38;5;241m1\u001b[39m, \u001b[38;5;241m2\u001b[39m]: \u001b[38;5;241m1\u001b[39m}\n",
      "\u001b[0;31mTypeError\u001b[0m: unhashable type: 'list'"
     ]
    }
   ],
   "source": [
    "wrong_dict = {[1, 2]: 1}"
   ]
  },
  {
   "cell_type": "code",
   "execution_count": 101,
   "metadata": {
    "executionInfo": {
     "elapsed": 691,
     "status": "ok",
     "timestamp": 1621534308770,
     "user": {
      "displayName": "Марк Станиславович Потанин",
      "photoUrl": "https://lh3.googleusercontent.com/a-/AOh14GiGIbSWvn36SnuS11JITt7whCW2414zYLPAFnl9=s64",
      "userId": "12338896257196299013"
     },
     "user_tz": -180
    },
    "id": "xP1tGix--a0V"
   },
   "outputs": [],
   "source": [
    "right_dict = {'spisok':[1,2,3]}"
   ]
  },
  {
   "cell_type": "code",
   "execution_count": 102,
   "metadata": {
    "colab": {
     "base_uri": "https://localhost:8080/"
    },
    "executionInfo": {
     "elapsed": 607,
     "status": "ok",
     "timestamp": 1621534313110,
     "user": {
      "displayName": "Марк Станиславович Потанин",
      "photoUrl": "https://lh3.googleusercontent.com/a-/AOh14GiGIbSWvn36SnuS11JITt7whCW2414zYLPAFnl9=s64",
      "userId": "12338896257196299013"
     },
     "user_tz": -180
    },
    "id": "Y2FW4Ttz-bC5",
    "outputId": "942fa293-7a90-493e-9c28-607893ebae59"
   },
   "outputs": [
    {
     "data": {
      "text/plain": [
       "{'spisok': [1, 2, 3]}"
      ]
     },
     "execution_count": 102,
     "metadata": {},
     "output_type": "execute_result"
    }
   ],
   "source": [
    "right_dict"
   ]
  },
  {
   "cell_type": "code",
   "execution_count": 104,
   "metadata": {
    "colab": {
     "base_uri": "https://localhost:8080/",
     "height": 164
    },
    "executionInfo": {
     "elapsed": 471,
     "status": "error",
     "timestamp": 1621534329052,
     "user": {
      "displayName": "Марк Станиславович Потанин",
      "photoUrl": "https://lh3.googleusercontent.com/a-/AOh14GiGIbSWvn36SnuS11JITt7whCW2414zYLPAFnl9=s64",
      "userId": "12338896257196299013"
     },
     "user_tz": -180
    },
    "id": "vKGzFXsldc8-",
    "outputId": "2586b8d3-dd77-432c-80d4-fe41958768d7"
   },
   "outputs": [
    {
     "ename": "TypeError",
     "evalue": "unhashable type: 'set'",
     "output_type": "error",
     "traceback": [
      "\u001b[0;31m---------------------------------------------------------------------------\u001b[0m",
      "\u001b[0;31mTypeError\u001b[0m                                 Traceback (most recent call last)",
      "Cell \u001b[0;32mIn[104], line 1\u001b[0m\n\u001b[0;32m----> 1\u001b[0m wrong_dict \u001b[38;5;241m=\u001b[39m {{\u001b[38;5;241m1\u001b[39m, \u001b[38;5;241m2\u001b[39m}: \u001b[38;5;241m1\u001b[39m}\n",
      "\u001b[0;31mTypeError\u001b[0m: unhashable type: 'set'"
     ]
    }
   ],
   "source": [
    "wrong_dict = {{1, 2}: 1}"
   ]
  },
  {
   "cell_type": "code",
   "execution_count": 105,
   "metadata": {
    "colab": {
     "base_uri": "https://localhost:8080/"
    },
    "executionInfo": {
     "elapsed": 711,
     "status": "ok",
     "timestamp": 1621534334972,
     "user": {
      "displayName": "Марк Станиславович Потанин",
      "photoUrl": "https://lh3.googleusercontent.com/a-/AOh14GiGIbSWvn36SnuS11JITt7whCW2414zYLPAFnl9=s64",
      "userId": "12338896257196299013"
     },
     "user_tz": -180
    },
    "id": "gSFM2eg7dc8-",
    "outputId": "e43e5267-0194-4873-b4ed-0a694246a3dc"
   },
   "outputs": [
    {
     "data": {
      "text/plain": [
       "{1: 1}"
      ]
     },
     "execution_count": 105,
     "metadata": {},
     "output_type": "execute_result"
    }
   ],
   "source": [
    "correct_dict = {1: 1}\n",
    "correct_dict"
   ]
  },
  {
   "cell_type": "code",
   "execution_count": 106,
   "metadata": {
    "colab": {
     "base_uri": "https://localhost:8080/"
    },
    "executionInfo": {
     "elapsed": 822,
     "status": "ok",
     "timestamp": 1621534335350,
     "user": {
      "displayName": "Марк Станиславович Потанин",
      "photoUrl": "https://lh3.googleusercontent.com/a-/AOh14GiGIbSWvn36SnuS11JITt7whCW2414zYLPAFnl9=s64",
      "userId": "12338896257196299013"
     },
     "user_tz": -180
    },
    "id": "wYfNdPV-dc8_",
    "outputId": "67fd7729-098a-4b86-bd26-38b48fb4c2d4"
   },
   "outputs": [
    {
     "data": {
      "text/plain": [
       "{(1, 2): 1}"
      ]
     },
     "execution_count": 106,
     "metadata": {},
     "output_type": "execute_result"
    }
   ],
   "source": [
    "correct_dict = {(1, 2): 1}\n",
    "correct_dict"
   ]
  },
  {
   "cell_type": "markdown",
   "metadata": {
    "id": "4xCPvMf2dc8_"
   },
   "source": [
    "Еще важные методы словарей:\n",
    "- `.keys()` – возвращает список с ключами словаря. \n",
    "- `.values()` – возвращает список со значениями словаря."
   ]
  },
  {
   "cell_type": "code",
   "execution_count": 107,
   "metadata": {
    "executionInfo": {
     "elapsed": 668,
     "status": "ok",
     "timestamp": 1621534354714,
     "user": {
      "displayName": "Марк Станиславович Потанин",
      "photoUrl": "https://lh3.googleusercontent.com/a-/AOh14GiGIbSWvn36SnuS11JITt7whCW2414zYLPAFnl9=s64",
      "userId": "12338896257196299013"
     },
     "user_tz": -180
    },
    "id": "DiPNTb_Kdc8_"
   },
   "outputs": [],
   "source": [
    "positions = {'Ivan':\"manager\", 'Mark':\"worker\"}"
   ]
  },
  {
   "cell_type": "code",
   "execution_count": 108,
   "metadata": {},
   "outputs": [
    {
     "data": {
      "text/plain": [
       "{'Ivan': 'manager', 'Mark': 'worker'}"
      ]
     },
     "execution_count": 108,
     "metadata": {},
     "output_type": "execute_result"
    }
   ],
   "source": [
    "positions"
   ]
  },
  {
   "cell_type": "code",
   "execution_count": 109,
   "metadata": {
    "colab": {
     "base_uri": "https://localhost:8080/"
    },
    "executionInfo": {
     "elapsed": 478,
     "status": "ok",
     "timestamp": 1621534365562,
     "user": {
      "displayName": "Марк Станиславович Потанин",
      "photoUrl": "https://lh3.googleusercontent.com/a-/AOh14GiGIbSWvn36SnuS11JITt7whCW2414zYLPAFnl9=s64",
      "userId": "12338896257196299013"
     },
     "user_tz": -180
    },
    "id": "ivpXyswddc8_",
    "outputId": "39e25d15-7400-4016-80ca-28a73b30d3a1"
   },
   "outputs": [
    {
     "data": {
      "text/plain": [
       "['Ivan', 'Mark']"
      ]
     },
     "execution_count": 109,
     "metadata": {},
     "output_type": "execute_result"
    }
   ],
   "source": [
    "list(positions.keys())"
   ]
  },
  {
   "cell_type": "code",
   "execution_count": 111,
   "metadata": {
    "colab": {
     "base_uri": "https://localhost:8080/"
    },
    "executionInfo": {
     "elapsed": 464,
     "status": "ok",
     "timestamp": 1621534373632,
     "user": {
      "displayName": "Марк Станиславович Потанин",
      "photoUrl": "https://lh3.googleusercontent.com/a-/AOh14GiGIbSWvn36SnuS11JITt7whCW2414zYLPAFnl9=s64",
      "userId": "12338896257196299013"
     },
     "user_tz": -180
    },
    "id": "tntCH7X5dc8_",
    "outputId": "c3f7f525-9ea3-4782-d6a2-e2d6eb79af97",
    "scrolled": true
   },
   "outputs": [
    {
     "data": {
      "text/plain": [
       "dict_values(['manager', 'worker'])"
      ]
     },
     "execution_count": 111,
     "metadata": {},
     "output_type": "execute_result"
    }
   ],
   "source": [
    "positions.values()"
   ]
  },
  {
   "cell_type": "code",
   "execution_count": 113,
   "metadata": {
    "colab": {
     "base_uri": "https://localhost:8080/"
    },
    "executionInfo": {
     "elapsed": 464,
     "status": "ok",
     "timestamp": 1621534373632,
     "user": {
      "displayName": "Марк Станиславович Потанин",
      "photoUrl": "https://lh3.googleusercontent.com/a-/AOh14GiGIbSWvn36SnuS11JITt7whCW2414zYLPAFnl9=s64",
      "userId": "12338896257196299013"
     },
     "user_tz": -180
    },
    "id": "tntCH7X5dc8_",
    "outputId": "c3f7f525-9ea3-4782-d6a2-e2d6eb79af97",
    "scrolled": true
   },
   "outputs": [
    {
     "data": {
      "text/plain": [
       "dict_items([('Ivan', 'manager'), ('Mark', 'worker')])"
      ]
     },
     "execution_count": 113,
     "metadata": {},
     "output_type": "execute_result"
    }
   ],
   "source": [
    "positions.items()"
   ]
  },
  {
   "cell_type": "markdown",
   "metadata": {},
   "source": [
    "### `defaultdict`"
   ]
  },
  {
   "cell_type": "markdown",
   "metadata": {},
   "source": [
    "`defaultdict` из модуля `collections` в Python расширяет функциональность стандартного словаря `dict`. Основное отличие заключается в том, что `defaultdict` позволяет задать функцию, которая возвращает значение по умолчанию для словаря, когда запрашивается ключ, который отсутствует в словаре."
   ]
  },
  {
   "cell_type": "code",
   "execution_count": 117,
   "metadata": {},
   "outputs": [
    {
     "ename": "KeyError",
     "evalue": "'key'",
     "output_type": "error",
     "traceback": [
      "\u001b[0;31m---------------------------------------------------------------------------\u001b[0m",
      "\u001b[0;31mKeyError\u001b[0m                                  Traceback (most recent call last)",
      "Cell \u001b[0;32mIn[117], line 2\u001b[0m\n\u001b[1;32m      1\u001b[0m d \u001b[38;5;241m=\u001b[39m {}\n\u001b[0;32m----> 2\u001b[0m \u001b[43md\u001b[49m\u001b[43m[\u001b[49m\u001b[38;5;124;43m\"\u001b[39;49m\u001b[38;5;124;43mkey\u001b[39;49m\u001b[38;5;124;43m\"\u001b[39;49m\u001b[43m]\u001b[49m  \u001b[38;5;66;03m# Это вызовет ошибку KeyError\u001b[39;00m\n",
      "\u001b[0;31mKeyError\u001b[0m: 'key'"
     ]
    }
   ],
   "source": [
    "d = {}\n",
    "d[\"key\"]  # Это вызовет ошибку KeyError"
   ]
  },
  {
   "cell_type": "code",
   "execution_count": 118,
   "metadata": {},
   "outputs": [],
   "source": [
    "from collections import defaultdict"
   ]
  },
  {
   "cell_type": "markdown",
   "metadata": {},
   "source": [
    "`defaultdict`: Если ключ отсутствует, он автоматически добавляет ключ со значением, которое возвращает переданная функция."
   ]
  },
  {
   "cell_type": "code",
   "execution_count": 119,
   "metadata": {},
   "outputs": [
    {
     "name": "stdout",
     "output_type": "stream",
     "text": [
      "0.0\n"
     ]
    }
   ],
   "source": [
    "dd = defaultdict(float)\n",
    "print(dd[\"key\"])"
   ]
  },
  {
   "cell_type": "code",
   "execution_count": 121,
   "metadata": {},
   "outputs": [],
   "source": [
    "d = {}\n",
    "if \"key\" not in d:\n",
    "    d[\"key\"] = []\n",
    "d[\"key\"].append(1)"
   ]
  },
  {
   "cell_type": "markdown",
   "metadata": {},
   "source": [
    "`defaultdict`: Инициализация автоматическая, что упрощает код."
   ]
  },
  {
   "cell_type": "code",
   "execution_count": 122,
   "metadata": {},
   "outputs": [],
   "source": [
    "dd = defaultdict(list)\n",
    "dd[\"key\"].append(1)"
   ]
  },
  {
   "cell_type": "markdown",
   "metadata": {},
   "source": [
    "Обычный `dict`: При создании новых элементов вам нужно инициализировать их вручную."
   ]
  },
  {
   "cell_type": "markdown",
   "metadata": {},
   "source": [
    "`defaultdict` принимает функцию (или лямбда-функцию) в качестве аргумента, которая определяет, какое значение будет присвоено отсутствующему ключу."
   ]
  },
  {
   "cell_type": "code",
   "execution_count": 123,
   "metadata": {},
   "outputs": [],
   "source": [
    "dd_int = defaultdict(int)  # 0 для отсутствующих ключей\n",
    "dd_list = defaultdict(list)  # пустой список для отсутствующих ключей\n",
    "dd_custom = defaultdict(lambda: \"default value\")  # кастомное значение для отсутствующих ключей"
   ]
  },
  {
   "cell_type": "markdown",
   "metadata": {},
   "source": [
    "В целом, defaultdict удобен, когда вы хотите автоматически инициализировать отсутствующие ключи некоторым значением или когда вы хотите избежать ошибок, связанных с отсутствующими ключами."
   ]
  },
  {
   "cell_type": "markdown",
   "metadata": {
    "id": "RdV1AhDndc9A"
   },
   "source": [
    "---"
   ]
  },
  {
   "cell_type": "markdown",
   "metadata": {
    "id": "QeFrGJcBdc9A"
   },
   "source": [
    "## Операторы и циклы"
   ]
  },
  {
   "cell_type": "markdown",
   "metadata": {
    "id": "PGI28unpdc9A"
   },
   "source": [
    "#### Условные операторы `if ... elif ... else`."
   ]
  },
  {
   "cell_type": "markdown",
   "metadata": {
    "id": "HxVW2Jaydc9A"
   },
   "source": [
    "Все ранее рассматриваемые программы имели линейную структуру: все инструкции выполнялись последовательно одна за одной, каждая записанная инструкция обязательно выполняется."
   ]
  },
  {
   "cell_type": "markdown",
   "metadata": {
    "id": "O3erArlVdc9B"
   },
   "source": [
    "Допустим мы хотим по данному числу  `x` определить и вывести на экран - оно положительное или отрицательное (или равно нулю). Мы то с вами понимаем к какой категории принадлежит  `x`, но как это понять программе? Линейная структура программы нарушается: в зависимости от справедливости условия  `x>0` должна быть выведена одна или другая строка."
   ]
  },
  {
   "cell_type": "code",
   "execution_count": 124,
   "metadata": {
    "executionInfo": {
     "elapsed": 485,
     "status": "ok",
     "timestamp": 1621534589704,
     "user": {
      "displayName": "Марк Станиславович Потанин",
      "photoUrl": "https://lh3.googleusercontent.com/a-/AOh14GiGIbSWvn36SnuS11JITt7whCW2414zYLPAFnl9=s64",
      "userId": "12338896257196299013"
     },
     "user_tz": -180
    },
    "id": "0KzQKHIbdc9B"
   },
   "outputs": [],
   "source": [
    "x = -1"
   ]
  },
  {
   "cell_type": "code",
   "execution_count": 125,
   "metadata": {
    "colab": {
     "base_uri": "https://localhost:8080/"
    },
    "executionInfo": {
     "elapsed": 658,
     "status": "ok",
     "timestamp": 1621534593724,
     "user": {
      "displayName": "Марк Станиславович Потанин",
      "photoUrl": "https://lh3.googleusercontent.com/a-/AOh14GiGIbSWvn36SnuS11JITt7whCW2414zYLPAFnl9=s64",
      "userId": "12338896257196299013"
     },
     "user_tz": -180
    },
    "id": "Z8w6_sIkdc9B",
    "outputId": "5c86fed6-5a53-45bd-aeb8-9977611a50db"
   },
   "outputs": [
    {
     "name": "stdout",
     "output_type": "stream",
     "text": [
      "negative or zero\n"
     ]
    }
   ],
   "source": [
    "if x > 0:\n",
    "    print('positive')\n",
    "else:\n",
    "    print('negative or zero')"
   ]
  },
  {
   "cell_type": "markdown",
   "metadata": {
    "id": "_FsvpHYadc9B"
   },
   "source": [
    "В этой программе используется условная инструкция `if` (если). После слова `if` указывается проверяемое условие (`x > 0`), завершающееся двоеточием. После этого идет блок инструкций, который будет выполнен, если условие истинно. Затем идет слово `else`, также завершающееся двоеточием, и блок инструкций, который будет выполнен, если проверяемое условие неверно."
   ]
  },
  {
   "cell_type": "markdown",
   "metadata": {
    "id": "AX7u_lkGdc9B"
   },
   "source": [
    "Общая структура условной конструкции имеет следующий вид:\n",
    "\n",
    "`if Условие:`\n",
    "\n",
    "    Блок инструкций 1\n",
    "`else:`\n",
    "\n",
    "    Блок инструкций 2"
   ]
  },
  {
   "cell_type": "markdown",
   "metadata": {
    "id": "T2tnT2phdc9B"
   },
   "source": [
    "Для выделения блока инструкций, относящихся к инструкции `if` или `else` в используются отступы. Все инструкции, которые относятся к одному блоку, должны иметь равную величину отступа, то есть одинаковое число пробелов в начале строки. В качестве отступа используются **4 пробела** или один **TAB**."
   ]
  },
  {
   "cell_type": "code",
   "execution_count": 126,
   "metadata": {
    "executionInfo": {
     "elapsed": 478,
     "status": "ok",
     "timestamp": 1621534734771,
     "user": {
      "displayName": "Марк Станиславович Потанин",
      "photoUrl": "https://lh3.googleusercontent.com/a-/AOh14GiGIbSWvn36SnuS11JITt7whCW2414zYLPAFnl9=s64",
      "userId": "12338896257196299013"
     },
     "user_tz": -180
    },
    "id": "D-Mujpj-dc9C"
   },
   "outputs": [],
   "source": [
    "number = 3"
   ]
  },
  {
   "cell_type": "code",
   "execution_count": 127,
   "metadata": {
    "colab": {
     "base_uri": "https://localhost:8080/"
    },
    "executionInfo": {
     "elapsed": 668,
     "status": "ok",
     "timestamp": 1621534736795,
     "user": {
      "displayName": "Марк Станиславович Потанин",
      "photoUrl": "https://lh3.googleusercontent.com/a-/AOh14GiGIbSWvn36SnuS11JITt7whCW2414zYLPAFnl9=s64",
      "userId": "12338896257196299013"
     },
     "user_tz": -180
    },
    "id": "ra7aRnsXdc9C",
    "outputId": "ae7496cd-80e1-4e2b-c862-79c8c8680532"
   },
   "outputs": [
    {
     "name": "stdout",
     "output_type": "stream",
     "text": [
      "число != 4\n"
     ]
    }
   ],
   "source": [
    "if number == 4:\n",
    "    print(\"число = 4\")\n",
    "else:\n",
    "    print(\"число != 4\")"
   ]
  },
  {
   "cell_type": "markdown",
   "metadata": {
    "id": "2VVXpZUfdc9C"
   },
   "source": [
    "Если хочется проверить несколько дополнительных условий, то между `if` и `else` вставляется нужное количество инструкций `elif`. В таком случае `else` выполнится только в том случае, если ни одно из указанных выше условий не выполнилось.  "
   ]
  },
  {
   "cell_type": "code",
   "execution_count": 128,
   "metadata": {
    "colab": {
     "base_uri": "https://localhost:8080/"
    },
    "executionInfo": {
     "elapsed": 683,
     "status": "ok",
     "timestamp": 1621534741342,
     "user": {
      "displayName": "Марк Станиславович Потанин",
      "photoUrl": "https://lh3.googleusercontent.com/a-/AOh14GiGIbSWvn36SnuS11JITt7whCW2414zYLPAFnl9=s64",
      "userId": "12338896257196299013"
     },
     "user_tz": -180
    },
    "id": "BI2NMyO4dc9C",
    "outputId": "fc6e5beb-4b82-4527-e0bc-ec7667c69307"
   },
   "outputs": [
    {
     "name": "stdout",
     "output_type": "stream",
     "text": [
      "число = 3\n"
     ]
    }
   ],
   "source": [
    "if number > 4:\n",
    "    print(\"число > 4\")\n",
    "elif number == 4:\n",
    "    print(\"число = 4\")\n",
    "elif number == 3:\n",
    "    print(\"число = 3\")\n",
    "else:\n",
    "    print(\"число < 4\")"
   ]
  },
  {
   "cell_type": "markdown",
   "metadata": {
    "id": "Air6ZWX9dc9C"
   },
   "source": [
    "Иногда нужно проверить **одновременно** несколько условий. Например, проверить, является ли данное число четным можно при помощи условия `n % 2 == 0` (остаток от деления n на 2 равен 0), а если необходимо проверить, что два данных целых числа `n` и `m` являются четными, необходимо проверить справедливость обоих условий: `n % 2 == 0` и `m % 2 == 0`, для чего их необходимо объединить при помощи оператора `and` (логическое И): `n % 2 == 0 and m % 2 == 0`."
   ]
  },
  {
   "cell_type": "markdown",
   "metadata": {
    "id": "LHTPZX51dc9D"
   },
   "source": [
    "*Логическое И* в коде обозначается как `and`. Оператор `and` возвращает `True` тогда и только тогда, когда условия слева и справа от него выполняются."
   ]
  },
  {
   "cell_type": "markdown",
   "metadata": {
    "id": "2boSVoLwdc9D"
   },
   "source": [
    "*Логическое ИЛИ* в коде обозначается как `or`. Возвращает `True` тогда и только тогда, когда выполняется хотя бы одно из условий справа или слева."
   ]
  },
  {
   "cell_type": "markdown",
   "metadata": {
    "id": "cireBuxgdc9D"
   },
   "source": [
    "*Логическое НЕ* (отрицание) в коде обозначается как `not`, за которым следует единственное условие. Логическое НЕ возвращает `True`, если условие равно `False` и наоборот."
   ]
  },
  {
   "cell_type": "code",
   "execution_count": 129,
   "metadata": {
    "colab": {
     "base_uri": "https://localhost:8080/"
    },
    "executionInfo": {
     "elapsed": 465,
     "status": "ok",
     "timestamp": 1621534932266,
     "user": {
      "displayName": "Марк Станиславович Потанин",
      "photoUrl": "https://lh3.googleusercontent.com/a-/AOh14GiGIbSWvn36SnuS11JITt7whCW2414zYLPAFnl9=s64",
      "userId": "12338896257196299013"
     },
     "user_tz": -180
    },
    "id": "tgoL37eJdc9D",
    "outputId": "f8b81741-53db-4074-dfe5-e90dd1154881"
   },
   "outputs": [
    {
     "name": "stdout",
     "output_type": "stream",
     "text": [
      "Оба числа четные\n"
     ]
    }
   ],
   "source": [
    "n = 4\n",
    "m = 3\n",
    "if (n % 2 == 0) or (m % 2 == 0):\n",
    "    print(\"Оба числа четные\")\n",
    "else:\n",
    "    print(\"Одно (или оба) из чисел - нечетные\")"
   ]
  },
  {
   "cell_type": "code",
   "execution_count": 130,
   "metadata": {
    "colab": {
     "base_uri": "https://localhost:8080/"
    },
    "executionInfo": {
     "elapsed": 448,
     "status": "ok",
     "timestamp": 1621534868886,
     "user": {
      "displayName": "Марк Станиславович Потанин",
      "photoUrl": "https://lh3.googleusercontent.com/a-/AOh14GiGIbSWvn36SnuS11JITt7whCW2414zYLPAFnl9=s64",
      "userId": "12338896257196299013"
     },
     "user_tz": -180
    },
    "id": "3EfhIk56dc9D",
    "outputId": "2e4b106a-5829-42a5-dadd-c4ea0edad109"
   },
   "outputs": [
    {
     "name": "stdout",
     "output_type": "stream",
     "text": [
      "Хотя бы одно из чисел четное\n"
     ]
    }
   ],
   "source": [
    "if (n % 2 == 0) or (m % 2 == 0):\n",
    "    print(\"Хотя бы одно из чисел четное\")\n",
    "else:\n",
    "    print(\"Оба числа - нечетные\")"
   ]
  },
  {
   "cell_type": "code",
   "execution_count": 131,
   "metadata": {
    "executionInfo": {
     "elapsed": 559,
     "status": "ok",
     "timestamp": 1621534870525,
     "user": {
      "displayName": "Марк Станиславович Потанин",
      "photoUrl": "https://lh3.googleusercontent.com/a-/AOh14GiGIbSWvn36SnuS11JITt7whCW2414zYLPAFnl9=s64",
      "userId": "12338896257196299013"
     },
     "user_tz": -180
    },
    "id": "qbSAdi4Gdc9E"
   },
   "outputs": [],
   "source": [
    "a = 10"
   ]
  },
  {
   "cell_type": "code",
   "execution_count": 132,
   "metadata": {
    "colab": {
     "base_uri": "https://localhost:8080/"
    },
    "executionInfo": {
     "elapsed": 477,
     "status": "ok",
     "timestamp": 1621534877433,
     "user": {
      "displayName": "Марк Станиславович Потанин",
      "photoUrl": "https://lh3.googleusercontent.com/a-/AOh14GiGIbSWvn36SnuS11JITt7whCW2414zYLPAFnl9=s64",
      "userId": "12338896257196299013"
     },
     "user_tz": -180
    },
    "id": "QOMEWWrSdc9E",
    "outputId": "dd637714-4abd-4bcf-a469-93db51b83cad"
   },
   "outputs": [
    {
     "name": "stdout",
     "output_type": "stream",
     "text": [
      "ok\n"
     ]
    }
   ],
   "source": [
    "if a == 10:\n",
    "    print('ok')\n",
    "else:\n",
    "    print('not ok')"
   ]
  },
  {
   "cell_type": "code",
   "execution_count": 133,
   "metadata": {
    "colab": {
     "base_uri": "https://localhost:8080/"
    },
    "executionInfo": {
     "elapsed": 466,
     "status": "ok",
     "timestamp": 1621534882762,
     "user": {
      "displayName": "Марк Станиславович Потанин",
      "photoUrl": "https://lh3.googleusercontent.com/a-/AOh14GiGIbSWvn36SnuS11JITt7whCW2414zYLPAFnl9=s64",
      "userId": "12338896257196299013"
     },
     "user_tz": -180
    },
    "id": "io-THUavdc9E",
    "outputId": "880ee0a5-83da-4612-8d61-8e7344c1ee62",
    "scrolled": true
   },
   "outputs": [
    {
     "name": "stdout",
     "output_type": "stream",
     "text": [
      "not ok\n"
     ]
    }
   ],
   "source": [
    "if not a == 10: #условие True, тогда not условие - False, и выполняется инструкция else\n",
    "    print('ok')\n",
    "else:\n",
    "    print('not ok')"
   ]
  },
  {
   "cell_type": "markdown",
   "metadata": {
    "id": "cIEGSCD8dc9E"
   },
   "source": [
    "Вместо операторов `and` и `or` можно использовать символы `&` и `|` соответственно."
   ]
  },
  {
   "cell_type": "code",
   "execution_count": 134,
   "metadata": {
    "colab": {
     "base_uri": "https://localhost:8080/"
    },
    "executionInfo": {
     "elapsed": 773,
     "status": "ok",
     "timestamp": 1621534970777,
     "user": {
      "displayName": "Марк Станиславович Потанин",
      "photoUrl": "https://lh3.googleusercontent.com/a-/AOh14GiGIbSWvn36SnuS11JITt7whCW2414zYLPAFnl9=s64",
      "userId": "12338896257196299013"
     },
     "user_tz": -180
    },
    "id": "8KaPIaUYdc9E",
    "outputId": "4b3a6824-b84f-490a-e489-86105f10e145"
   },
   "outputs": [
    {
     "name": "stdout",
     "output_type": "stream",
     "text": [
      "условие не выполнено\n"
     ]
    }
   ],
   "source": [
    "a = 5\n",
    "if (a%2==0) & (a>0):\n",
    "    print('число положительное и четное')\n",
    "else:\n",
    "    print('условие не выполнено')"
   ]
  },
  {
   "cell_type": "code",
   "execution_count": 135,
   "metadata": {
    "colab": {
     "base_uri": "https://localhost:8080/"
    },
    "executionInfo": {
     "elapsed": 399,
     "status": "ok",
     "timestamp": 1621534971721,
     "user": {
      "displayName": "Марк Станиславович Потанин",
      "photoUrl": "https://lh3.googleusercontent.com/a-/AOh14GiGIbSWvn36SnuS11JITt7whCW2414zYLPAFnl9=s64",
      "userId": "12338896257196299013"
     },
     "user_tz": -180
    },
    "id": "lWV2XeI2dc9E",
    "outputId": "bc9872f4-7d30-4165-ba74-22a10219504f"
   },
   "outputs": [
    {
     "name": "stdout",
     "output_type": "stream",
     "text": [
      "число положительное ИЛИ четное\n"
     ]
    }
   ],
   "source": [
    "a = 5\n",
    "if (a%2==0) | (a > 0):\n",
    "    print('число положительное ИЛИ четное')\n",
    "else:\n",
    "    print('условие не выполнено')"
   ]
  },
  {
   "cell_type": "markdown",
   "metadata": {
    "id": "zccewrCbdc9F"
   },
   "source": [
    "#### Цикл  `for ... in ... `"
   ]
  },
  {
   "cell_type": "markdown",
   "metadata": {
    "id": "B4tvDgm8dc9F"
   },
   "source": [
    "Цикл `for` в языке программирования Python предназначен для перебора элементов из набора данных. Что значит перебор элементов? Например, у нас есть список, состоящий из ряда элементов. Сначала берем из него первый элемент, затем второй, потом третий и так далее. С каждым элементом мы выполняем одни и те же действия в теле `for`. Нам не надо извлекать элементы по их индексам и заботится, на каком из них список заканчивается, и следующая итерация бессмысленна. Цикл `for` сам переберет и определит конец."
   ]
  },
  {
   "cell_type": "markdown",
   "metadata": {
    "id": "z6W3RuOtdc9F"
   },
   "source": [
    "После ключевого слова `for` используется переменная под именем `element`. Имя здесь может быть любым. Нередко используют `i`. На каждой итерации цикла `for` ей будет присвоен очередной элемент из списка. Когда элементы в списке заканчиваются, цикл `for` завершает свою работу. Перевести конструкцию с языка программирования на человеческий можно так: для каждого элемента в списке делать следующее (то, что в теле цикла)."
   ]
  },
  {
   "cell_type": "code",
   "execution_count": 136,
   "metadata": {
    "executionInfo": {
     "elapsed": 524,
     "status": "ok",
     "timestamp": 1621534987069,
     "user": {
      "displayName": "Марк Станиславович Потанин",
      "photoUrl": "https://lh3.googleusercontent.com/a-/AOh14GiGIbSWvn36SnuS11JITt7whCW2414zYLPAFnl9=s64",
      "userId": "12338896257196299013"
     },
     "user_tz": -180
    },
    "id": "g4cvQ32xdc9F"
   },
   "outputs": [],
   "source": [
    "list_of_numbers = [1, 2, 3, 4, 5]"
   ]
  },
  {
   "cell_type": "code",
   "execution_count": 138,
   "metadata": {
    "colab": {
     "base_uri": "https://localhost:8080/"
    },
    "executionInfo": {
     "elapsed": 478,
     "status": "ok",
     "timestamp": 1621535106824,
     "user": {
      "displayName": "Марк Станиславович Потанин",
      "photoUrl": "https://lh3.googleusercontent.com/a-/AOh14GiGIbSWvn36SnuS11JITt7whCW2414zYLPAFnl9=s64",
      "userId": "12338896257196299013"
     },
     "user_tz": -180
    },
    "id": "ibzXZVEodc9F",
    "outputId": "8ab6d22b-bdb1-448c-c1ba-78d3fe942141"
   },
   "outputs": [
    {
     "name": "stdout",
     "output_type": "stream",
     "text": [
      "1\n",
      "2\n",
      "3\n",
      "4\n",
      "5\n"
     ]
    }
   ],
   "source": [
    "for i in list_of_numbers: # Итерация по списку\n",
    "    print(i)"
   ]
  },
  {
   "cell_type": "code",
   "execution_count": 139,
   "metadata": {
    "colab": {
     "base_uri": "https://localhost:8080/"
    },
    "executionInfo": {
     "elapsed": 478,
     "status": "ok",
     "timestamp": 1621535122458,
     "user": {
      "displayName": "Марк Станиславович Потанин",
      "photoUrl": "https://lh3.googleusercontent.com/a-/AOh14GiGIbSWvn36SnuS11JITt7whCW2414zYLPAFnl9=s64",
      "userId": "12338896257196299013"
     },
     "user_tz": -180
    },
    "id": "tgoffIEodc9G",
    "outputId": "c819742f-6330-4c4e-f204-38d1dda44edc"
   },
   "outputs": [
    {
     "name": "stdout",
     "output_type": "stream",
     "text": [
      "2\n",
      "4\n",
      "6\n",
      "8\n",
      "10\n"
     ]
    }
   ],
   "source": [
    "for i in list_of_numbers: # Итерация по списку, и умножение каждого элемента на 2\n",
    "    print(i*2)"
   ]
  },
  {
   "cell_type": "code",
   "execution_count": 140,
   "metadata": {
    "executionInfo": {
     "elapsed": 442,
     "status": "ok",
     "timestamp": 1621535127988,
     "user": {
      "displayName": "Марк Станиславович Потанин",
      "photoUrl": "https://lh3.googleusercontent.com/a-/AOh14GiGIbSWvn36SnuS11JITt7whCW2414zYLPAFnl9=s64",
      "userId": "12338896257196299013"
     },
     "user_tz": -180
    },
    "id": "pIr_wuoJdc9G"
   },
   "outputs": [],
   "source": [
    "some_string = \"Hello\" "
   ]
  },
  {
   "cell_type": "code",
   "execution_count": 141,
   "metadata": {
    "colab": {
     "base_uri": "https://localhost:8080/"
    },
    "executionInfo": {
     "elapsed": 579,
     "status": "ok",
     "timestamp": 1621535151238,
     "user": {
      "displayName": "Марк Станиславович Потанин",
      "photoUrl": "https://lh3.googleusercontent.com/a-/AOh14GiGIbSWvn36SnuS11JITt7whCW2414zYLPAFnl9=s64",
      "userId": "12338896257196299013"
     },
     "user_tz": -180
    },
    "id": "0j50mm0hdc9G",
    "outputId": "a11310e6-da82-4db7-c6de-6a25d1e17909"
   },
   "outputs": [
    {
     "name": "stdout",
     "output_type": "stream",
     "text": [
      "HH\n",
      "ee\n",
      "ll\n",
      "ll\n",
      "oo\n"
     ]
    }
   ],
   "source": [
    "for element in some_string: # Итерация по строке\n",
    "    print(element * 2)"
   ]
  },
  {
   "cell_type": "code",
   "execution_count": 142,
   "metadata": {
    "executionInfo": {
     "elapsed": 604,
     "status": "ok",
     "timestamp": 1621535161611,
     "user": {
      "displayName": "Марк Станиславович Потанин",
      "photoUrl": "https://lh3.googleusercontent.com/a-/AOh14GiGIbSWvn36SnuS11JITt7whCW2414zYLPAFnl9=s64",
      "userId": "12338896257196299013"
     },
     "user_tz": -180
    },
    "id": "LVMkkia6dc9G"
   },
   "outputs": [],
   "source": [
    "list_of_numbers = [-1, 2, -3, 4, -5]"
   ]
  },
  {
   "cell_type": "markdown",
   "metadata": {
    "id": "YFj0Esjkdc9G"
   },
   "source": [
    "Важные операторы: \n",
    "- `break` – прерывает выполнение цикла.\n",
    "- `continue` – начинает следующую итерацию цикла."
   ]
  },
  {
   "cell_type": "code",
   "execution_count": 145,
   "metadata": {
    "colab": {
     "base_uri": "https://localhost:8080/"
    },
    "executionInfo": {
     "elapsed": 456,
     "status": "ok",
     "timestamp": 1621535223690,
     "user": {
      "displayName": "Марк Станиславович Потанин",
      "photoUrl": "https://lh3.googleusercontent.com/a-/AOh14GiGIbSWvn36SnuS11JITt7whCW2414zYLPAFnl9=s64",
      "userId": "12338896257196299013"
     },
     "user_tz": -180
    },
    "id": "zrcuU8sAdc9G",
    "outputId": "f77ed6f2-8d53-4702-8757-e8130a66bb83"
   },
   "outputs": [
    {
     "name": "stdout",
     "output_type": "stream",
     "text": [
      "2\n",
      "4\n"
     ]
    }
   ],
   "source": [
    "for i in list_of_numbers: #вывести только положительные элементы в списке\n",
    "    if i < 0:\n",
    "        continue\n",
    "    else:\n",
    "        print(i)"
   ]
  },
  {
   "cell_type": "markdown",
   "metadata": {
    "id": "FMqnCeXBdc9H"
   },
   "source": [
    "В следующем примере мы выведем только отрицательные элементы в списке, и остановим выполнение, как только достигнем первого положительного элемента."
   ]
  },
  {
   "cell_type": "code",
   "execution_count": 146,
   "metadata": {
    "colab": {
     "base_uri": "https://localhost:8080/"
    },
    "executionInfo": {
     "elapsed": 447,
     "status": "ok",
     "timestamp": 1621535314532,
     "user": {
      "displayName": "Марк Станиславович Потанин",
      "photoUrl": "https://lh3.googleusercontent.com/a-/AOh14GiGIbSWvn36SnuS11JITt7whCW2414zYLPAFnl9=s64",
      "userId": "12338896257196299013"
     },
     "user_tz": -180
    },
    "id": "hWaECvqcdc9H",
    "outputId": "d7ac35d3-c7a5-4344-d2b8-cf328adb2292"
   },
   "outputs": [
    {
     "name": "stdout",
     "output_type": "stream",
     "text": [
      "-1\n"
     ]
    }
   ],
   "source": [
    "for i in list_of_numbers: #вывести только отрицательные элементы в списке, и остановить выполнение\n",
    "    if i > 0:\n",
    "        break\n",
    "    else:\n",
    "        print(i)"
   ]
  },
  {
   "cell_type": "markdown",
   "metadata": {
    "id": "5FIpQxMedc9H"
   },
   "source": [
    "#### Цикл `for ... in range(...)`"
   ]
  },
  {
   "cell_type": "markdown",
   "metadata": {
    "id": "1eMV7hpodc9H"
   },
   "source": [
    "Так же цикл `for` используются либо для повторения какой-либо последовательности действий заданное число раз. Для повторения цикла некоторое заданное число раз `n` можно использовать цикл `for` вместе с функцией `range`. \n",
    "\n",
    "Функция `range` может принимать один, два или три аргумента. Если задан только один, то генерируются числа от 0 до указанного числа, не включая его. Если заданы два, то числа генерируются от первого до второго, не включая его. Если заданы три, то третье число – это шаг. Легче увидеть на примерах."
   ]
  },
  {
   "cell_type": "code",
   "execution_count": 147,
   "metadata": {
    "colab": {
     "base_uri": "https://localhost:8080/"
    },
    "executionInfo": {
     "elapsed": 473,
     "status": "ok",
     "timestamp": 1621535419927,
     "user": {
      "displayName": "Марк Станиславович Потанин",
      "photoUrl": "https://lh3.googleusercontent.com/a-/AOh14GiGIbSWvn36SnuS11JITt7whCW2414zYLPAFnl9=s64",
      "userId": "12338896257196299013"
     },
     "user_tz": -180
    },
    "id": "g7df5dZUdc9H",
    "outputId": "688c3206-fcfa-444c-b54c-82ecb4e3bb88",
    "scrolled": true
   },
   "outputs": [
    {
     "name": "stdout",
     "output_type": "stream",
     "text": [
      "2\n",
      "3\n",
      "4\n",
      "5\n",
      "6\n",
      "7\n",
      "8\n",
      "9\n"
     ]
    }
   ],
   "source": [
    "for i in range(2,10):\n",
    "    print(i)"
   ]
  },
  {
   "cell_type": "code",
   "execution_count": 148,
   "metadata": {
    "colab": {
     "base_uri": "https://localhost:8080/"
    },
    "executionInfo": {
     "elapsed": 609,
     "status": "ok",
     "timestamp": 1621535464264,
     "user": {
      "displayName": "Марк Станиславович Потанин",
      "photoUrl": "https://lh3.googleusercontent.com/a-/AOh14GiGIbSWvn36SnuS11JITt7whCW2414zYLPAFnl9=s64",
      "userId": "12338896257196299013"
     },
     "user_tz": -180
    },
    "id": "aNgm3zvVdc9H",
    "outputId": "6406201c-d679-4bef-f0a2-62b8ff1feab6"
   },
   "outputs": [
    {
     "name": "stdout",
     "output_type": "stream",
     "text": [
      "5\n",
      "6\n",
      "7\n",
      "8\n",
      "9\n"
     ]
    }
   ],
   "source": [
    "for i in range(5, 10):\n",
    "    print(i)"
   ]
  },
  {
   "cell_type": "code",
   "execution_count": 149,
   "metadata": {
    "colab": {
     "base_uri": "https://localhost:8080/"
    },
    "executionInfo": {
     "elapsed": 488,
     "status": "ok",
     "timestamp": 1621535522889,
     "user": {
      "displayName": "Марк Станиславович Потанин",
      "photoUrl": "https://lh3.googleusercontent.com/a-/AOh14GiGIbSWvn36SnuS11JITt7whCW2414zYLPAFnl9=s64",
      "userId": "12338896257196299013"
     },
     "user_tz": -180
    },
    "id": "3YvUoao2dc9H",
    "outputId": "d5f6554d-a3f1-4ba1-8a50-f19be634bc65"
   },
   "outputs": [
    {
     "name": "stdout",
     "output_type": "stream",
     "text": [
      "1\n",
      "3\n",
      "5\n",
      "7\n",
      "9\n"
     ]
    }
   ],
   "source": [
    "for i in range(1, 10, 2): # (от, до, шаг)\n",
    "    print(i)"
   ]
  },
  {
   "cell_type": "code",
   "execution_count": 150,
   "metadata": {
    "colab": {
     "base_uri": "https://localhost:8080/"
    },
    "executionInfo": {
     "elapsed": 482,
     "status": "ok",
     "timestamp": 1621535546047,
     "user": {
      "displayName": "Марк Станиславович Потанин",
      "photoUrl": "https://lh3.googleusercontent.com/a-/AOh14GiGIbSWvn36SnuS11JITt7whCW2414zYLPAFnl9=s64",
      "userId": "12338896257196299013"
     },
     "user_tz": -180
    },
    "id": "fSPL5I5Edc9I",
    "outputId": "723d9187-f954-4000-b04c-6eb9d99ab8f0"
   },
   "outputs": [
    {
     "name": "stdout",
     "output_type": "stream",
     "text": [
      "10\n",
      "9\n",
      "8\n",
      "7\n",
      "6\n",
      "5\n",
      "4\n",
      "3\n",
      "2\n"
     ]
    }
   ],
   "source": [
    "for i in range(10, 1, -1): # Можно следовать назад, но с отрицательным шагом\n",
    "    print(i)"
   ]
  },
  {
   "cell_type": "code",
   "execution_count": 151,
   "metadata": {},
   "outputs": [
    {
     "data": {
      "text/plain": [
       "range(1, 6)"
      ]
     },
     "execution_count": 151,
     "metadata": {},
     "output_type": "execute_result"
    }
   ],
   "source": [
    "range(1,6)"
   ]
  },
  {
   "cell_type": "code",
   "execution_count": 152,
   "metadata": {},
   "outputs": [
    {
     "data": {
      "text/plain": [
       "[1, 2, 3, 4, 5]"
      ]
     },
     "execution_count": 152,
     "metadata": {},
     "output_type": "execute_result"
    }
   ],
   "source": [
    "list(range(1,6))"
   ]
  },
  {
   "cell_type": "markdown",
   "metadata": {
    "id": "vXzyrNg_dc9I"
   },
   "source": [
    "#### Цикл `while`"
   ]
  },
  {
   "cell_type": "markdown",
   "metadata": {
    "id": "RoBMiWYgdc9I"
   },
   "source": [
    "Цикл `while` (“пока”) позволяет выполнить одну и ту же последовательность действий, пока проверяемое условие истинно. Условие записывается до тела цикла и проверяется до выполнения тела цикла. Как правило, цикл while используется, когда невозможно определить точное значение количества проходов исполнения цикла."
   ]
  },
  {
   "cell_type": "code",
   "execution_count": 153,
   "metadata": {
    "colab": {
     "base_uri": "https://localhost:8080/"
    },
    "executionInfo": {
     "elapsed": 487,
     "status": "ok",
     "timestamp": 1621535741481,
     "user": {
      "displayName": "Марк Станиславович Потанин",
      "photoUrl": "https://lh3.googleusercontent.com/a-/AOh14GiGIbSWvn36SnuS11JITt7whCW2414zYLPAFnl9=s64",
      "userId": "12338896257196299013"
     },
     "user_tz": -180
    },
    "id": "NOH_ktg1dc9I",
    "outputId": "6a22dc81-7ab9-4d1d-81a3-84a12ad56a8d"
   },
   "outputs": [
    {
     "name": "stdout",
     "output_type": "stream",
     "text": [
      "10\n",
      "9\n",
      "8\n",
      "7\n",
      "6\n",
      "5\n",
      "4\n",
      "3\n",
      "2\n",
      "1\n"
     ]
    }
   ],
   "source": [
    "number = 10\n",
    "while number >0:\n",
    "    print(number)\n",
    "    number = number - 1"
   ]
  },
  {
   "cell_type": "markdown",
   "metadata": {
    "id": "tCX5se06dc9I"
   },
   "source": [
    "Если же мы построим цикл так, что условие цикла **всегда** будет истинно, то мы создадим так называемый *бесконечный* цикл. Таких ситуаций лучше избегать. Остановить выполнение ячейки с бесконечным циклом можно нажав кнопку **стоп** (квадратик рядом с кнопкой Run)."
   ]
  },
  {
   "cell_type": "code",
   "execution_count": 154,
   "metadata": {
    "colab": {
     "base_uri": "https://localhost:8080/",
     "height": 215
    },
    "executionInfo": {
     "elapsed": 13060,
     "status": "error",
     "timestamp": 1621535772050,
     "user": {
      "displayName": "Марк Станиславович Потанин",
      "photoUrl": "https://lh3.googleusercontent.com/a-/AOh14GiGIbSWvn36SnuS11JITt7whCW2414zYLPAFnl9=s64",
      "userId": "12338896257196299013"
     },
     "user_tz": -180
    },
    "id": "swVb1L0ddc9I",
    "outputId": "bdb8b615-879c-46ea-bf05-3948eb1337c7"
   },
   "outputs": [
    {
     "ename": "KeyboardInterrupt",
     "evalue": "",
     "output_type": "error",
     "traceback": [
      "\u001b[0;31m---------------------------------------------------------------------------\u001b[0m",
      "\u001b[0;31mKeyboardInterrupt\u001b[0m                         Traceback (most recent call last)",
      "Cell \u001b[0;32mIn[154], line 2\u001b[0m\n\u001b[1;32m      1\u001b[0m number \u001b[38;5;241m=\u001b[39m \u001b[38;5;241m1\u001b[39m \n\u001b[0;32m----> 2\u001b[0m \u001b[38;5;28;01mwhile\u001b[39;00m number \u001b[38;5;241m>\u001b[39m \u001b[38;5;241m0\u001b[39m:\n\u001b[1;32m      3\u001b[0m     number\u001b[38;5;241m+\u001b[39m\u001b[38;5;241m=\u001b[39m\u001b[38;5;241m1\u001b[39m\n",
      "\u001b[0;31mKeyboardInterrupt\u001b[0m: "
     ]
    }
   ],
   "source": [
    "number = 1 \n",
    "while number > 0:\n",
    "    number+=1\n",
    "    "
   ]
  },
  {
   "cell_type": "markdown",
   "metadata": {
    "id": "xnTKbfiSdc9I"
   },
   "source": [
    "А еще циклы могут быть вложенными. Это когда мы вкладываем один цикл в другой. Таким образом, на каждую итерацию первого цикла приходятся все итерации вложенного."
   ]
  },
  {
   "cell_type": "code",
   "execution_count": 155,
   "metadata": {
    "colab": {
     "base_uri": "https://localhost:8080/"
    },
    "executionInfo": {
     "elapsed": 469,
     "status": "ok",
     "timestamp": 1621535876777,
     "user": {
      "displayName": "Марк Станиславович Потанин",
      "photoUrl": "https://lh3.googleusercontent.com/a-/AOh14GiGIbSWvn36SnuS11JITt7whCW2414zYLPAFnl9=s64",
      "userId": "12338896257196299013"
     },
     "user_tz": -180
    },
    "id": "_U2bisEOdc9I",
    "outputId": "b29e4cab-1a2e-4c43-8e06-ffc6c455c42b"
   },
   "outputs": [
    {
     "name": "stdout",
     "output_type": "stream",
     "text": [
      "0 0\n",
      "0 1\n",
      "0 2\n",
      "0 3\n",
      "0 4\n",
      "1 0\n",
      "1 1\n",
      "1 2\n",
      "1 3\n",
      "1 4\n",
      "2 0\n",
      "2 1\n",
      "2 2\n",
      "2 3\n",
      "2 4\n",
      "3 0\n",
      "3 1\n",
      "3 2\n",
      "3 3\n",
      "3 4\n",
      "4 0\n",
      "4 1\n",
      "4 2\n",
      "4 3\n",
      "4 4\n"
     ]
    }
   ],
   "source": [
    "for i in range(5):\n",
    "    for j in range(5):\n",
    "            print(i, j)"
   ]
  },
  {
   "cell_type": "markdown",
   "metadata": {
    "id": "eCaRVTr1dc9J"
   },
   "source": [
    "---"
   ]
  },
  {
   "cell_type": "markdown",
   "metadata": {
    "id": "TA2zeSbldc9J"
   },
   "source": [
    "## Функции"
   ]
  },
  {
   "cell_type": "markdown",
   "metadata": {
    "id": "ja2Qwa_Udc9J"
   },
   "source": [
    "Функции – это многократно используемые фрагменты программы. Они позволяют дать имя определённому блоку команд с тем, чтобы впоследствии запускать этот блок по указанному имени в любом месте программы и сколь угодно много раз. Это называется вызовом функции."
   ]
  },
  {
   "cell_type": "markdown",
   "metadata": {
    "id": "Yp3gUf3odc9J"
   },
   "source": [
    "Функции определяются при помощи зарезервированного слова `def`. После этого слова указывается **имя** функции, за которым следует пара **скобок**, в которых можно указать имена некоторых **переменных**, и заключительное **двоеточие** в конце строки. Далее следует блок команд, составляющих функцию. В конце используется инструкция `return` говорит, что нужно вернуть значение.\n",
    "\n",
    "\n",
    "Функция может принимать произвольное количество аргументов или не принимать их вовсе. "
   ]
  },
  {
   "cell_type": "markdown",
   "metadata": {
    "id": "E6L_NilIdc9J"
   },
   "source": [
    "Функция не принимает аргументов и не возвращает значение. А просто выводит строку на экран. Такая функция полностью аналогична следующей команде : `print(\"простая функция\")`."
   ]
  },
  {
   "cell_type": "code",
   "execution_count": 95,
   "metadata": {
    "executionInfo": {
     "elapsed": 495,
     "status": "ok",
     "timestamp": 1621536010615,
     "user": {
      "displayName": "Марк Станиславович Потанин",
      "photoUrl": "https://lh3.googleusercontent.com/a-/AOh14GiGIbSWvn36SnuS11JITt7whCW2414zYLPAFnl9=s64",
      "userId": "12338896257196299013"
     },
     "user_tz": -180
    },
    "id": "hYzaw85cdc9J"
   },
   "outputs": [],
   "source": [
    "def simple_funct():\n",
    "    print(\"простая функция\")"
   ]
  },
  {
   "cell_type": "code",
   "execution_count": 96,
   "metadata": {
    "colab": {
     "base_uri": "https://localhost:8080/"
    },
    "executionInfo": {
     "elapsed": 504,
     "status": "ok",
     "timestamp": 1621536042734,
     "user": {
      "displayName": "Марк Станиславович Потанин",
      "photoUrl": "https://lh3.googleusercontent.com/a-/AOh14GiGIbSWvn36SnuS11JITt7whCW2414zYLPAFnl9=s64",
      "userId": "12338896257196299013"
     },
     "user_tz": -180
    },
    "id": "n56HapZtdc9J",
    "outputId": "a4fbf9e1-db7e-4f55-ee3a-530adf3a52d7"
   },
   "outputs": [
    {
     "name": "stdout",
     "output_type": "stream",
     "text": [
      "простая функция\n",
      "простая функция\n",
      "простая функция\n",
      "простая функция\n",
      "простая функция\n"
     ]
    }
   ],
   "source": [
    "for i in range(5):\n",
    "    simple_funct()"
   ]
  },
  {
   "cell_type": "code",
   "execution_count": 97,
   "metadata": {
    "executionInfo": {
     "elapsed": 480,
     "status": "ok",
     "timestamp": 1621536094716,
     "user": {
      "displayName": "Марк Станиславович Потанин",
      "photoUrl": "https://lh3.googleusercontent.com/a-/AOh14GiGIbSWvn36SnuS11JITt7whCW2414zYLPAFnl9=s64",
      "userId": "12338896257196299013"
     },
     "user_tz": -180
    },
    "id": "MibPWssPdc9J"
   },
   "outputs": [],
   "source": [
    "def my_name(name):\n",
    "    print('Мое имя '+name)"
   ]
  },
  {
   "cell_type": "markdown",
   "metadata": {
    "id": "ortga1JHdc9K"
   },
   "source": [
    "Вместо того, чтобы каждый раз писать строку "
   ]
  },
  {
   "cell_type": "code",
   "execution_count": 98,
   "metadata": {
    "colab": {
     "base_uri": "https://localhost:8080/"
    },
    "executionInfo": {
     "elapsed": 493,
     "status": "ok",
     "timestamp": 1621536121070,
     "user": {
      "displayName": "Марк Станиславович Потанин",
      "photoUrl": "https://lh3.googleusercontent.com/a-/AOh14GiGIbSWvn36SnuS11JITt7whCW2414zYLPAFnl9=s64",
      "userId": "12338896257196299013"
     },
     "user_tz": -180
    },
    "id": "6M2Pggh5dc9K",
    "outputId": "621c8e1c-a47d-4ea2-aa06-1d0154e46a51"
   },
   "outputs": [
    {
     "name": "stdout",
     "output_type": "stream",
     "text": [
      "Мое имя Mark\n"
     ]
    }
   ],
   "source": [
    "my_name('Mark')"
   ]
  },
  {
   "cell_type": "code",
   "execution_count": 99,
   "metadata": {
    "colab": {
     "base_uri": "https://localhost:8080/"
    },
    "executionInfo": {
     "elapsed": 488,
     "status": "ok",
     "timestamp": 1621536126164,
     "user": {
      "displayName": "Марк Станиславович Потанин",
      "photoUrl": "https://lh3.googleusercontent.com/a-/AOh14GiGIbSWvn36SnuS11JITt7whCW2414zYLPAFnl9=s64",
      "userId": "12338896257196299013"
     },
     "user_tz": -180
    },
    "id": "JDBgNgEzdc9K",
    "outputId": "6ffdf8f2-66bd-419c-d5b3-9df86412fac2"
   },
   "outputs": [
    {
     "name": "stdout",
     "output_type": "stream",
     "text": [
      "Мое имя Ivan\n"
     ]
    }
   ],
   "source": [
    "my_name('Ivan')"
   ]
  },
  {
   "cell_type": "code",
   "execution_count": 100,
   "metadata": {
    "executionInfo": {
     "elapsed": 713,
     "status": "ok",
     "timestamp": 1621536177394,
     "user": {
      "displayName": "Марк Станиславович Потанин",
      "photoUrl": "https://lh3.googleusercontent.com/a-/AOh14GiGIbSWvn36SnuS11JITt7whCW2414zYLPAFnl9=s64",
      "userId": "12338896257196299013"
     },
     "user_tz": -180
    },
    "id": "TbOnRCNKdc9K"
   },
   "outputs": [],
   "source": [
    "def my_name(name):\n",
    "    return 'Мое имя '+name"
   ]
  },
  {
   "cell_type": "markdown",
   "metadata": {
    "id": "0pXPR3Y9dc9K"
   },
   "source": [
    "Теперь мы использовали инструкцию `return`, поэтому функция возвращает значение. В примере выше ниже функция `my_name` вернет строку с именем."
   ]
  },
  {
   "cell_type": "code",
   "execution_count": 101,
   "metadata": {
    "executionInfo": {
     "elapsed": 518,
     "status": "ok",
     "timestamp": 1621536197715,
     "user": {
      "displayName": "Марк Станиславович Потанин",
      "photoUrl": "https://lh3.googleusercontent.com/a-/AOh14GiGIbSWvn36SnuS11JITt7whCW2414zYLPAFnl9=s64",
      "userId": "12338896257196299013"
     },
     "user_tz": -180
    },
    "id": "O4mE_CGCdc9K"
   },
   "outputs": [],
   "source": [
    "name_string = my_name('Mark')"
   ]
  },
  {
   "cell_type": "code",
   "execution_count": 102,
   "metadata": {
    "colab": {
     "base_uri": "https://localhost:8080/",
     "height": 37
    },
    "executionInfo": {
     "elapsed": 476,
     "status": "ok",
     "timestamp": 1621536220005,
     "user": {
      "displayName": "Марк Станиславович Потанин",
      "photoUrl": "https://lh3.googleusercontent.com/a-/AOh14GiGIbSWvn36SnuS11JITt7whCW2414zYLPAFnl9=s64",
      "userId": "12338896257196299013"
     },
     "user_tz": -180
    },
    "id": "hmSh5Glndc9K",
    "outputId": "b5bae830-594c-444e-bf1f-0e05a16cee4f"
   },
   "outputs": [
    {
     "data": {
      "text/plain": [
       "'Мое имя Mark'"
      ]
     },
     "execution_count": 102,
     "metadata": {},
     "output_type": "execute_result"
    }
   ],
   "source": [
    "name_string"
   ]
  },
  {
   "cell_type": "code",
   "execution_count": 103,
   "metadata": {
    "executionInfo": {
     "elapsed": 540,
     "status": "ok",
     "timestamp": 1621536274341,
     "user": {
      "displayName": "Марк Станиславович Потанин",
      "photoUrl": "https://lh3.googleusercontent.com/a-/AOh14GiGIbSWvn36SnuS11JITt7whCW2414zYLPAFnl9=s64",
      "userId": "12338896257196299013"
     },
     "user_tz": -180
    },
    "id": "rDcJ-7M0dc9K"
   },
   "outputs": [],
   "source": [
    "def my_new_summ(a, b): # Два обязательных аргумента: a и b\n",
    "    return a + b"
   ]
  },
  {
   "cell_type": "code",
   "execution_count": 104,
   "metadata": {
    "colab": {
     "base_uri": "https://localhost:8080/"
    },
    "executionInfo": {
     "elapsed": 452,
     "status": "ok",
     "timestamp": 1621536294236,
     "user": {
      "displayName": "Марк Станиславович Потанин",
      "photoUrl": "https://lh3.googleusercontent.com/a-/AOh14GiGIbSWvn36SnuS11JITt7whCW2414zYLPAFnl9=s64",
      "userId": "12338896257196299013"
     },
     "user_tz": -180
    },
    "id": "ArM7qHWFdc9K",
    "outputId": "0318840b-6fd9-4039-b179-89f9ad6809b5"
   },
   "outputs": [
    {
     "data": {
      "text/plain": [
       "7"
      ]
     },
     "execution_count": 104,
     "metadata": {},
     "output_type": "execute_result"
    }
   ],
   "source": [
    "my_new_summ(3, 4)"
   ]
  },
  {
   "cell_type": "markdown",
   "metadata": {
    "id": "RVfgfb6Ydc9L"
   },
   "source": [
    "Давайте напишем каку-нибудь полезную функцию, например ту, которая вычисляет корни квадратного уравнения. Квадратное уравнение имеет вид\n",
    "\n",
    "$$ax^2+bx+c = 0$$\n",
    "\n",
    "При его решении сначала вычисляют дискриминант по формуле\n",
    "\n",
    "$$D = b^2 - 4ac$$\n",
    "\n",
    "Если $D > 0$, то квадратное уравнение имеет два корня; если $D = 0$, то 1 корень; и если $D < 0$, то делают вывод, что корней нет. Таким образом, программа для нахождения корней квадратного уравнения может иметь три ветви условного оператора. А функция, которая будет находить эти корни, имеет три аргумента - коэффициенты квадратного уравнения $a, b, c$."
   ]
  },
  {
   "cell_type": "code",
   "execution_count": 105,
   "metadata": {
    "executionInfo": {
     "elapsed": 494,
     "status": "ok",
     "timestamp": 1621536367023,
     "user": {
      "displayName": "Марк Станиславович Потанин",
      "photoUrl": "https://lh3.googleusercontent.com/a-/AOh14GiGIbSWvn36SnuS11JITt7whCW2414zYLPAFnl9=s64",
      "userId": "12338896257196299013"
     },
     "user_tz": -180
    },
    "id": "nck3C33Kdc9L"
   },
   "outputs": [],
   "source": [
    "def solve_quadratic(a,b,c):\n",
    "    discr = b ** 2 - 4 * a * c\n",
    "    print(\"Дискриминант D = {}\".format(discr))\n",
    "\n",
    "    if discr > 0:\n",
    "        x1 = (-b + discr**0.5) / (2 * a)\n",
    "        x2 = (-b - discr**0.5) / (2 * a)\n",
    "        print(\"x1 = {}\".format(x1))\n",
    "        print(\"x2 = {}\".format(x2))\n",
    "    elif discr == 0:\n",
    "        x = -b / (2 * a)\n",
    "        print(\"x = {}\".format (x))\n",
    "    else:\n",
    "        print(\"Корней нет\")"
   ]
  },
  {
   "cell_type": "markdown",
   "metadata": {
    "id": "uEX_mcbEdc9L"
   },
   "source": [
    "Пусть мы хотим решить уравнение\n",
    "$$4x^2-9x+2 = 0$$"
   ]
  },
  {
   "cell_type": "code",
   "execution_count": 106,
   "metadata": {
    "colab": {
     "base_uri": "https://localhost:8080/"
    },
    "executionInfo": {
     "elapsed": 523,
     "status": "ok",
     "timestamp": 1621536398571,
     "user": {
      "displayName": "Марк Станиславович Потанин",
      "photoUrl": "https://lh3.googleusercontent.com/a-/AOh14GiGIbSWvn36SnuS11JITt7whCW2414zYLPAFnl9=s64",
      "userId": "12338896257196299013"
     },
     "user_tz": -180
    },
    "id": "SjsRcUeidc9L",
    "outputId": "fefcdcb7-374c-4330-8836-eb0c72a6d739"
   },
   "outputs": [
    {
     "name": "stdout",
     "output_type": "stream",
     "text": [
      "Дискриминант D = 383516\n",
      "x1 = 1.8844959590713644\n",
      "x2 = 0.37404062629448953\n"
     ]
    }
   ],
   "source": [
    "solve_quadratic(410,-926,289)"
   ]
  },
  {
   "cell_type": "markdown",
   "metadata": {
    "id": "7lm21f-ydc9L"
   },
   "source": [
    "__Упражнение:__ создайте функцию `print_mult_table()`, выводящую таблицу умножения от 1 до 9."
   ]
  },
  {
   "cell_type": "code",
   "execution_count": 107,
   "metadata": {
    "executionInfo": {
     "elapsed": 513,
     "status": "ok",
     "timestamp": 1621536421140,
     "user": {
      "displayName": "Марк Станиславович Потанин",
      "photoUrl": "https://lh3.googleusercontent.com/a-/AOh14GiGIbSWvn36SnuS11JITt7whCW2414zYLPAFnl9=s64",
      "userId": "12338896257196299013"
     },
     "user_tz": -180
    },
    "id": "l0XdS6WEdc9L"
   },
   "outputs": [],
   "source": [
    "def print_mult_table():\n",
    "    for i in range(1, 10):\n",
    "        for j in range(1, 10):\n",
    "            print(i,'multiply',j,'is', i * j)"
   ]
  },
  {
   "cell_type": "code",
   "execution_count": 108,
   "metadata": {
    "colab": {
     "base_uri": "https://localhost:8080/"
    },
    "executionInfo": {
     "elapsed": 610,
     "status": "ok",
     "timestamp": 1621536422612,
     "user": {
      "displayName": "Марк Станиславович Потанин",
      "photoUrl": "https://lh3.googleusercontent.com/a-/AOh14GiGIbSWvn36SnuS11JITt7whCW2414zYLPAFnl9=s64",
      "userId": "12338896257196299013"
     },
     "user_tz": -180
    },
    "id": "ek3t3SxXdc9L",
    "outputId": "90a086f8-4966-4cc7-e5f5-90f16a7480a4",
    "scrolled": true
   },
   "outputs": [
    {
     "name": "stdout",
     "output_type": "stream",
     "text": [
      "1 multiply 1 is 1\n",
      "1 multiply 2 is 2\n",
      "1 multiply 3 is 3\n",
      "1 multiply 4 is 4\n",
      "1 multiply 5 is 5\n",
      "1 multiply 6 is 6\n",
      "1 multiply 7 is 7\n",
      "1 multiply 8 is 8\n",
      "1 multiply 9 is 9\n",
      "2 multiply 1 is 2\n",
      "2 multiply 2 is 4\n",
      "2 multiply 3 is 6\n",
      "2 multiply 4 is 8\n",
      "2 multiply 5 is 10\n",
      "2 multiply 6 is 12\n",
      "2 multiply 7 is 14\n",
      "2 multiply 8 is 16\n",
      "2 multiply 9 is 18\n",
      "3 multiply 1 is 3\n",
      "3 multiply 2 is 6\n",
      "3 multiply 3 is 9\n",
      "3 multiply 4 is 12\n",
      "3 multiply 5 is 15\n",
      "3 multiply 6 is 18\n",
      "3 multiply 7 is 21\n",
      "3 multiply 8 is 24\n",
      "3 multiply 9 is 27\n",
      "4 multiply 1 is 4\n",
      "4 multiply 2 is 8\n",
      "4 multiply 3 is 12\n",
      "4 multiply 4 is 16\n",
      "4 multiply 5 is 20\n",
      "4 multiply 6 is 24\n",
      "4 multiply 7 is 28\n",
      "4 multiply 8 is 32\n",
      "4 multiply 9 is 36\n",
      "5 multiply 1 is 5\n",
      "5 multiply 2 is 10\n",
      "5 multiply 3 is 15\n",
      "5 multiply 4 is 20\n",
      "5 multiply 5 is 25\n",
      "5 multiply 6 is 30\n",
      "5 multiply 7 is 35\n",
      "5 multiply 8 is 40\n",
      "5 multiply 9 is 45\n",
      "6 multiply 1 is 6\n",
      "6 multiply 2 is 12\n",
      "6 multiply 3 is 18\n",
      "6 multiply 4 is 24\n",
      "6 multiply 5 is 30\n",
      "6 multiply 6 is 36\n",
      "6 multiply 7 is 42\n",
      "6 multiply 8 is 48\n",
      "6 multiply 9 is 54\n",
      "7 multiply 1 is 7\n",
      "7 multiply 2 is 14\n",
      "7 multiply 3 is 21\n",
      "7 multiply 4 is 28\n",
      "7 multiply 5 is 35\n",
      "7 multiply 6 is 42\n",
      "7 multiply 7 is 49\n",
      "7 multiply 8 is 56\n",
      "7 multiply 9 is 63\n",
      "8 multiply 1 is 8\n",
      "8 multiply 2 is 16\n",
      "8 multiply 3 is 24\n",
      "8 multiply 4 is 32\n",
      "8 multiply 5 is 40\n",
      "8 multiply 6 is 48\n",
      "8 multiply 7 is 56\n",
      "8 multiply 8 is 64\n",
      "8 multiply 9 is 72\n",
      "9 multiply 1 is 9\n",
      "9 multiply 2 is 18\n",
      "9 multiply 3 is 27\n",
      "9 multiply 4 is 36\n",
      "9 multiply 5 is 45\n",
      "9 multiply 6 is 54\n",
      "9 multiply 7 is 63\n",
      "9 multiply 8 is 72\n",
      "9 multiply 9 is 81\n"
     ]
    }
   ],
   "source": [
    "print_mult_table()"
   ]
  },
  {
   "cell_type": "markdown",
   "metadata": {
    "id": "4WcgBmVBdc9L"
   },
   "source": [
    "__Упражнение__: создайте функцию `get_result(a, b = 3)`, которая находит сумму `a` и `b`, если `a < b` и их произведение в обратном случае. "
   ]
  },
  {
   "cell_type": "code",
   "execution_count": 109,
   "metadata": {
    "executionInfo": {
     "elapsed": 535,
     "status": "ok",
     "timestamp": 1621536425663,
     "user": {
      "displayName": "Марк Станиславович Потанин",
      "photoUrl": "https://lh3.googleusercontent.com/a-/AOh14GiGIbSWvn36SnuS11JITt7whCW2414zYLPAFnl9=s64",
      "userId": "12338896257196299013"
     },
     "user_tz": -180
    },
    "id": "pZf6Us7Hdc9L"
   },
   "outputs": [],
   "source": [
    "def get_result(a, b):\n",
    "    if a < b:\n",
    "        return a + b\n",
    "    else:\n",
    "        return a * b"
   ]
  },
  {
   "cell_type": "code",
   "execution_count": 110,
   "metadata": {
    "colab": {
     "base_uri": "https://localhost:8080/"
    },
    "executionInfo": {
     "elapsed": 455,
     "status": "ok",
     "timestamp": 1621536426043,
     "user": {
      "displayName": "Марк Станиславович Потанин",
      "photoUrl": "https://lh3.googleusercontent.com/a-/AOh14GiGIbSWvn36SnuS11JITt7whCW2414zYLPAFnl9=s64",
      "userId": "12338896257196299013"
     },
     "user_tz": -180
    },
    "id": "scjcaIYZdc9M",
    "outputId": "aafe5f05-7a21-4878-e62a-b195cc6abdb4"
   },
   "outputs": [
    {
     "data": {
      "text/plain": [
       "8"
      ]
     },
     "execution_count": 110,
     "metadata": {},
     "output_type": "execute_result"
    }
   ],
   "source": [
    "get_result(3,5)"
   ]
  },
  {
   "cell_type": "code",
   "execution_count": 111,
   "metadata": {
    "colab": {
     "base_uri": "https://localhost:8080/"
    },
    "executionInfo": {
     "elapsed": 589,
     "status": "ok",
     "timestamp": 1621536426794,
     "user": {
      "displayName": "Марк Станиславович Потанин",
      "photoUrl": "https://lh3.googleusercontent.com/a-/AOh14GiGIbSWvn36SnuS11JITt7whCW2414zYLPAFnl9=s64",
      "userId": "12338896257196299013"
     },
     "user_tz": -180
    },
    "id": "x9Ohv1ihdc9M",
    "outputId": "6494b8e8-7e77-4eae-f6a7-b0ded0a74d31"
   },
   "outputs": [
    {
     "data": {
      "text/plain": [
       "15"
      ]
     },
     "execution_count": 111,
     "metadata": {},
     "output_type": "execute_result"
    }
   ],
   "source": [
    "get_result(5, 3)"
   ]
  }
 ],
 "metadata": {
  "colab": {
   "name": "Intro_to_Python_part2.ipynb",
   "provenance": []
  },
  "kernelspec": {
   "display_name": "Python 3 (ipykernel)",
   "language": "python",
   "name": "python3"
  },
  "language_info": {
   "codemirror_mode": {
    "name": "ipython",
    "version": 3
   },
   "file_extension": ".py",
   "mimetype": "text/x-python",
   "name": "python",
   "nbconvert_exporter": "python",
   "pygments_lexer": "ipython3",
   "version": "3.11.6"
  }
 },
 "nbformat": 4,
 "nbformat_minor": 4
}
