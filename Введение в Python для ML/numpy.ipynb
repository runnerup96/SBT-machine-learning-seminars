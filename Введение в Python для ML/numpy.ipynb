{
 "cells": [
  {
   "cell_type": "markdown",
   "metadata": {
    "id": "FNRiwqd_3LAs"
   },
   "source": [
    "## Часть 3: Знакомство с numpy.  Работа с векторами и матрицами."
   ]
  },
  {
   "cell_type": "markdown",
   "metadata": {},
   "source": [
    "Автор: Потанин Марк, mark.potanin@phystech.edu"
   ]
  },
  {
   "cell_type": "markdown",
   "metadata": {
    "id": "j68lxL173LAt"
   },
   "source": [
    "`NumPy` — это расширение языка Python, добавляющее поддержку больших многомерных массивов и матриц, вместе с большой библиотекой высокоуровневых математических функций для операций с этими массивами."
   ]
  },
  {
   "cell_type": "markdown",
   "metadata": {
    "id": "Ido1Pq2u3LAt"
   },
   "source": [
    "Основной элемент NumPy – __массивы__, о которых можно думать как о векторах (одноразмерные массивы) и матрицах (двуразмерные массивы)."
   ]
  },
  {
   "cell_type": "markdown",
   "metadata": {
    "id": "6Hzodq1q3LAt"
   },
   "source": [
    "Подключить numpy к нашей среде разработки можно с помощью команды `import numpy as np`. В дальнейшем будем обрщаться к объектам `numpy` через `np`, для краткости. "
   ]
  },
  {
   "cell_type": "code",
   "execution_count": 165,
   "metadata": {},
   "outputs": [],
   "source": [
    "#%pip install numpy"
   ]
  },
  {
   "cell_type": "code",
   "execution_count": 167,
   "metadata": {
    "executionInfo": {
     "elapsed": 265,
     "status": "ok",
     "timestamp": 1621964789118,
     "user": {
      "displayName": "Марк Станиславович Потанин",
      "photoUrl": "https://lh3.googleusercontent.com/a-/AOh14GiGIbSWvn36SnuS11JITt7whCW2414zYLPAFnl9=s64",
      "userId": "12338896257196299013"
     },
     "user_tz": -180
    },
    "id": "buk5XdBO3LAu"
   },
   "outputs": [],
   "source": [
    "import numpy as np"
   ]
  },
  {
   "cell_type": "markdown",
   "metadata": {
    "id": "W8fcngL03LAu"
   },
   "source": [
    "Главной особенностью `numpy` является объект `array`, он же массив. Массивы схожи со списками в python, исключая тот факт, что элементы массива должны иметь одинаковый тип данных, как `float` и `int`. С массивами можно проводить числовые операции с большим объемом информации в разы быстрее и, главное, намного эффективнее чем со списками.\n"
   ]
  },
  {
   "cell_type": "markdown",
   "metadata": {
    "id": "aQeyiKzl3LAv"
   },
   "source": [
    "Массив можно создать из списка при помощи функции `np.array()`."
   ]
  },
  {
   "cell_type": "code",
   "execution_count": 169,
   "metadata": {
    "executionInfo": {
     "elapsed": 436,
     "status": "ok",
     "timestamp": 1621964824938,
     "user": {
      "displayName": "Марк Станиславович Потанин",
      "photoUrl": "https://lh3.googleusercontent.com/a-/AOh14GiGIbSWvn36SnuS11JITt7whCW2414zYLPAFnl9=s64",
      "userId": "12338896257196299013"
     },
     "user_tz": -180
    },
    "id": "eMIdjfNo3LAv"
   },
   "outputs": [],
   "source": [
    "vec1 = np.array([1, 2, 3])"
   ]
  },
  {
   "cell_type": "code",
   "execution_count": 171,
   "metadata": {
    "colab": {
     "base_uri": "https://localhost:8080/"
    },
    "executionInfo": {
     "elapsed": 11,
     "status": "ok",
     "timestamp": 1621964824940,
     "user": {
      "displayName": "Марк Станиславович Потанин",
      "photoUrl": "https://lh3.googleusercontent.com/a-/AOh14GiGIbSWvn36SnuS11JITt7whCW2414zYLPAFnl9=s64",
      "userId": "12338896257196299013"
     },
     "user_tz": -180
    },
    "id": "LUI_18j13LAv",
    "outputId": "385ea7ff-ca72-4bef-9064-fb7bdd8ec62a"
   },
   "outputs": [
    {
     "data": {
      "text/plain": [
       "array([1, 2, 3])"
      ]
     },
     "execution_count": 171,
     "metadata": {},
     "output_type": "execute_result"
    }
   ],
   "source": [
    "vec1"
   ]
  },
  {
   "cell_type": "code",
   "execution_count": 172,
   "metadata": {
    "colab": {
     "base_uri": "https://localhost:8080/"
    },
    "executionInfo": {
     "elapsed": 295,
     "status": "ok",
     "timestamp": 1621964829065,
     "user": {
      "displayName": "Марк Станиславович Потанин",
      "photoUrl": "https://lh3.googleusercontent.com/a-/AOh14GiGIbSWvn36SnuS11JITt7whCW2414zYLPAFnl9=s64",
      "userId": "12338896257196299013"
     },
     "user_tz": -180
    },
    "id": "c9UX03ZJ3LAw",
    "outputId": "dba592ee-0df6-4403-d25b-b71b747add09"
   },
   "outputs": [
    {
     "data": {
      "text/plain": [
       "numpy.ndarray"
      ]
     },
     "execution_count": 172,
     "metadata": {},
     "output_type": "execute_result"
    }
   ],
   "source": [
    "type(vec1)"
   ]
  },
  {
   "cell_type": "markdown",
   "metadata": {
    "id": "Pq3WWygx3LAx"
   },
   "source": [
    "Метод `shape` позволяет получить размерность массива, в данном случае – это вектор 3х1."
   ]
  },
  {
   "cell_type": "code",
   "execution_count": 173,
   "metadata": {
    "colab": {
     "base_uri": "https://localhost:8080/"
    },
    "executionInfo": {
     "elapsed": 264,
     "status": "ok",
     "timestamp": 1621964850046,
     "user": {
      "displayName": "Марк Станиславович Потанин",
      "photoUrl": "https://lh3.googleusercontent.com/a-/AOh14GiGIbSWvn36SnuS11JITt7whCW2414zYLPAFnl9=s64",
      "userId": "12338896257196299013"
     },
     "user_tz": -180
    },
    "id": "b1OF3Y1P3LAx",
    "outputId": "58b3161e-57b3-4106-94a6-a7ba19dbca04"
   },
   "outputs": [
    {
     "data": {
      "text/plain": [
       "(3,)"
      ]
     },
     "execution_count": 173,
     "metadata": {},
     "output_type": "execute_result"
    }
   ],
   "source": [
    "vec1.shape"
   ]
  },
  {
   "cell_type": "markdown",
   "metadata": {
    "id": "_4pqFIyE3LAx"
   },
   "source": [
    "Создние матрицы."
   ]
  },
  {
   "cell_type": "code",
   "execution_count": 174,
   "metadata": {
    "executionInfo": {
     "elapsed": 382,
     "status": "ok",
     "timestamp": 1621964873275,
     "user": {
      "displayName": "Марк Станиславович Потанин",
      "photoUrl": "https://lh3.googleusercontent.com/a-/AOh14GiGIbSWvn36SnuS11JITt7whCW2414zYLPAFnl9=s64",
      "userId": "12338896257196299013"
     },
     "user_tz": -180
    },
    "id": "Nlu2RFRv3LAy"
   },
   "outputs": [],
   "source": [
    "matrix1 = np.array([[1, 2, 3],\n",
    "                    [4, 5, 6]])"
   ]
  },
  {
   "cell_type": "code",
   "execution_count": 175,
   "metadata": {
    "colab": {
     "base_uri": "https://localhost:8080/"
    },
    "executionInfo": {
     "elapsed": 404,
     "status": "ok",
     "timestamp": 1621964879276,
     "user": {
      "displayName": "Марк Станиславович Потанин",
      "photoUrl": "https://lh3.googleusercontent.com/a-/AOh14GiGIbSWvn36SnuS11JITt7whCW2414zYLPAFnl9=s64",
      "userId": "12338896257196299013"
     },
     "user_tz": -180
    },
    "id": "FGWqVnm_3LAy",
    "outputId": "31c949c5-1ae5-4b9e-81ff-69928a648ec8"
   },
   "outputs": [
    {
     "data": {
      "text/plain": [
       "(2, 3)"
      ]
     },
     "execution_count": 175,
     "metadata": {},
     "output_type": "execute_result"
    }
   ],
   "source": [
    "matrix1.shape"
   ]
  },
  {
   "cell_type": "markdown",
   "metadata": {
    "id": "YEgvOImq3LAz"
   },
   "source": [
    "Матрица размера 2х3"
   ]
  },
  {
   "cell_type": "code",
   "execution_count": 176,
   "metadata": {
    "colab": {
     "base_uri": "https://localhost:8080/"
    },
    "executionInfo": {
     "elapsed": 235,
     "status": "ok",
     "timestamp": 1621964886706,
     "user": {
      "displayName": "Марк Станиславович Потанин",
      "photoUrl": "https://lh3.googleusercontent.com/a-/AOh14GiGIbSWvn36SnuS11JITt7whCW2414zYLPAFnl9=s64",
      "userId": "12338896257196299013"
     },
     "user_tz": -180
    },
    "id": "9_wdqpx83LAz",
    "outputId": "b342c992-8b77-44e4-ef84-c83257627c73"
   },
   "outputs": [
    {
     "data": {
      "text/plain": [
       "(2, 3)"
      ]
     },
     "execution_count": 176,
     "metadata": {},
     "output_type": "execute_result"
    }
   ],
   "source": [
    "matrix1.shape"
   ]
  },
  {
   "cell_type": "markdown",
   "metadata": {
    "id": "CiC-18ZC3LAz"
   },
   "source": [
    "Функция `np.zeros()` позволяет создать массив заданного размера, заполненный нулями."
   ]
  },
  {
   "cell_type": "code",
   "execution_count": 177,
   "metadata": {
    "colab": {
     "base_uri": "https://localhost:8080/"
    },
    "executionInfo": {
     "elapsed": 413,
     "status": "ok",
     "timestamp": 1621964893974,
     "user": {
      "displayName": "Марк Станиславович Потанин",
      "photoUrl": "https://lh3.googleusercontent.com/a-/AOh14GiGIbSWvn36SnuS11JITt7whCW2414zYLPAFnl9=s64",
      "userId": "12338896257196299013"
     },
     "user_tz": -180
    },
    "id": "YD2xs3UR3LAz",
    "outputId": "8ba71b7d-c971-4f13-fea6-f4dcf891b171"
   },
   "outputs": [
    {
     "data": {
      "text/plain": [
       "array([0., 0., 0., 0., 0., 0., 0., 0., 0., 0., 0., 0., 0., 0., 0., 0., 0.,\n",
       "       0., 0., 0.])"
      ]
     },
     "execution_count": 177,
     "metadata": {},
     "output_type": "execute_result"
    }
   ],
   "source": [
    "np.zeros(20)"
   ]
  },
  {
   "cell_type": "code",
   "execution_count": 178,
   "metadata": {
    "colab": {
     "base_uri": "https://localhost:8080/"
    },
    "executionInfo": {
     "elapsed": 329,
     "status": "ok",
     "timestamp": 1621964914439,
     "user": {
      "displayName": "Марк Станиславович Потанин",
      "photoUrl": "https://lh3.googleusercontent.com/a-/AOh14GiGIbSWvn36SnuS11JITt7whCW2414zYLPAFnl9=s64",
      "userId": "12338896257196299013"
     },
     "user_tz": -180
    },
    "id": "HfdmbxLcpDRs",
    "outputId": "b0d132d6-e399-4c37-d772-0a41062f66db",
    "scrolled": true
   },
   "outputs": [
    {
     "data": {
      "text/plain": [
       "(45, 49, 50, 100)"
      ]
     },
     "execution_count": 178,
     "metadata": {},
     "output_type": "execute_result"
    }
   ],
   "source": [
    "np.zeros((45,49,50 ,100)).shape"
   ]
  },
  {
   "cell_type": "markdown",
   "metadata": {
    "id": "cBP98uIg3LA0"
   },
   "source": [
    "Аналогичная функция `np.ones()` создает массив заданного размера, заполненный единицами."
   ]
  },
  {
   "cell_type": "code",
   "execution_count": 180,
   "metadata": {
    "colab": {
     "base_uri": "https://localhost:8080/"
    },
    "executionInfo": {
     "elapsed": 273,
     "status": "ok",
     "timestamp": 1621964958325,
     "user": {
      "displayName": "Марк Станиславович Потанин",
      "photoUrl": "https://lh3.googleusercontent.com/a-/AOh14GiGIbSWvn36SnuS11JITt7whCW2414zYLPAFnl9=s64",
      "userId": "12338896257196299013"
     },
     "user_tz": -180
    },
    "id": "yqJsdQwm3LA0",
    "outputId": "52e4b376-8aaa-4851-eb77-be2f08a786be"
   },
   "outputs": [
    {
     "data": {
      "text/plain": [
       "array([[1., 1., 1., 1., 1.],\n",
       "       [1., 1., 1., 1., 1.],\n",
       "       [1., 1., 1., 1., 1.]])"
      ]
     },
     "execution_count": 180,
     "metadata": {},
     "output_type": "execute_result"
    }
   ],
   "source": [
    "np.ones((3, 5))"
   ]
  },
  {
   "cell_type": "markdown",
   "metadata": {
    "id": "OJJ8IGGc3LA0"
   },
   "source": [
    "Функция `np.full()` создает массив заполненный указанным элементом. В примере мы создаем массив размером 3x5, заполненый значением 3.14."
   ]
  },
  {
   "cell_type": "code",
   "execution_count": 181,
   "metadata": {
    "colab": {
     "base_uri": "https://localhost:8080/"
    },
    "executionInfo": {
     "elapsed": 236,
     "status": "ok",
     "timestamp": 1621964982962,
     "user": {
      "displayName": "Марк Станиславович Потанин",
      "photoUrl": "https://lh3.googleusercontent.com/a-/AOh14GiGIbSWvn36SnuS11JITt7whCW2414zYLPAFnl9=s64",
      "userId": "12338896257196299013"
     },
     "user_tz": -180
    },
    "id": "u_E6X3EU3LA1",
    "outputId": "e62b1755-b46e-4dad-815e-6728c1c635d5"
   },
   "outputs": [
    {
     "data": {
      "text/plain": [
       "array([[3.14, 3.14, 3.14, 3.14, 3.14],\n",
       "       [3.14, 3.14, 3.14, 3.14, 3.14],\n",
       "       [3.14, 3.14, 3.14, 3.14, 3.14]])"
      ]
     },
     "execution_count": 181,
     "metadata": {},
     "output_type": "execute_result"
    }
   ],
   "source": [
    "np.full((3, 5), 3.14)"
   ]
  },
  {
   "cell_type": "markdown",
   "metadata": {
    "id": "AjJP7Wy23LA1"
   },
   "source": [
    "Функция `np.arange()` позволяет создать последовательность чисел. Мы указываем начало, конец, и шаг последовательности."
   ]
  },
  {
   "cell_type": "code",
   "execution_count": 182,
   "metadata": {
    "colab": {
     "base_uri": "https://localhost:8080/"
    },
    "executionInfo": {
     "elapsed": 249,
     "status": "ok",
     "timestamp": 1621965031028,
     "user": {
      "displayName": "Марк Станиславович Потанин",
      "photoUrl": "https://lh3.googleusercontent.com/a-/AOh14GiGIbSWvn36SnuS11JITt7whCW2414zYLPAFnl9=s64",
      "userId": "12338896257196299013"
     },
     "user_tz": -180
    },
    "id": "oknMSlon3LA1",
    "outputId": "9cd519f5-b206-4554-a4d1-85eb29287571"
   },
   "outputs": [
    {
     "data": {
      "text/plain": [
       "array([ 0,  2,  4,  6,  8, 10, 12, 14, 16, 18])"
      ]
     },
     "execution_count": 182,
     "metadata": {},
     "output_type": "execute_result"
    }
   ],
   "source": [
    "np.arange(0, 20, 2)"
   ]
  },
  {
   "cell_type": "code",
   "execution_count": 183,
   "metadata": {
    "colab": {
     "base_uri": "https://localhost:8080/"
    },
    "executionInfo": {
     "elapsed": 250,
     "status": "ok",
     "timestamp": 1621965063994,
     "user": {
      "displayName": "Марк Станиславович Потанин",
      "photoUrl": "https://lh3.googleusercontent.com/a-/AOh14GiGIbSWvn36SnuS11JITt7whCW2414zYLPAFnl9=s64",
      "userId": "12338896257196299013"
     },
     "user_tz": -180
    },
    "id": "eWph_0xDpoWY",
    "outputId": "49e737e3-023d-430d-fb7c-a14fea31729c"
   },
   "outputs": [
    {
     "data": {
      "text/plain": [
       "array([0, 1, 2, 3, 4, 5, 6, 7, 8, 9])"
      ]
     },
     "execution_count": 183,
     "metadata": {},
     "output_type": "execute_result"
    }
   ],
   "source": [
    "np.arange(10)"
   ]
  },
  {
   "cell_type": "markdown",
   "metadata": {
    "id": "6hycu2os3LA1"
   },
   "source": [
    "Есть похожая функция `np.linspace()`. В ней мы указываем начало последовательности, ее конец, и количество точек в последовательности. Она автоматически разбивает указанный отрезок на интервалы."
   ]
  },
  {
   "cell_type": "code",
   "execution_count": 184,
   "metadata": {
    "colab": {
     "base_uri": "https://localhost:8080/"
    },
    "executionInfo": {
     "elapsed": 235,
     "status": "ok",
     "timestamp": 1621965093276,
     "user": {
      "displayName": "Марк Станиславович Потанин",
      "photoUrl": "https://lh3.googleusercontent.com/a-/AOh14GiGIbSWvn36SnuS11JITt7whCW2414zYLPAFnl9=s64",
      "userId": "12338896257196299013"
     },
     "user_tz": -180
    },
    "id": "bDxsUp_O3LA2",
    "outputId": "e3ae1d4b-6f79-4839-a86e-2a73c2544947"
   },
   "outputs": [
    {
     "data": {
      "text/plain": [
       "array([0.        , 0.01010101, 0.02020202, 0.03030303, 0.04040404,\n",
       "       0.05050505, 0.06060606, 0.07070707, 0.08080808, 0.09090909,\n",
       "       0.1010101 , 0.11111111, 0.12121212, 0.13131313, 0.14141414,\n",
       "       0.15151515, 0.16161616, 0.17171717, 0.18181818, 0.19191919,\n",
       "       0.2020202 , 0.21212121, 0.22222222, 0.23232323, 0.24242424,\n",
       "       0.25252525, 0.26262626, 0.27272727, 0.28282828, 0.29292929,\n",
       "       0.3030303 , 0.31313131, 0.32323232, 0.33333333, 0.34343434,\n",
       "       0.35353535, 0.36363636, 0.37373737, 0.38383838, 0.39393939,\n",
       "       0.4040404 , 0.41414141, 0.42424242, 0.43434343, 0.44444444,\n",
       "       0.45454545, 0.46464646, 0.47474747, 0.48484848, 0.49494949,\n",
       "       0.50505051, 0.51515152, 0.52525253, 0.53535354, 0.54545455,\n",
       "       0.55555556, 0.56565657, 0.57575758, 0.58585859, 0.5959596 ,\n",
       "       0.60606061, 0.61616162, 0.62626263, 0.63636364, 0.64646465,\n",
       "       0.65656566, 0.66666667, 0.67676768, 0.68686869, 0.6969697 ,\n",
       "       0.70707071, 0.71717172, 0.72727273, 0.73737374, 0.74747475,\n",
       "       0.75757576, 0.76767677, 0.77777778, 0.78787879, 0.7979798 ,\n",
       "       0.80808081, 0.81818182, 0.82828283, 0.83838384, 0.84848485,\n",
       "       0.85858586, 0.86868687, 0.87878788, 0.88888889, 0.8989899 ,\n",
       "       0.90909091, 0.91919192, 0.92929293, 0.93939394, 0.94949495,\n",
       "       0.95959596, 0.96969697, 0.97979798, 0.98989899, 1.        ])"
      ]
     },
     "execution_count": 184,
     "metadata": {},
     "output_type": "execute_result"
    }
   ],
   "source": [
    "np.linspace(0, 1, 100)"
   ]
  },
  {
   "cell_type": "markdown",
   "metadata": {
    "id": "WR4TTnuF3LA2"
   },
   "source": [
    "#### Массивы случайных чисел."
   ]
  },
  {
   "cell_type": "markdown",
   "metadata": {
    "id": "P9tw1ju23LA2"
   },
   "source": [
    "Можно создавать массивы со случайными числами при помощи функции `rand()` модуля `random`."
   ]
  },
  {
   "cell_type": "code",
   "execution_count": 186,
   "metadata": {
    "colab": {
     "base_uri": "https://localhost:8080/"
    },
    "executionInfo": {
     "elapsed": 333,
     "status": "ok",
     "timestamp": 1621965155229,
     "user": {
      "displayName": "Марк Станиславович Потанин",
      "photoUrl": "https://lh3.googleusercontent.com/a-/AOh14GiGIbSWvn36SnuS11JITt7whCW2414zYLPAFnl9=s64",
      "userId": "12338896257196299013"
     },
     "user_tz": -180
    },
    "id": "nxKuA_kl3LA3",
    "outputId": "f2c23bd7-fdda-423a-fcd2-1eb33bb8f604"
   },
   "outputs": [
    {
     "data": {
      "text/plain": [
       "array([0.53735771, 0.90685481, 0.81596003, 0.324556  ])"
      ]
     },
     "execution_count": 186,
     "metadata": {},
     "output_type": "execute_result"
    }
   ],
   "source": [
    "np.random.rand(4)"
   ]
  },
  {
   "cell_type": "markdown",
   "metadata": {
    "id": "3U8gJXSE3LA3"
   },
   "source": [
    "Для получения случайных чисел из нормального распределения используем функцию `randn()` из модуля `random`. Для создания матрицы случайных чисел надо передать функции два числа."
   ]
  },
  {
   "cell_type": "code",
   "execution_count": 187,
   "metadata": {
    "colab": {
     "base_uri": "https://localhost:8080/"
    },
    "executionInfo": {
     "elapsed": 406,
     "status": "ok",
     "timestamp": 1621965194399,
     "user": {
      "displayName": "Марк Станиславович Потанин",
      "photoUrl": "https://lh3.googleusercontent.com/a-/AOh14GiGIbSWvn36SnuS11JITt7whCW2414zYLPAFnl9=s64",
      "userId": "12338896257196299013"
     },
     "user_tz": -180
    },
    "id": "arr43C_Z3LA4",
    "outputId": "8b033323-9b16-46b3-f464-eb732699a14a"
   },
   "outputs": [
    {
     "data": {
      "text/plain": [
       "array([-1.12160914,  2.55830247, -1.03326146,  0.78152076,  0.39171662])"
      ]
     },
     "execution_count": 187,
     "metadata": {},
     "output_type": "execute_result"
    }
   ],
   "source": [
    "np.random.randn(5)"
   ]
  },
  {
   "cell_type": "code",
   "execution_count": 188,
   "metadata": {
    "colab": {
     "base_uri": "https://localhost:8080/"
    },
    "executionInfo": {
     "elapsed": 280,
     "status": "ok",
     "timestamp": 1621965279198,
     "user": {
      "displayName": "Марк Станиславович Потанин",
      "photoUrl": "https://lh3.googleusercontent.com/a-/AOh14GiGIbSWvn36SnuS11JITt7whCW2414zYLPAFnl9=s64",
      "userId": "12338896257196299013"
     },
     "user_tz": -180
    },
    "id": "JxwbROam3LA5",
    "outputId": "969bc2ec-ab9e-4d76-95b2-cd2b9c6d752d"
   },
   "outputs": [
    {
     "data": {
      "text/plain": [
       "array([[ 2.64730354, -0.51626607,  1.37031487],\n",
       "       [ 0.48690986, -1.38799246, -0.21649734],\n",
       "       [ 0.55479866,  0.24367919, -0.01510607],\n",
       "       [ 1.77033114,  0.36856016, -0.04212352],\n",
       "       [ 1.37513657,  2.23323114, -0.25445135]])"
      ]
     },
     "execution_count": 188,
     "metadata": {},
     "output_type": "execute_result"
    }
   ],
   "source": [
    "np.random.randn(5,3)"
   ]
  },
  {
   "cell_type": "markdown",
   "metadata": {
    "id": "TSQSwpxQ3LA6"
   },
   "source": [
    "Создаем массив размером 3х3 случайных целых чисел в промежутке (0, 10):"
   ]
  },
  {
   "cell_type": "code",
   "execution_count": 190,
   "metadata": {
    "colab": {
     "base_uri": "https://localhost:8080/"
    },
    "executionInfo": {
     "elapsed": 271,
     "status": "ok",
     "timestamp": 1621965308950,
     "user": {
      "displayName": "Марк Станиславович Потанин",
      "photoUrl": "https://lh3.googleusercontent.com/a-/AOh14GiGIbSWvn36SnuS11JITt7whCW2414zYLPAFnl9=s64",
      "userId": "12338896257196299013"
     },
     "user_tz": -180
    },
    "id": "7ygUS0y33LA7",
    "outputId": "5bc7160d-59dd-4208-cc05-ba59fcb71444"
   },
   "outputs": [
    {
     "data": {
      "text/plain": [
       "array([[6, 6, 3],\n",
       "       [0, 2, 9],\n",
       "       [4, 4, 0]])"
      ]
     },
     "execution_count": 190,
     "metadata": {},
     "output_type": "execute_result"
    }
   ],
   "source": [
    "np.random.randint(0, 10, (3, 3))"
   ]
  },
  {
   "cell_type": "markdown",
   "metadata": {
    "id": "22gdR4pV3LA8"
   },
   "source": [
    "Создаем единичную матрицу размером 3х3:"
   ]
  },
  {
   "cell_type": "code",
   "execution_count": 191,
   "metadata": {
    "colab": {
     "base_uri": "https://localhost:8080/"
    },
    "executionInfo": {
     "elapsed": 235,
     "status": "ok",
     "timestamp": 1621965325896,
     "user": {
      "displayName": "Марк Станиславович Потанин",
      "photoUrl": "https://lh3.googleusercontent.com/a-/AOh14GiGIbSWvn36SnuS11JITt7whCW2414zYLPAFnl9=s64",
      "userId": "12338896257196299013"
     },
     "user_tz": -180
    },
    "id": "mzOG7d0S3LA8",
    "outputId": "97367426-d512-421c-e78d-628121360810"
   },
   "outputs": [
    {
     "data": {
      "text/plain": [
       "array([[1., 0., 0.],\n",
       "       [0., 1., 0.],\n",
       "       [0., 0., 1.]])"
      ]
     },
     "execution_count": 191,
     "metadata": {},
     "output_type": "execute_result"
    }
   ],
   "source": [
    "np.eye(3)"
   ]
  },
  {
   "cell_type": "markdown",
   "metadata": {
    "id": "CdRDOpcL3LA9"
   },
   "source": [
    "#### Индексация массива: доступ к отдельным элементам."
   ]
  },
  {
   "cell_type": "code",
   "execution_count": 192,
   "metadata": {
    "executionInfo": {
     "elapsed": 261,
     "status": "ok",
     "timestamp": 1621965335670,
     "user": {
      "displayName": "Марк Станиславович Потанин",
      "photoUrl": "https://lh3.googleusercontent.com/a-/AOh14GiGIbSWvn36SnuS11JITt7whCW2414zYLPAFnl9=s64",
      "userId": "12338896257196299013"
     },
     "user_tz": -180
    },
    "id": "LAvyTb6_3LA9"
   },
   "outputs": [],
   "source": [
    "x = np.arange(20)"
   ]
  },
  {
   "cell_type": "code",
   "execution_count": 193,
   "metadata": {
    "colab": {
     "base_uri": "https://localhost:8080/"
    },
    "executionInfo": {
     "elapsed": 3,
     "status": "ok",
     "timestamp": 1621965336771,
     "user": {
      "displayName": "Марк Станиславович Потанин",
      "photoUrl": "https://lh3.googleusercontent.com/a-/AOh14GiGIbSWvn36SnuS11JITt7whCW2414zYLPAFnl9=s64",
      "userId": "12338896257196299013"
     },
     "user_tz": -180
    },
    "id": "9HUw0coX3LA9",
    "outputId": "a6c989cf-df79-4feb-9c26-d6023985996a"
   },
   "outputs": [
    {
     "data": {
      "text/plain": [
       "array([ 0,  1,  2,  3,  4,  5,  6,  7,  8,  9, 10, 11, 12, 13, 14, 15, 16,\n",
       "       17, 18, 19])"
      ]
     },
     "execution_count": 193,
     "metadata": {},
     "output_type": "execute_result"
    }
   ],
   "source": [
    "x"
   ]
  },
  {
   "cell_type": "markdown",
   "metadata": {
    "id": "y2YVa_Er3LA-"
   },
   "source": [
    "Индексация как для стандартных списков Python."
   ]
  },
  {
   "cell_type": "code",
   "execution_count": 194,
   "metadata": {
    "colab": {
     "base_uri": "https://localhost:8080/"
    },
    "executionInfo": {
     "elapsed": 357,
     "status": "ok",
     "timestamp": 1621965349816,
     "user": {
      "displayName": "Марк Станиславович Потанин",
      "photoUrl": "https://lh3.googleusercontent.com/a-/AOh14GiGIbSWvn36SnuS11JITt7whCW2414zYLPAFnl9=s64",
      "userId": "12338896257196299013"
     },
     "user_tz": -180
    },
    "id": "RDSSLwNR3LA-",
    "outputId": "70e16d3b-546a-4fd3-b1c7-f94eea9a9e21"
   },
   "outputs": [
    {
     "data": {
      "text/plain": [
       "np.int64(0)"
      ]
     },
     "execution_count": 194,
     "metadata": {},
     "output_type": "execute_result"
    }
   ],
   "source": [
    "x[0]"
   ]
  },
  {
   "cell_type": "code",
   "execution_count": 195,
   "metadata": {
    "colab": {
     "base_uri": "https://localhost:8080/"
    },
    "executionInfo": {
     "elapsed": 4,
     "status": "ok",
     "timestamp": 1621965354476,
     "user": {
      "displayName": "Марк Станиславович Потанин",
      "photoUrl": "https://lh3.googleusercontent.com/a-/AOh14GiGIbSWvn36SnuS11JITt7whCW2414zYLPAFnl9=s64",
      "userId": "12338896257196299013"
     },
     "user_tz": -180
    },
    "id": "C5LZ1OTb3LA_",
    "outputId": "9b8e1897-81f6-4a18-8655-f6e5848cef91"
   },
   "outputs": [
    {
     "data": {
      "text/plain": [
       "np.int64(5)"
      ]
     },
     "execution_count": 195,
     "metadata": {},
     "output_type": "execute_result"
    }
   ],
   "source": [
    "x[5]"
   ]
  },
  {
   "cell_type": "code",
   "execution_count": 196,
   "metadata": {
    "executionInfo": {
     "elapsed": 248,
     "status": "ok",
     "timestamp": 1621965359784,
     "user": {
      "displayName": "Марк Станиславович Потанин",
      "photoUrl": "https://lh3.googleusercontent.com/a-/AOh14GiGIbSWvn36SnuS11JITt7whCW2414zYLPAFnl9=s64",
      "userId": "12338896257196299013"
     },
     "user_tz": -180
    },
    "id": "dmHhOllw3LA_"
   },
   "outputs": [],
   "source": [
    "x1=np.random.randint(0, 10, (3, 3))"
   ]
  },
  {
   "cell_type": "code",
   "execution_count": 197,
   "metadata": {
    "colab": {
     "base_uri": "https://localhost:8080/"
    },
    "executionInfo": {
     "elapsed": 286,
     "status": "ok",
     "timestamp": 1621965376585,
     "user": {
      "displayName": "Марк Станиславович Потанин",
      "photoUrl": "https://lh3.googleusercontent.com/a-/AOh14GiGIbSWvn36SnuS11JITt7whCW2414zYLPAFnl9=s64",
      "userId": "12338896257196299013"
     },
     "user_tz": -180
    },
    "id": "spVrx3l-3LA_",
    "outputId": "2ee31e33-2a3b-4d5c-d2b8-3215bae39645"
   },
   "outputs": [
    {
     "data": {
      "text/plain": [
       "array([[9, 2, 9],\n",
       "       [0, 3, 1],\n",
       "       [4, 5, 0]])"
      ]
     },
     "execution_count": 197,
     "metadata": {},
     "output_type": "execute_result"
    }
   ],
   "source": [
    "x1"
   ]
  },
  {
   "cell_type": "code",
   "execution_count": 200,
   "metadata": {
    "colab": {
     "base_uri": "https://localhost:8080/"
    },
    "executionInfo": {
     "elapsed": 278,
     "status": "ok",
     "timestamp": 1621965506234,
     "user": {
      "displayName": "Марк Станиславович Потанин",
      "photoUrl": "https://lh3.googleusercontent.com/a-/AOh14GiGIbSWvn36SnuS11JITt7whCW2414zYLPAFnl9=s64",
      "userId": "12338896257196299013"
     },
     "user_tz": -180
    },
    "id": "ZpmBtdkM3LBA",
    "outputId": "69c46e5b-e399-4ed6-c877-8e7f919c8613"
   },
   "outputs": [
    {
     "data": {
      "text/plain": [
       "np.int64(9)"
      ]
     },
     "execution_count": 200,
     "metadata": {},
     "output_type": "execute_result"
    }
   ],
   "source": [
    "x1[0][0]"
   ]
  },
  {
   "cell_type": "code",
   "execution_count": 201,
   "metadata": {
    "colab": {
     "base_uri": "https://localhost:8080/"
    },
    "executionInfo": {
     "elapsed": 235,
     "status": "ok",
     "timestamp": 1621965524894,
     "user": {
      "displayName": "Марк Станиславович Потанин",
      "photoUrl": "https://lh3.googleusercontent.com/a-/AOh14GiGIbSWvn36SnuS11JITt7whCW2414zYLPAFnl9=s64",
      "userId": "12338896257196299013"
     },
     "user_tz": -180
    },
    "id": "lb5CkPUh3LBA",
    "outputId": "6153c6b6-75e0-4af6-dbde-819a1a2eb99b"
   },
   "outputs": [
    {
     "data": {
      "text/plain": [
       "np.int64(5)"
      ]
     },
     "execution_count": 201,
     "metadata": {},
     "output_type": "execute_result"
    }
   ],
   "source": [
    "x1[2][1]"
   ]
  },
  {
   "cell_type": "markdown",
   "metadata": {
    "id": "artsK2bl3LBA"
   },
   "source": [
    "Массивы можно изменять."
   ]
  },
  {
   "cell_type": "code",
   "execution_count": 202,
   "metadata": {
    "executionInfo": {
     "elapsed": 242,
     "status": "ok",
     "timestamp": 1621965560235,
     "user": {
      "displayName": "Марк Станиславович Потанин",
      "photoUrl": "https://lh3.googleusercontent.com/a-/AOh14GiGIbSWvn36SnuS11JITt7whCW2414zYLPAFnl9=s64",
      "userId": "12338896257196299013"
     },
     "user_tz": -180
    },
    "id": "yI0auD4l3LBA"
   },
   "outputs": [],
   "source": [
    "x1[1][2] = 100"
   ]
  },
  {
   "cell_type": "code",
   "execution_count": 203,
   "metadata": {
    "colab": {
     "base_uri": "https://localhost:8080/"
    },
    "executionInfo": {
     "elapsed": 4,
     "status": "ok",
     "timestamp": 1621965561338,
     "user": {
      "displayName": "Марк Станиславович Потанин",
      "photoUrl": "https://lh3.googleusercontent.com/a-/AOh14GiGIbSWvn36SnuS11JITt7whCW2414zYLPAFnl9=s64",
      "userId": "12338896257196299013"
     },
     "user_tz": -180
    },
    "id": "KlEUWpY33LBA",
    "outputId": "017dbf13-357c-458b-f2fc-1bc22a267eb6"
   },
   "outputs": [
    {
     "data": {
      "text/plain": [
       "array([[  9,   2,   9],\n",
       "       [  0,   3, 100],\n",
       "       [  4,   5,   0]])"
      ]
     },
     "execution_count": 203,
     "metadata": {},
     "output_type": "execute_result"
    }
   ],
   "source": [
    "x1"
   ]
  },
  {
   "cell_type": "markdown",
   "metadata": {
    "id": "pQdvVNeH3LBB"
   },
   "source": [
    "Так же как со списками, удобно делать срезы массивов."
   ]
  },
  {
   "cell_type": "code",
   "execution_count": 204,
   "metadata": {
    "colab": {
     "base_uri": "https://localhost:8080/"
    },
    "executionInfo": {
     "elapsed": 240,
     "status": "ok",
     "timestamp": 1621965570103,
     "user": {
      "displayName": "Марк Станиславович Потанин",
      "photoUrl": "https://lh3.googleusercontent.com/a-/AOh14GiGIbSWvn36SnuS11JITt7whCW2414zYLPAFnl9=s64",
      "userId": "12338896257196299013"
     },
     "user_tz": -180
    },
    "id": "Z2vOSMk_3LBB",
    "outputId": "43dcf6fe-67bc-4d21-9990-2b0840c1c26d"
   },
   "outputs": [
    {
     "data": {
      "text/plain": [
       "array([ 0,  1,  2,  3,  4,  5,  6,  7,  8,  9, 10, 11, 12, 13, 14, 15, 16,\n",
       "       17, 18, 19])"
      ]
     },
     "execution_count": 204,
     "metadata": {},
     "output_type": "execute_result"
    }
   ],
   "source": [
    "x"
   ]
  },
  {
   "cell_type": "code",
   "execution_count": 205,
   "metadata": {
    "colab": {
     "base_uri": "https://localhost:8080/"
    },
    "executionInfo": {
     "elapsed": 296,
     "status": "ok",
     "timestamp": 1621965602045,
     "user": {
      "displayName": "Марк Станиславович Потанин",
      "photoUrl": "https://lh3.googleusercontent.com/a-/AOh14GiGIbSWvn36SnuS11JITt7whCW2414zYLPAFnl9=s64",
      "userId": "12338896257196299013"
     },
     "user_tz": -180
    },
    "id": "4UzERaqg3LBB",
    "outputId": "b093f77e-e2fa-480f-ca9b-d1d1583e806a"
   },
   "outputs": [
    {
     "data": {
      "text/plain": [
       "array([0, 1, 2, 3, 4])"
      ]
     },
     "execution_count": 205,
     "metadata": {},
     "output_type": "execute_result"
    }
   ],
   "source": [
    "x[:5] # первые пять элементов"
   ]
  },
  {
   "cell_type": "code",
   "execution_count": 206,
   "metadata": {
    "colab": {
     "base_uri": "https://localhost:8080/"
    },
    "executionInfo": {
     "elapsed": 267,
     "status": "ok",
     "timestamp": 1621965627552,
     "user": {
      "displayName": "Марк Станиславович Потанин",
      "photoUrl": "https://lh3.googleusercontent.com/a-/AOh14GiGIbSWvn36SnuS11JITt7whCW2414zYLPAFnl9=s64",
      "userId": "12338896257196299013"
     },
     "user_tz": -180
    },
    "id": "CeepC83V3LBB",
    "outputId": "f1715694-10ad-4d68-adde-c8953877a7a9"
   },
   "outputs": [
    {
     "data": {
      "text/plain": [
       "array([4, 5, 6])"
      ]
     },
     "execution_count": 206,
     "metadata": {},
     "output_type": "execute_result"
    }
   ],
   "source": [
    "x[4:7] "
   ]
  },
  {
   "cell_type": "code",
   "execution_count": 207,
   "metadata": {
    "colab": {
     "base_uri": "https://localhost:8080/"
    },
    "executionInfo": {
     "elapsed": 257,
     "status": "ok",
     "timestamp": 1621965668993,
     "user": {
      "displayName": "Марк Станиславович Потанин",
      "photoUrl": "https://lh3.googleusercontent.com/a-/AOh14GiGIbSWvn36SnuS11JITt7whCW2414zYLPAFnl9=s64",
      "userId": "12338896257196299013"
     },
     "user_tz": -180
    },
    "id": "648b86qR3LBB",
    "outputId": "bc5ceeda-95a7-4ab5-d44e-4768a6be87a2"
   },
   "outputs": [
    {
     "data": {
      "text/plain": [
       "array([ 0,  4,  8, 12, 16])"
      ]
     },
     "execution_count": 207,
     "metadata": {},
     "output_type": "execute_result"
    }
   ],
   "source": [
    "x[::4] # каждый второй элемент"
   ]
  },
  {
   "cell_type": "code",
   "execution_count": 208,
   "metadata": {
    "colab": {
     "base_uri": "https://localhost:8080/"
    },
    "executionInfo": {
     "elapsed": 251,
     "status": "ok",
     "timestamp": 1621965695359,
     "user": {
      "displayName": "Марк Станиславович Потанин",
      "photoUrl": "https://lh3.googleusercontent.com/a-/AOh14GiGIbSWvn36SnuS11JITt7whCW2414zYLPAFnl9=s64",
      "userId": "12338896257196299013"
     },
     "user_tz": -180
    },
    "id": "FvTqpGEm3LBB",
    "outputId": "a38176e1-ffe2-4927-9c34-23533a876ea4"
   },
   "outputs": [
    {
     "data": {
      "text/plain": [
       "array([19, 17, 15, 13, 11,  9,  7,  5,  3,  1])"
      ]
     },
     "execution_count": 208,
     "metadata": {},
     "output_type": "execute_result"
    }
   ],
   "source": [
    "x[::-2] # все элементы в обратном порядке"
   ]
  },
  {
   "cell_type": "code",
   "execution_count": 209,
   "metadata": {
    "executionInfo": {
     "elapsed": 344,
     "status": "ok",
     "timestamp": 1621965708024,
     "user": {
      "displayName": "Марк Станиславович Потанин",
      "photoUrl": "https://lh3.googleusercontent.com/a-/AOh14GiGIbSWvn36SnuS11JITt7whCW2414zYLPAFnl9=s64",
      "userId": "12338896257196299013"
     },
     "user_tz": -180
    },
    "id": "XlShTT3s3LBC"
   },
   "outputs": [],
   "source": [
    "x2=np.random.randint(0, 10, (5, 5))"
   ]
  },
  {
   "cell_type": "code",
   "execution_count": 210,
   "metadata": {
    "colab": {
     "base_uri": "https://localhost:8080/"
    },
    "executionInfo": {
     "elapsed": 232,
     "status": "ok",
     "timestamp": 1621965715918,
     "user": {
      "displayName": "Марк Станиславович Потанин",
      "photoUrl": "https://lh3.googleusercontent.com/a-/AOh14GiGIbSWvn36SnuS11JITt7whCW2414zYLPAFnl9=s64",
      "userId": "12338896257196299013"
     },
     "user_tz": -180
    },
    "id": "tSb1NgM13LBC",
    "outputId": "81785089-27e6-4ddb-a34f-6f6f3bbaff1a"
   },
   "outputs": [
    {
     "data": {
      "text/plain": [
       "array([[5, 9, 3, 3, 1],\n",
       "       [8, 3, 0, 1, 8],\n",
       "       [8, 5, 9, 8, 0],\n",
       "       [2, 0, 5, 1, 1],\n",
       "       [0, 3, 8, 1, 2]])"
      ]
     },
     "execution_count": 210,
     "metadata": {},
     "output_type": "execute_result"
    }
   ],
   "source": [
    "x2"
   ]
  },
  {
   "cell_type": "code",
   "execution_count": 211,
   "metadata": {
    "colab": {
     "base_uri": "https://localhost:8080/"
    },
    "executionInfo": {
     "elapsed": 276,
     "status": "ok",
     "timestamp": 1621965767163,
     "user": {
      "displayName": "Марк Станиславович Потанин",
      "photoUrl": "https://lh3.googleusercontent.com/a-/AOh14GiGIbSWvn36SnuS11JITt7whCW2414zYLPAFnl9=s64",
      "userId": "12338896257196299013"
     },
     "user_tz": -180
    },
    "id": "pY0wAFeo3LBC",
    "outputId": "0b8af0f2-5476-4aea-e155-300b71e1f653"
   },
   "outputs": [
    {
     "data": {
      "text/plain": [
       "array([[5, 9, 3],\n",
       "       [8, 3, 0]])"
      ]
     },
     "execution_count": 211,
     "metadata": {},
     "output_type": "execute_result"
    }
   ],
   "source": [
    "x2[:2, :3] # две строки и три столбца"
   ]
  },
  {
   "cell_type": "code",
   "execution_count": 212,
   "metadata": {
    "colab": {
     "base_uri": "https://localhost:8080/"
    },
    "executionInfo": {
     "elapsed": 1658,
     "status": "ok",
     "timestamp": 1621965787763,
     "user": {
      "displayName": "Марк Станиславович Потанин",
      "photoUrl": "https://lh3.googleusercontent.com/a-/AOh14GiGIbSWvn36SnuS11JITt7whCW2414zYLPAFnl9=s64",
      "userId": "12338896257196299013"
     },
     "user_tz": -180
    },
    "id": "6JCe2H2J3LBC",
    "outputId": "333348b5-c172-460a-c088-4dbf73a449d5"
   },
   "outputs": [
    {
     "data": {
      "text/plain": [
       "array([[5, 3, 1],\n",
       "       [8, 0, 8],\n",
       "       [8, 9, 0]])"
      ]
     },
     "execution_count": 212,
     "metadata": {},
     "output_type": "execute_result"
    }
   ],
   "source": [
    "x2[:3, ::2] # все строки, каждый второй столбец"
   ]
  },
  {
   "cell_type": "markdown",
   "metadata": {
    "id": "R9t2bnOR3LBC"
   },
   "source": [
    "Доступ к строкам и столбцам массива происходит с помощью среза. И имеет вид `x[:,num_col]` для выбора столбца с номером `num_col`, `x[:,num_row]` для выбора строки с номером `num_row`."
   ]
  },
  {
   "cell_type": "code",
   "execution_count": 213,
   "metadata": {
    "colab": {
     "base_uri": "https://localhost:8080/"
    },
    "executionInfo": {
     "elapsed": 245,
     "status": "ok",
     "timestamp": 1621965861038,
     "user": {
      "displayName": "Марк Станиславович Потанин",
      "photoUrl": "https://lh3.googleusercontent.com/a-/AOh14GiGIbSWvn36SnuS11JITt7whCW2414zYLPAFnl9=s64",
      "userId": "12338896257196299013"
     },
     "user_tz": -180
    },
    "id": "6OfvU15P3LBC",
    "outputId": "dc1e48ae-6d2e-4f5c-bcba-368c06079719"
   },
   "outputs": [
    {
     "data": {
      "text/plain": [
       "array([5, 8, 8, 2, 0])"
      ]
     },
     "execution_count": 213,
     "metadata": {},
     "output_type": "execute_result"
    }
   ],
   "source": [
    "x2[:, 0] # первый столбец массива"
   ]
  },
  {
   "cell_type": "code",
   "execution_count": 214,
   "metadata": {
    "colab": {
     "base_uri": "https://localhost:8080/"
    },
    "executionInfo": {
     "elapsed": 244,
     "status": "ok",
     "timestamp": 1621965878079,
     "user": {
      "displayName": "Марк Станиславович Потанин",
      "photoUrl": "https://lh3.googleusercontent.com/a-/AOh14GiGIbSWvn36SnuS11JITt7whCW2414zYLPAFnl9=s64",
      "userId": "12338896257196299013"
     },
     "user_tz": -180
    },
    "id": "YK9ZhZvl3LBD",
    "outputId": "d84e9b05-7616-4606-eb88-a7ca357bb67d"
   },
   "outputs": [
    {
     "data": {
      "text/plain": [
       "array([5, 9, 3, 3, 1])"
      ]
     },
     "execution_count": 214,
     "metadata": {},
     "output_type": "execute_result"
    }
   ],
   "source": [
    "x2[0, :] # первая строка массива - эквивалентно x2[0]"
   ]
  },
  {
   "cell_type": "code",
   "execution_count": 215,
   "metadata": {
    "colab": {
     "base_uri": "https://localhost:8080/"
    },
    "executionInfo": {
     "elapsed": 452,
     "status": "ok",
     "timestamp": 1621965897323,
     "user": {
      "displayName": "Марк Станиславович Потанин",
      "photoUrl": "https://lh3.googleusercontent.com/a-/AOh14GiGIbSWvn36SnuS11JITt7whCW2414zYLPAFnl9=s64",
      "userId": "12338896257196299013"
     },
     "user_tz": -180
    },
    "id": "g2ycg6tjs16D",
    "outputId": "2f1a47cf-41b0-4423-c4d6-0b3c74791c9b"
   },
   "outputs": [
    {
     "data": {
      "text/plain": [
       "array([5, 9, 3, 3, 1])"
      ]
     },
     "execution_count": 215,
     "metadata": {},
     "output_type": "execute_result"
    }
   ],
   "source": [
    "x2[0]"
   ]
  },
  {
   "cell_type": "code",
   "execution_count": 216,
   "metadata": {
    "colab": {
     "base_uri": "https://localhost:8080/"
    },
    "executionInfo": {
     "elapsed": 271,
     "status": "ok",
     "timestamp": 1621965966912,
     "user": {
      "displayName": "Марк Станиславович Потанин",
      "photoUrl": "https://lh3.googleusercontent.com/a-/AOh14GiGIbSWvn36SnuS11JITt7whCW2414zYLPAFnl9=s64",
      "userId": "12338896257196299013"
     },
     "user_tz": -180
    },
    "id": "5_pHgZp0s4n2",
    "outputId": "553a1480-44ae-4449-ab44-2b2a1b8cbfab"
   },
   "outputs": [
    {
     "data": {
      "text/plain": [
       "np.int64(9)"
      ]
     },
     "execution_count": 216,
     "metadata": {},
     "output_type": "execute_result"
    }
   ],
   "source": [
    "x2[2,2]"
   ]
  },
  {
   "cell_type": "markdown",
   "metadata": {
    "id": "Ki-_KDh73LBD"
   },
   "source": [
    "#### Изменение формы массивов."
   ]
  },
  {
   "cell_type": "markdown",
   "metadata": {
    "id": "FS71FaAT3LBD"
   },
   "source": [
    "Изменить массив в желаемую форму поможет функция `reshape`. Она принимает на вход размерность нового массива, который мы хотим получить."
   ]
  },
  {
   "cell_type": "code",
   "execution_count": 218,
   "metadata": {
    "executionInfo": {
     "elapsed": 279,
     "status": "ok",
     "timestamp": 1621965976236,
     "user": {
      "displayName": "Марк Станиславович Потанин",
      "photoUrl": "https://lh3.googleusercontent.com/a-/AOh14GiGIbSWvn36SnuS11JITt7whCW2414zYLPAFnl9=s64",
      "userId": "12338896257196299013"
     },
     "user_tz": -180
    },
    "id": "3P3mQnDb3LBD"
   },
   "outputs": [],
   "source": [
    "grid = np.arange(1, 10)"
   ]
  },
  {
   "cell_type": "code",
   "execution_count": 219,
   "metadata": {
    "colab": {
     "base_uri": "https://localhost:8080/"
    },
    "executionInfo": {
     "elapsed": 289,
     "status": "ok",
     "timestamp": 1621965979600,
     "user": {
      "displayName": "Марк Станиславович Потанин",
      "photoUrl": "https://lh3.googleusercontent.com/a-/AOh14GiGIbSWvn36SnuS11JITt7whCW2414zYLPAFnl9=s64",
      "userId": "12338896257196299013"
     },
     "user_tz": -180
    },
    "id": "fBb4rO0A3LBD",
    "outputId": "4a446993-d21c-4d88-9117-e206de5b6e35"
   },
   "outputs": [
    {
     "data": {
      "text/plain": [
       "array([1, 2, 3, 4, 5, 6, 7, 8, 9])"
      ]
     },
     "execution_count": 219,
     "metadata": {},
     "output_type": "execute_result"
    }
   ],
   "source": [
    "grid"
   ]
  },
  {
   "cell_type": "code",
   "execution_count": 222,
   "metadata": {
    "colab": {
     "base_uri": "https://localhost:8080/"
    },
    "executionInfo": {
     "elapsed": 328,
     "status": "ok",
     "timestamp": 1621966021956,
     "user": {
      "displayName": "Марк Станиславович Потанин",
      "photoUrl": "https://lh3.googleusercontent.com/a-/AOh14GiGIbSWvn36SnuS11JITt7whCW2414zYLPAFnl9=s64",
      "userId": "12338896257196299013"
     },
     "user_tz": -180
    },
    "id": "jV4gQl9E3LBD",
    "outputId": "33cb6735-4e7e-4d11-85fb-721ffef5415e"
   },
   "outputs": [
    {
     "data": {
      "text/plain": [
       "array([[1, 2, 3],\n",
       "       [4, 5, 6],\n",
       "       [7, 8, 9]])"
      ]
     },
     "execution_count": 222,
     "metadata": {},
     "output_type": "execute_result"
    }
   ],
   "source": [
    "np.arange(1, 10).reshape(3, 3) # поместить числа от 1 до 10 в таблицу 3х3"
   ]
  },
  {
   "cell_type": "markdown",
   "metadata": {
    "id": "41BmLlgD3LBE"
   },
   "source": [
    "#### Слияние и разбиение массивов."
   ]
  },
  {
   "cell_type": "markdown",
   "metadata": {
    "id": "mWulpFAw3LBE"
   },
   "source": [
    "Метод `np.concatenate` принимает на вход список массивов, и склеивает их."
   ]
  },
  {
   "cell_type": "code",
   "execution_count": 223,
   "metadata": {
    "colab": {
     "base_uri": "https://localhost:8080/"
    },
    "executionInfo": {
     "elapsed": 237,
     "status": "ok",
     "timestamp": 1621966062872,
     "user": {
      "displayName": "Марк Станиславович Потанин",
      "photoUrl": "https://lh3.googleusercontent.com/a-/AOh14GiGIbSWvn36SnuS11JITt7whCW2414zYLPAFnl9=s64",
      "userId": "12338896257196299013"
     },
     "user_tz": -180
    },
    "id": "LALMTBb33LBE",
    "outputId": "cb81daf1-34ef-459f-d05d-c704596d9a71"
   },
   "outputs": [
    {
     "data": {
      "text/plain": [
       "array([1, 2, 3, 3, 2, 1])"
      ]
     },
     "execution_count": 223,
     "metadata": {},
     "output_type": "execute_result"
    }
   ],
   "source": [
    "x = np.array([1, 2, 3])\n",
    "y = np.array([3, 2, 1])\n",
    "np.concatenate([x, y])"
   ]
  },
  {
   "cell_type": "markdown",
   "metadata": {
    "id": "Wh7EkJY53LBE"
   },
   "source": [
    "\n",
    "Можно объединить более двух массивов одновременно"
   ]
  },
  {
   "cell_type": "code",
   "execution_count": 225,
   "metadata": {
    "colab": {
     "base_uri": "https://localhost:8080/"
    },
    "executionInfo": {
     "elapsed": 5,
     "status": "ok",
     "timestamp": 1621966095044,
     "user": {
      "displayName": "Марк Станиславович Потанин",
      "photoUrl": "https://lh3.googleusercontent.com/a-/AOh14GiGIbSWvn36SnuS11JITt7whCW2414zYLPAFnl9=s64",
      "userId": "12338896257196299013"
     },
     "user_tz": -180
    },
    "id": "ugul188u3LBF",
    "outputId": "d6b1a953-410a-4145-b391-e4e6e3b5076a"
   },
   "outputs": [
    {
     "data": {
      "text/plain": [
       "array([ 1,  2,  3,  3,  2,  1, 99, 99, 99])"
      ]
     },
     "execution_count": 225,
     "metadata": {},
     "output_type": "execute_result"
    }
   ],
   "source": [
    "z = [99, 99, 99]\n",
    "np.concatenate([x, y, z])"
   ]
  },
  {
   "cell_type": "markdown",
   "metadata": {
    "id": "-Mj40O-W3LBF"
   },
   "source": [
    "Для объединения двух массивов можно также использовать `np.concatenate`."
   ]
  },
  {
   "cell_type": "code",
   "execution_count": 226,
   "metadata": {
    "executionInfo": {
     "elapsed": 244,
     "status": "ok",
     "timestamp": 1621966104994,
     "user": {
      "displayName": "Марк Станиславович Потанин",
      "photoUrl": "https://lh3.googleusercontent.com/a-/AOh14GiGIbSWvn36SnuS11JITt7whCW2414zYLPAFnl9=s64",
      "userId": "12338896257196299013"
     },
     "user_tz": -180
    },
    "id": "kjnPup3q3LBF"
   },
   "outputs": [],
   "source": [
    "grid = np.array([[1, 2, 3], [4, 5, 6]])"
   ]
  },
  {
   "cell_type": "code",
   "execution_count": 227,
   "metadata": {
    "colab": {
     "base_uri": "https://localhost:8080/"
    },
    "executionInfo": {
     "elapsed": 395,
     "status": "ok",
     "timestamp": 1621966107696,
     "user": {
      "displayName": "Марк Станиславович Потанин",
      "photoUrl": "https://lh3.googleusercontent.com/a-/AOh14GiGIbSWvn36SnuS11JITt7whCW2414zYLPAFnl9=s64",
      "userId": "12338896257196299013"
     },
     "user_tz": -180
    },
    "id": "DaCnGZYT3LBF",
    "outputId": "81211838-c5bd-4d73-d2ed-37d35b64728e"
   },
   "outputs": [
    {
     "data": {
      "text/plain": [
       "array([[1, 2, 3],\n",
       "       [4, 5, 6]])"
      ]
     },
     "execution_count": 227,
     "metadata": {},
     "output_type": "execute_result"
    }
   ],
   "source": [
    "grid"
   ]
  },
  {
   "cell_type": "code",
   "execution_count": 228,
   "metadata": {
    "colab": {
     "base_uri": "https://localhost:8080/"
    },
    "executionInfo": {
     "elapsed": 239,
     "status": "ok",
     "timestamp": 1621966151288,
     "user": {
      "displayName": "Марк Станиславович Потанин",
      "photoUrl": "https://lh3.googleusercontent.com/a-/AOh14GiGIbSWvn36SnuS11JITt7whCW2414zYLPAFnl9=s64",
      "userId": "12338896257196299013"
     },
     "user_tz": -180
    },
    "id": "pnOByl1B3LBF",
    "outputId": "d237ce0a-9616-449b-e728-09ab49e4a149"
   },
   "outputs": [
    {
     "data": {
      "text/plain": [
       "array([[1, 2, 3],\n",
       "       [4, 5, 6],\n",
       "       [1, 2, 3],\n",
       "       [4, 5, 6]])"
      ]
     },
     "execution_count": 228,
     "metadata": {},
     "output_type": "execute_result"
    }
   ],
   "source": [
    "np.concatenate([grid, grid]) # слияние по первой оси координат\n"
   ]
  },
  {
   "cell_type": "code",
   "execution_count": 229,
   "metadata": {
    "colab": {
     "base_uri": "https://localhost:8080/"
    },
    "executionInfo": {
     "elapsed": 241,
     "status": "ok",
     "timestamp": 1621966162894,
     "user": {
      "displayName": "Марк Станиславович Потанин",
      "photoUrl": "https://lh3.googleusercontent.com/a-/AOh14GiGIbSWvn36SnuS11JITt7whCW2414zYLPAFnl9=s64",
      "userId": "12338896257196299013"
     },
     "user_tz": -180
    },
    "id": "w5TQFvYV3LBG",
    "outputId": "cd4445f6-2e0e-4d06-ea81-751e6ff67428"
   },
   "outputs": [
    {
     "data": {
      "text/plain": [
       "array([[1, 2, 3, 1, 2, 3],\n",
       "       [4, 5, 6, 4, 5, 6]])"
      ]
     },
     "execution_count": 229,
     "metadata": {},
     "output_type": "execute_result"
    }
   ],
   "source": [
    "np.concatenate([grid, grid], axis=1) # слияние по второй оси координат(с индексом 0)"
   ]
  },
  {
   "cell_type": "markdown",
   "metadata": {
    "id": "VRmR9A943LBG"
   },
   "source": [
    "Для работы с массивами с различающимися измерениями удобнее и понятнее использовать функции `np.vstack` (вертикальное объединение) и `np.hstack` (горизонтальное объединение)."
   ]
  },
  {
   "cell_type": "code",
   "execution_count": 231,
   "metadata": {
    "colab": {
     "base_uri": "https://localhost:8080/"
    },
    "executionInfo": {
     "elapsed": 262,
     "status": "ok",
     "timestamp": 1621966180004,
     "user": {
      "displayName": "Марк Станиславович Потанин",
      "photoUrl": "https://lh3.googleusercontent.com/a-/AOh14GiGIbSWvn36SnuS11JITt7whCW2414zYLPAFnl9=s64",
      "userId": "12338896257196299013"
     },
     "user_tz": -180
    },
    "id": "rGAHQGDn3LBG",
    "outputId": "ff87c43b-ff6e-409f-daf0-0a5f8c538c3d"
   },
   "outputs": [
    {
     "data": {
      "text/plain": [
       "array([[9, 8, 7],\n",
       "       [6, 5, 4],\n",
       "       [1, 2, 3]])"
      ]
     },
     "execution_count": 231,
     "metadata": {},
     "output_type": "execute_result"
    }
   ],
   "source": [
    "x = np.array([1, 2, 3])\n",
    "grid = np.array([[9, 8, 7],\n",
    "                 [6, 5, 4]])\n",
    "np.vstack([grid,x]) # объединяет массивы по вертикали"
   ]
  },
  {
   "cell_type": "code",
   "execution_count": 232,
   "metadata": {
    "colab": {
     "base_uri": "https://localhost:8080/"
    },
    "executionInfo": {
     "elapsed": 242,
     "status": "ok",
     "timestamp": 1621966186653,
     "user": {
      "displayName": "Марк Станиславович Потанин",
      "photoUrl": "https://lh3.googleusercontent.com/a-/AOh14GiGIbSWvn36SnuS11JITt7whCW2414zYLPAFnl9=s64",
      "userId": "12338896257196299013"
     },
     "user_tz": -180
    },
    "id": "KvCxU1m93LBG",
    "outputId": "35664194-55b6-4580-b167-bc487d58c77e"
   },
   "outputs": [
    {
     "data": {
      "text/plain": [
       "array([[ 9,  8,  7, 99],\n",
       "       [ 6,  5,  4, 99]])"
      ]
     },
     "execution_count": 232,
     "metadata": {},
     "output_type": "execute_result"
    }
   ],
   "source": [
    "y = np.array([[99],\n",
    "             [99]])\n",
    "np.hstack([grid, y]) # объединяе массивы по горизонтали"
   ]
  },
  {
   "cell_type": "markdown",
   "metadata": {
    "id": "v0jUhl_C3LBG"
   },
   "source": [
    "#### Выполнение вычислений над массивами."
   ]
  },
  {
   "cell_type": "markdown",
   "metadata": {
    "id": "o5SwzuzH3LBG"
   },
   "source": [
    "\n",
    "NumPy поддерживает векторизованные операции - операция с массивом, которая применяется ко всем элементам массива. Это, наверное, одна из главных фишек NumPy."
   ]
  },
  {
   "cell_type": "markdown",
   "metadata": {
    "id": "Ki0DGZQR3LBG"
   },
   "source": [
    "Пример"
   ]
  },
  {
   "cell_type": "code",
   "execution_count": 233,
   "metadata": {
    "colab": {
     "base_uri": "https://localhost:8080/"
    },
    "executionInfo": {
     "elapsed": 232,
     "status": "ok",
     "timestamp": 1621966236709,
     "user": {
      "displayName": "Марк Станиславович Потанин",
      "photoUrl": "https://lh3.googleusercontent.com/a-/AOh14GiGIbSWvn36SnuS11JITt7whCW2414zYLPAFnl9=s64",
      "userId": "12338896257196299013"
     },
     "user_tz": -180
    },
    "id": "2irOMYYE3LBH",
    "outputId": "41d0fded-0fee-4aac-b5fb-6ae318396293",
    "scrolled": true
   },
   "outputs": [
    {
     "data": {
      "text/plain": [
       "[2,\n",
       " 3,\n",
       " 4,\n",
       " 2,\n",
       " 3,\n",
       " 4,\n",
       " 2,\n",
       " 3,\n",
       " 4,\n",
       " 2,\n",
       " 3,\n",
       " 4,\n",
       " 2,\n",
       " 3,\n",
       " 4,\n",
       " 2,\n",
       " 3,\n",
       " 4,\n",
       " 2,\n",
       " 3,\n",
       " 4,\n",
       " 2,\n",
       " 3,\n",
       " 4,\n",
       " 2,\n",
       " 3,\n",
       " 4,\n",
       " 2,\n",
       " 3,\n",
       " 4]"
      ]
     },
     "execution_count": 233,
     "metadata": {},
     "output_type": "execute_result"
    }
   ],
   "source": [
    "[2,3,4]*10"
   ]
  },
  {
   "cell_type": "code",
   "execution_count": 234,
   "metadata": {
    "colab": {
     "base_uri": "https://localhost:8080/"
    },
    "executionInfo": {
     "elapsed": 264,
     "status": "ok",
     "timestamp": 1621966302012,
     "user": {
      "displayName": "Марк Станиславович Потанин",
      "photoUrl": "https://lh3.googleusercontent.com/a-/AOh14GiGIbSWvn36SnuS11JITt7whCW2414zYLPAFnl9=s64",
      "userId": "12338896257196299013"
     },
     "user_tz": -180
    },
    "id": "MjmGf68y3LBH",
    "outputId": "89a9a6bc-3bd0-4725-83a7-0e21cadf9141"
   },
   "outputs": [
    {
     "data": {
      "text/plain": [
       "array([4, 6, 8])"
      ]
     },
     "execution_count": 234,
     "metadata": {},
     "output_type": "execute_result"
    }
   ],
   "source": [
    "np.array([2,3,4])*2"
   ]
  },
  {
   "cell_type": "markdown",
   "metadata": {
    "id": "OszU697M3LBH"
   },
   "source": [
    "Здесь нас ждем ошибка. Потому как питон не понимает, как можно разделить число на список."
   ]
  },
  {
   "cell_type": "code",
   "execution_count": 236,
   "metadata": {
    "colab": {
     "base_uri": "https://localhost:8080/",
     "height": 164
    },
    "executionInfo": {
     "elapsed": 254,
     "status": "error",
     "timestamp": 1621966332965,
     "user": {
      "displayName": "Марк Станиславович Потанин",
      "photoUrl": "https://lh3.googleusercontent.com/a-/AOh14GiGIbSWvn36SnuS11JITt7whCW2414zYLPAFnl9=s64",
      "userId": "12338896257196299013"
     },
     "user_tz": -180
    },
    "id": "1keBwtP63LBH",
    "outputId": "d179e6af-3465-4501-abaa-c6645f5ef2d8"
   },
   "outputs": [
    {
     "ename": "TypeError",
     "evalue": "unsupported operand type(s) for /: 'int' and 'list'",
     "output_type": "error",
     "traceback": [
      "\u001b[0;31m---------------------------------------------------------------------------\u001b[0m",
      "\u001b[0;31mTypeError\u001b[0m                                 Traceback (most recent call last)",
      "Cell \u001b[0;32mIn[236], line 1\u001b[0m\n\u001b[0;32m----> 1\u001b[0m \u001b[38;5;241;43m1\u001b[39;49m\u001b[38;5;241;43m/\u001b[39;49m\u001b[43m[\u001b[49m\u001b[38;5;241;43m2\u001b[39;49m\u001b[43m,\u001b[49m\u001b[38;5;241;43m3\u001b[39;49m\u001b[43m,\u001b[49m\u001b[38;5;241;43m4\u001b[39;49m\u001b[43m]\u001b[49m\n",
      "\u001b[0;31mTypeError\u001b[0m: unsupported operand type(s) for /: 'int' and 'list'"
     ]
    }
   ],
   "source": [
    "1/[2,3,4]"
   ]
  },
  {
   "cell_type": "markdown",
   "metadata": {
    "id": "JWIW__hm3LBI"
   },
   "source": [
    "NumPy же справляется с этой задачей."
   ]
  },
  {
   "cell_type": "code",
   "execution_count": 237,
   "metadata": {
    "colab": {
     "base_uri": "https://localhost:8080/"
    },
    "executionInfo": {
     "elapsed": 296,
     "status": "ok",
     "timestamp": 1621966360779,
     "user": {
      "displayName": "Марк Станиславович Потанин",
      "photoUrl": "https://lh3.googleusercontent.com/a-/AOh14GiGIbSWvn36SnuS11JITt7whCW2414zYLPAFnl9=s64",
      "userId": "12338896257196299013"
     },
     "user_tz": -180
    },
    "id": "P7v6y7-G3LBI",
    "outputId": "b886ea57-e5d3-42c2-e030-8009229678af"
   },
   "outputs": [
    {
     "data": {
      "text/plain": [
       "array([0.5       , 0.33333333, 0.25      ])"
      ]
     },
     "execution_count": 237,
     "metadata": {},
     "output_type": "execute_result"
    }
   ],
   "source": [
    "1/np.array([2,3,4])"
   ]
  },
  {
   "cell_type": "markdown",
   "metadata": {
    "id": "AYcDkbSt3LBI"
   },
   "source": [
    "Можно складывать массивы поэелементно."
   ]
  },
  {
   "cell_type": "code",
   "execution_count": 238,
   "metadata": {
    "colab": {
     "base_uri": "https://localhost:8080/"
    },
    "executionInfo": {
     "elapsed": 244,
     "status": "ok",
     "timestamp": 1621966387665,
     "user": {
      "displayName": "Марк Станиславович Потанин",
      "photoUrl": "https://lh3.googleusercontent.com/a-/AOh14GiGIbSWvn36SnuS11JITt7whCW2414zYLPAFnl9=s64",
      "userId": "12338896257196299013"
     },
     "user_tz": -180
    },
    "id": "vhTvAbVr3LBI",
    "outputId": "07c71455-690a-42f8-fce1-b1ff33782f1a"
   },
   "outputs": [
    {
     "data": {
      "text/plain": [
       "[1, 2, 3, 3, 4, 2]"
      ]
     },
     "execution_count": 238,
     "metadata": {},
     "output_type": "execute_result"
    }
   ],
   "source": [
    "[1,2,3]+[3,4,2]"
   ]
  },
  {
   "cell_type": "markdown",
   "metadata": {
    "id": "Q2zghiuq3LBI"
   },
   "source": [
    "Можно складывать массивы поэелементно."
   ]
  },
  {
   "cell_type": "code",
   "execution_count": 240,
   "metadata": {
    "executionInfo": {
     "elapsed": 426,
     "status": "ok",
     "timestamp": 1621966407859,
     "user": {
      "displayName": "Марк Станиславович Потанин",
      "photoUrl": "https://lh3.googleusercontent.com/a-/AOh14GiGIbSWvn36SnuS11JITt7whCW2414zYLPAFnl9=s64",
      "userId": "12338896257196299013"
     },
     "user_tz": -180
    },
    "id": "6xreQ_Ww3LBI"
   },
   "outputs": [],
   "source": [
    "x = np.arange(5)\n",
    "y = np.arange(1, 6)"
   ]
  },
  {
   "cell_type": "code",
   "execution_count": 241,
   "metadata": {
    "colab": {
     "base_uri": "https://localhost:8080/"
    },
    "executionInfo": {
     "elapsed": 36,
     "status": "ok",
     "timestamp": 1621966408683,
     "user": {
      "displayName": "Марк Станиславович Потанин",
      "photoUrl": "https://lh3.googleusercontent.com/a-/AOh14GiGIbSWvn36SnuS11JITt7whCW2414zYLPAFnl9=s64",
      "userId": "12338896257196299013"
     },
     "user_tz": -180
    },
    "id": "KiHj2jx93LBI",
    "outputId": "3dbba547-a9bd-4072-d8fa-3ed903fa72ea"
   },
   "outputs": [
    {
     "data": {
      "text/plain": [
       "array([0, 1, 2, 3, 4])"
      ]
     },
     "execution_count": 241,
     "metadata": {},
     "output_type": "execute_result"
    }
   ],
   "source": [
    "x"
   ]
  },
  {
   "cell_type": "code",
   "execution_count": 242,
   "metadata": {
    "colab": {
     "base_uri": "https://localhost:8080/"
    },
    "executionInfo": {
     "elapsed": 275,
     "status": "ok",
     "timestamp": 1621966408924,
     "user": {
      "displayName": "Марк Станиславович Потанин",
      "photoUrl": "https://lh3.googleusercontent.com/a-/AOh14GiGIbSWvn36SnuS11JITt7whCW2414zYLPAFnl9=s64",
      "userId": "12338896257196299013"
     },
     "user_tz": -180
    },
    "id": "RxyKU_7Y3LBJ",
    "outputId": "a7edd65c-471d-4145-f98e-c0fd0fec1057"
   },
   "outputs": [
    {
     "data": {
      "text/plain": [
       "array([1, 2, 3, 4, 5])"
      ]
     },
     "execution_count": 242,
     "metadata": {},
     "output_type": "execute_result"
    }
   ],
   "source": [
    "y"
   ]
  },
  {
   "cell_type": "code",
   "execution_count": 243,
   "metadata": {
    "colab": {
     "base_uri": "https://localhost:8080/"
    },
    "executionInfo": {
     "elapsed": 4,
     "status": "ok",
     "timestamp": 1621966410475,
     "user": {
      "displayName": "Марк Станиславович Потанин",
      "photoUrl": "https://lh3.googleusercontent.com/a-/AOh14GiGIbSWvn36SnuS11JITt7whCW2414zYLPAFnl9=s64",
      "userId": "12338896257196299013"
     },
     "user_tz": -180
    },
    "id": "Yl8apqAE3LBJ",
    "outputId": "6839d567-646e-4d8a-d4d4-4fde3573ce6a"
   },
   "outputs": [
    {
     "data": {
      "text/plain": [
       "array([1, 3, 5, 7, 9])"
      ]
     },
     "execution_count": 243,
     "metadata": {},
     "output_type": "execute_result"
    }
   ],
   "source": [
    "x+y"
   ]
  },
  {
   "cell_type": "markdown",
   "metadata": {
    "id": "5qnVpHZ13LBJ"
   },
   "source": [
    "Работа с многомерными массивами."
   ]
  },
  {
   "cell_type": "code",
   "execution_count": 244,
   "metadata": {
    "colab": {
     "base_uri": "https://localhost:8080/"
    },
    "executionInfo": {
     "elapsed": 3,
     "status": "ok",
     "timestamp": 1621952292517,
     "user": {
      "displayName": "Марк Станиславович Потанин",
      "photoUrl": "https://lh3.googleusercontent.com/a-/AOh14GiGIbSWvn36SnuS11JITt7whCW2414zYLPAFnl9=s64",
      "userId": "12338896257196299013"
     },
     "user_tz": -180
    },
    "id": "xYhmQjvb3LBJ",
    "outputId": "a20840bd-9a32-4478-c5b8-383b3bf32d1c"
   },
   "outputs": [
    {
     "data": {
      "text/plain": [
       "array([[  1,   2,   4],\n",
       "       [  8,  16,  32],\n",
       "       [ 64, 128, 256]])"
      ]
     },
     "execution_count": 244,
     "metadata": {},
     "output_type": "execute_result"
    }
   ],
   "source": [
    "x = np.arange(9).reshape((3, 3))\n",
    "2 ** x"
   ]
  },
  {
   "cell_type": "code",
   "execution_count": 245,
   "metadata": {
    "executionInfo": {
     "elapsed": 244,
     "status": "ok",
     "timestamp": 1621966475988,
     "user": {
      "displayName": "Марк Станиславович Потанин",
      "photoUrl": "https://lh3.googleusercontent.com/a-/AOh14GiGIbSWvn36SnuS11JITt7whCW2414zYLPAFnl9=s64",
      "userId": "12338896257196299013"
     },
     "user_tz": -180
    },
    "id": "gXjWOkMZvEHJ"
   },
   "outputs": [],
   "source": [
    "x = np.arange(9).reshape((3, 3))"
   ]
  },
  {
   "cell_type": "code",
   "execution_count": 246,
   "metadata": {
    "colab": {
     "base_uri": "https://localhost:8080/"
    },
    "executionInfo": {
     "elapsed": 430,
     "status": "ok",
     "timestamp": 1621966479154,
     "user": {
      "displayName": "Марк Станиславович Потанин",
      "photoUrl": "https://lh3.googleusercontent.com/a-/AOh14GiGIbSWvn36SnuS11JITt7whCW2414zYLPAFnl9=s64",
      "userId": "12338896257196299013"
     },
     "user_tz": -180
    },
    "id": "pMplE_FNvEXO",
    "outputId": "d24bd135-c6e7-4070-974c-043cdc3e5bd9"
   },
   "outputs": [
    {
     "data": {
      "text/plain": [
       "array([[0, 1, 2],\n",
       "       [3, 4, 5],\n",
       "       [6, 7, 8]])"
      ]
     },
     "execution_count": 246,
     "metadata": {},
     "output_type": "execute_result"
    }
   ],
   "source": [
    "x"
   ]
  },
  {
   "cell_type": "code",
   "execution_count": 247,
   "metadata": {
    "colab": {
     "base_uri": "https://localhost:8080/"
    },
    "executionInfo": {
     "elapsed": 310,
     "status": "ok",
     "timestamp": 1621966542976,
     "user": {
      "displayName": "Марк Станиславович Потанин",
      "photoUrl": "https://lh3.googleusercontent.com/a-/AOh14GiGIbSWvn36SnuS11JITt7whCW2414zYLPAFnl9=s64",
      "userId": "12338896257196299013"
     },
     "user_tz": -180
    },
    "id": "smgMtpOrvGkn",
    "outputId": "0bd695f4-b30f-4ff9-e8f9-4f73c1992ad5"
   },
   "outputs": [
    {
     "data": {
      "text/plain": [
       "array([[ 0,  1,  4],\n",
       "       [ 9, 16, 25],\n",
       "       [36, 49, 64]])"
      ]
     },
     "execution_count": 247,
     "metadata": {},
     "output_type": "execute_result"
    }
   ],
   "source": [
    "x**2"
   ]
  },
  {
   "cell_type": "code",
   "execution_count": 248,
   "metadata": {},
   "outputs": [
    {
     "name": "stdout",
     "output_type": "stream",
     "text": [
      "CPU times: user 1.15 ms, sys: 959 μs, total: 2.11 ms\n",
      "Wall time: 1.02 ms\n"
     ]
    }
   ],
   "source": [
    "%%time\n",
    "x = np.arange(100000)**700"
   ]
  },
  {
   "cell_type": "code",
   "execution_count": 249,
   "metadata": {},
   "outputs": [
    {
     "name": "stdout",
     "output_type": "stream",
     "text": [
      "CPU times: user 2.54 s, sys: 25.3 ms, total: 2.57 s\n",
      "Wall time: 2.6 s\n"
     ]
    }
   ],
   "source": [
    "%%time\n",
    "x = [i**700 for i in range(100000)]"
   ]
  },
  {
   "cell_type": "markdown",
   "metadata": {
    "id": "k9ZE2AhE3LBJ"
   },
   "source": [
    "#### Обзор универсальных функций."
   ]
  },
  {
   "cell_type": "code",
   "execution_count": 250,
   "metadata": {
    "colab": {
     "base_uri": "https://localhost:8080/"
    },
    "executionInfo": {
     "elapsed": 334,
     "status": "ok",
     "timestamp": 1621966602424,
     "user": {
      "displayName": "Марк Станиславович Потанин",
      "photoUrl": "https://lh3.googleusercontent.com/a-/AOh14GiGIbSWvn36SnuS11JITt7whCW2414zYLPAFnl9=s64",
      "userId": "12338896257196299013"
     },
     "user_tz": -180
    },
    "id": "4Y7vIv_X3LBK",
    "outputId": "a81ff763-e0ea-4f30-ebd8-6c3979b74555"
   },
   "outputs": [
    {
     "name": "stdout",
     "output_type": "stream",
     "text": [
      "x     = [0 1 2 3]\n",
      "x + 5 = [5 6 7 8]\n",
      "x - 5 = [-5 -4 -3 -2]\n",
      "x * 2 = [0 2 4 6]\n",
      "x / 2 = [0.  0.5 1.  1.5]\n",
      "x // 2 = [0 0 1 1]\n"
     ]
    }
   ],
   "source": [
    "x = np.arange(4)\n",
    "print(\"x     =\", x)\n",
    "print(\"x + 5 =\", x + 5)\n",
    "print(\"x - 5 =\", x - 5)\n",
    "print(\"x * 2 =\", x * 2)\n",
    "print(\"x / 2 =\", x / 2)\n",
    "print(\"x // 2 =\", x // 2) # деление с округлением в меньшую сторону"
   ]
  },
  {
   "cell_type": "markdown",
   "metadata": {
    "id": "18Qsh-xn3LBK"
   },
   "source": [
    "Существует также унарная универсальная функция для операции изменения знака, оператор `**` для возведения в степень и оператор `%` для деления по модулю. Все как у обычных чисел в питоне, только теперь мы можем легко применять эти операции к целому массиву данных."
   ]
  },
  {
   "cell_type": "code",
   "execution_count": 251,
   "metadata": {
    "colab": {
     "base_uri": "https://localhost:8080/"
    },
    "executionInfo": {
     "elapsed": 403,
     "status": "ok",
     "timestamp": 1621966622126,
     "user": {
      "displayName": "Марк Станиславович Потанин",
      "photoUrl": "https://lh3.googleusercontent.com/a-/AOh14GiGIbSWvn36SnuS11JITt7whCW2414zYLPAFnl9=s64",
      "userId": "12338896257196299013"
     },
     "user_tz": -180
    },
    "id": "_z5sc5HW3LBK",
    "outputId": "cedc6e86-f775-4458-ff85-0ae38e3838ed"
   },
   "outputs": [
    {
     "name": "stdout",
     "output_type": "stream",
     "text": [
      "-x     = [ 0 -1 -2 -3]\n",
      "x ** 2 = [0 1 4 9]\n",
      "x % 2 = [0 1 0 1]\n"
     ]
    }
   ],
   "source": [
    "print(\"-x     =\", -x)\n",
    "print(\"x ** 2 =\", x ** 2)\n",
    "print(\"x % 2 =\", x % 2)"
   ]
  },
  {
   "cell_type": "markdown",
   "metadata": {
    "id": "nuhkCq8H3LBK"
   },
   "source": [
    "#### Далее мы посмотрим на основные математические функции, которые могут применяться к массивам."
   ]
  },
  {
   "cell_type": "code",
   "execution_count": 252,
   "metadata": {
    "executionInfo": {
     "elapsed": 427,
     "status": "ok",
     "timestamp": 1621966625048,
     "user": {
      "displayName": "Марк Станиславович Потанин",
      "photoUrl": "https://lh3.googleusercontent.com/a-/AOh14GiGIbSWvn36SnuS11JITt7whCW2414zYLPAFnl9=s64",
      "userId": "12338896257196299013"
     },
     "user_tz": -180
    },
    "id": "Y7rM0AYz3LBK"
   },
   "outputs": [],
   "source": [
    "x = np.array([-2, -1, 0, 1, 2])"
   ]
  },
  {
   "cell_type": "markdown",
   "metadata": {
    "id": "P5gh5RyR3LBK"
   },
   "source": [
    "Абсолютное значение.\n"
   ]
  },
  {
   "cell_type": "code",
   "execution_count": 253,
   "metadata": {
    "colab": {
     "base_uri": "https://localhost:8080/"
    },
    "executionInfo": {
     "elapsed": 352,
     "status": "ok",
     "timestamp": 1621966639693,
     "user": {
      "displayName": "Марк Станиславович Потанин",
      "photoUrl": "https://lh3.googleusercontent.com/a-/AOh14GiGIbSWvn36SnuS11JITt7whCW2414zYLPAFnl9=s64",
      "userId": "12338896257196299013"
     },
     "user_tz": -180
    },
    "id": "CLjoVP393LBL",
    "outputId": "ff30c314-eaf8-4f51-b578-bfb5c1d283e0"
   },
   "outputs": [
    {
     "data": {
      "text/plain": [
       "array([2, 1, 0, 1, 2])"
      ]
     },
     "execution_count": 253,
     "metadata": {},
     "output_type": "execute_result"
    }
   ],
   "source": [
    "np.abs(x)"
   ]
  },
  {
   "cell_type": "markdown",
   "metadata": {
    "id": "8Up9X57T3LBL"
   },
   "source": [
    "Тригонометрические функции."
   ]
  },
  {
   "cell_type": "code",
   "execution_count": 82,
   "metadata": {
    "colab": {
     "base_uri": "https://localhost:8080/"
    },
    "executionInfo": {
     "elapsed": 233,
     "status": "ok",
     "timestamp": 1621966678169,
     "user": {
      "displayName": "Марк Станиславович Потанин",
      "photoUrl": "https://lh3.googleusercontent.com/a-/AOh14GiGIbSWvn36SnuS11JITt7whCW2414zYLPAFnl9=s64",
      "userId": "12338896257196299013"
     },
     "user_tz": -180
    },
    "id": "7yPLVw9uv1Y9",
    "outputId": "13daffa1-fd5e-44bc-a305-d9ed9e96081a"
   },
   "outputs": [
    {
     "name": "stdout",
     "output_type": "stream",
     "text": [
      "\u001b[0;31mType:\u001b[0m        float\n",
      "\u001b[0;31mString form:\u001b[0m 3.141592653589793\n",
      "\u001b[0;31mDocstring:\u001b[0m   Convert a string or number to a floating point number, if possible."
     ]
    }
   ],
   "source": [
    "np.pi?"
   ]
  },
  {
   "cell_type": "code",
   "execution_count": 83,
   "metadata": {
    "colab": {
     "base_uri": "https://localhost:8080/"
    },
    "executionInfo": {
     "elapsed": 251,
     "status": "ok",
     "timestamp": 1621966711337,
     "user": {
      "displayName": "Марк Станиславович Потанин",
      "photoUrl": "https://lh3.googleusercontent.com/a-/AOh14GiGIbSWvn36SnuS11JITt7whCW2414zYLPAFnl9=s64",
      "userId": "12338896257196299013"
     },
     "user_tz": -180
    },
    "id": "d34znSDO3LBL",
    "outputId": "bef39d0f-6caa-463f-8994-c55514c5d692"
   },
   "outputs": [
    {
     "data": {
      "text/plain": [
       "array([0.        , 1.57079633, 3.14159265])"
      ]
     },
     "execution_count": 83,
     "metadata": {},
     "output_type": "execute_result"
    }
   ],
   "source": [
    "theta = np.linspace(0, np.pi, 3)\n",
    "theta"
   ]
  },
  {
   "cell_type": "code",
   "execution_count": 254,
   "metadata": {
    "colab": {
     "base_uri": "https://localhost:8080/"
    },
    "executionInfo": {
     "elapsed": 354,
     "status": "ok",
     "timestamp": 1621966714107,
     "user": {
      "displayName": "Марк Станиславович Потанин",
      "photoUrl": "https://lh3.googleusercontent.com/a-/AOh14GiGIbSWvn36SnuS11JITt7whCW2414zYLPAFnl9=s64",
      "userId": "12338896257196299013"
     },
     "user_tz": -180
    },
    "id": "WWGW0f4J3LBL",
    "outputId": "f17fefa8-d052-4adc-80b8-7205a4415a51"
   },
   "outputs": [
    {
     "name": "stdout",
     "output_type": "stream",
     "text": [
      "theta      = [0.         1.57079633 3.14159265]\n",
      "sin(theta) = [0.0000000e+00 1.0000000e+00 1.2246468e-16]\n",
      "cos(theta) = [ 1.000000e+00  6.123234e-17 -1.000000e+00]\n",
      "tan(theta) = [ 0.00000000e+00  1.63312394e+16 -1.22464680e-16]\n"
     ]
    }
   ],
   "source": [
    "print(\"theta      =\", theta)\n",
    "print(\"sin(theta) =\", np.sin(theta))\n",
    "print(\"cos(theta) =\", np.cos(theta))\n",
    "print(\"tan(theta) =\", np.tan(theta))"
   ]
  },
  {
   "cell_type": "markdown",
   "metadata": {
    "id": "1APW-LHE3LBL"
   },
   "source": [
    "\n",
    "Показательные функции и логарифмы."
   ]
  },
  {
   "cell_type": "code",
   "execution_count": 255,
   "metadata": {
    "colab": {
     "base_uri": "https://localhost:8080/"
    },
    "executionInfo": {
     "elapsed": 240,
     "status": "ok",
     "timestamp": 1621966725701,
     "user": {
      "displayName": "Марк Станиславович Потанин",
      "photoUrl": "https://lh3.googleusercontent.com/a-/AOh14GiGIbSWvn36SnuS11JITt7whCW2414zYLPAFnl9=s64",
      "userId": "12338896257196299013"
     },
     "user_tz": -180
    },
    "id": "oSn99DB43LBL",
    "outputId": "7a06de30-10ec-4fc8-f744-3e5da376da7a"
   },
   "outputs": [
    {
     "name": "stdout",
     "output_type": "stream",
     "text": [
      "x    = [1, 2, 3]\n",
      "e^x  = [ 2.71828183  7.3890561  20.08553692]\n",
      "2^x  = [2. 4. 8.]\n",
      "3^x  = [ 3  9 27]\n"
     ]
    }
   ],
   "source": [
    "x = [1, 2, 3]\n",
    "print(\"x    =\", x)\n",
    "print(\"e^x  =\", np.exp(x))\n",
    "print(\"2^x  =\", np.exp2(x))\n",
    "print(\"3^x  =\", np.power(3, x))"
   ]
  },
  {
   "cell_type": "code",
   "execution_count": 257,
   "metadata": {
    "colab": {
     "base_uri": "https://localhost:8080/"
    },
    "executionInfo": {
     "elapsed": 232,
     "status": "ok",
     "timestamp": 1621966733251,
     "user": {
      "displayName": "Марк Станиславович Потанин",
      "photoUrl": "https://lh3.googleusercontent.com/a-/AOh14GiGIbSWvn36SnuS11JITt7whCW2414zYLPAFnl9=s64",
      "userId": "12338896257196299013"
     },
     "user_tz": -180
    },
    "id": "aMin1BBQ3LBM",
    "outputId": "2007e43c-0325-4749-bb8a-691776abf025"
   },
   "outputs": [
    {
     "name": "stdout",
     "output_type": "stream",
     "text": [
      "x        = [1, 2, 4, 10]\n",
      "ln(x)    = [0.         0.69314718 1.38629436 2.30258509]\n",
      "log2(x)    = [0.         1.         2.         3.32192809]\n",
      "log10(x)    = [0.         0.30103    0.60205999 1.        ]\n"
     ]
    }
   ],
   "source": [
    "x = [1, 2, 4, 10]\n",
    "print(\"x        =\", x)\n",
    "print(\"ln(x)    =\", np.log(x))\n",
    "print(\"log2(x)    =\", np.log2(x))\n",
    "print(\"log10(x)    =\", np.log10(x))"
   ]
  },
  {
   "cell_type": "markdown",
   "metadata": {
    "id": "YPBcmgFg3LBM"
   },
   "source": [
    "Суммирование значений из массива."
   ]
  },
  {
   "cell_type": "code",
   "execution_count": 258,
   "metadata": {
    "executionInfo": {
     "elapsed": 1066,
     "status": "ok",
     "timestamp": 1621966762101,
     "user": {
      "displayName": "Марк Станиславович Потанин",
      "photoUrl": "https://lh3.googleusercontent.com/a-/AOh14GiGIbSWvn36SnuS11JITt7whCW2414zYLPAFnl9=s64",
      "userId": "12338896257196299013"
     },
     "user_tz": -180
    },
    "id": "NVm50qp43LBM"
   },
   "outputs": [],
   "source": [
    "L = np.random.randint(10000,size=(10,10))"
   ]
  },
  {
   "cell_type": "code",
   "execution_count": 259,
   "metadata": {
    "colab": {
     "base_uri": "https://localhost:8080/"
    },
    "executionInfo": {
     "elapsed": 4,
     "status": "ok",
     "timestamp": 1621966762504,
     "user": {
      "displayName": "Марк Станиславович Потанин",
      "photoUrl": "https://lh3.googleusercontent.com/a-/AOh14GiGIbSWvn36SnuS11JITt7whCW2414zYLPAFnl9=s64",
      "userId": "12338896257196299013"
     },
     "user_tz": -180
    },
    "id": "TAkYrUom3LBM",
    "outputId": "75f1793f-89fa-45a2-9a23-35b373281200"
   },
   "outputs": [
    {
     "data": {
      "text/plain": [
       "array([[ 398, 8939, 1851, 1559, 1680, 5550,  584, 9511, 4584,    9],\n",
       "       [ 710, 4610,  207, 9705, 8640, 4715, 4700,    2, 4224, 7767],\n",
       "       [5442, 4799, 6961, 8980, 4077, 4198, 3446,   69, 1965, 9818],\n",
       "       [1155, 6048, 6872, 7305,  984, 9474, 1186, 7824, 7207, 4565],\n",
       "       [ 145, 8861, 8622, 2750, 9148,  982, 8395, 8711, 8580, 1979],\n",
       "       [5648, 5777, 5479, 3129, 5875, 2007,  685, 7069, 7933, 3673],\n",
       "       [9895, 2489, 1195, 2686,  934, 3309, 5540, 9769, 3448, 8447],\n",
       "       [5336, 3517, 1582, 1634,  978, 7661, 3879, 9291, 2217, 9088],\n",
       "       [8918, 9045, 5090, 1695, 6773,  340, 9345, 6846, 3658, 6135],\n",
       "       [5525, 3945,  563, 9857, 4255, 1268, 9939, 8660, 6773, 3309]])"
      ]
     },
     "execution_count": 259,
     "metadata": {},
     "output_type": "execute_result"
    }
   ],
   "source": [
    "L"
   ]
  },
  {
   "cell_type": "code",
   "execution_count": 261,
   "metadata": {},
   "outputs": [
    {
     "data": {
      "text/plain": [
       "array([[ 398, 8939, 1851, 1559, 1680, 5550,  584, 9511, 4584,    9],\n",
       "       [ 710, 4610,  207, 9705, 8640, 4715, 4700,    2, 4224, 7767],\n",
       "       [5442, 4799, 6961, 8980, 4077, 4198, 3446,   69, 1965, 9818],\n",
       "       [1155, 6048, 6872, 7305,  984, 9474, 1186, 7824, 7207, 4565],\n",
       "       [ 145, 8861, 8622, 2750, 9148,  982, 8395, 8711, 8580, 1979],\n",
       "       [5648, 5777, 5479, 3129, 5875, 2007,  685, 7069, 7933, 3673],\n",
       "       [9895, 2489, 1195, 2686,  934, 3309, 5540, 9769, 3448, 8447],\n",
       "       [5336, 3517, 1582, 1634,  978, 7661, 3879, 9291, 2217, 9088],\n",
       "       [8918, 9045, 5090, 1695, 6773,  340, 9345, 6846, 3658, 6135],\n",
       "       [5525, 3945,  563, 9857, 4255, 1268, 9939, 8660, 6773, 3309]])"
      ]
     },
     "execution_count": 261,
     "metadata": {},
     "output_type": "execute_result"
    }
   ],
   "source": [
    "L"
   ]
  },
  {
   "cell_type": "code",
   "execution_count": 265,
   "metadata": {
    "executionInfo": {
     "elapsed": 307,
     "status": "ok",
     "timestamp": 1621966815838,
     "user": {
      "displayName": "Марк Станиславович Потанин",
      "photoUrl": "https://lh3.googleusercontent.com/a-/AOh14GiGIbSWvn36SnuS11JITt7whCW2414zYLPAFnl9=s64",
      "userId": "12338896257196299013"
     },
     "user_tz": -180
    },
    "id": "DUgDUD1R3LBM"
   },
   "outputs": [],
   "source": [
    "big_array = np.random.rand(1000000)"
   ]
  },
  {
   "cell_type": "code",
   "execution_count": 266,
   "metadata": {
    "colab": {
     "base_uri": "https://localhost:8080/"
    },
    "executionInfo": {
     "elapsed": 4,
     "status": "ok",
     "timestamp": 1621966769953,
     "user": {
      "displayName": "Марк Станиславович Потанин",
      "photoUrl": "https://lh3.googleusercontent.com/a-/AOh14GiGIbSWvn36SnuS11JITt7whCW2414zYLPAFnl9=s64",
      "userId": "12338896257196299013"
     },
     "user_tz": -180
    },
    "id": "5mNJw_Ld3LBM",
    "outputId": "90dd2cc4-8565-4347-c577-41f63fedfc8c"
   },
   "outputs": [
    {
     "data": {
      "text/plain": [
       "array([0.03283633, 0.98698847, 0.96710835, ..., 0.08790523, 0.73428642,\n",
       "       0.60580074])"
      ]
     },
     "execution_count": 266,
     "metadata": {},
     "output_type": "execute_result"
    }
   ],
   "source": [
    "big_array"
   ]
  },
  {
   "cell_type": "code",
   "execution_count": 267,
   "metadata": {
    "colab": {
     "base_uri": "https://localhost:8080/"
    },
    "executionInfo": {
     "elapsed": 3,
     "status": "ok",
     "timestamp": 1621966770252,
     "user": {
      "displayName": "Марк Станиславович Потанин",
      "photoUrl": "https://lh3.googleusercontent.com/a-/AOh14GiGIbSWvn36SnuS11JITt7whCW2414zYLPAFnl9=s64",
      "userId": "12338896257196299013"
     },
     "user_tz": -180
    },
    "id": "SzI3R8aM3LBN",
    "outputId": "a095ec52-769a-4d6d-a392-5e9d001d0fa8"
   },
   "outputs": [
    {
     "data": {
      "text/plain": [
       "np.float64(499795.7843223296)"
      ]
     },
     "execution_count": 267,
     "metadata": {},
     "output_type": "execute_result"
    }
   ],
   "source": [
    "np.sum(big_array)"
   ]
  },
  {
   "cell_type": "markdown",
   "metadata": {
    "id": "JOZwEWZx3LBN"
   },
   "source": [
    "Минимум и максимум."
   ]
  },
  {
   "cell_type": "code",
   "execution_count": 268,
   "metadata": {
    "colab": {
     "base_uri": "https://localhost:8080/"
    },
    "executionInfo": {
     "elapsed": 246,
     "status": "ok",
     "timestamp": 1621966789687,
     "user": {
      "displayName": "Марк Станиславович Потанин",
      "photoUrl": "https://lh3.googleusercontent.com/a-/AOh14GiGIbSWvn36SnuS11JITt7whCW2414zYLPAFnl9=s64",
      "userId": "12338896257196299013"
     },
     "user_tz": -180
    },
    "id": "jKCz-jYI3LBN",
    "outputId": "fc6c7221-3027-4622-acaf-24ec213ceda2"
   },
   "outputs": [
    {
     "data": {
      "text/plain": [
       "np.float64(5.288667792591184e-07)"
      ]
     },
     "execution_count": 268,
     "metadata": {},
     "output_type": "execute_result"
    }
   ],
   "source": [
    "np.min(big_array)"
   ]
  },
  {
   "cell_type": "code",
   "execution_count": 269,
   "metadata": {
    "colab": {
     "base_uri": "https://localhost:8080/"
    },
    "executionInfo": {
     "elapsed": 249,
     "status": "ok",
     "timestamp": 1621966793970,
     "user": {
      "displayName": "Марк Станиславович Потанин",
      "photoUrl": "https://lh3.googleusercontent.com/a-/AOh14GiGIbSWvn36SnuS11JITt7whCW2414zYLPAFnl9=s64",
      "userId": "12338896257196299013"
     },
     "user_tz": -180
    },
    "id": "Jxudq5HH3LBN",
    "outputId": "2f360c24-0bb8-4ce2-fd48-03165f43077d"
   },
   "outputs": [
    {
     "data": {
      "text/plain": [
       "np.float64(0.9999997879207114)"
      ]
     },
     "execution_count": 269,
     "metadata": {},
     "output_type": "execute_result"
    }
   ],
   "source": [
    "np.max(big_array)"
   ]
  },
  {
   "cell_type": "markdown",
   "metadata": {
    "id": "q2JWG0Hz3LBN"
   },
   "source": [
    "Агрегирование по столбцу или строке - один из часто применяемых видов операций агрегирования. Пусть имеются какие-либо данные, находящиеся в двумерном массиве."
   ]
  },
  {
   "cell_type": "code",
   "execution_count": 270,
   "metadata": {
    "executionInfo": {
     "elapsed": 525,
     "status": "ok",
     "timestamp": 1621966868249,
     "user": {
      "displayName": "Марк Станиславович Потанин",
      "photoUrl": "https://lh3.googleusercontent.com/a-/AOh14GiGIbSWvn36SnuS11JITt7whCW2414zYLPAFnl9=s64",
      "userId": "12338896257196299013"
     },
     "user_tz": -180
    },
    "id": "EqBWJid93LBN"
   },
   "outputs": [],
   "source": [
    "M = np.random.random((3, 4))"
   ]
  },
  {
   "cell_type": "code",
   "execution_count": 271,
   "metadata": {},
   "outputs": [
    {
     "data": {
      "text/plain": [
       "array([[0.75209227, 0.66879684, 0.62974166, 0.88615706],\n",
       "       [0.88666076, 0.75310343, 0.69335287, 0.26091975],\n",
       "       [0.8967608 , 0.80965696, 0.97019383, 0.89411209]])"
      ]
     },
     "execution_count": 271,
     "metadata": {},
     "output_type": "execute_result"
    }
   ],
   "source": [
    "M"
   ]
  },
  {
   "cell_type": "code",
   "execution_count": 272,
   "metadata": {
    "colab": {
     "base_uri": "https://localhost:8080/"
    },
    "executionInfo": {
     "elapsed": 6,
     "status": "ok",
     "timestamp": 1621966868250,
     "user": {
      "displayName": "Марк Станиславович Потанин",
      "photoUrl": "https://lh3.googleusercontent.com/a-/AOh14GiGIbSWvn36SnuS11JITt7whCW2414zYLPAFnl9=s64",
      "userId": "12338896257196299013"
     },
     "user_tz": -180
    },
    "id": "Iteh5ItS3LBN",
    "outputId": "68a7d7c7-79e5-46d6-af6f-1c4622d73c1d"
   },
   "outputs": [
    {
     "data": {
      "text/plain": [
       "array([[0.75209227, 0.66879684, 0.62974166, 0.88615706],\n",
       "       [0.88666076, 0.75310343, 0.69335287, 0.26091975],\n",
       "       [0.8967608 , 0.80965696, 0.97019383, 0.89411209]])"
      ]
     },
     "execution_count": 272,
     "metadata": {},
     "output_type": "execute_result"
    }
   ],
   "source": [
    "M"
   ]
  },
  {
   "cell_type": "code",
   "execution_count": 273,
   "metadata": {
    "colab": {
     "base_uri": "https://localhost:8080/"
    },
    "executionInfo": {
     "elapsed": 4,
     "status": "ok",
     "timestamp": 1621966868745,
     "user": {
      "displayName": "Марк Станиславович Потанин",
      "photoUrl": "https://lh3.googleusercontent.com/a-/AOh14GiGIbSWvn36SnuS11JITt7whCW2414zYLPAFnl9=s64",
      "userId": "12338896257196299013"
     },
     "user_tz": -180
    },
    "id": "nLAzCkSE3LBN",
    "outputId": "5a842272-e646-46ff-fb72-98c9e196b120"
   },
   "outputs": [
    {
     "data": {
      "text/plain": [
       "np.float64(9.101548330410433)"
      ]
     },
     "execution_count": 273,
     "metadata": {},
     "output_type": "execute_result"
    }
   ],
   "source": [
    "np.sum(M)"
   ]
  },
  {
   "cell_type": "markdown",
   "metadata": {
    "id": "Z224daYl3LBO"
   },
   "source": [
    "По умолчанию все функции агрегирования NumPy возвращают сводный показатель по всему массиву. Но можно указать ось, по которой вычисляется сводный показатель. Например, можно найти минимальное значение каждого из столбцов, указав axis=0."
   ]
  },
  {
   "cell_type": "code",
   "execution_count": 274,
   "metadata": {
    "colab": {
     "base_uri": "https://localhost:8080/"
    },
    "executionInfo": {
     "elapsed": 3,
     "status": "ok",
     "timestamp": 1621966869129,
     "user": {
      "displayName": "Марк Станиславович Потанин",
      "photoUrl": "https://lh3.googleusercontent.com/a-/AOh14GiGIbSWvn36SnuS11JITt7whCW2414zYLPAFnl9=s64",
      "userId": "12338896257196299013"
     },
     "user_tz": -180
    },
    "id": "-wMYPoAa3LBO",
    "outputId": "a292037e-c822-485b-81b9-0b1806d69f4d"
   },
   "outputs": [
    {
     "data": {
      "text/plain": [
       "array([0.62974166, 0.26091975, 0.80965696])"
      ]
     },
     "execution_count": 274,
     "metadata": {},
     "output_type": "execute_result"
    }
   ],
   "source": [
    "np.min(M,axis=1) # Функция возвращает четыре значения, соответствующие четырем столбцам чисел."
   ]
  },
  {
   "cell_type": "markdown",
   "metadata": {
    "id": "Lw2SR3p63LBO"
   },
   "source": [
    "\n",
    "Для поиска максимального значения в строке можно использовать axis=1:"
   ]
  },
  {
   "cell_type": "code",
   "execution_count": 275,
   "metadata": {
    "colab": {
     "base_uri": "https://localhost:8080/"
    },
    "executionInfo": {
     "elapsed": 387,
     "status": "ok",
     "timestamp": 1621966908577,
     "user": {
      "displayName": "Марк Станиславович Потанин",
      "photoUrl": "https://lh3.googleusercontent.com/a-/AOh14GiGIbSWvn36SnuS11JITt7whCW2414zYLPAFnl9=s64",
      "userId": "12338896257196299013"
     },
     "user_tz": -180
    },
    "id": "fpppM0BV3LBO",
    "outputId": "8b9e68b1-3dd5-4dc4-fdf6-33c0fe74c766"
   },
   "outputs": [
    {
     "data": {
      "text/plain": [
       "array([0.88615706, 0.88666076, 0.97019383])"
      ]
     },
     "execution_count": 275,
     "metadata": {},
     "output_type": "execute_result"
    }
   ],
   "source": [
    "np.max(M,axis=1) # Функция возвращает три значения, соответствующие трем строкам чисел."
   ]
  },
  {
   "cell_type": "markdown",
   "metadata": {
    "id": "32zHFqaz3LBO"
   },
   "source": [
    "Еще одно замечание - необязательно вызывать функцию аггрегирования напрямую из NumPy. Пусть `M` - некоторый массив (матрица например), тогда вместо `np.max()` можно написать `M.max()` - так тоже будет работать."
   ]
  },
  {
   "cell_type": "code",
   "execution_count": 276,
   "metadata": {
    "colab": {
     "base_uri": "https://localhost:8080/"
    },
    "executionInfo": {
     "elapsed": 316,
     "status": "ok",
     "timestamp": 1621966912383,
     "user": {
      "displayName": "Марк Станиславович Потанин",
      "photoUrl": "https://lh3.googleusercontent.com/a-/AOh14GiGIbSWvn36SnuS11JITt7whCW2414zYLPAFnl9=s64",
      "userId": "12338896257196299013"
     },
     "user_tz": -180
    },
    "id": "vDgemaT63LBO",
    "outputId": "f0abca5e-e948-49fa-a97b-008040bf8965"
   },
   "outputs": [
    {
     "data": {
      "text/plain": [
       "np.float64(0.9701938302590221)"
      ]
     },
     "execution_count": 276,
     "metadata": {},
     "output_type": "execute_result"
    }
   ],
   "source": [
    "np.max(M)"
   ]
  },
  {
   "cell_type": "code",
   "execution_count": 277,
   "metadata": {
    "colab": {
     "base_uri": "https://localhost:8080/"
    },
    "executionInfo": {
     "elapsed": 3,
     "status": "ok",
     "timestamp": 1621966912755,
     "user": {
      "displayName": "Марк Станиславович Потанин",
      "photoUrl": "https://lh3.googleusercontent.com/a-/AOh14GiGIbSWvn36SnuS11JITt7whCW2414zYLPAFnl9=s64",
      "userId": "12338896257196299013"
     },
     "user_tz": -180
    },
    "id": "yK828CRr3LBO",
    "outputId": "9050a07e-fef0-4240-810e-98a3303499cd"
   },
   "outputs": [
    {
     "data": {
      "text/plain": [
       "np.float64(0.9701938302590221)"
      ]
     },
     "execution_count": 277,
     "metadata": {},
     "output_type": "execute_result"
    }
   ],
   "source": [
    "M.max()"
   ]
  },
  {
   "cell_type": "code",
   "execution_count": 278,
   "metadata": {
    "colab": {
     "base_uri": "https://localhost:8080/"
    },
    "executionInfo": {
     "elapsed": 271,
     "status": "ok",
     "timestamp": 1621966965523,
     "user": {
      "displayName": "Марк Станиславович Потанин",
      "photoUrl": "https://lh3.googleusercontent.com/a-/AOh14GiGIbSWvn36SnuS11JITt7whCW2414zYLPAFnl9=s64",
      "userId": "12338896257196299013"
     },
     "user_tz": -180
    },
    "id": "IYYXSSj0w609",
    "outputId": "b8bf687d-dfa0-4302-b55f-b7d0206ea019"
   },
   "outputs": [
    {
     "data": {
      "text/plain": [
       "np.float64(0.2609197499111894)"
      ]
     },
     "execution_count": 278,
     "metadata": {},
     "output_type": "execute_result"
    }
   ],
   "source": [
    "M.min()"
   ]
  },
  {
   "cell_type": "markdown",
   "metadata": {
    "id": "f7Afcrjg3LBO"
   },
   "source": [
    "Есть много других функций агрегирования."
   ]
  },
  {
   "cell_type": "code",
   "execution_count": 279,
   "metadata": {
    "colab": {
     "base_uri": "https://localhost:8080/"
    },
    "executionInfo": {
     "elapsed": 4,
     "status": "ok",
     "timestamp": 1621966915443,
     "user": {
      "displayName": "Марк Станиславович Потанин",
      "photoUrl": "https://lh3.googleusercontent.com/a-/AOh14GiGIbSWvn36SnuS11JITt7whCW2414zYLPAFnl9=s64",
      "userId": "12338896257196299013"
     },
     "user_tz": -180
    },
    "id": "AlYAtV4v3LBO",
    "outputId": "a2f687ac-1da4-41b4-aa3d-e4f08dac9cc5"
   },
   "outputs": [
    {
     "data": {
      "text/plain": [
       "array([[0.51933808, 0.02115228, 0.4582244 , 0.97703755, 0.45360401,\n",
       "        0.66896954, 0.40783347, 0.20028067, 0.78681704, 0.60596837,\n",
       "        0.11162978, 0.34473593, 0.8279693 , 0.55050227, 0.34990595,\n",
       "        0.11809544, 0.35835421, 0.95966247, 0.33206563, 0.22390493]])"
      ]
     },
     "execution_count": 279,
     "metadata": {},
     "output_type": "execute_result"
    }
   ],
   "source": [
    "x = np.random.rand(1, 20)\n",
    "x"
   ]
  },
  {
   "cell_type": "code",
   "execution_count": 281,
   "metadata": {
    "colab": {
     "base_uri": "https://localhost:8080/"
    },
    "executionInfo": {
     "elapsed": 368,
     "status": "ok",
     "timestamp": 1621966994424,
     "user": {
      "displayName": "Марк Станиславович Потанин",
      "photoUrl": "https://lh3.googleusercontent.com/a-/AOh14GiGIbSWvn36SnuS11JITt7whCW2414zYLPAFnl9=s64",
      "userId": "12338896257196299013"
     },
     "user_tz": -180
    },
    "id": "MZAqPeZI3LBP",
    "outputId": "c42d19b4-9437-4287-d0ac-aef8841a3767"
   },
   "outputs": [
    {
     "data": {
      "text/plain": [
       "np.float64(1.077131362453613e-09)"
      ]
     },
     "execution_count": 281,
     "metadata": {},
     "output_type": "execute_result"
    }
   ],
   "source": [
    "x.prod() # произведение элементов"
   ]
  },
  {
   "cell_type": "code",
   "execution_count": 282,
   "metadata": {
    "colab": {
     "base_uri": "https://localhost:8080/"
    },
    "executionInfo": {
     "elapsed": 235,
     "status": "ok",
     "timestamp": 1621967003062,
     "user": {
      "displayName": "Марк Станиславович Потанин",
      "photoUrl": "https://lh3.googleusercontent.com/a-/AOh14GiGIbSWvn36SnuS11JITt7whCW2414zYLPAFnl9=s64",
      "userId": "12338896257196299013"
     },
     "user_tz": -180
    },
    "id": "EXjiEE6q3LBP",
    "outputId": "af0f477f-af09-471c-83b2-197e5f79fd3b"
   },
   "outputs": [
    {
     "data": {
      "text/plain": [
       "np.float64(0.46380256493440825)"
      ]
     },
     "execution_count": 282,
     "metadata": {},
     "output_type": "execute_result"
    }
   ],
   "source": [
    "x.mean() # среднее значение элементов"
   ]
  },
  {
   "cell_type": "code",
   "execution_count": 283,
   "metadata": {
    "colab": {
     "base_uri": "https://localhost:8080/"
    },
    "executionInfo": {
     "elapsed": 237,
     "status": "ok",
     "timestamp": 1621967005941,
     "user": {
      "displayName": "Марк Станиславович Потанин",
      "photoUrl": "https://lh3.googleusercontent.com/a-/AOh14GiGIbSWvn36SnuS11JITt7whCW2414zYLPAFnl9=s64",
      "userId": "12338896257196299013"
     },
     "user_tz": -180
    },
    "id": "dAayApvx3LBP",
    "outputId": "d97a0d81-044e-4958-b130-0b253f97288a"
   },
   "outputs": [
    {
     "data": {
      "text/plain": [
       "np.float64(0.268748261936793)"
      ]
     },
     "execution_count": 283,
     "metadata": {},
     "output_type": "execute_result"
    }
   ],
   "source": [
    "x.std() # стандартное отклонение"
   ]
  },
  {
   "cell_type": "code",
   "execution_count": 284,
   "metadata": {
    "colab": {
     "base_uri": "https://localhost:8080/"
    },
    "executionInfo": {
     "elapsed": 242,
     "status": "ok",
     "timestamp": 1621967008282,
     "user": {
      "displayName": "Марк Станиславович Потанин",
      "photoUrl": "https://lh3.googleusercontent.com/a-/AOh14GiGIbSWvn36SnuS11JITt7whCW2414zYLPAFnl9=s64",
      "userId": "12338896257196299013"
     },
     "user_tz": -180
    },
    "id": "DM51z5Y73LBP",
    "outputId": "26a0a5f9-7b38-4eda-d4e6-96ed30d0fc2b"
   },
   "outputs": [
    {
     "data": {
      "text/plain": [
       "np.float64(0.0722256282940471)"
      ]
     },
     "execution_count": 284,
     "metadata": {},
     "output_type": "execute_result"
    }
   ],
   "source": [
    "x.var() # дисперсия"
   ]
  },
  {
   "cell_type": "code",
   "execution_count": 285,
   "metadata": {
    "colab": {
     "base_uri": "https://localhost:8080/"
    },
    "executionInfo": {
     "elapsed": 226,
     "status": "ok",
     "timestamp": 1621967011299,
     "user": {
      "displayName": "Марк Станиславович Потанин",
      "photoUrl": "https://lh3.googleusercontent.com/a-/AOh14GiGIbSWvn36SnuS11JITt7whCW2414zYLPAFnl9=s64",
      "userId": "12338896257196299013"
     },
     "user_tz": -180
    },
    "id": "8EEfN2203LBP",
    "outputId": "5a84511a-d85d-44ad-8390-d6f39e858600"
   },
   "outputs": [
    {
     "data": {
      "text/plain": [
       "np.float64(0.4307187392388989)"
      ]
     },
     "execution_count": 285,
     "metadata": {},
     "output_type": "execute_result"
    }
   ],
   "source": [
    "np.median(x) # медиана элементов"
   ]
  },
  {
   "cell_type": "markdown",
   "metadata": {
    "id": "xN60g10l3LBP"
   },
   "source": [
    "#### Транслирование."
   ]
  },
  {
   "cell_type": "markdown",
   "metadata": {
    "id": "uFDRUxG13LBP"
   },
   "source": [
    "Транслирование - применение универсальных функций (сложение, вычитание, умножение и т.д.) к массивам различного размера."
   ]
  },
  {
   "cell_type": "markdown",
   "metadata": {
    "id": "uy2GwX_13LBP"
   },
   "source": [
    "Для массивов одного размера математические операции выполняются поэлементно."
   ]
  },
  {
   "cell_type": "code",
   "execution_count": 286,
   "metadata": {
    "colab": {
     "base_uri": "https://localhost:8080/"
    },
    "executionInfo": {
     "elapsed": 346,
     "status": "ok",
     "timestamp": 1621967036372,
     "user": {
      "displayName": "Марк Станиславович Потанин",
      "photoUrl": "https://lh3.googleusercontent.com/a-/AOh14GiGIbSWvn36SnuS11JITt7whCW2414zYLPAFnl9=s64",
      "userId": "12338896257196299013"
     },
     "user_tz": -180
    },
    "id": "pxKT-o3M3LBQ",
    "outputId": "1e8df7d4-bb60-4f8d-d224-3023ebc57c61"
   },
   "outputs": [
    {
     "data": {
      "text/plain": [
       "array([5, 6, 7])"
      ]
     },
     "execution_count": 286,
     "metadata": {},
     "output_type": "execute_result"
    }
   ],
   "source": [
    "a = np.array([0, 1, 2])\n",
    "b = np.array([5, 5, 5])\n",
    "a + b"
   ]
  },
  {
   "cell_type": "markdown",
   "metadata": {
    "id": "uW7C1yU93LBQ"
   },
   "source": [
    "Транслирование дает возможность выполнять подобные виды бинарных операций над массивами различных размеров, например, можно легко прибавить скалярное значение (рассматривая его как нульмерный массив) к массиву:"
   ]
  },
  {
   "cell_type": "code",
   "execution_count": 288,
   "metadata": {
    "colab": {
     "base_uri": "https://localhost:8080/"
    },
    "executionInfo": {
     "elapsed": 3,
     "status": "ok",
     "timestamp": 1621967036755,
     "user": {
      "displayName": "Марк Станиславович Потанин",
      "photoUrl": "https://lh3.googleusercontent.com/a-/AOh14GiGIbSWvn36SnuS11JITt7whCW2414zYLPAFnl9=s64",
      "userId": "12338896257196299013"
     },
     "user_tz": -180
    },
    "id": "hjE-F25J3LBQ",
    "outputId": "801aa909-b4b9-4c8a-b644-00292a0bb492"
   },
   "outputs": [
    {
     "data": {
      "text/plain": [
       "array([5, 6, 7])"
      ]
     },
     "execution_count": 288,
     "metadata": {},
     "output_type": "execute_result"
    }
   ],
   "source": [
    "a + 5"
   ]
  },
  {
   "cell_type": "markdown",
   "metadata": {
    "id": "f6_RC6QY3LBQ"
   },
   "source": [
    "Транслирование в массивах большей размерности:"
   ]
  },
  {
   "cell_type": "code",
   "execution_count": 289,
   "metadata": {
    "colab": {
     "base_uri": "https://localhost:8080/"
    },
    "executionInfo": {
     "elapsed": 326,
     "status": "ok",
     "timestamp": 1621967049107,
     "user": {
      "displayName": "Марк Станиславович Потанин",
      "photoUrl": "https://lh3.googleusercontent.com/a-/AOh14GiGIbSWvn36SnuS11JITt7whCW2414zYLPAFnl9=s64",
      "userId": "12338896257196299013"
     },
     "user_tz": -180
    },
    "id": "P80KjoX33LBQ",
    "outputId": "c5ba0651-6337-479f-d845-8bfa6f981276"
   },
   "outputs": [
    {
     "data": {
      "text/plain": [
       "array([[1., 1., 1.],\n",
       "       [1., 1., 1.],\n",
       "       [1., 1., 1.]])"
      ]
     },
     "execution_count": 289,
     "metadata": {},
     "output_type": "execute_result"
    }
   ],
   "source": [
    "M = np.ones((3, 3))\n",
    "M"
   ]
  },
  {
   "cell_type": "code",
   "execution_count": 290,
   "metadata": {
    "colab": {
     "base_uri": "https://localhost:8080/"
    },
    "executionInfo": {
     "elapsed": 231,
     "status": "ok",
     "timestamp": 1621967077441,
     "user": {
      "displayName": "Марк Станиславович Потанин",
      "photoUrl": "https://lh3.googleusercontent.com/a-/AOh14GiGIbSWvn36SnuS11JITt7whCW2414zYLPAFnl9=s64",
      "userId": "12338896257196299013"
     },
     "user_tz": -180
    },
    "id": "MEfsG3IV3LBQ",
    "outputId": "bcc07478-4c4c-4a2f-d5ed-e6bbd0fe4b55"
   },
   "outputs": [
    {
     "data": {
      "text/plain": [
       "array([0, 1, 2])"
      ]
     },
     "execution_count": 290,
     "metadata": {},
     "output_type": "execute_result"
    }
   ],
   "source": [
    "a"
   ]
  },
  {
   "cell_type": "code",
   "execution_count": 291,
   "metadata": {
    "colab": {
     "base_uri": "https://localhost:8080/"
    },
    "executionInfo": {
     "elapsed": 907,
     "status": "ok",
     "timestamp": 1621967100297,
     "user": {
      "displayName": "Марк Станиславович Потанин",
      "photoUrl": "https://lh3.googleusercontent.com/a-/AOh14GiGIbSWvn36SnuS11JITt7whCW2414zYLPAFnl9=s64",
      "userId": "12338896257196299013"
     },
     "user_tz": -180
    },
    "id": "0ORi0VjE3LBQ",
    "outputId": "3775b7df-8bb6-453a-d963-deb0053e0eec"
   },
   "outputs": [
    {
     "data": {
      "text/plain": [
       "array([[1., 2., 3.],\n",
       "       [1., 2., 3.],\n",
       "       [1., 2., 3.]])"
      ]
     },
     "execution_count": 291,
     "metadata": {},
     "output_type": "execute_result"
    }
   ],
   "source": [
    "M+a"
   ]
  },
  {
   "cell_type": "markdown",
   "metadata": {
    "id": "-Omi5_Ty3LBQ"
   },
   "source": [
    "Здесь одномерный массив `а` растягивается (транслируется) на второе измерение, чтобы соответствовать форме массива `М`."
   ]
  },
  {
   "cell_type": "markdown",
   "metadata": {
    "id": "NjG45Nv63LBR"
   },
   "source": [
    "Пример использования транслирования на практике - центрирование массива."
   ]
  },
  {
   "cell_type": "code",
   "execution_count": 292,
   "metadata": {
    "colab": {
     "base_uri": "https://localhost:8080/"
    },
    "executionInfo": {
     "elapsed": 4,
     "status": "ok",
     "timestamp": 1621967106858,
     "user": {
      "displayName": "Марк Станиславович Потанин",
      "photoUrl": "https://lh3.googleusercontent.com/a-/AOh14GiGIbSWvn36SnuS11JITt7whCW2414zYLPAFnl9=s64",
      "userId": "12338896257196299013"
     },
     "user_tz": -180
    },
    "id": "E49zacEB3LBR",
    "outputId": "b4faeae1-7370-459c-a1b9-3f6e909b0561"
   },
   "outputs": [
    {
     "data": {
      "text/plain": [
       "array([[0.52039111, 0.74926056, 0.41975866],\n",
       "       [0.87232494, 0.11533397, 0.75333809],\n",
       "       [0.20489028, 0.90200417, 0.69704352],\n",
       "       [0.92518816, 0.9610455 , 0.89202109],\n",
       "       [0.2408414 , 0.59494222, 0.63423755],\n",
       "       [0.61555932, 0.2664431 , 0.74065609],\n",
       "       [0.60662361, 0.8141144 , 0.57531854],\n",
       "       [0.37875278, 0.38218353, 0.64292752],\n",
       "       [0.38735036, 0.56119594, 0.56217663],\n",
       "       [0.82514271, 0.23769458, 0.22190236]])"
      ]
     },
     "execution_count": 292,
     "metadata": {},
     "output_type": "execute_result"
    }
   ],
   "source": [
    "x = np.random.random((10, 3))\n",
    "x"
   ]
  },
  {
   "cell_type": "code",
   "execution_count": 293,
   "metadata": {
    "colab": {
     "base_uri": "https://localhost:8080/"
    },
    "executionInfo": {
     "elapsed": 2,
     "status": "ok",
     "timestamp": 1621967107369,
     "user": {
      "displayName": "Марк Станиславович Потанин",
      "photoUrl": "https://lh3.googleusercontent.com/a-/AOh14GiGIbSWvn36SnuS11JITt7whCW2414zYLPAFnl9=s64",
      "userId": "12338896257196299013"
     },
     "user_tz": -180
    },
    "id": "1bOP20Lr3LBR",
    "outputId": "c24bc6c6-1fd3-4263-ee4e-183633a18c5d"
   },
   "outputs": [
    {
     "data": {
      "text/plain": [
       "array([0.55770647, 0.5584218 , 0.613938  ])"
      ]
     },
     "execution_count": 293,
     "metadata": {},
     "output_type": "execute_result"
    }
   ],
   "source": [
    "xmean = x.mean(axis=0)\n",
    "xmean"
   ]
  },
  {
   "cell_type": "markdown",
   "metadata": {
    "id": "KsfKgZiu3LBR"
   },
   "source": [
    "Можно отцентрировать массив вычитанием среднего значения (это операция транслирования):"
   ]
  },
  {
   "cell_type": "code",
   "execution_count": 294,
   "metadata": {
    "colab": {
     "base_uri": "https://localhost:8080/"
    },
    "executionInfo": {
     "elapsed": 4,
     "status": "ok",
     "timestamp": 1621967109031,
     "user": {
      "displayName": "Марк Станиславович Потанин",
      "photoUrl": "https://lh3.googleusercontent.com/a-/AOh14GiGIbSWvn36SnuS11JITt7whCW2414zYLPAFnl9=s64",
      "userId": "12338896257196299013"
     },
     "user_tz": -180
    },
    "id": "VBUNZHIn3LBR",
    "outputId": "af535375-7cd0-4a96-cd48-f75a37c806f7"
   },
   "outputs": [
    {
     "data": {
      "text/plain": [
       "array([[-0.03731536,  0.19083876, -0.19417935],\n",
       "       [ 0.31461848, -0.44308783,  0.13940008],\n",
       "       [-0.35281619,  0.34358237,  0.08310551],\n",
       "       [ 0.3674817 ,  0.4026237 ,  0.27808309],\n",
       "       [-0.31686507,  0.03652043,  0.02029954],\n",
       "       [ 0.05785285, -0.29197869,  0.12671809],\n",
       "       [ 0.04891714,  0.2556926 , -0.03861946],\n",
       "       [-0.17895369, -0.17623827,  0.02898951],\n",
       "       [-0.17035611,  0.00277414, -0.05176138],\n",
       "       [ 0.26743625, -0.32072721, -0.39203564]])"
      ]
     },
     "execution_count": 294,
     "metadata": {},
     "output_type": "execute_result"
    }
   ],
   "source": [
    "x_centered = x - xmean\n",
    "x_centered"
   ]
  },
  {
   "cell_type": "markdown",
   "metadata": {
    "id": "42s_FoBp3LBR"
   },
   "source": [
    "#### Сравнения и булевы маски."
   ]
  },
  {
   "cell_type": "code",
   "execution_count": 296,
   "metadata": {
    "executionInfo": {
     "elapsed": 230,
     "status": "ok",
     "timestamp": 1621967166059,
     "user": {
      "displayName": "Марк Станиславович Потанин",
      "photoUrl": "https://lh3.googleusercontent.com/a-/AOh14GiGIbSWvn36SnuS11JITt7whCW2414zYLPAFnl9=s64",
      "userId": "12338896257196299013"
     },
     "user_tz": -180
    },
    "id": "Qoaph2z73LBR"
   },
   "outputs": [],
   "source": [
    "x = np.array([1, 2, 3, 4, 5])"
   ]
  },
  {
   "cell_type": "code",
   "execution_count": 298,
   "metadata": {
    "colab": {
     "base_uri": "https://localhost:8080/"
    },
    "executionInfo": {
     "elapsed": 3,
     "status": "ok",
     "timestamp": 1621952415165,
     "user": {
      "displayName": "Марк Станиславович Потанин",
      "photoUrl": "https://lh3.googleusercontent.com/a-/AOh14GiGIbSWvn36SnuS11JITt7whCW2414zYLPAFnl9=s64",
      "userId": "12338896257196299013"
     },
     "user_tz": -180
    },
    "id": "aZIcQUZA3LBR",
    "outputId": "12d90699-cd24-40b2-842e-c8eda1beffdd"
   },
   "outputs": [
    {
     "data": {
      "text/plain": [
       "array([ True,  True, False, False, False])"
      ]
     },
     "execution_count": 298,
     "metadata": {},
     "output_type": "execute_result"
    }
   ],
   "source": [
    "x < 3"
   ]
  },
  {
   "cell_type": "code",
   "execution_count": 299,
   "metadata": {
    "colab": {
     "base_uri": "https://localhost:8080/"
    },
    "executionInfo": {
     "elapsed": 230,
     "status": "ok",
     "timestamp": 1621967293605,
     "user": {
      "displayName": "Марк Станиславович Потанин",
      "photoUrl": "https://lh3.googleusercontent.com/a-/AOh14GiGIbSWvn36SnuS11JITt7whCW2414zYLPAFnl9=s64",
      "userId": "12338896257196299013"
     },
     "user_tz": -180
    },
    "id": "4ARMgpMY3LBR",
    "outputId": "0c01f6e6-ad5a-47ce-d953-f42403dec1a3"
   },
   "outputs": [
    {
     "data": {
      "text/plain": [
       "array([ True,  True, False,  True,  True])"
      ]
     },
     "execution_count": 299,
     "metadata": {},
     "output_type": "execute_result"
    }
   ],
   "source": [
    "x != 3"
   ]
  },
  {
   "cell_type": "code",
   "execution_count": 300,
   "metadata": {
    "colab": {
     "base_uri": "https://localhost:8080/"
    },
    "executionInfo": {
     "elapsed": 248,
     "status": "ok",
     "timestamp": 1621967297253,
     "user": {
      "displayName": "Марк Станиславович Потанин",
      "photoUrl": "https://lh3.googleusercontent.com/a-/AOh14GiGIbSWvn36SnuS11JITt7whCW2414zYLPAFnl9=s64",
      "userId": "12338896257196299013"
     },
     "user_tz": -180
    },
    "id": "3QxURoD13LBR",
    "outputId": "837db05a-28d9-4faf-812b-6122214cc250"
   },
   "outputs": [
    {
     "data": {
      "text/plain": [
       "array([False, False,  True, False, False])"
      ]
     },
     "execution_count": 300,
     "metadata": {},
     "output_type": "execute_result"
    }
   ],
   "source": [
    "x == 3"
   ]
  },
  {
   "cell_type": "code",
   "execution_count": 301,
   "metadata": {
    "colab": {
     "base_uri": "https://localhost:8080/"
    },
    "executionInfo": {
     "elapsed": 255,
     "status": "ok",
     "timestamp": 1621967304089,
     "user": {
      "displayName": "Марк Станиславович Потанин",
      "photoUrl": "https://lh3.googleusercontent.com/a-/AOh14GiGIbSWvn36SnuS11JITt7whCW2414zYLPAFnl9=s64",
      "userId": "12338896257196299013"
     },
     "user_tz": -180
    },
    "id": "GGkWsP_q3LBS",
    "outputId": "18364c10-17ab-4d7f-eee3-92530a977f88"
   },
   "outputs": [
    {
     "data": {
      "text/plain": [
       "array([[6, 7, 0, 2],\n",
       "       [5, 0, 9, 2],\n",
       "       [7, 0, 8, 8]])"
      ]
     },
     "execution_count": 301,
     "metadata": {},
     "output_type": "execute_result"
    }
   ],
   "source": [
    "x = np.random.randint(10, size=(3, 4))\n",
    "x"
   ]
  },
  {
   "cell_type": "code",
   "execution_count": 302,
   "metadata": {
    "colab": {
     "base_uri": "https://localhost:8080/"
    },
    "executionInfo": {
     "elapsed": 240,
     "status": "ok",
     "timestamp": 1621967311069,
     "user": {
      "displayName": "Марк Станиславович Потанин",
      "photoUrl": "https://lh3.googleusercontent.com/a-/AOh14GiGIbSWvn36SnuS11JITt7whCW2414zYLPAFnl9=s64",
      "userId": "12338896257196299013"
     },
     "user_tz": -180
    },
    "id": "_EXhAsEE3LBS",
    "outputId": "a03d7929-0fd9-4e22-89b2-15edd7cff332"
   },
   "outputs": [
    {
     "data": {
      "text/plain": [
       "array([[False, False,  True,  True],\n",
       "       [ True,  True, False,  True],\n",
       "       [False,  True, False, False]])"
      ]
     },
     "execution_count": 302,
     "metadata": {},
     "output_type": "execute_result"
    }
   ],
   "source": [
    "x < 6"
   ]
  },
  {
   "cell_type": "markdown",
   "metadata": {
    "id": "0CW0JHg33LBS"
   },
   "source": [
    "Для подсчета количества элементов `True` в булевом массиве можно использовать `np.count_nonzero`."
   ]
  },
  {
   "cell_type": "code",
   "execution_count": 304,
   "metadata": {
    "colab": {
     "base_uri": "https://localhost:8080/"
    },
    "executionInfo": {
     "elapsed": 237,
     "status": "ok",
     "timestamp": 1621967329612,
     "user": {
      "displayName": "Марк Станиславович Потанин",
      "photoUrl": "https://lh3.googleusercontent.com/a-/AOh14GiGIbSWvn36SnuS11JITt7whCW2414zYLPAFnl9=s64",
      "userId": "12338896257196299013"
     },
     "user_tz": -180
    },
    "id": "bzGfqUuD3LBS",
    "outputId": "ee312c5e-cb59-416f-d494-01f93979375a"
   },
   "outputs": [
    {
     "data": {
      "text/plain": [
       "6"
      ]
     },
     "execution_count": 304,
     "metadata": {},
     "output_type": "execute_result"
    }
   ],
   "source": [
    "np.count_nonzero(x<6)"
   ]
  },
  {
   "cell_type": "code",
   "execution_count": 305,
   "metadata": {
    "colab": {
     "base_uri": "https://localhost:8080/"
    },
    "executionInfo": {
     "elapsed": 233,
     "status": "ok",
     "timestamp": 1621967378634,
     "user": {
      "displayName": "Марк Станиславович Потанин",
      "photoUrl": "https://lh3.googleusercontent.com/a-/AOh14GiGIbSWvn36SnuS11JITt7whCW2414zYLPAFnl9=s64",
      "userId": "12338896257196299013"
     },
     "user_tz": -180
    },
    "id": "UMCIGJJ8yg1w",
    "outputId": "a00f6efb-be22-4b5c-b0ca-d4c657442089"
   },
   "outputs": [
    {
     "data": {
      "text/plain": [
       "array([[6, 7, 0, 2],\n",
       "       [5, 0, 9, 2],\n",
       "       [7, 0, 8, 8]])"
      ]
     },
     "execution_count": 305,
     "metadata": {},
     "output_type": "execute_result"
    }
   ],
   "source": [
    "x"
   ]
  },
  {
   "cell_type": "code",
   "execution_count": 306,
   "metadata": {
    "colab": {
     "base_uri": "https://localhost:8080/"
    },
    "executionInfo": {
     "elapsed": 241,
     "status": "ok",
     "timestamp": 1621967396375,
     "user": {
      "displayName": "Марк Станиславович Потанин",
      "photoUrl": "https://lh3.googleusercontent.com/a-/AOh14GiGIbSWvn36SnuS11JITt7whCW2414zYLPAFnl9=s64",
      "userId": "12338896257196299013"
     },
     "user_tz": -180
    },
    "id": "C5rFBUaAyenQ",
    "outputId": "bd665083-6949-4708-9a9a-eb46cf35e264"
   },
   "outputs": [
    {
     "data": {
      "text/plain": [
       "array([[False, False,  True,  True],\n",
       "       [ True,  True, False,  True],\n",
       "       [False,  True, False, False]])"
      ]
     },
     "execution_count": 306,
     "metadata": {},
     "output_type": "execute_result"
    }
   ],
   "source": [
    "x<6"
   ]
  },
  {
   "cell_type": "code",
   "execution_count": 307,
   "metadata": {
    "colab": {
     "base_uri": "https://localhost:8080/"
    },
    "executionInfo": {
     "elapsed": 598,
     "status": "ok",
     "timestamp": 1621967527531,
     "user": {
      "displayName": "Марк Станиславович Потанин",
      "photoUrl": "https://lh3.googleusercontent.com/a-/AOh14GiGIbSWvn36SnuS11JITt7whCW2414zYLPAFnl9=s64",
      "userId": "12338896257196299013"
     },
     "user_tz": -180
    },
    "id": "yTV-lHaA3LBS",
    "outputId": "76e4ae54-ba4a-4ab7-98e2-7ee5e6eeaf13"
   },
   "outputs": [
    {
     "data": {
      "text/plain": [
       "np.int64(6)"
      ]
     },
     "execution_count": 307,
     "metadata": {},
     "output_type": "execute_result"
    }
   ],
   "source": [
    "np.sum(x < 6) # подсчет количества элементов в массиве, значения которых меньше 6 (False == 0, True == 1)"
   ]
  },
  {
   "cell_type": "markdown",
   "metadata": {
    "id": "DeifVaUF3LBS"
   },
   "source": [
    "`np.any()` позволяет проверить условие присутствия в массиве значений больше какого то числа, например 8 (проверить что хотя бы одно число в массиве больше 8)."
   ]
  },
  {
   "cell_type": "code",
   "execution_count": 308,
   "metadata": {
    "colab": {
     "base_uri": "https://localhost:8080/"
    },
    "executionInfo": {
     "elapsed": 517,
     "status": "ok",
     "timestamp": 1621967573051,
     "user": {
      "displayName": "Марк Станиславович Потанин",
      "photoUrl": "https://lh3.googleusercontent.com/a-/AOh14GiGIbSWvn36SnuS11JITt7whCW2414zYLPAFnl9=s64",
      "userId": "12338896257196299013"
     },
     "user_tz": -180
    },
    "id": "0hI_SKAb3LBS",
    "outputId": "e1180436-a2b7-4b21-884d-38d982d0aec2"
   },
   "outputs": [
    {
     "data": {
      "text/plain": [
       "np.True_"
      ]
     },
     "execution_count": 308,
     "metadata": {},
     "output_type": "execute_result"
    }
   ],
   "source": [
    "np.any(x > 8) "
   ]
  },
  {
   "cell_type": "markdown",
   "metadata": {
    "id": "lp7hh8wi3LBS"
   },
   "source": [
    "`np.all()` позволяет проверить условие того, что все элементы массива больше какого то числа, например 1."
   ]
  },
  {
   "cell_type": "code",
   "execution_count": 309,
   "metadata": {
    "colab": {
     "base_uri": "https://localhost:8080/"
    },
    "executionInfo": {
     "elapsed": 255,
     "status": "ok",
     "timestamp": 1621967603238,
     "user": {
      "displayName": "Марк Станиславович Потанин",
      "photoUrl": "https://lh3.googleusercontent.com/a-/AOh14GiGIbSWvn36SnuS11JITt7whCW2414zYLPAFnl9=s64",
      "userId": "12338896257196299013"
     },
     "user_tz": -180
    },
    "id": "zw0h4HJe3LBS",
    "outputId": "2f44878b-8b10-4907-d360-8c69a6a0c381"
   },
   "outputs": [
    {
     "data": {
      "text/plain": [
       "np.False_"
      ]
     },
     "execution_count": 309,
     "metadata": {},
     "output_type": "execute_result"
    }
   ],
   "source": [
    "np.all(x > 1) \n"
   ]
  },
  {
   "cell_type": "code",
   "execution_count": 310,
   "metadata": {
    "colab": {
     "base_uri": "https://localhost:8080/"
    },
    "executionInfo": {
     "elapsed": 305,
     "status": "ok",
     "timestamp": 1621967613140,
     "user": {
      "displayName": "Марк Станиславович Потанин",
      "photoUrl": "https://lh3.googleusercontent.com/a-/AOh14GiGIbSWvn36SnuS11JITt7whCW2414zYLPAFnl9=s64",
      "userId": "12338896257196299013"
     },
     "user_tz": -180
    },
    "id": "kuspgTWK3LBT",
    "outputId": "6ed518cd-cae9-41c5-8400-f3491caf2f47"
   },
   "outputs": [
    {
     "data": {
      "text/plain": [
       "np.True_"
      ]
     },
     "execution_count": 310,
     "metadata": {},
     "output_type": "execute_result"
    }
   ],
   "source": [
    "np.any(x == 0)"
   ]
  },
  {
   "cell_type": "markdown",
   "metadata": {
    "id": "V33sggje3LBT"
   },
   "source": [
    "Функции `np.any()` и `np.all()` также можно было использовать по конкретным осям."
   ]
  },
  {
   "cell_type": "code",
   "execution_count": 311,
   "metadata": {
    "colab": {
     "base_uri": "https://localhost:8080/"
    },
    "executionInfo": {
     "elapsed": 393,
     "status": "ok",
     "timestamp": 1621967636672,
     "user": {
      "displayName": "Марк Станиславович Потанин",
      "photoUrl": "https://lh3.googleusercontent.com/a-/AOh14GiGIbSWvn36SnuS11JITt7whCW2414zYLPAFnl9=s64",
      "userId": "12338896257196299013"
     },
     "user_tz": -180
    },
    "id": "PO70c88t3LBT",
    "outputId": "6489fc13-7f3e-4ade-ff14-cc852346e7f6"
   },
   "outputs": [
    {
     "data": {
      "text/plain": [
       "array([ True, False, False, False])"
      ]
     },
     "execution_count": 311,
     "metadata": {},
     "output_type": "execute_result"
    }
   ],
   "source": [
    "np.all(x > 3, axis=0)"
   ]
  },
  {
   "cell_type": "code",
   "execution_count": 312,
   "metadata": {
    "colab": {
     "base_uri": "https://localhost:8080/"
    },
    "executionInfo": {
     "elapsed": 3,
     "status": "ok",
     "timestamp": 1621967637143,
     "user": {
      "displayName": "Марк Станиславович Потанин",
      "photoUrl": "https://lh3.googleusercontent.com/a-/AOh14GiGIbSWvn36SnuS11JITt7whCW2414zYLPAFnl9=s64",
      "userId": "12338896257196299013"
     },
     "user_tz": -180
    },
    "id": "ICocQxiz3LBT",
    "outputId": "49b29d39-87ed-449d-c481-7e6895bb91e4"
   },
   "outputs": [
    {
     "data": {
      "text/plain": [
       "array([False, False, False])"
      ]
     },
     "execution_count": 312,
     "metadata": {},
     "output_type": "execute_result"
    }
   ],
   "source": [
    "np.all(x > 3, axis=1)"
   ]
  },
  {
   "cell_type": "markdown",
   "metadata": {
    "id": "l1dk98FC3LBT"
   },
   "source": [
    "Булевы массивы как маски."
   ]
  },
  {
   "cell_type": "code",
   "execution_count": 313,
   "metadata": {
    "colab": {
     "base_uri": "https://localhost:8080/"
    },
    "executionInfo": {
     "elapsed": 277,
     "status": "ok",
     "timestamp": 1621967638742,
     "user": {
      "displayName": "Марк Станиславович Потанин",
      "photoUrl": "https://lh3.googleusercontent.com/a-/AOh14GiGIbSWvn36SnuS11JITt7whCW2414zYLPAFnl9=s64",
      "userId": "12338896257196299013"
     },
     "user_tz": -180
    },
    "id": "_5f3Yyc33LBT",
    "outputId": "4ebe1384-1ada-4adc-b8d5-7548905544ab"
   },
   "outputs": [
    {
     "data": {
      "text/plain": [
       "array([[6, 7, 0, 2],\n",
       "       [5, 0, 9, 2],\n",
       "       [7, 0, 8, 8]])"
      ]
     },
     "execution_count": 313,
     "metadata": {},
     "output_type": "execute_result"
    }
   ],
   "source": [
    "x"
   ]
  },
  {
   "cell_type": "code",
   "execution_count": 314,
   "metadata": {
    "colab": {
     "base_uri": "https://localhost:8080/"
    },
    "executionInfo": {
     "elapsed": 5,
     "status": "ok",
     "timestamp": 1621967652728,
     "user": {
      "displayName": "Марк Станиславович Потанин",
      "photoUrl": "https://lh3.googleusercontent.com/a-/AOh14GiGIbSWvn36SnuS11JITt7whCW2414zYLPAFnl9=s64",
      "userId": "12338896257196299013"
     },
     "user_tz": -180
    },
    "id": "ecZbfsYS3LBT",
    "outputId": "e57e7ba0-aadd-451f-f9f3-fed641a4ad0c"
   },
   "outputs": [
    {
     "data": {
      "text/plain": [
       "array([[False, False,  True,  True],\n",
       "       [False,  True, False,  True],\n",
       "       [False,  True, False, False]])"
      ]
     },
     "execution_count": 314,
     "metadata": {},
     "output_type": "execute_result"
    }
   ],
   "source": [
    "x<4"
   ]
  },
  {
   "cell_type": "markdown",
   "metadata": {
    "id": "2XxW_Fzx3LBT"
   },
   "source": [
    "Чтобы выбрать нужные значения из массива, достаточно просто проиндексировать исходный массив `x` по этому булеву массиву. Такое действие носит название наложение маски или маскирование:"
   ]
  },
  {
   "cell_type": "code",
   "execution_count": 318,
   "metadata": {
    "colab": {
     "base_uri": "https://localhost:8080/"
    },
    "executionInfo": {
     "elapsed": 240,
     "status": "ok",
     "timestamp": 1621967747824,
     "user": {
      "displayName": "Марк Станиславович Потанин",
      "photoUrl": "https://lh3.googleusercontent.com/a-/AOh14GiGIbSWvn36SnuS11JITt7whCW2414zYLPAFnl9=s64",
      "userId": "12338896257196299013"
     },
     "user_tz": -180
    },
    "id": "CRbuvtUi3LBT",
    "outputId": "e43fb33d-025c-4366-de38-4d7e98b4693a"
   },
   "outputs": [
    {
     "data": {
      "text/plain": [
       "array([0, 2, 0, 2, 0])"
      ]
     },
     "execution_count": 318,
     "metadata": {},
     "output_type": "execute_result"
    }
   ],
   "source": [
    "x[x < 4]"
   ]
  },
  {
   "cell_type": "markdown",
   "metadata": {
    "id": "1QYQxwMy3LBT"
   },
   "source": [
    "#### Сортировка массивов."
   ]
  },
  {
   "cell_type": "markdown",
   "metadata": {
    "id": "OZqHP_OK3LBT"
   },
   "source": [
    "Чтобы получить отсортированную версию массива, можно использовать функцию `np.sort`."
   ]
  },
  {
   "cell_type": "code",
   "execution_count": 319,
   "metadata": {
    "executionInfo": {
     "elapsed": 363,
     "status": "ok",
     "timestamp": 1621967789224,
     "user": {
      "displayName": "Марк Станиславович Потанин",
      "photoUrl": "https://lh3.googleusercontent.com/a-/AOh14GiGIbSWvn36SnuS11JITt7whCW2414zYLPAFnl9=s64",
      "userId": "12338896257196299013"
     },
     "user_tz": -180
    },
    "id": "B_fiEEzu3LBU"
   },
   "outputs": [],
   "source": [
    "x = np.array([2, 1, 4, 3, 5])"
   ]
  },
  {
   "cell_type": "code",
   "execution_count": 320,
   "metadata": {
    "colab": {
     "base_uri": "https://localhost:8080/"
    },
    "executionInfo": {
     "elapsed": 4,
     "status": "ok",
     "timestamp": 1621967789702,
     "user": {
      "displayName": "Марк Станиславович Потанин",
      "photoUrl": "https://lh3.googleusercontent.com/a-/AOh14GiGIbSWvn36SnuS11JITt7whCW2414zYLPAFnl9=s64",
      "userId": "12338896257196299013"
     },
     "user_tz": -180
    },
    "id": "BDk4Efpq3LBU",
    "outputId": "2983d7be-c3f4-443b-a3c1-1001d0bffd4c"
   },
   "outputs": [
    {
     "data": {
      "text/plain": [
       "array([2, 1, 4, 3, 5])"
      ]
     },
     "execution_count": 320,
     "metadata": {},
     "output_type": "execute_result"
    }
   ],
   "source": [
    "x"
   ]
  },
  {
   "cell_type": "code",
   "execution_count": 321,
   "metadata": {
    "colab": {
     "base_uri": "https://localhost:8080/"
    },
    "executionInfo": {
     "elapsed": 236,
     "status": "ok",
     "timestamp": 1621967796718,
     "user": {
      "displayName": "Марк Станиславович Потанин",
      "photoUrl": "https://lh3.googleusercontent.com/a-/AOh14GiGIbSWvn36SnuS11JITt7whCW2414zYLPAFnl9=s64",
      "userId": "12338896257196299013"
     },
     "user_tz": -180
    },
    "id": "tRjXSHT23LBU",
    "outputId": "ac102281-fddb-4852-ccdb-902d63906e7b"
   },
   "outputs": [
    {
     "data": {
      "text/plain": [
       "array([1, 2, 3, 4, 5])"
      ]
     },
     "execution_count": 321,
     "metadata": {},
     "output_type": "execute_result"
    }
   ],
   "source": [
    "np.sort(x)"
   ]
  },
  {
   "cell_type": "markdown",
   "metadata": {
    "id": "NNdkuogl3LBU"
   },
   "source": [
    "Функция `argsort` возвращает индексы отсортированных элементов."
   ]
  },
  {
   "cell_type": "code",
   "execution_count": 322,
   "metadata": {
    "executionInfo": {
     "elapsed": 237,
     "status": "ok",
     "timestamp": 1621967823412,
     "user": {
      "displayName": "Марк Станиславович Потанин",
      "photoUrl": "https://lh3.googleusercontent.com/a-/AOh14GiGIbSWvn36SnuS11JITt7whCW2414zYLPAFnl9=s64",
      "userId": "12338896257196299013"
     },
     "user_tz": -180
    },
    "id": "zka_CsF23LBU"
   },
   "outputs": [],
   "source": [
    "x = np.array([2, 1, 4, 3, 5])\n",
    "i = np.argsort(x)"
   ]
  },
  {
   "cell_type": "code",
   "execution_count": 323,
   "metadata": {
    "colab": {
     "base_uri": "https://localhost:8080/"
    },
    "executionInfo": {
     "elapsed": 238,
     "status": "ok",
     "timestamp": 1621967872910,
     "user": {
      "displayName": "Марк Станиславович Потанин",
      "photoUrl": "https://lh3.googleusercontent.com/a-/AOh14GiGIbSWvn36SnuS11JITt7whCW2414zYLPAFnl9=s64",
      "userId": "12338896257196299013"
     },
     "user_tz": -180
    },
    "id": "z05hN5RM3LBU",
    "outputId": "4b1a31ec-8ce9-4708-d4a8-250de1460a73"
   },
   "outputs": [
    {
     "data": {
      "text/plain": [
       "array([1, 0, 3, 2, 4])"
      ]
     },
     "execution_count": 323,
     "metadata": {},
     "output_type": "execute_result"
    }
   ],
   "source": [
    "i"
   ]
  },
  {
   "cell_type": "markdown",
   "metadata": {
    "id": "x0GgKKZw3LBU"
   },
   "source": [
    "Можно сортировать матрицы по строкам и столбцам."
   ]
  },
  {
   "cell_type": "code",
   "execution_count": 324,
   "metadata": {
    "executionInfo": {
     "elapsed": 236,
     "status": "ok",
     "timestamp": 1621967880911,
     "user": {
      "displayName": "Марк Станиславович Потанин",
      "photoUrl": "https://lh3.googleusercontent.com/a-/AOh14GiGIbSWvn36SnuS11JITt7whCW2414zYLPAFnl9=s64",
      "userId": "12338896257196299013"
     },
     "user_tz": -180
    },
    "id": "mjmwyHjC3LBU"
   },
   "outputs": [],
   "source": [
    "X = np.random.randint(0, 10, (4, 6))"
   ]
  },
  {
   "cell_type": "code",
   "execution_count": 325,
   "metadata": {
    "colab": {
     "base_uri": "https://localhost:8080/"
    },
    "executionInfo": {
     "elapsed": 280,
     "status": "ok",
     "timestamp": 1621967889330,
     "user": {
      "displayName": "Марк Станиславович Потанин",
      "photoUrl": "https://lh3.googleusercontent.com/a-/AOh14GiGIbSWvn36SnuS11JITt7whCW2414zYLPAFnl9=s64",
      "userId": "12338896257196299013"
     },
     "user_tz": -180
    },
    "id": "XooZGgjE3LBU",
    "outputId": "a8117f1e-88b1-469c-bceb-08c06223a2a7"
   },
   "outputs": [
    {
     "data": {
      "text/plain": [
       "array([[3, 8, 3, 0, 1, 1],\n",
       "       [6, 8, 1, 4, 0, 5],\n",
       "       [4, 8, 3, 7, 7, 6],\n",
       "       [1, 2, 1, 3, 1, 5]])"
      ]
     },
     "execution_count": 325,
     "metadata": {},
     "output_type": "execute_result"
    }
   ],
   "source": [
    "X"
   ]
  },
  {
   "cell_type": "markdown",
   "metadata": {
    "id": "Af24NGJc3LBU"
   },
   "source": [
    "Сортировка всех столбцов массива X."
   ]
  },
  {
   "cell_type": "code",
   "execution_count": 326,
   "metadata": {
    "colab": {
     "base_uri": "https://localhost:8080/"
    },
    "executionInfo": {
     "elapsed": 248,
     "status": "ok",
     "timestamp": 1621967909488,
     "user": {
      "displayName": "Марк Станиславович Потанин",
      "photoUrl": "https://lh3.googleusercontent.com/a-/AOh14GiGIbSWvn36SnuS11JITt7whCW2414zYLPAFnl9=s64",
      "userId": "12338896257196299013"
     },
     "user_tz": -180
    },
    "id": "tqhi-N083LBV",
    "outputId": "7c25e41b-e4f0-409c-ded6-acf3828dc6ea"
   },
   "outputs": [
    {
     "data": {
      "text/plain": [
       "array([[1, 2, 1, 0, 0, 1],\n",
       "       [3, 8, 1, 3, 1, 5],\n",
       "       [4, 8, 3, 4, 1, 5],\n",
       "       [6, 8, 3, 7, 7, 6]])"
      ]
     },
     "execution_count": 326,
     "metadata": {},
     "output_type": "execute_result"
    }
   ],
   "source": [
    "np.sort(X, axis=0)"
   ]
  },
  {
   "cell_type": "markdown",
   "metadata": {
    "id": "6iGkTZsR3LBV"
   },
   "source": [
    "Сортировка всех строк массива X."
   ]
  },
  {
   "cell_type": "code",
   "execution_count": 327,
   "metadata": {
    "colab": {
     "base_uri": "https://localhost:8080/"
    },
    "executionInfo": {
     "elapsed": 319,
     "status": "ok",
     "timestamp": 1621967911236,
     "user": {
      "displayName": "Марк Станиславович Потанин",
      "photoUrl": "https://lh3.googleusercontent.com/a-/AOh14GiGIbSWvn36SnuS11JITt7whCW2414zYLPAFnl9=s64",
      "userId": "12338896257196299013"
     },
     "user_tz": -180
    },
    "id": "g2IsNyVi3LBV",
    "outputId": "19c82538-a3f0-446e-c2dc-99e2240d53e2"
   },
   "outputs": [
    {
     "data": {
      "text/plain": [
       "array([[0, 1, 1, 3, 3, 8],\n",
       "       [0, 1, 4, 5, 6, 8],\n",
       "       [3, 4, 6, 7, 7, 8],\n",
       "       [1, 1, 1, 2, 3, 5]])"
      ]
     },
     "execution_count": 327,
     "metadata": {},
     "output_type": "execute_result"
    }
   ],
   "source": [
    "np.sort(X, axis=1)"
   ]
  },
  {
   "cell_type": "markdown",
   "metadata": {
    "id": "mc2bmPbB3LBV"
   },
   "source": [
    "Все строки или столбцы массива рассматриваются как отдельные массивы, так что любые возможные взаимосвязи между значениями строк или столбцов будут утеряны."
   ]
  },
  {
   "cell_type": "markdown",
   "metadata": {
    "id": "PhJFJbOi3LBV"
   },
   "source": [
    "C помощью функций `np.dot()` или `np.matmul()` можно производить произведение матриц. \n"
   ]
  },
  {
   "cell_type": "code",
   "execution_count": 328,
   "metadata": {
    "executionInfo": {
     "elapsed": 265,
     "status": "ok",
     "timestamp": 1621967930006,
     "user": {
      "displayName": "Марк Станиславович Потанин",
      "photoUrl": "https://lh3.googleusercontent.com/a-/AOh14GiGIbSWvn36SnuS11JITt7whCW2414zYLPAFnl9=s64",
      "userId": "12338896257196299013"
     },
     "user_tz": -180
    },
    "id": "cFgdfcKB3LBV"
   },
   "outputs": [],
   "source": [
    "matrix_1 = np.array([[7, 4, 1], \n",
    "                     [1, 2, 2]])\n",
    "matrix_2 = np.array([[3, 2], \n",
    "                     [1, 1], \n",
    "                     [0, 4]])"
   ]
  },
  {
   "cell_type": "code",
   "execution_count": 329,
   "metadata": {
    "colab": {
     "base_uri": "https://localhost:8080/"
    },
    "executionInfo": {
     "elapsed": 4,
     "status": "ok",
     "timestamp": 1621967930486,
     "user": {
      "displayName": "Марк Станиславович Потанин",
      "photoUrl": "https://lh3.googleusercontent.com/a-/AOh14GiGIbSWvn36SnuS11JITt7whCW2414zYLPAFnl9=s64",
      "userId": "12338896257196299013"
     },
     "user_tz": -180
    },
    "id": "oknbZg7-3LBV",
    "outputId": "fc099c7a-62d1-4a92-b078-2bef46ab7a24"
   },
   "outputs": [
    {
     "data": {
      "text/plain": [
       "array([[25, 22],\n",
       "       [ 5, 12]])"
      ]
     },
     "execution_count": 329,
     "metadata": {},
     "output_type": "execute_result"
    }
   ],
   "source": [
    "np.dot(matrix_1,matrix_2)"
   ]
  },
  {
   "cell_type": "markdown",
   "metadata": {},
   "source": [
    "#### Многомерные массивы."
   ]
  },
  {
   "cell_type": "code",
   "execution_count": 331,
   "metadata": {},
   "outputs": [],
   "source": [
    "x = np.random.randint(0,10,size=(3,4,8))"
   ]
  },
  {
   "cell_type": "code",
   "execution_count": 332,
   "metadata": {},
   "outputs": [
    {
     "data": {
      "text/plain": [
       "array([[[6, 6, 6, 8, 2, 7, 0, 9],\n",
       "        [1, 0, 7, 4, 9, 9, 6, 0],\n",
       "        [8, 5, 8, 1, 2, 6, 1, 4],\n",
       "        [1, 9, 0, 1, 0, 5, 0, 8]],\n",
       "\n",
       "       [[5, 3, 6, 8, 9, 6, 5, 0],\n",
       "        [4, 1, 0, 8, 9, 3, 7, 1],\n",
       "        [2, 1, 4, 1, 9, 1, 4, 9],\n",
       "        [1, 6, 8, 2, 7, 4, 9, 9]],\n",
       "\n",
       "       [[8, 4, 1, 8, 6, 9, 7, 5],\n",
       "        [7, 8, 4, 9, 9, 9, 9, 1],\n",
       "        [5, 7, 0, 1, 6, 3, 8, 4],\n",
       "        [7, 9, 2, 9, 9, 2, 7, 0]]])"
      ]
     },
     "execution_count": 332,
     "metadata": {},
     "output_type": "execute_result"
    }
   ],
   "source": [
    "x"
   ]
  },
  {
   "cell_type": "code",
   "execution_count": 333,
   "metadata": {},
   "outputs": [
    {
     "data": {
      "text/plain": [
       "(3, 4, 8)"
      ]
     },
     "execution_count": 333,
     "metadata": {},
     "output_type": "execute_result"
    }
   ],
   "source": [
    "x.shape"
   ]
  },
  {
   "cell_type": "markdown",
   "metadata": {},
   "source": [
    "#### Операции линала"
   ]
  },
  {
   "cell_type": "code",
   "execution_count": 349,
   "metadata": {},
   "outputs": [],
   "source": [
    "x = np.random.randint(1,5, size= (4,4))"
   ]
  },
  {
   "cell_type": "code",
   "execution_count": 350,
   "metadata": {},
   "outputs": [
    {
     "data": {
      "text/plain": [
       "array([[1, 2, 2, 4],\n",
       "       [3, 3, 3, 1],\n",
       "       [2, 3, 4, 4],\n",
       "       [1, 2, 3, 1]])"
      ]
     },
     "execution_count": 350,
     "metadata": {},
     "output_type": "execute_result"
    }
   ],
   "source": [
    "x"
   ]
  },
  {
   "cell_type": "code",
   "execution_count": 351,
   "metadata": {},
   "outputs": [
    {
     "data": {
      "text/plain": [
       "np.float64(8.000000000000002)"
      ]
     },
     "execution_count": 351,
     "metadata": {},
     "output_type": "execute_result"
    }
   ],
   "source": [
    "np.linalg.det(x)"
   ]
  },
  {
   "cell_type": "code",
   "execution_count": 352,
   "metadata": {},
   "outputs": [],
   "source": [
    "y = np.linalg.inv(x)"
   ]
  },
  {
   "cell_type": "code",
   "execution_count": 353,
   "metadata": {},
   "outputs": [
    {
     "data": {
      "text/plain": [
       "array([[-1.   ,  0.25 ,  1.25 , -1.25 ],\n",
       "       [ 2.   ,  0.5  , -2.5  ,  1.5  ],\n",
       "       [-1.   , -0.375,  1.125, -0.125],\n",
       "       [-0.   , -0.125,  0.375, -0.375]])"
      ]
     },
     "execution_count": 353,
     "metadata": {},
     "output_type": "execute_result"
    }
   ],
   "source": [
    "y"
   ]
  },
  {
   "cell_type": "code",
   "execution_count": 354,
   "metadata": {},
   "outputs": [
    {
     "name": "stdout",
     "output_type": "stream",
     "text": [
      "[[ 1.00000000e+00  0.00000000e+00  0.00000000e+00  0.00000000e+00]\n",
      " [ 0.00000000e+00  1.00000000e+00  0.00000000e+00  0.00000000e+00]\n",
      " [ 0.00000000e+00  1.11022302e-16  1.00000000e+00 -4.44089210e-16]\n",
      " [ 0.00000000e+00 -1.11022302e-16  0.00000000e+00  1.00000000e+00]]\n"
     ]
    }
   ],
   "source": [
    "print(x.dot(y))"
   ]
  },
  {
   "cell_type": "code",
   "execution_count": 355,
   "metadata": {},
   "outputs": [],
   "source": [
    "eigenval, eigenvec = np.linalg.eig(x)"
   ]
  },
  {
   "cell_type": "code",
   "execution_count": 356,
   "metadata": {},
   "outputs": [
    {
     "name": "stdout",
     "output_type": "stream",
     "text": [
      "[10.01089434+0.j          0.657136  +0.j         -0.83401517+0.72145538j\n",
      " -0.83401517-0.72145538j]\n",
      "[[-0.42374814+0.j          0.09260185+0.j          0.67815666+0.j\n",
      "   0.67815666-0.j        ]\n",
      " [-0.51146246+0.j         -0.83998838+0.j         -0.64771502-0.11859493j\n",
      "  -0.64771502+0.11859493j]\n",
      " [-0.64628345+0.j          0.5112465 +0.j          0.20860803-0.07768605j\n",
      "   0.20860803+0.07768605j]\n",
      " [-0.37571447+0.j          0.15643348+0.j         -0.0913839 +0.22045543j\n",
      "  -0.0913839 -0.22045543j]]\n"
     ]
    }
   ],
   "source": [
    "print(eigenval)\n",
    "print(eigenvec)"
   ]
  }
 ],
 "metadata": {
  "colab": {
   "name": "numpy.ipynb",
   "provenance": []
  },
  "kernelspec": {
   "display_name": "Python 3 (ipykernel)",
   "language": "python",
   "name": "python3"
  },
  "language_info": {
   "codemirror_mode": {
    "name": "ipython",
    "version": 3
   },
   "file_extension": ".py",
   "mimetype": "text/x-python",
   "name": "python",
   "nbconvert_exporter": "python",
   "pygments_lexer": "ipython3",
   "version": "3.11.6"
  }
 },
 "nbformat": 4,
 "nbformat_minor": 4
}
