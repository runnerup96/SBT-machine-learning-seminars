{
 "cells": [
  {
   "cell_type": "code",
   "execution_count": 27,
   "id": "c7a0496e-3142-41b0-9266-ac85ccb12a9b",
   "metadata": {},
   "outputs": [],
   "source": [
    "import requests\n",
    "import pandas as pd\n",
    "import tqdm\n",
    "import os\n",
    "import pip\n",
    "import requests\n",
    "from bs4 import BeautifulSoup\n",
    "import time\n",
    "\n",
    "pd.set_option('display.max_columns', None)"
   ]
  },
  {
   "cell_type": "code",
   "execution_count": 28,
   "id": "6de9f7a6-86d0-4e3a-bc1b-e0cd20713c02",
   "metadata": {},
   "outputs": [],
   "source": [
    "url = \"https://career.habr.com/vacancies?page=2&type=all\""
   ]
  },
  {
   "cell_type": "code",
   "execution_count": 29,
   "id": "3ac311d2-ebb9-40c7-aa50-f54bcb940b15",
   "metadata": {},
   "outputs": [],
   "source": [
    "response = requests.get(url)"
   ]
  },
  {
   "cell_type": "code",
   "execution_count": 30,
   "id": "9ad640df-3d9e-4ee3-9db2-d71895fceb61",
   "metadata": {},
   "outputs": [
    {
     "data": {
      "text/plain": [
       "200"
      ]
     },
     "execution_count": 30,
     "metadata": {},
     "output_type": "execute_result"
    }
   ],
   "source": [
    "response.status_code"
   ]
  },
  {
   "cell_type": "code",
   "execution_count": 31,
   "id": "d8402a87-7ca1-43fb-861b-b467a7789a6e",
   "metadata": {},
   "outputs": [
    {
     "data": {
      "text/plain": [
       "str"
      ]
     },
     "execution_count": 31,
     "metadata": {},
     "output_type": "execute_result"
    }
   ],
   "source": [
    "type(response.text)"
   ]
  },
  {
   "cell_type": "code",
   "execution_count": 33,
   "id": "66660c17-86d4-4a09-9cc3-0c8618e060be",
   "metadata": {},
   "outputs": [],
   "source": [
    "soup = BeautifulSoup(response.text, 'html.parser')"
   ]
  },
  {
   "cell_type": "code",
   "execution_count": 15,
   "id": "dc42b8bf-eed9-47d4-af75-73b726559878",
   "metadata": {},
   "outputs": [],
   "source": [
    "elements = soup.find_all('a', class_='vacancy-card__title-link')"
   ]
  },
  {
   "cell_type": "code",
   "execution_count": 36,
   "id": "58e279dc-a68d-464b-b280-92a6edee6b0c",
   "metadata": {},
   "outputs": [
    {
     "data": {
      "text/plain": [
       "[<a class=\"vacancy-card__title-link\" href=\"/vacancies/1000143098\">Сетевой инженер</a>,\n",
       " <a class=\"vacancy-card__title-link\" href=\"/vacancies/1000145119\">Руководитель проектов</a>,\n",
       " <a class=\"vacancy-card__title-link\" href=\"/vacancies/1000145118\">DevOps инженер </a>,\n",
       " <a class=\"vacancy-card__title-link\" href=\"/vacancies/1000139982\">Инженер виртуализации</a>,\n",
       " <a class=\"vacancy-card__title-link\" href=\"/vacancies/1000133643\">Инженер DevSecOps</a>,\n",
       " <a class=\"vacancy-card__title-link\" href=\"/vacancies/1000130224\">Senior C++ developer / Старший инженер-программист (Data Services)</a>,\n",
       " <a class=\"vacancy-card__title-link\" href=\"/vacancies/1000147307\">iOS developer</a>,\n",
       " <a class=\"vacancy-card__title-link\" href=\"/vacancies/1000147830\">Специалист технической поддержки (Support Engineer) [IN2]</a>,\n",
       " <a class=\"vacancy-card__title-link\" href=\"/vacancies/1000147829\">Senior Python/Java QA automation engineer [Shop.mts]</a>,\n",
       " <a class=\"vacancy-card__title-link\" href=\"/vacancies/1000147828\">Архитектор-методолог (процессы команд продуктовой разработки)</a>,\n",
       " <a class=\"vacancy-card__title-link\" href=\"/vacancies/1000143495\">Разработчик 1C</a>,\n",
       " <a class=\"vacancy-card__title-link\" href=\"/vacancies/1000143488\">DevOps инженер </a>,\n",
       " <a class=\"vacancy-card__title-link\" href=\"/vacancies/1000125817\">Database administrator (MS SQL, PostgreSQL)</a>,\n",
       " <a class=\"vacancy-card__title-link\" href=\"/vacancies/1000139198\">Разработчик на Java в службу платёжных систем Маркета</a>,\n",
       " <a class=\"vacancy-card__title-link\" href=\"/vacancies/1000131554\">Системный аналитик</a>,\n",
       " <a class=\"vacancy-card__title-link\" href=\"/vacancies/1000125202\">Главный специалист центра мониторинга ИБ </a>,\n",
       " <a class=\"vacancy-card__title-link\" href=\"/vacancies/1000144534\">Ведущий архитектор</a>,\n",
       " <a class=\"vacancy-card__title-link\" href=\"/vacancies/1000136690\">Linux security specialist</a>,\n",
       " <a class=\"vacancy-card__title-link\" href=\"/vacancies/1000136691\">Эксперт ELK (ИБ)</a>,\n",
       " <a class=\"vacancy-card__title-link\" href=\"/vacancies/1000138933\">Тимлид команды дата-инженеров в Яндекс Маркет</a>,\n",
       " <a class=\"vacancy-card__title-link\" href=\"/vacancies/1000135459\">Специалист службы поддержки в дневную и ночную смену</a>,\n",
       " <a class=\"vacancy-card__title-link\" href=\"/vacancies/1000132601\">Разработчик Fullstack Senior (Remote)</a>,\n",
       " <a class=\"vacancy-card__title-link\" href=\"/vacancies/1000132600\">Разработчик Fullstack Senior (Remote)</a>,\n",
       " <a class=\"vacancy-card__title-link\" href=\"/vacancies/1000140343\">Младший инженер по информационной безопасности</a>,\n",
       " <a class=\"vacancy-card__title-link\" href=\"/vacancies/1000140511\">Администратор технической поддержки</a>]"
      ]
     },
     "execution_count": 36,
     "metadata": {},
     "output_type": "execute_result"
    }
   ],
   "source": [
    "elements"
   ]
  },
  {
   "cell_type": "code",
   "execution_count": 37,
   "id": "6c95d0a2-90ad-4624-b0b1-3ab2326d8aa1",
   "metadata": {},
   "outputs": [],
   "source": [
    "job_link = \"https://career.habr.com\" + elements[0]['href']"
   ]
  },
  {
   "cell_type": "code",
   "execution_count": 38,
   "id": "30c2b811-9d5e-4f73-aad7-30074ad8d9aa",
   "metadata": {},
   "outputs": [
    {
     "data": {
      "text/plain": [
       "'https://career.habr.com/vacancies/1000143098'"
      ]
     },
     "execution_count": 38,
     "metadata": {},
     "output_type": "execute_result"
    }
   ],
   "source": [
    "job_link"
   ]
  },
  {
   "cell_type": "code",
   "execution_count": 39,
   "id": "ecac87ea-73fa-4a82-a1ee-bd81218ced28",
   "metadata": {},
   "outputs": [],
   "source": [
    "response_job = requests.get(job_link)"
   ]
  },
  {
   "cell_type": "code",
   "execution_count": 40,
   "id": "5aca85cf-014e-4954-b6be-f13c6b2fae65",
   "metadata": {},
   "outputs": [
    {
     "data": {
      "text/plain": [
       "200"
      ]
     },
     "execution_count": 40,
     "metadata": {},
     "output_type": "execute_result"
    }
   ],
   "source": [
    "response_job.status_code"
   ]
  },
  {
   "cell_type": "code",
   "execution_count": 41,
   "id": "efec3a16-7540-483c-b4fe-942589ebf14f",
   "metadata": {},
   "outputs": [],
   "source": [
    "soup = BeautifulSoup(response_job.text, 'html.parser')"
   ]
  },
  {
   "cell_type": "code",
   "execution_count": 42,
   "id": "ae587ad5-130f-49a4-9bd7-f4dca2a71dbd",
   "metadata": {},
   "outputs": [],
   "source": [
    "a = soup.get_text()"
   ]
  },
  {
   "cell_type": "code",
   "execution_count": 45,
   "id": "622f8c16-3c5e-45ed-9d11-47c86cbf4e09",
   "metadata": {},
   "outputs": [],
   "source": [
    "desc_text = soup.find('div', class_='vacancy-description__text')"
   ]
  },
  {
   "cell_type": "code",
   "execution_count": 46,
   "id": "1c14d860-7ce6-4e1a-8dbb-8c421a46f4af",
   "metadata": {},
   "outputs": [
    {
     "data": {
      "text/plain": [
       "<div class=\"vacancy-description__text\"><h3>О компании и команде</h3><div class=\"style-ugc\"><ul><li>ООО «Интер РАО — ИТ» оказывает широкий спектр ИТ-услуг для внутренних заказчиков крупного энергетического холдинга — Группы «Интер РАО».</li><li>Мы официально аккредитованы в Минцифры России.</li><li>Сфера нашей деятельности — проектирование, внедрение и тиражирование решений корпоративного уровня как для бизнес-задач, так и для построения ИТ-инфраструктуры.</li><li>Наша главная цель сегодня — построить ИТ-экосистему, полностью независимую от импортного оборудования и программного обеспечения.</li></ul></div><h3>Ожидания от кандидата</h3><div class=\"style-ugc\"><ul><li>Опыт администрирования сетевых решений не менее 2 лет;</li><li>Знания и опыт работы с оборудованием Cisco;</li><li>Опыт работы с сетевым оборудованием H3C и Eltex приветствуется;</li><li>Знания и опыт работы с операционными системами на базе Linux;</li><li>Знание системы мониторинга Zabbix;</li><li>Знание FreeRadius.</li></ul><p><strong>Обязанности по должности:</strong></p>\n",
       "<ul><li>Администрирование активного сетевого оборудования уровня доступа и агрегации;</li><li>Решение возникающих проблем работы сети передачи данных;</li><li>Обработка заявок на изменение настроек сети, поддержание в актуальном состоянии базы данных IP адресов (IPAM);</li><li>Актуализация и внесение изменений в системе мониторинга (Zabbix + Grafana);</li><li>Актуализация схем сети при внесении изменений.</li></ul></div><h3>Условия работы</h3><div class=\"style-ugc\"><ul><li>Оформление в соответствии с ТК РФ с 1-го рабочего дня;</li><li>Стабильный и прозрачный доход (полностью белая заработная плата);</li><li>График гибридный (офис/дистанционно): 5/2, пятница – сокращенный рабочий день;</li><li>ДМС со стоматологией после испытательного срока;</li><li>Оплата мобильной связи.</li></ul>\n",
       "</div></div>"
      ]
     },
     "execution_count": 46,
     "metadata": {},
     "output_type": "execute_result"
    }
   ],
   "source": [
    "desc_text"
   ]
  },
  {
   "cell_type": "code",
   "execution_count": 48,
   "id": "eae892b4-36cc-41f4-8f87-a124e732045b",
   "metadata": {},
   "outputs": [
    {
     "name": "stdout",
     "output_type": "stream",
     "text": [
      "О компании и командеООО «Интер РАО — ИТ» оказывает широкий спектр ИТ-услуг для внутренних заказчиков крупного энергетического холдинга — Группы «Интер РАО».Мы официально аккредитованы в Минцифры России.Сфера нашей деятельности — проектирование, внедрение и тиражирование решений корпоративного уровня как для бизнес-задач, так и для построения ИТ-инфраструктуры.Наша главная цель сегодня — построить ИТ-экосистему, полностью независимую от импортного оборудования и программного обеспечения.Ожидания от кандидатаОпыт администрирования сетевых решений не менее 2 лет;Знания и опыт работы с оборудованием Cisco;Опыт работы с сетевым оборудованием H3C и Eltex приветствуется;Знания и опыт работы с операционными системами на базе Linux;Знание системы мониторинга Zabbix;Знание FreeRadius.Обязанности по должности:\n",
      "Администрирование активного сетевого оборудования уровня доступа и агрегации;Решение возникающих проблем работы сети передачи данных;Обработка заявок на изменение настроек сети, поддержание в актуальном состоянии базы данных IP адресов (IPAM);Актуализация и внесение изменений в системе мониторинга (Zabbix + Grafana);Актуализация схем сети при внесении изменений.Условия работыОформление в соответствии с ТК РФ с 1-го рабочего дня;Стабильный и прозрачный доход (полностью белая заработная плата);График гибридный (офис/дистанционно): 5/2, пятница – сокращенный рабочий день;ДМС со стоматологией после испытательного срока;Оплата мобильной связи.\n",
      "\n"
     ]
    }
   ],
   "source": [
    "print(desc_text.get_text())"
   ]
  },
  {
   "cell_type": "markdown",
   "id": "3d00d64b-6b1b-41c1-ae11-84feeac81c97",
   "metadata": {},
   "source": [
    " Имитировать действия пользователя - `selenium`."
   ]
  }
 ],
 "metadata": {
  "kernelspec": {
   "display_name": "Python 3 (ipykernel)",
   "language": "python",
   "name": "python3"
  },
  "language_info": {
   "codemirror_mode": {
    "name": "ipython",
    "version": 3
   },
   "file_extension": ".py",
   "mimetype": "text/x-python",
   "name": "python",
   "nbconvert_exporter": "python",
   "pygments_lexer": "ipython3",
   "version": "3.11.6"
  }
 },
 "nbformat": 4,
 "nbformat_minor": 5
}
