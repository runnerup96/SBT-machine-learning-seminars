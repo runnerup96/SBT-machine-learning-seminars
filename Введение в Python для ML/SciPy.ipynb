{
 "cells": [
  {
   "cell_type": "markdown",
   "id": "57c69800",
   "metadata": {},
   "source": [
    "## Часть 6: SciPy."
   ]
  },
  {
   "cell_type": "markdown",
   "id": "49239e54",
   "metadata": {},
   "source": [
    "Автор: Потанин Марк, mark.potanin@phystech.edu"
   ]
  },
  {
   "cell_type": "code",
   "execution_count": 35,
   "id": "de4feba6",
   "metadata": {},
   "outputs": [],
   "source": [
    "from scipy import linalg\n",
    "from scipy import optimize\n",
    "import numpy as np\n",
    "import matplotlib.pyplot as plt"
   ]
  },
  {
   "cell_type": "code",
   "execution_count": 36,
   "id": "1488474c",
   "metadata": {},
   "outputs": [],
   "source": [
    "A = np.array([[1,3,5], [2,5,1], [2,3,8]])"
   ]
  },
  {
   "cell_type": "code",
   "execution_count": 37,
   "id": "61c01dbc",
   "metadata": {},
   "outputs": [
    {
     "data": {
      "text/plain": [
       "array([[1, 3, 5],\n",
       "       [2, 5, 1],\n",
       "       [2, 3, 8]])"
      ]
     },
     "execution_count": 37,
     "metadata": {},
     "output_type": "execute_result"
    }
   ],
   "source": [
    "A"
   ]
  },
  {
   "cell_type": "markdown",
   "id": "254ab87f",
   "metadata": {},
   "source": [
    "Найти детерминант матрицы A"
   ]
  },
  {
   "cell_type": "code",
   "execution_count": 38,
   "id": "f5505aa1",
   "metadata": {},
   "outputs": [
    {
     "data": {
      "text/plain": [
       "np.float64(-25.000000000000004)"
      ]
     },
     "execution_count": 38,
     "metadata": {},
     "output_type": "execute_result"
    }
   ],
   "source": [
    "linalg.det(A)"
   ]
  },
  {
   "cell_type": "markdown",
   "id": "54f5108d",
   "metadata": {},
   "source": [
    "Найти обратную матрицу"
   ]
  },
  {
   "cell_type": "code",
   "execution_count": 39,
   "id": "1c5b4239",
   "metadata": {},
   "outputs": [
    {
     "data": {
      "text/plain": [
       "array([[-1.48,  0.36,  0.88],\n",
       "       [ 0.56,  0.08, -0.36],\n",
       "       [ 0.16, -0.12,  0.04]])"
      ]
     },
     "execution_count": 39,
     "metadata": {},
     "output_type": "execute_result"
    }
   ],
   "source": [
    "linalg.inv(A)"
   ]
  },
  {
   "cell_type": "markdown",
   "id": "03856ea2",
   "metadata": {},
   "source": [
    "Найти собственные числа и вектора"
   ]
  },
  {
   "cell_type": "code",
   "execution_count": 40,
   "id": "76a2fd08",
   "metadata": {},
   "outputs": [],
   "source": [
    "eigenvalues, eigenvectors = linalg.eig(A)"
   ]
  },
  {
   "cell_type": "code",
   "execution_count": 41,
   "id": "1a4fd510",
   "metadata": {},
   "outputs": [
    {
     "data": {
      "text/plain": [
       "array([10.5540456 +0.j, -0.5873064 +0.j,  4.03326081+0.j])"
      ]
     },
     "execution_count": 41,
     "metadata": {},
     "output_type": "execute_result"
    }
   ],
   "source": [
    "eigenvalues"
   ]
  },
  {
   "cell_type": "code",
   "execution_count": 42,
   "id": "f450f370",
   "metadata": {},
   "outputs": [
    {
     "data": {
      "text/plain": [
       "array([[-0.51686204, -0.94195144,  0.11527992],\n",
       "       [-0.32845853,  0.31778071, -0.81936883],\n",
       "       [-0.79054957,  0.10836468,  0.56155611]])"
      ]
     },
     "execution_count": 42,
     "metadata": {},
     "output_type": "execute_result"
    }
   ],
   "source": [
    "eigenvectors"
   ]
  },
  {
   "cell_type": "markdown",
   "id": "d02305a7",
   "metadata": {},
   "source": [
    "Оптимизация"
   ]
  },
  {
   "cell_type": "code",
   "execution_count": 43,
   "id": "4d17602e",
   "metadata": {},
   "outputs": [],
   "source": [
    "def f(x):\n",
    "    return x**2 + 6 * np.sin(x)"
   ]
  },
  {
   "cell_type": "code",
   "execution_count": 44,
   "id": "e753b70d",
   "metadata": {},
   "outputs": [
    {
     "data": {
      "image/png": "[encoded data removed]",
      "text/plain": [
       "<Figure size 640x480 with 1 Axes>"
      ]
     },
     "metadata": {},
     "output_type": "display_data"
    }
   ],
   "source": [
    "x = np.arange(-10, 10, 0.1)\n",
    "plt.plot(x, f(x))\n",
    "plt.show()"
   ]
  },
  {
   "cell_type": "markdown",
   "id": "05a6df5d",
   "metadata": {},
   "source": [
    "Поиск минимума"
   ]
  },
  {
   "cell_type": "code",
   "execution_count": 45,
   "id": "c8eea038",
   "metadata": {},
   "outputs": [
    {
     "data": {
      "text/plain": [
       "  message: Optimization terminated successfully.\n",
       "  success: True\n",
       "   status: 0\n",
       "      fun: -4.155603641455809\n",
       "        x: [-1.170e+00]\n",
       "      nit: 5\n",
       "      jac: [-1.788e-07]\n",
       " hess_inv: [[ 1.329e-01]]\n",
       "     nfev: 12\n",
       "     njev: 6"
      ]
     },
     "execution_count": 45,
     "metadata": {},
     "output_type": "execute_result"
    }
   ],
   "source": [
    "optimize.minimize(f, x0=0)"
   ]
  },
  {
   "cell_type": "markdown",
   "id": "f8a724c4",
   "metadata": {},
   "source": [
    "В качестве приближения взята точка, которая даст локальный минимум"
   ]
  },
  {
   "cell_type": "code",
   "execution_count": 47,
   "id": "470defff",
   "metadata": {},
   "outputs": [
    {
     "data": {
      "text/plain": [
       "  message: Optimization terminated successfully.\n",
       "  success: True\n",
       "   status: 0\n",
       "      fun: 9.8449784808512\n",
       "        x: [ 2.938e+00]\n",
       "      nit: 3\n",
       "      jac: [ 1.907e-06]\n",
       " hess_inv: [[ 1.260e+00]]\n",
       "     nfev: 8\n",
       "     njev: 4"
      ]
     },
     "execution_count": 47,
     "metadata": {},
     "output_type": "execute_result"
    }
   ],
   "source": [
    "optimize.minimize(f, x0=3)"
   ]
  },
  {
   "cell_type": "markdown",
   "id": "cde287aa-d13f-453b-8da0-a5b27412e62b",
   "metadata": {},
   "source": [
    "Интегрирование."
   ]
  },
  {
   "cell_type": "code",
   "execution_count": 48,
   "id": "e71be7d4-dcbc-41d7-91a5-1993d2c17baf",
   "metadata": {},
   "outputs": [
    {
     "name": "stdout",
     "output_type": "stream",
     "text": [
      "2.6666666666666665\n"
     ]
    }
   ],
   "source": [
    "from scipy.integrate import quad\n",
    "\n",
    "def func(x):\n",
    "    return x**2\n",
    "\n",
    "integral, error = quad(func, 0, 2)\n",
    "print(integral)  # Значение интеграла\n"
   ]
  },
  {
   "cell_type": "markdown",
   "id": "fc2d1a54-0a38-4298-a48e-e9b0e1260698",
   "metadata": {},
   "source": [
    "Интерполяция."
   ]
  },
  {
   "cell_type": "code",
   "execution_count": 49,
   "id": "833ccf1a-89db-420f-9c78-badb482305cb",
   "metadata": {},
   "outputs": [
    {
     "name": "stdout",
     "output_type": "stream",
     "text": [
      "6.5\n"
     ]
    }
   ],
   "source": [
    "from scipy.interpolate import interp1d\n",
    "\n",
    "x = [0, 1, 2, 3, 4]\n",
    "y = [0, 1, 4, 9, 16]\n",
    "f = interp1d(x, y)\n",
    "\n",
    "print(f(2.5))  # Значение в точке 2.5\n"
   ]
  },
  {
   "cell_type": "markdown",
   "id": "49d47d55-8d02-4a29-879f-e5d478b0f27a",
   "metadata": {},
   "source": [
    "Решение системы линейных уравнений."
   ]
  },
  {
   "cell_type": "code",
   "execution_count": 50,
   "id": "5b723d8b-11ce-4e66-a44d-011b96229a7e",
   "metadata": {},
   "outputs": [
    {
     "name": "stdout",
     "output_type": "stream",
     "text": [
      "[0.  0.5]\n"
     ]
    }
   ],
   "source": [
    "from scipy.linalg import solve\n",
    "\n",
    "A = [[1, 2], [3, 4]]\n",
    "b = [1, 2]\n",
    "x = solve(A, b)\n",
    "\n",
    "print(x)  # Решение системы\n"
   ]
  },
  {
   "cell_type": "code",
   "execution_count": 51,
   "id": "bc4dae85-f7e4-462d-a21e-fcf42142bb04",
   "metadata": {},
   "outputs": [
    {
     "name": "stdout",
     "output_type": "stream",
     "text": [
      "0.001052825793366539\n"
     ]
    }
   ],
   "source": [
    "from scipy.stats import ttest_ind\n",
    "\n",
    "sample1 = [1, 2, 3, 4, 5]\n",
    "sample2 = [6, 7, 8, 9, 10]\n",
    "t_stat, p_val = ttest_ind(sample1, sample2)\n",
    "\n",
    "print(p_val)  # p-значение для t-теста\n"
   ]
  }
 ],
 "metadata": {
  "kernelspec": {
   "display_name": "Python 3 (ipykernel)",
   "language": "python",
   "name": "python3"
  },
  "language_info": {
   "codemirror_mode": {
    "name": "ipython",
    "version": 3
   },
   "file_extension": ".py",
   "mimetype": "text/x-python",
   "name": "python",
   "nbconvert_exporter": "python",
   "pygments_lexer": "ipython3",
   "version": "3.11.6"
  }
 },
 "nbformat": 4,
 "nbformat_minor": 5
}
