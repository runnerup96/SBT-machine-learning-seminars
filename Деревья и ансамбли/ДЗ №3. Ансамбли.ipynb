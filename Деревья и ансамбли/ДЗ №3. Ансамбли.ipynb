{
 "cells": [
  {
   "cell_type": "markdown",
   "id": "5d96058a-d06c-44c1-96e8-d50af48acec6",
   "metadata": {
    "tags": []
   },
   "source": [
    "# ДЗ №3. Ансамбли (50 баллов)"
   ]
  },
  {
   "cell_type": "markdown",
   "id": "951ac7e3-bdd4-480c-a3c9-b18e3fae1840",
   "metadata": {},
   "source": [
    "В этом домашнем задании нужно реализовать алгоритм Random Forest и реализовать методы ансамблирования Stacking и Blending. "
   ]
  },
  {
   "cell_type": "markdown",
   "id": "357fbf52-952a-467f-b1a1-603392b2ce84",
   "metadata": {},
   "source": [
    "## Данные"
   ]
  },
  {
   "cell_type": "markdown",
   "id": "efe9a8bc-20ef-4f72-8aba-0b71920da365",
   "metadata": {},
   "source": [
    "Вы будете работать с [датасетом Spaceship Titanic](https://www.kaggle.com/competitions/spaceship-titanic/data).\n",
    "* Если у вас нет возможности зарегестрироваться на Kaggle, то данные лежат [тут](https://drive.google.com/file/d/16SJ4FeqMIsfzqpbcm82Yl8F6MU7MODr9/view?usp=drive_link).\n",
    "\n",
    "* _Если вы используете данные с диска, то сами сформируйте train/val/test выборку_\n",
    "\n",
    "\n",
    "Предобработайте данные как мы делали в папке [Работа с признаками](https://github.com/runnerup96/SBT-machine-learning-seminars/tree/main/Работа%20с%20признаками) - заполните пропущенные данные, обработайте редкие значения, закодируйте категориальные признаки, создайте и отберите признаки."
   ]
  },
  {
   "cell_type": "markdown",
   "id": "2e8d607a-374d-424a-8ad9-66ca43d5b457",
   "metadata": {},
   "source": [
    "## Задание №1 Random Forest (20 баллов)"
   ]
  },
  {
   "cell_type": "markdown",
   "id": "209768ae-2c94-414b-8d49-882b0a132582",
   "metadata": {},
   "source": [
    "Реализуйте __RandomForest__ алгоритм. В качестве базового алгоритма возьмите [DecisionTreeСlassifer](https://scikit-learn.org/stable/modules/generated/sklearn.tree.DecisionTreeClassifier.html) из sklearn.\n",
    "\n",
    "* Сравните качество с [RandomForestClassifier](https://scikit-learn.org/stable/modules/generated/sklearn.ensemble.RandomForestClassifier.html) из sklearn на датасете SpaceShipTitanic. Различие должно быть не более **5%** по метрике **Accuracy**.\n",
    "\n",
    "* Подберите гиперпараметры для вашего алгоритма с помощью __Optuna__ (пример с семинара [тут](https://github.com/runnerup96/SBT-machine-learning-seminars/blob/main/Деревья%20и%20ансамбли/Деревья%20решений%20и%20ансамбли.ipynb)) и продемонстрируйте качество на тестовой выборке.\n",
    "\n",
    "**Если вы смогли участвовать в Kaggle соревновании, приложите скриншот в ноутбук вашего сабмита с этим алгоритмом**"
   ]
  },
  {
   "cell_type": "code",
   "execution_count": null,
   "id": "faef8b7b-d0a5-47ec-8e70-9a0cbd114291",
   "metadata": {},
   "outputs": [],
   "source": [
    "from sklearn.tree import DecisionTreeClassifier"
   ]
  },
  {
   "cell_type": "code",
   "execution_count": null,
   "id": "2b57a9ab-b8b5-4539-b188-5cbf2aaef726",
   "metadata": {},
   "outputs": [],
   "source": [
    "class RandomForest:\n",
    "    def __init__(\n",
    "        self, \n",
    "        n_estimators=100, \n",
    "        criterion='gini', \n",
    "        max_depth=None, \n",
    "        min_samples_split=2, \n",
    "        min_samples_leaf=1, \n",
    "        bootstrap=True, \n",
    "    ):\n",
    "        self.bootstrap = bootstrap\n",
    "        self.estimators = [\n",
    "            DecisionTreeClassifier(\n",
    "                criterion=criterion, \n",
    "                max_depth=max_depth,\n",
    "                min_samples_split=min_samples_split, \n",
    "                min_samples_leaf=min_samples_leaf\n",
    "            )\n",
    "            for _ in range(n_estimators)\n",
    "        ]\n",
    "    \n",
    "    def fit(self, X, y):\n",
    "        \"\"\"функция обучения модели\"\"\"\n",
    "        # CODE HERE\n",
    "    \n",
    "    def predict(self, X):\n",
    "        \"\"\"функция предсказания\"\"\"\n",
    "        # CODE HERE\n",
    "        pass\n",
    "\n",
    "    def predict_proba(self, X):\n",
    "        \"\"\"функция предсказания вероятностей\"\"\"\n",
    "        # CODE HERE\n",
    "        pass"
   ]
  },
  {
   "cell_type": "markdown",
   "id": "16ce673c-8699-4040-9622-07d85fa64e37",
   "metadata": {},
   "source": [
    "## Задание №2 Stacking (15 баллов)"
   ]
  },
  {
   "cell_type": "markdown",
   "id": "b6c50d29-b19f-43d8-8f62-e79479856c04",
   "metadata": {},
   "source": [
    "Реализуйте стекинг(методом, представленном на лекции) над 3-5 алгоритмами (сами алгоритмы реализовывать не надо, брать готовые реализации). Продемонстрируйте качество вашей реализации: покажите метрики базовых моделей и ансамбля на тестовой выборке. Если в качестве метамодели вы используете логрег, выведите веса признаков каждой модели. Подбор гиперпараметров для ваших алгоритмов на ваше усмотрение. \n",
    "\n",
    "**Если вы смогли участвовать в Kaggle соревновании, приложите скриншот вашего сабмита с этим алгоритмом**"
   ]
  },
  {
   "cell_type": "code",
   "execution_count": null,
   "id": "7260383a-78fa-45cf-90cd-bb69412f30d7",
   "metadata": {},
   "outputs": [],
   "source": [
    "class Stacking:\n",
    "    def __init__(self, estimators, final_estimator):\n",
    "        \"\"\"\n",
    "        estimators : list\n",
    "            Список базовых моделей\n",
    "        final_estimator\n",
    "            Метамодель для финального предсказания\n",
    "        \"\"\"\n",
    "        self.estimators = estimators\n",
    "        self.final_estimator = final_estimator\n",
    "    \n",
    "    def fit(self, X, y):\n",
    "        \"\"\"функция обучения модели\"\"\"\n",
    "        # CODE HERE\n",
    "    \n",
    "    def predict(self, X):\n",
    "        \"\"\"функция предсказания\"\"\"\n",
    "        # CODE HERE\n",
    "        pass\n",
    "\n",
    "    def predict_proba(self, X):\n",
    "        \"\"\"функция предсказания вероятностей\"\"\"\n",
    "        # CODE HERE\n",
    "        pass"
   ]
  },
  {
   "cell_type": "markdown",
   "id": "a8b36838-20f2-4c9d-9fb6-6f33e74f2d26",
   "metadata": {},
   "source": [
    "## Задание №3 Blending (15 баллов)"
   ]
  },
  {
   "cell_type": "markdown",
   "id": "50ffeb2e-7822-45aa-9d4e-54a0087588e3",
   "metadata": {},
   "source": [
    "Реализуйте блендинг(методом, представленном на лекции) с несколькими алгоритмами на ваш выбор. Продемонстрируйте качество вашей реализации: покажите метрики базовых моделей и ансамбля на тестовой выборке. Если в качестве метамодели вы используете логрег, выведите веса. Подбор гиперпараметров для ваших алгоритмов на ваше усмотрение. \n",
    "\n",
    "**Если вы смогли участвовать в Kaggle соревновании, приложите скриншот вашего сабмита с этим алгоритмом**"
   ]
  },
  {
   "cell_type": "code",
   "execution_count": null,
   "id": "3976672f-6b48-48dd-bdbe-48d4438da107",
   "metadata": {},
   "outputs": [],
   "source": [
    "class Blending:\n",
    "    def __init__(self, estimators, final_estimator):\n",
    "        \"\"\"\n",
    "        estimators : list\n",
    "            Список базовых моделей\n",
    "        final_estimator:\n",
    "            Метамодель для финального предсказания\n",
    "        \"\"\"\n",
    "        self.estimators = estimators\n",
    "        self.final_estimator = final_estimator\n",
    "    \n",
    "    def fit(self, X, y):\n",
    "        \"\"\"функция обучения модели\"\"\"\n",
    "        # CODE HERE\n",
    "    \n",
    "    def predict(self, X):\n",
    "        \"\"\"функция предсказания\"\"\"\n",
    "        # CODE HERE\n",
    "        pass\n",
    "\n",
    "    def predict_proba(self, X):\n",
    "        \"\"\"функция предсказания вероятностей\"\"\"\n",
    "        # CODE HERE\n",
    "        pass"
   ]
  }
 ],
 "metadata": {
  "kernelspec": {
   "display_name": "Python 3 (ipykernel)",
   "language": "python",
   "name": "python3"
  },
  "language_info": {
   "codemirror_mode": {
    "name": "ipython",
    "version": 3
   },
   "file_extension": ".py",
   "mimetype": "text/x-python",
   "name": "python",
   "nbconvert_exporter": "python",
   "pygments_lexer": "ipython3",
   "version": "3.9.7"
  }
 },
 "nbformat": 4,
 "nbformat_minor": 5
}
