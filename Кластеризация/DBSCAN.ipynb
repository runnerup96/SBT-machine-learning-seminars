{
 "cells": [
  {
   "cell_type": "code",
   "execution_count": 1,
   "id": "5fb3559a-e79a-4918-bd93-3530a2e9726b",
   "metadata": {},
   "outputs": [],
   "source": [
    "import numpy as np\n",
    "import matplotlib.pyplot as plt\n",
    "from math import hypot"
   ]
  },
  {
   "cell_type": "markdown",
   "id": "1efae9ad-158f-4a60-84b2-6f4f9b50f62c",
   "metadata": {},
   "source": [
    "### Подготовка данных\n",
    "\n",
    "Подготовим кластеры разной структуры для оценки DBSCAN алгоритма."
   ]
  },
  {
   "cell_type": "code",
   "execution_count": 2,
   "id": "e6139ef3-d45d-4977-9fa5-80ee4202bfcd",
   "metadata": {},
   "outputs": [
    {
     "data": {
      "text/plain": [
       "<matplotlib.collections.PathCollection at 0x7f78e0827550>"
      ]
     },
     "execution_count": 2,
     "metadata": {},
     "output_type": "execute_result"
    },
    {
     "data": {
      "image/png": "[encoded data removed]",
      "text/plain": [
       "<Figure size 432x288 with 1 Axes>"
      ]
     },
     "metadata": {
      "needs_background": "light"
     },
     "output_type": "display_data"
    }
   ],
   "source": [
    "P = [(np.random.randn()/6, np.random.randn()/6) for i in range(150)]\n",
    "P.extend([(np.random.randn()/4 + 2.5, np.random.randn()/5) for i in range(150)])\n",
    "P.extend([(np.random.randn()/5 + 1, np.random.randn()/2 + 1) for i in range(150)])\n",
    "P.extend([(i/25 - 1, + np.random.randn()/20 - 1) for i in range(100)])\n",
    "P.extend([(i/25 - 2.5, 3 - (i/50 - 2)**2 + np.random.randn()/20) for i in range(150)])\n",
    "\n",
    "plt.scatter(np.array(P)[:, 0], np.array(P)[:, 1])"
   ]
  },
  {
   "cell_type": "markdown",
   "id": "9dd176b2-c7f1-406e-b871-f80ccf0f0ef7",
   "metadata": {},
   "source": [
    "### Реализация DBSCAN алгоритма"
   ]
  },
  {
   "cell_type": "code",
   "execution_count": 4,
   "id": "15d0bdcf-79a9-41eb-a1b6-7a3dd551f74f",
   "metadata": {},
   "outputs": [],
   "source": [
    "class DBSCAN_naive:\n",
    "    def __init__(self, distance, eps, m, points_array):\n",
    "        \"\"\"\n",
    "        Простая реализация алгоритма DBSCAN\n",
    "        input:\n",
    "        - distance: метрика расстояния между 2умя точками\n",
    "        - eps: Максимальное расстояние между точками \n",
    "        - m: Минимальное количество соседей у точки, чтобы стать корневой\n",
    "        - points_array: Данные для кластеризации\n",
    "        \"\"\"\n",
    "        self.distance = distance\n",
    "        self.eps = eps\n",
    "        self.m = m\n",
    "        self.noise_cluster = 0\n",
    "        self.cluster_dict = {self.noise_cluster: []}# заранее определим кластер шума\n",
    "        self.cluster_count = 0\n",
    "        self.visited_points = set()\n",
    "        self.clustered_points = set()\n",
    "        self.points_array = points_array\n",
    "        \n",
    "    def region_query(self, p):\n",
    "        \"\"\"\n",
    "        Определение точек-соседей\n",
    "        input:\n",
    "        - p - новая точка датасета\n",
    "        \"\"\"\n",
    "        return [q for q in  self.points_array if self.distance(p, q) < self.eps] \n",
    "    \n",
    "    def expand_cluster(self, p, neighbours):\n",
    "        \"\"\"\n",
    "        Функция поиска корневых точек кластера\n",
    "        input:\n",
    "        - p - новая точка датасета\n",
    "        - neighbours - соседи этой точки\n",
    "        \"\"\"\n",
    "        if self.cluster_count not in self.cluster_dict:\n",
    "            self.cluster_dict[self.cluster_count] = []\n",
    "        \n",
    "        # добавляем в кластер новую точку\n",
    "        self.cluster_dict[self.cluster_count].append(p)\n",
    "        # переводим точку в статус кластеризованных\n",
    "        self.clustered_points.add(p)\n",
    "        \n",
    "        # идем по соседям точки\n",
    "        while neighbours:\n",
    "            q = neighbours.pop()\n",
    "            \n",
    "            # если с точкой-соседом еще не работали\n",
    "            if q not in self.visited_points:\n",
    "                self.visited_points.add(q)\n",
    "                # определяем ее соседей\n",
    "                q_neighbours = self.region_query(q)\n",
    "                # если у нее есть подходящие соседи - добавляем новых соседей к соседяем исходной корневой точки\n",
    "                if len(q_neighbours) >= self.m:\n",
    "                    neighbours.extend(q_neighbours)\n",
    "            \n",
    "            # если новая точка еще не отнесена ни к одному кластеру\n",
    "            if q not in self.clustered_points:\n",
    "                # относим точку к кластеру заданной точкой p\n",
    "                self.clustered_points.add(q)\n",
    "                self.cluster_dict[self.cluster_count].append(q)\n",
    "                # если эта точка была до этого в шумовом кластере, удалим ее оттуда - она уже не шум\n",
    "                if q in self.cluster_dict[self.noise_cluster]:\n",
    "                    self.cluster_dict[self.noise_cluster].remove(q)\n",
    "                    \n",
    "    def fit(self, points_array):\n",
    "        for p in points_array:\n",
    "            if p not in self.visited_points:\n",
    "                self.visited_points.add(p)\n",
    "                # определяем соседей точки\n",
    "                neighbours = self.region_query(p)\n",
    "                # если количество соседей меньше минимального, то добавляем в кластер шума\n",
    "                if len(neighbours) < self.m:\n",
    "                    self.cluster_dict[self.noise_cluster].append(p)\n",
    "                else:\n",
    "                    # в другом случае - новая точка становится кластером\n",
    "                    self.cluster_count += 1\n",
    "                    # определяем к каким кластерам относятся соседи точки\n",
    "                    self.expand_cluster(p, neighbours)\n",
    "            \n",
    "# hypot - функция расчета евклидова расстояния\n",
    "dbscan = DBSCAN_naive(lambda x, y: hypot(x[0] - y[0], x[1] - y[1]), 0.3, 2, P)\n",
    "dbscan.fit(P)"
   ]
  },
  {
   "cell_type": "code",
   "execution_count": 5,
   "id": "156b3a87-37b2-4d10-b918-3cad7c6f0dcd",
   "metadata": {},
   "outputs": [
    {
     "name": "stdout",
     "output_type": "stream",
     "text": [
      "Total cluster size:  6\n"
     ]
    }
   ],
   "source": [
    "print('Total cluster size: ', len(dbscan.cluster_dict))"
   ]
  },
  {
   "cell_type": "markdown",
   "id": "a755e2f6-f370-4557-8200-f64a5d254154",
   "metadata": {},
   "source": [
    "### Визуализируем полученные кластеры"
   ]
  },
  {
   "cell_type": "code",
   "execution_count": 6,
   "id": "9223f428-a27f-427f-a35e-6508ada2cc2f",
   "metadata": {},
   "outputs": [
    {
     "data": {
      "image/png": "[encoded data removed]",
      "text/plain": [
       "<Figure size 432x288 with 1 Axes>"
      ]
     },
     "metadata": {
      "needs_background": "light"
     },
     "output_type": "display_data"
    }
   ],
   "source": [
    "for key in dbscan.cluster_dict:\n",
    "    points_list = np.array(dbscan.cluster_dict[key])\n",
    "    if len(points_list) > 0:\n",
    "        plt.scatter(points_list[:, 0], points_list[:, 1])"
   ]
  },
  {
   "cell_type": "code",
   "execution_count": 7,
   "id": "c19e9093-46b9-4cf6-8a80-011aef64cc8a",
   "metadata": {},
   "outputs": [
    {
     "data": {
      "text/plain": [
       "[(1.3778510960552295, -0.3883072509152834),\n",
       " (1.3368380169937126, 0.010351713481043467),\n",
       " (0.4909857579362221, 2.1639204978369704)]"
      ]
     },
     "execution_count": 7,
     "metadata": {},
     "output_type": "execute_result"
    }
   ],
   "source": [
    "dbscan.cluster_dict[0]# шумовые точки(аномалии)"
   ]
  },
  {
   "cell_type": "code",
   "execution_count": null,
   "id": "4ccdd4bd-a59a-4055-8ee6-562713279a13",
   "metadata": {},
   "outputs": [],
   "source": []
  },
  {
   "cell_type": "markdown",
   "id": "04c17d96-4e73-4220-bbe1-f54588ffef51",
   "metadata": {},
   "source": [
    "### Практикум"
   ]
  },
  {
   "cell_type": "markdown",
   "id": "bf87a85b-4402-4210-8fff-be4411d53df3",
   "metadata": {
    "tags": []
   },
   "source": [
    "### Задание №1(Количество баллов 2)\n",
    "\n",
    "С помощью **elbow plot/silouhette** найдите оптимальный $\\epsilon$ для реализованного DBSCAN алгоритма. Визуализируйте **elbow plot**."
   ]
  },
  {
   "cell_type": "code",
   "execution_count": null,
   "id": "20b94856-2d39-4a12-9231-2616625507d2",
   "metadata": {},
   "outputs": [],
   "source": [
    "### CODE HERE"
   ]
  }
 ],
 "metadata": {
  "kernelspec": {
   "display_name": "Python 3 (ipykernel)",
   "language": "python",
   "name": "python3"
  },
  "language_info": {
   "codemirror_mode": {
    "name": "ipython",
    "version": 3
   },
   "file_extension": ".py",
   "mimetype": "text/x-python",
   "name": "python",
   "nbconvert_exporter": "python",
   "pygments_lexer": "ipython3",
   "version": "3.9.7"
  }
 },
 "nbformat": 4,
 "nbformat_minor": 5
}
