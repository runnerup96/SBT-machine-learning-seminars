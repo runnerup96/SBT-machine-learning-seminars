{
 "cells": [
  {
   "cell_type": "markdown",
   "id": "incoming-satellite",
   "metadata": {},
   "source": [
    "## Калибровка вероятностей\n",
    "\n",
    "\n",
    "### Зачем важна калибровка вероятностей?\n",
    "\n",
    "Калибровка вероятности в контексте машинного обучения - это процесс коррекции вероятностей, возвращаемых моделью классификации, с целью сделать их более точными и интерпретируемыми. Это означает, что вероятности, предсказываемые моделью, должны соответствовать действительным частотам наступления событий. Калибровка позволяет улучшить точность и надежность вероятностных прогнозов модели, что важно для правильного принятия решений на их основе.\n",
    "\n",
    "- Уверенность в прогнозах: Когда модель возвращает вероятности, они должны быть интерпретируемыми и точными. Калибровка помогает сделать вероятности более реалистичными и позволяет оценивать уверенность модели в своих прогнозах.\n",
    "- Улучшение калибровки: Некалиброванные вероятности могут быть смещены и неадекватно оценивать вероятность события. Калибровка помогает исправить это смещение и сделать вероятности более точными.\n",
    "- Улучшение метрик: Калиброванные вероятности позволяют улучшить метрики, такие как точность, площадь под ROC-кривой и log-loss.\n",
    "- Принятие решений: Калиброванные вероятности легче интерпретировать и использовать для принятия решений. Это особенно важно в задачах, где безопасность и надежность критически важны.\n",
    "\n",
    "\n",
    "Адаптировано из https://github.com/esokolov/ml-course-hse"
   ]
  },
  {
   "cell_type": "code",
   "execution_count": 3,
   "id": "lesbian-birthday",
   "metadata": {},
   "outputs": [],
   "source": [
    "import pandas as pd\n",
    "import numpy as np\n",
    "import seaborn as sns\n",
    "import matplotlib.pyplot as plt\n",
    "\n",
    "from sklearn.preprocessing import StandardScaler\n",
    "# import category_encoders as ce\n",
    "from sklearn.metrics import roc_auc_score\n",
    "from sklearn.model_selection import train_test_split\n",
    "from sklearn.svm import LinearSVC\n",
    "from sklearn.linear_model import LogisticRegression\n",
    "from sklearn.calibration import CalibratedClassifierCV, calibration_curve\n",
    "from scipy.special import expit\n",
    "from sklearn.impute import SimpleImputer\n",
    "\n",
    "sns.set_style('whitegrid')\n",
    "plt.rcParams.update({'font.size': 14})"
   ]
  },
  {
   "cell_type": "code",
   "execution_count": 4,
   "id": "final-humor",
   "metadata": {},
   "outputs": [
    {
     "data": {
      "text/html": [
       "<div>\n",
       "<style scoped>\n",
       "    .dataframe tbody tr th:only-of-type {\n",
       "        vertical-align: middle;\n",
       "    }\n",
       "\n",
       "    .dataframe tbody tr th {\n",
       "        vertical-align: top;\n",
       "    }\n",
       "\n",
       "    .dataframe thead th {\n",
       "        text-align: right;\n",
       "    }\n",
       "</style>\n",
       "<table border=\"1\" class=\"dataframe\">\n",
       "  <thead>\n",
       "    <tr style=\"text-align: right;\">\n",
       "      <th></th>\n",
       "      <th>Survived</th>\n",
       "      <th>Pclass</th>\n",
       "      <th>Sex</th>\n",
       "      <th>Age</th>\n",
       "      <th>SibSp</th>\n",
       "      <th>Fare</th>\n",
       "    </tr>\n",
       "  </thead>\n",
       "  <tbody>\n",
       "    <tr>\n",
       "      <th>0</th>\n",
       "      <td>0</td>\n",
       "      <td>3</td>\n",
       "      <td>male</td>\n",
       "      <td>22.0</td>\n",
       "      <td>1</td>\n",
       "      <td>7.2500</td>\n",
       "    </tr>\n",
       "    <tr>\n",
       "      <th>1</th>\n",
       "      <td>1</td>\n",
       "      <td>1</td>\n",
       "      <td>female</td>\n",
       "      <td>38.0</td>\n",
       "      <td>1</td>\n",
       "      <td>71.2833</td>\n",
       "    </tr>\n",
       "    <tr>\n",
       "      <th>2</th>\n",
       "      <td>1</td>\n",
       "      <td>3</td>\n",
       "      <td>female</td>\n",
       "      <td>26.0</td>\n",
       "      <td>0</td>\n",
       "      <td>7.9250</td>\n",
       "    </tr>\n",
       "    <tr>\n",
       "      <th>3</th>\n",
       "      <td>1</td>\n",
       "      <td>1</td>\n",
       "      <td>female</td>\n",
       "      <td>35.0</td>\n",
       "      <td>1</td>\n",
       "      <td>53.1000</td>\n",
       "    </tr>\n",
       "    <tr>\n",
       "      <th>4</th>\n",
       "      <td>0</td>\n",
       "      <td>3</td>\n",
       "      <td>male</td>\n",
       "      <td>35.0</td>\n",
       "      <td>0</td>\n",
       "      <td>8.0500</td>\n",
       "    </tr>\n",
       "  </tbody>\n",
       "</table>\n",
       "</div>"
      ],
      "text/plain": [
       "   Survived  Pclass     Sex   Age  SibSp     Fare\n",
       "0         0       3    male  22.0      1   7.2500\n",
       "1         1       1  female  38.0      1  71.2833\n",
       "2         1       3  female  26.0      0   7.9250\n",
       "3         1       1  female  35.0      1  53.1000\n",
       "4         0       3    male  35.0      0   8.0500"
      ]
     },
     "execution_count": 4,
     "metadata": {},
     "output_type": "execute_result"
    }
   ],
   "source": [
    "use_cols = [\n",
    "    'Pclass', 'Sex', 'Age', 'Fare', 'SibSp',\n",
    "    'Survived'\n",
    "]\n",
    "\n",
    "data = pd.read_csv('titanic.csv', usecols=use_cols)\n",
    "data.head()"
   ]
  },
  {
   "cell_type": "code",
   "execution_count": 5,
   "id": "324d23f7-f1b7-48e2-831d-80418e9c8201",
   "metadata": {},
   "outputs": [
    {
     "data": {
      "text/html": [
       "<div>\n",
       "<style scoped>\n",
       "    .dataframe tbody tr th:only-of-type {\n",
       "        vertical-align: middle;\n",
       "    }\n",
       "\n",
       "    .dataframe tbody tr th {\n",
       "        vertical-align: top;\n",
       "    }\n",
       "\n",
       "    .dataframe thead th {\n",
       "        text-align: right;\n",
       "    }\n",
       "</style>\n",
       "<table border=\"1\" class=\"dataframe\">\n",
       "  <thead>\n",
       "    <tr style=\"text-align: right;\">\n",
       "      <th></th>\n",
       "      <th>total missing</th>\n",
       "      <th>proportion</th>\n",
       "    </tr>\n",
       "  </thead>\n",
       "  <tbody>\n",
       "    <tr>\n",
       "      <th>Survived</th>\n",
       "      <td>0</td>\n",
       "      <td>0.000000</td>\n",
       "    </tr>\n",
       "    <tr>\n",
       "      <th>Pclass</th>\n",
       "      <td>0</td>\n",
       "      <td>0.000000</td>\n",
       "    </tr>\n",
       "    <tr>\n",
       "      <th>Sex</th>\n",
       "      <td>0</td>\n",
       "      <td>0.000000</td>\n",
       "    </tr>\n",
       "    <tr>\n",
       "      <th>Age</th>\n",
       "      <td>177</td>\n",
       "      <td>0.198653</td>\n",
       "    </tr>\n",
       "    <tr>\n",
       "      <th>SibSp</th>\n",
       "      <td>0</td>\n",
       "      <td>0.000000</td>\n",
       "    </tr>\n",
       "    <tr>\n",
       "      <th>Fare</th>\n",
       "      <td>0</td>\n",
       "      <td>0.000000</td>\n",
       "    </tr>\n",
       "  </tbody>\n",
       "</table>\n",
       "</div>"
      ],
      "text/plain": [
       "          total missing  proportion\n",
       "Survived              0    0.000000\n",
       "Pclass                0    0.000000\n",
       "Sex                   0    0.000000\n",
       "Age                 177    0.198653\n",
       "SibSp                 0    0.000000\n",
       "Fare                  0    0.000000"
      ]
     },
     "execution_count": 5,
     "metadata": {},
     "output_type": "execute_result"
    }
   ],
   "source": [
    "result = pd.concat([data.isnull().sum(),data.isnull().mean()],axis=1)\n",
    "result.rename(index=str,columns={0:'total missing',1:'proportion'})"
   ]
  },
  {
   "cell_type": "markdown",
   "id": "nervous-steps",
   "metadata": {},
   "source": [
    "Отмасштабируем данные и разделим на обучение и тест."
   ]
  },
  {
   "cell_type": "code",
   "execution_count": 6,
   "id": "living-steps",
   "metadata": {},
   "outputs": [],
   "source": [
    "X_train, X_test, y_train, y_test = train_test_split(data[['Pclass', 'Sex', 'Age', 'Fare', 'SibSp']], data['Survived'], test_size=0.2, random_state=42)\n",
    "\n",
    "X_train['Sex_oh'] = pd.get_dummies(X_train['Sex'], drop_first=True)\n",
    "X_test['Sex_oh'] = pd.get_dummies(X_test['Sex'], drop_first=True)\n",
    "X_train.drop(['Sex'], axis=1, inplace=True)\n",
    "X_test.drop(['Sex'], axis=1, inplace=True)\n",
    "\n",
    "imp_mean = SimpleImputer(missing_values=np.nan, strategy='mean').fit(X_train['Age'].values.reshape(-1, 1))\n",
    "X_train['Age'] = imp_mean.transform(X_train['Age'].values.reshape(-1, 1))\n",
    "X_test['Age']= imp_mean.transform(X_test['Age'].values.reshape(-1, 1))\n",
    "\n",
    "scaler = StandardScaler().fit(X_train[['Age', 'Fare']])\n",
    "X_train[['Age', 'Fare']] = scaler.transform(X_train[['Age', 'Fare']])\n",
    "X_test[['Age', 'Fare']] = scaler.transform(X_test[['Age', 'Fare']])"
   ]
  },
  {
   "cell_type": "code",
   "execution_count": 7,
   "id": "6d6aa18b-4c84-41c1-8146-ed8ad56a07dc",
   "metadata": {},
   "outputs": [
    {
     "data": {
      "text/html": [
       "<div>\n",
       "<style scoped>\n",
       "    .dataframe tbody tr th:only-of-type {\n",
       "        vertical-align: middle;\n",
       "    }\n",
       "\n",
       "    .dataframe tbody tr th {\n",
       "        vertical-align: top;\n",
       "    }\n",
       "\n",
       "    .dataframe thead th {\n",
       "        text-align: right;\n",
       "    }\n",
       "</style>\n",
       "<table border=\"1\" class=\"dataframe\">\n",
       "  <thead>\n",
       "    <tr style=\"text-align: right;\">\n",
       "      <th></th>\n",
       "      <th>Pclass</th>\n",
       "      <th>Age</th>\n",
       "      <th>Fare</th>\n",
       "      <th>SibSp</th>\n",
       "      <th>Sex_oh</th>\n",
       "    </tr>\n",
       "  </thead>\n",
       "  <tbody>\n",
       "    <tr>\n",
       "      <th>331</th>\n",
       "      <td>1</td>\n",
       "      <td>1.232263</td>\n",
       "      <td>-0.078684</td>\n",
       "      <td>0</td>\n",
       "      <td>True</td>\n",
       "    </tr>\n",
       "    <tr>\n",
       "      <th>733</th>\n",
       "      <td>2</td>\n",
       "      <td>-0.500482</td>\n",
       "      <td>-0.377145</td>\n",
       "      <td>0</td>\n",
       "      <td>True</td>\n",
       "    </tr>\n",
       "    <tr>\n",
       "      <th>382</th>\n",
       "      <td>3</td>\n",
       "      <td>0.192616</td>\n",
       "      <td>-0.474867</td>\n",
       "      <td>0</td>\n",
       "      <td>True</td>\n",
       "    </tr>\n",
       "    <tr>\n",
       "      <th>704</th>\n",
       "      <td>3</td>\n",
       "      <td>-0.269449</td>\n",
       "      <td>-0.476230</td>\n",
       "      <td>1</td>\n",
       "      <td>True</td>\n",
       "    </tr>\n",
       "    <tr>\n",
       "      <th>813</th>\n",
       "      <td>3</td>\n",
       "      <td>-1.809667</td>\n",
       "      <td>-0.025249</td>\n",
       "      <td>4</td>\n",
       "      <td>False</td>\n",
       "    </tr>\n",
       "  </tbody>\n",
       "</table>\n",
       "</div>"
      ],
      "text/plain": [
       "     Pclass       Age      Fare  SibSp  Sex_oh\n",
       "331       1  1.232263 -0.078684      0    True\n",
       "733       2 -0.500482 -0.377145      0    True\n",
       "382       3  0.192616 -0.474867      0    True\n",
       "704       3 -0.269449 -0.476230      1    True\n",
       "813       3 -1.809667 -0.025249      4   False"
      ]
     },
     "execution_count": 7,
     "metadata": {},
     "output_type": "execute_result"
    }
   ],
   "source": [
    "X_train.head()"
   ]
  },
  {
   "cell_type": "code",
   "execution_count": 8,
   "id": "b77caec4-7d43-4b00-b075-8fde7bf9a758",
   "metadata": {},
   "outputs": [
    {
     "data": {
      "text/plain": [
       "Survived\n",
       "0    444\n",
       "1    268\n",
       "Name: count, dtype: int64"
      ]
     },
     "execution_count": 8,
     "metadata": {},
     "output_type": "execute_result"
    }
   ],
   "source": [
    "y_train.value_counts()"
   ]
  },
  {
   "cell_type": "markdown",
   "id": "artificial-subscriber",
   "metadata": {},
   "source": [
    "Посмотрим на баланс классов в данных."
   ]
  },
  {
   "cell_type": "code",
   "execution_count": 9,
   "id": "listed-nurse",
   "metadata": {},
   "outputs": [
    {
     "name": "stdout",
     "output_type": "stream",
     "text": [
      "Class balance: 0.37640449438202245\n"
     ]
    }
   ],
   "source": [
    "print('Class balance:', y_train.mean())"
   ]
  },
  {
   "cell_type": "markdown",
   "id": "married-nylon",
   "metadata": {},
   "source": [
    "Классы сложно назвать сбалансированными. Обучим метод опорных векторов (SVC &mdash; Support Vector Classification) и логистическую регрессию, в качестве метрики возьмем ROC-AUC. В качестве скоров будем рассматривать выход `decision_function`, который пропорционален расстоянию до разделяющей гиперплоскости, взятого со знаком."
   ]
  },
  {
   "cell_type": "code",
   "execution_count": 10,
   "id": "senior-wilson",
   "metadata": {},
   "outputs": [
    {
     "name": "stdout",
     "output_type": "stream",
     "text": [
      "SVC ROC-AUC: 0.8767052767052768\n"
     ]
    },
    {
     "name": "stderr",
     "output_type": "stream",
     "text": [
      "/opt/anaconda3/lib/python3.9/site-packages/sklearn/svm/_classes.py:32: FutureWarning: The default value of `dual` will change from `True` to `'auto'` in 1.5. Set the value of `dual` explicitly to suppress the warning.\n",
      "  warnings.warn(\n"
     ]
    }
   ],
   "source": [
    "svc = LinearSVC(max_iter=100000, C=0.1).fit(X_train, y_train)\n",
    "svc_pred = svc.decision_function(X_test)\n",
    "print('SVC ROC-AUC:', roc_auc_score(y_test, svc_pred))"
   ]
  },
  {
   "cell_type": "code",
   "execution_count": 11,
   "id": "removable-geology",
   "metadata": {},
   "outputs": [
    {
     "name": "stdout",
     "output_type": "stream",
     "text": [
      "Logistic regression ROC-AUC: 0.88005148005148\n"
     ]
    }
   ],
   "source": [
    "lr = LogisticRegression(max_iter=100000, C=0.1).fit(X_train, y_train)\n",
    "lr_pred = lr.decision_function(X_test)\n",
    "print('Logistic regression ROC-AUC:', roc_auc_score(y_test, lr_pred))"
   ]
  },
  {
   "cell_type": "markdown",
   "id": "transsexual-emerald",
   "metadata": {},
   "source": [
    "ROC-AUC показывает, что мы практически идеально предсказываем целевую переменную. Посмотрим теперь на распределение скоров для тестовых объектов."
   ]
  },
  {
   "cell_type": "code",
   "execution_count": 12,
   "id": "intensive-lodging",
   "metadata": {},
   "outputs": [
    {
     "data": {
      "image/png": "[encoded data removed]",
      "text/plain": [
       "<Figure size 1008x504 with 2 Axes>"
      ]
     },
     "metadata": {
      "needs_background": "light"
     },
     "output_type": "display_data"
    }
   ],
   "source": [
    "fig, axs = plt.subplots(1, 2, figsize=(14, 7))\n",
    "\n",
    "axs[0].hist(svc_pred, bins=20, color='blue', density='True')\n",
    "axs[1].hist(lr_pred, bins=20, color='orange', density='True')\n",
    "\n",
    "axs[0].set_title('SVC')\n",
    "axs[1].set_title('Logistic regression')\n",
    "\n",
    "plt.suptitle('Outputs distribution')\n",
    "plt.show()"
   ]
  },
  {
   "cell_type": "markdown",
   "id": "adequate-swiss",
   "metadata": {},
   "source": [
    "Мы видим, что скоры могут принимать любые вещественные значения. Но для оценивания вероятностей нам нужно загнать их в промежуток $[0, 1]$. Для логистической регрессии мы можем навесить сигмоиду, ведь модель и обучалась так, чтобы значение $\\sigma\\big(\\langle w, x \\rangle + b\\big)$ приближало вероятности. Для SVC у нас нет такой опции, поэтому воспользуемся масштабированием через минимум-максимум."
   ]
  },
  {
   "cell_type": "code",
   "execution_count": 13,
   "id": "synthetic-picnic",
   "metadata": {},
   "outputs": [],
   "source": [
    "svc_pred = (svc_pred - svc_pred.min()) / (svc_pred.max() - svc_pred.min())\n",
    "lr_pred = lr.predict_proba(X_test)[:, 1]"
   ]
  },
  {
   "cell_type": "markdown",
   "id": "aware-ticket",
   "metadata": {},
   "source": [
    "Теперь мы можем построить калибровочные кривые."
   ]
  },
  {
   "cell_type": "code",
   "execution_count": 14,
   "id": "polish-bracelet",
   "metadata": {},
   "outputs": [
    {
     "data": {
      "image/png": "[encoded data removed]",
      "text/plain": [
       "<Figure size 504x504 with 1 Axes>"
      ]
     },
     "metadata": {
      "needs_background": "light"
     },
     "output_type": "display_data"
    }
   ],
   "source": [
    "plt.figure(figsize=(7, 7))\n",
    "\n",
    "svc_true_prob, svc_pred_prob = calibration_curve(y_test, svc_pred, n_bins=15)\n",
    "lr_true_prob, lr_pred_prob = calibration_curve(y_test, lr_pred, n_bins=15)\n",
    "\n",
    "plt.plot(svc_pred_prob, svc_true_prob, label='SVC', color='blue')\n",
    "plt.plot(lr_pred_prob, lr_true_prob, label='LR', color='orange')\n",
    "plt.plot([0, 1], [0, 1], label='Perfect', linestyle='--', color='green')\n",
    "\n",
    "plt.xlabel('Mean predicted probability')\n",
    "plt.ylabel('Fraction of positives')\n",
    "plt.title('Calibration curves')\n",
    "plt.legend()\n",
    "plt.show()"
   ]
  },
  {
   "cell_type": "markdown",
   "id": "angry-location",
   "metadata": {},
   "source": [
    "Мы видим, что кривая для логистической регрессии неплохо приближает диагональ. То же самое, увы, нельзя сказать про SVC. Попробуем откалибровать классификаторы и построить новые кривые.\n",
    "\n",
    "### Методы калибровки\n",
    "\n",
    "Наиболее популярными являются два метода калибровки &mdash; калибровка Платта (сигмоидная) и изотоническая регрессия. Оба этих метода реализованы в [`sklearn`](https://scikit-learn.org/stable/modules/calibration.html#calibration).\n",
    "\n",
    "**Калибровка Платта**\n",
    "\n",
    "Допустим, у нас есть обученный класификатор $b(x)$, который выдает уверенность (скор) в том, что $x$ относится к положительному классу. Метод приближает вероятность положительного класса с помощью сигмоидной функции:\n",
    "\n",
    "$$\n",
    "p\\big(y = +1 \\big| b(x)\\big) = \\frac{1}{1 + \\exp (A \\cdot b(x) + C)}\n",
    "$$\n",
    "\n",
    "Здесь обучаемыми параметрами являются $A, C \\in \\mathbb{R}$, их подбирают с помощью метода максимального правдоподобия (точно так же, как в логистической регрессии). Сделать это можно по кросс-валидации или на отложенной выборке. \n",
    "\n",
    "**Изотоническая регрессия**\n",
    "\n",
    "Другой метод использует так называемую изотоническую функцию &mdash; кусочно-линейную возрастающую функцию $f: \\mathbb{R} \\rightarrow \\mathbb{R}$. Функция подбирается так, чтобы минимизировать MSE по выборке:\n",
    "\n",
    "$$\n",
    "\\frac{1}{\\ell} \\sum_{i=1}^\\ell \\big(y_i - f(b(x_i))\\big)^2 \\rightarrow \\min_f\n",
    "$$\n",
    "\n",
    "Этот метод склонен к переобучению, поэтому его рекомендуется применять только для больших выборок.\n",
    "\n",
    "Мы будем подбирать параметры калибровки с помощью кросс-валидации. Конечно, нет большого смысла калибровать логистическую регрессию, но мы проведем небольшой эксперимент."
   ]
  },
  {
   "cell_type": "code",
   "execution_count": 15,
   "id": "ceramic-doctrine",
   "metadata": {},
   "outputs": [
    {
     "name": "stdout",
     "output_type": "stream",
     "text": [
      "SVC ROC-AUC: 0.8776061776061777\n"
     ]
    },
    {
     "name": "stderr",
     "output_type": "stream",
     "text": [
      "/opt/anaconda3/lib/python3.9/site-packages/sklearn/svm/_classes.py:32: FutureWarning: The default value of `dual` will change from `True` to `'auto'` in 1.5. Set the value of `dual` explicitly to suppress the warning.\n",
      "  warnings.warn(\n",
      "/opt/anaconda3/lib/python3.9/site-packages/sklearn/svm/_classes.py:32: FutureWarning: The default value of `dual` will change from `True` to `'auto'` in 1.5. Set the value of `dual` explicitly to suppress the warning.\n",
      "  warnings.warn(\n",
      "/opt/anaconda3/lib/python3.9/site-packages/sklearn/svm/_classes.py:32: FutureWarning: The default value of `dual` will change from `True` to `'auto'` in 1.5. Set the value of `dual` explicitly to suppress the warning.\n",
      "  warnings.warn(\n"
     ]
    }
   ],
   "source": [
    "sigmoid_svc = CalibratedClassifierCV(svc, cv=3, method='sigmoid').fit(X_train, y_train)\n",
    "sigmoid_svc_pred = sigmoid_svc.predict_proba(X_test)[:, 1]\n",
    "print('SVC ROC-AUC:', roc_auc_score(y_test, sigmoid_svc_pred))"
   ]
  },
  {
   "cell_type": "code",
   "execution_count": 16,
   "id": "critical-monitoring",
   "metadata": {},
   "outputs": [
    {
     "name": "stdout",
     "output_type": "stream",
     "text": [
      "SVC ROC-AUC: 0.8732303732303732\n"
     ]
    },
    {
     "name": "stderr",
     "output_type": "stream",
     "text": [
      "/opt/anaconda3/lib/python3.9/site-packages/sklearn/svm/_classes.py:32: FutureWarning: The default value of `dual` will change from `True` to `'auto'` in 1.5. Set the value of `dual` explicitly to suppress the warning.\n",
      "  warnings.warn(\n",
      "/opt/anaconda3/lib/python3.9/site-packages/sklearn/svm/_classes.py:32: FutureWarning: The default value of `dual` will change from `True` to `'auto'` in 1.5. Set the value of `dual` explicitly to suppress the warning.\n",
      "  warnings.warn(\n",
      "/opt/anaconda3/lib/python3.9/site-packages/sklearn/svm/_classes.py:32: FutureWarning: The default value of `dual` will change from `True` to `'auto'` in 1.5. Set the value of `dual` explicitly to suppress the warning.\n",
      "  warnings.warn(\n"
     ]
    }
   ],
   "source": [
    "isotonic_svc = CalibratedClassifierCV(svc, cv=3, method='isotonic').fit(X_train, y_train)\n",
    "isotonic_svc_pred = isotonic_svc.predict_proba(X_test)[:, 1]\n",
    "print('SVC ROC-AUC:', roc_auc_score(y_test, isotonic_svc_pred))"
   ]
  },
  {
   "cell_type": "code",
   "execution_count": 17,
   "id": "absolute-elite",
   "metadata": {},
   "outputs": [
    {
     "name": "stdout",
     "output_type": "stream",
     "text": [
      "Logistic regression ROC-AUC: 0.8806949806949808\n"
     ]
    }
   ],
   "source": [
    "sigmoid_lr = CalibratedClassifierCV(lr, cv=3, method='sigmoid').fit(X_train, y_train)\n",
    "sigmoid_lr_pred = sigmoid_lr.predict_proba(X_test)[:, 1]\n",
    "print('Logistic regression ROC-AUC:', roc_auc_score(y_test, sigmoid_lr_pred))"
   ]
  },
  {
   "cell_type": "code",
   "execution_count": 18,
   "id": "after-training",
   "metadata": {},
   "outputs": [
    {
     "name": "stdout",
     "output_type": "stream",
     "text": [
      "Logistic regression ROC-AUC: 0.8807593307593308\n"
     ]
    }
   ],
   "source": [
    "isotonic_lr = CalibratedClassifierCV(lr, cv=3, method='isotonic').fit(X_train, y_train)\n",
    "isotonic_lr_pred = isotonic_lr.predict_proba(X_test)[:, 1]\n",
    "print('Logistic regression ROC-AUC:', roc_auc_score(y_test, isotonic_lr_pred))"
   ]
  },
  {
   "cell_type": "markdown",
   "id": "85ff2c15",
   "metadata": {},
   "source": [
    "#### Expected Calibration Error (ECE)\n",
    "\n",
    "**Expected Calibration Error (ECE)** — это метрика, которая показывает, насколько хорошо вероятностные предсказания модели соответствуют реальной частоте правильных ответов.  \n",
    "Другими словами, она измеряет **насколько уверенность модели совпадает с её точностью**.\n",
    "\n",
    "Если модель говорит:\n",
    "> «Я уверен на 80%, что это правильный ответ»,\n",
    "\n",
    "то среди всех таких случаев действительно **примерно 80% предсказаний** должны быть верными.  \n",
    "Если это так — модель **хорошо калибрована**.\n",
    "\n",
    "- Если модель **завышает уверенность** (точность меньше, чем уверенность) — она **переуверенная (overconfident)**.  \n",
    "- Если **занижает уверенность** (точность больше уверенности) — **недоуверенная (underconfident)**.\n",
    "\n",
    "\n",
    "Модель делит все предсказания на несколько **корзин (bins)** по уровню уверенности.  \n",
    "Например, [0–0.1], [0.1–0.2], …, [0.9–1.0].  \n",
    "Для каждой корзины вычисляются:\n",
    "\n",
    "- `acc(B_m)` — доля правильных ответов (точность);\n",
    "- `conf(B_m)` — средняя уверенность модели;\n",
    "- `|B_m| / n` — доля всех примеров, попавших в эту корзину.\n",
    "\n",
    "Тогда **ожидаемая ошибка калибровки** вычисляется как:\n",
    "\n",
    "\n",
    "$\\text{ECE} = \\sum_{m=1}^{M} \\frac{|B_m|}{n} \\, \\big| \\text{acc}(B_m) - \\text{conf}(B_m) \\big|$"
   ]
  },
  {
   "cell_type": "markdown",
   "id": "african-bennett",
   "metadata": {},
   "source": [
    "Построим новые калибровочные кривые:"
   ]
  },
  {
   "cell_type": "code",
   "execution_count": 31,
   "id": "exposed-daisy",
   "metadata": {},
   "outputs": [
    {
     "data": {
      "image/png": "[encoded data removed]",
      "text/plain": [
       "<Figure size 1152x360 with 3 Axes>"
      ]
     },
     "metadata": {
      "needs_background": "light"
     },
     "output_type": "display_data"
    }
   ],
   "source": [
    "fig, axs = plt.subplots(1, 3, figsize=(16, 5))\n",
    "\n",
    "\n",
    "def ece(y_true, y_pred, n_bins=10):\n",
    "    bins = np.linspace(0.0, 1.0, n_bins + 1)\n",
    "    binids = np.digitize(y_pred, bins) - 1\n",
    "    ece = 0.0\n",
    "    for i in range(n_bins):\n",
    "        bin_mask = binids == i\n",
    "        if np.any(bin_mask):\n",
    "            acc = np.mean(y_true[bin_mask])             # fraction correct\n",
    "            conf = np.mean(y_pred[bin_mask])            # avg predicted prob\n",
    "            prop = np.mean(bin_mask)                    # |B_m| / n\n",
    "            ece += np.abs(acc - conf) * prop\n",
    "    return round(ece, 3)\n",
    "\n",
    "svc_true_prob, svc_pred_prob = calibration_curve(y_test, svc_pred, n_bins=10)\n",
    "lr_true_prob, lr_pred_prob = calibration_curve(y_test, lr_pred, n_bins=10)\n",
    "\n",
    "svc_ece = ece(y_test, svc_pred, 10)\n",
    "lr_ece = ece(y_test, lr_pred, 10)\n",
    "\n",
    "axs[0].plot(svc_pred_prob, svc_true_prob, label='SVC, ECE=' + str(svc_ece), color='blue')\n",
    "axs[0].plot(lr_pred_prob, lr_true_prob, label='LR, ECE=' + str(lr_ece), color='orange')\n",
    "axs[0].plot([0, 1], [0, 1], label='Perfect', linestyle='--', color='green')\n",
    "axs[0].set_title('Non-calibrated')\n",
    "\n",
    "svc_true_prob, svc_pred_prob = calibration_curve(y_test, sigmoid_svc_pred, n_bins=10)\n",
    "lr_true_prob, lr_pred_prob = calibration_curve(y_test, sigmoid_lr_pred, n_bins=10)\n",
    "\n",
    "svc_ece = ece(y_test, sigmoid_svc_pred, 10)\n",
    "lr_ece = ece(y_test, sigmoid_lr_pred, 10)\n",
    "\n",
    "axs[1].plot(svc_pred_prob, svc_true_prob, label='SVC, ECE=' + str(svc_ece), color='blue')\n",
    "axs[1].plot(lr_pred_prob, lr_true_prob, label='LR, ECE=' + str(lr_ece), color='orange')\n",
    "axs[1].plot([0, 1], [0, 1], label='Perfect', linestyle='--', color='green')\n",
    "axs[1].set_title('Sigmoid calibration')\n",
    "\n",
    "svc_true_prob, svc_pred_prob = calibration_curve(y_test, isotonic_svc_pred, n_bins=10)\n",
    "lr_true_prob, lr_pred_prob = calibration_curve(y_test, isotonic_lr_pred, n_bins=10)\n",
    "\n",
    "svc_ece = ece(y_test, isotonic_svc_pred, 10)\n",
    "lr_ece = ece(y_test, isotonic_lr_pred, 10)\n",
    "\n",
    "axs[2].plot(svc_pred_prob, svc_true_prob, label='SVC, ECE=' + str(svc_ece), color='blue')\n",
    "axs[2].plot(lr_pred_prob, lr_true_prob, label='LR, ECE=' + str(lr_ece), color='orange')\n",
    "axs[2].plot([0, 1], [0, 1], label='Perfect', linestyle='--', color='green')\n",
    "axs[2].set_title('Isotonic calibration')\n",
    "\n",
    "for ax in axs:\n",
    "    ax.set_xlabel('Mean predicted probability')\n",
    "    ax.set_ylabel('Fraction of positives')\n",
    "    ax.legend()\n",
    "\n",
    "plt.show()"
   ]
  },
  {
   "cell_type": "markdown",
   "id": "0d38e677-d34b-4101-96e0-90df6537ebd7",
   "metadata": {},
   "source": [
    "### Другие оценки калибровки"
   ]
  },
  {
   "cell_type": "markdown",
   "id": "61ee3625-8fef-47c3-a96c-92ca6a35bdb5",
   "metadata": {},
   "source": [
    "**Оценка Брайера (Brier Score)** - это метрика, используемая для оценки качества калибровки вероятностных прогнозов в задачах бинарной классификации. Она измеряет среднеквадратичное отклонение между предсказанными вероятностями и фактическими бинарными результатами (0 или 1). Метрика Brier Score стремится к нулю при идеальной калибровке, где предсказанные вероятности точно соответствуют частотам наступления событий.\n",
    "\n",
    "$Brier Score = 1/N * \\sum (P_i - O_i)^2$\n",
    "\n",
    "N всего примеров.\n",
    "\n",
    "$P_i$ предсказанная вероятность $i$.\n",
    "\n",
    "$O_i$ бинарный результат примера $i$.\n",
    "\n",
    "\n",
    "Предположим, что кто-то делает прогноз вероятности P дождя в течение определенного дня. Затем оценка Брайера вычисляется следующим образом:\n",
    "\n",
    "- Если прогноз составляет 100% (P = 1) и идет дождь, то оценка Брайера равна 0, что является наилучшим достижимым результатом.\n",
    "- Если прогноз составляет 100%, но дождя нет, то оценка Брайера равна 1, что является наихудшим достижимым результатом.\n",
    "- Если прогноз составляет 70% (P = 0.70) и идет дождь, то оценка Брайера равна $(0.70−1)^2$ = 0.09.\n",
    "- В отличие от этого, если прогноз составляет 70% (P = 0.70), но дождя нет, то оценка Брайера равна $(0.70−0)^2$ = 0.49.\n",
    "- Аналогично, если прогноз составляет 30% (P = 0.30) и идет дождь, то оценка Брайера также равна $(0.30−1)^2$ = 0.49.\n",
    "- Если прогноз составляет 50% (P = 0.50), то оценка Брайера равна $(0.50−1)^2$ = 0.25, независимо от того, идет дождь или нет.\n",
    "\n",
    "\n",
    "\n",
    "**Логарифмическая потеря (Log Loss)**, также известная как кросс-энтропия, - это метрика, используемая для оценки качества вероятностных прогнозов в задачах бинарной или многоклассовой классификации. Она измеряет, насколько хорошо предсказанные вероятности соответствуют фактическим бинарным или категориальным результатам. Меньшие значения логарифмической потери указывают на более точные вероятностные прогнозы."
   ]
  }
 ],
 "metadata": {
  "kernelspec": {
   "display_name": "base",
   "language": "python",
   "name": "python3"
  },
  "language_info": {
   "codemirror_mode": {
    "name": "ipython",
    "version": 3
   },
   "file_extension": ".py",
   "mimetype": "text/x-python",
   "name": "python",
   "nbconvert_exporter": "python",
   "pygments_lexer": "ipython3",
   "version": "3.9.7"
  }
 },
 "nbformat": 4,
 "nbformat_minor": 5
}
